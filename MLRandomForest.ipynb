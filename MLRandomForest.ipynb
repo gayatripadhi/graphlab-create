{
 "cells": [
  {
   "cell_type": "code",
   "execution_count": 11,
   "metadata": {
    "collapsed": false
   },
   "outputs": [],
   "source": [
    "import graphlab as gl"
   ]
  },
  {
   "cell_type": "code",
   "execution_count": 12,
   "metadata": {
    "collapsed": false
   },
   "outputs": [],
   "source": [
    "url = 'https://static.turi.com/datasets/xgboost/mushroom.csv'"
   ]
  },
  {
   "cell_type": "code",
   "execution_count": 14,
   "metadata": {
    "collapsed": false
   },
   "outputs": [
    {
     "name": "stdout",
     "output_type": "stream",
     "text": [
      "This non-commercial license of GraphLab Create for academic use is assigned to padhigayatri.official@gmail.com and will expire on January 02, 2019.\n"
     ]
    },
    {
     "name": "stderr",
     "output_type": "stream",
     "text": [
      "[INFO] graphlab.cython.cy_server: GraphLab Create v2.1 started. Logging: C:\\Users\\padhi\\AppData\\Local\\Temp\\graphlab_server_1515139228.log.0\n"
     ]
    },
    {
     "data": {
      "text/html": [
       "<pre>Downloading https://static.turi.com/datasets/xgboost/mushroom.csv to C:/Users/padhi/AppData/Local/Temp/graphlab-padhi/6100/df76f9d6-52a1-45a8-9b8c-7eb6dc7cd33b.csv</pre>"
      ],
      "text/plain": [
       "Downloading https://static.turi.com/datasets/xgboost/mushroom.csv to C:/Users/padhi/AppData/Local/Temp/graphlab-padhi/6100/df76f9d6-52a1-45a8-9b8c-7eb6dc7cd33b.csv"
      ]
     },
     "metadata": {},
     "output_type": "display_data"
    },
    {
     "data": {
      "text/html": [
       "<pre>Finished parsing file https://static.turi.com/datasets/xgboost/mushroom.csv</pre>"
      ],
      "text/plain": [
       "Finished parsing file https://static.turi.com/datasets/xgboost/mushroom.csv"
      ]
     },
     "metadata": {},
     "output_type": "display_data"
    },
    {
     "data": {
      "text/html": [
       "<pre>Parsing completed. Parsed 100 lines in 0.140645 secs.</pre>"
      ],
      "text/plain": [
       "Parsing completed. Parsed 100 lines in 0.140645 secs."
      ]
     },
     "metadata": {},
     "output_type": "display_data"
    },
    {
     "name": "stdout",
     "output_type": "stream",
     "text": [
      "------------------------------------------------------\n",
      "Inferred types from first 100 line(s) of file as \n",
      "column_type_hints=[str,str,str,str,str,str,str,str,str,str,str,str,str,str,str,str,str,str,str,str,str,str,str]\n",
      "If parsing fails due to incorrect types, you can correct\n",
      "the inferred type list above and pass it to read_csv in\n",
      "the column_type_hints argument\n",
      "------------------------------------------------------\n"
     ]
    },
    {
     "data": {
      "text/html": [
       "<pre>Finished parsing file https://static.turi.com/datasets/xgboost/mushroom.csv</pre>"
      ],
      "text/plain": [
       "Finished parsing file https://static.turi.com/datasets/xgboost/mushroom.csv"
      ]
     },
     "metadata": {},
     "output_type": "display_data"
    },
    {
     "data": {
      "text/html": [
       "<pre>Parsing completed. Parsed 8124 lines in 0.062504 secs.</pre>"
      ],
      "text/plain": [
       "Parsing completed. Parsed 8124 lines in 0.062504 secs."
      ]
     },
     "metadata": {},
     "output_type": "display_data"
    }
   ],
   "source": [
    "data = gl.SFrame.read_csv(url)"
   ]
  },
  {
   "cell_type": "code",
   "execution_count": 17,
   "metadata": {
    "collapsed": false
   },
   "outputs": [],
   "source": [
    "data['label'] = data['label'] == 'p'"
   ]
  },
  {
   "cell_type": "code",
   "execution_count": 18,
   "metadata": {
    "collapsed": true
   },
   "outputs": [],
   "source": [
    "train, test = data.random_split(0.8)"
   ]
  },
  {
   "cell_type": "code",
   "execution_count": 20,
   "metadata": {
    "collapsed": false
   },
   "outputs": [
    {
     "name": "stdout",
     "output_type": "stream",
     "text": [
      "PROGRESS: Creating a validation set from 5 percent of training data. This may take a while.\n",
      "          You can set ``validation_set=None`` to disable validation tracking.\n",
      "\n"
     ]
    },
    {
     "data": {
      "text/html": [
       "<pre>WARNING: Detected extremely low variance for feature(s) 'veil-type' because all entries are nearly the same.\n",
       "Proceeding with model training using all features. If the model does not provide results of adequate quality, exclude the above mentioned feature(s) from the input dataset.</pre>"
      ],
      "text/plain": [
       "WARNING: Detected extremely low variance for feature(s) 'veil-type' because all entries are nearly the same.\n",
       "Proceeding with model training using all features. If the model does not provide results of adequate quality, exclude the above mentioned feature(s) from the input dataset."
      ]
     },
     "metadata": {},
     "output_type": "display_data"
    },
    {
     "data": {
      "text/html": [
       "<pre>Random forest regression:</pre>"
      ],
      "text/plain": [
       "Random forest regression:"
      ]
     },
     "metadata": {},
     "output_type": "display_data"
    },
    {
     "data": {
      "text/html": [
       "<pre>--------------------------------------------------------</pre>"
      ],
      "text/plain": [
       "--------------------------------------------------------"
      ]
     },
     "metadata": {},
     "output_type": "display_data"
    },
    {
     "data": {
      "text/html": [
       "<pre>Number of examples          : 6179</pre>"
      ],
      "text/plain": [
       "Number of examples          : 6179"
      ]
     },
     "metadata": {},
     "output_type": "display_data"
    },
    {
     "data": {
      "text/html": [
       "<pre>Number of features          : 22</pre>"
      ],
      "text/plain": [
       "Number of features          : 22"
      ]
     },
     "metadata": {},
     "output_type": "display_data"
    },
    {
     "data": {
      "text/html": [
       "<pre>Number of unpacked features : 22</pre>"
      ],
      "text/plain": [
       "Number of unpacked features : 22"
      ]
     },
     "metadata": {},
     "output_type": "display_data"
    },
    {
     "data": {
      "text/html": [
       "<pre>+-----------+--------------+--------------------+----------------------+---------------+-----------------+</pre>"
      ],
      "text/plain": [
       "+-----------+--------------+--------------------+----------------------+---------------+-----------------+"
      ]
     },
     "metadata": {},
     "output_type": "display_data"
    },
    {
     "data": {
      "text/html": [
       "<pre>| Iteration | Elapsed Time | Training-max_error | Validation-max_error | Training-rmse | Validation-rmse |</pre>"
      ],
      "text/plain": [
       "| Iteration | Elapsed Time | Training-max_error | Validation-max_error | Training-rmse | Validation-rmse |"
      ]
     },
     "metadata": {},
     "output_type": "display_data"
    },
    {
     "data": {
      "text/html": [
       "<pre>+-----------+--------------+--------------------+----------------------+---------------+-----------------+</pre>"
      ],
      "text/plain": [
       "+-----------+--------------+--------------------+----------------------+---------------+-----------------+"
      ]
     },
     "metadata": {},
     "output_type": "display_data"
    },
    {
     "data": {
      "text/html": [
       "<pre>| 1         | 0.020856     | 0.000101           | 0.000101             | 0.000101      | 0.000101        |</pre>"
      ],
      "text/plain": [
       "| 1         | 0.020856     | 0.000101           | 0.000101             | 0.000101      | 0.000101        |"
      ]
     },
     "metadata": {},
     "output_type": "display_data"
    },
    {
     "data": {
      "text/html": [
       "<pre>| 2         | 0.036856     | 0.000101           | 0.000101             | 0.000101      | 0.000101        |</pre>"
      ],
      "text/plain": [
       "| 2         | 0.036856     | 0.000101           | 0.000101             | 0.000101      | 0.000101        |"
      ]
     },
     "metadata": {},
     "output_type": "display_data"
    },
    {
     "data": {
      "text/html": [
       "<pre>| 3         | 0.044855     | 0.000102           | 0.000102             | 0.000102      | 0.000102        |</pre>"
      ],
      "text/plain": [
       "| 3         | 0.044855     | 0.000102           | 0.000102             | 0.000102      | 0.000102        |"
      ]
     },
     "metadata": {},
     "output_type": "display_data"
    },
    {
     "data": {
      "text/html": [
       "<pre>| 4         | 0.048856     | 0.000102           | 0.000102             | 0.000102      | 0.000102        |</pre>"
      ],
      "text/plain": [
       "| 4         | 0.048856     | 0.000102           | 0.000102             | 0.000102      | 0.000102        |"
      ]
     },
     "metadata": {},
     "output_type": "display_data"
    },
    {
     "data": {
      "text/html": [
       "<pre>| 5         | 0.052856     | 0.000101           | 0.000101             | 0.000101      | 0.000101        |</pre>"
      ],
      "text/plain": [
       "| 5         | 0.052856     | 0.000101           | 0.000101             | 0.000101      | 0.000101        |"
      ]
     },
     "metadata": {},
     "output_type": "display_data"
    },
    {
     "data": {
      "text/html": [
       "<pre>| 6         | 0.060856     | 0.000102           | 0.000102             | 0.000102      | 0.000102        |</pre>"
      ],
      "text/plain": [
       "| 6         | 0.060856     | 0.000102           | 0.000102             | 0.000102      | 0.000102        |"
      ]
     },
     "metadata": {},
     "output_type": "display_data"
    },
    {
     "data": {
      "text/html": [
       "<pre>+-----------+--------------+--------------------+----------------------+---------------+-----------------+</pre>"
      ],
      "text/plain": [
       "+-----------+--------------+--------------------+----------------------+---------------+-----------------+"
      ]
     },
     "metadata": {},
     "output_type": "display_data"
    }
   ],
   "source": [
    "model = gl.random_forest_regression.create(train, target='label')"
   ]
  },
  {
   "cell_type": "code",
   "execution_count": 21,
   "metadata": {
    "collapsed": true
   },
   "outputs": [],
   "source": [
    "predictions = model.predict(test)"
   ]
  },
  {
   "cell_type": "code",
   "execution_count": 22,
   "metadata": {
    "collapsed": true
   },
   "outputs": [],
   "source": [
    "results = model.evaluate(test)"
   ]
  },
  {
   "cell_type": "code",
   "execution_count": 24,
   "metadata": {
    "collapsed": false
   },
   "outputs": [
    {
     "data": {
      "text/plain": [
       "{'max_error': 0.00010135769844055176, 'rmse': 0.00010135769844055176}"
      ]
     },
     "execution_count": 24,
     "metadata": {},
     "output_type": "execute_result"
    }
   ],
   "source": [
    "results"
   ]
  },
  {
   "cell_type": "code",
   "execution_count": 2,
   "metadata": {
    "collapsed": false
   },
   "outputs": [
    {
     "name": "stdout",
     "output_type": "stream",
     "text": [
      "This non-commercial license of GraphLab Create for academic use is assigned to padhigayatri.official@gmail.com and will expire on January 02, 2019.\n"
     ]
    },
    {
     "name": "stderr",
     "output_type": "stream",
     "text": [
      "[INFO] graphlab.cython.cy_server: GraphLab Create v2.1 started. Logging: C:\\Users\\padhi\\AppData\\Local\\Temp\\graphlab_server_1515139675.log.0\n"
     ]
    }
   ],
   "source": [
    "\n",
    "import graphlab as gl\n",
    "out_sframe = gl.random_forest_regression.get_default_options()\n"
   ]
  },
  {
   "cell_type": "code",
   "execution_count": 3,
   "metadata": {
    "collapsed": false
   },
   "outputs": [],
   "source": [
    "out_sframe = gl.random_forest_regression.get_default_options('json')"
   ]
  },
  {
   "cell_type": "code",
   "execution_count": 4,
   "metadata": {
    "collapsed": false
   },
   "outputs": [
    {
     "data": {
      "text/plain": [
       "{'column_subsample': {'default_value': 0.8,\n",
       "  'description': 'Percentage of the features(columns) sampled for training each individual tree',\n",
       "  'lower_bound': 0.0,\n",
       "  'parameter_type': 'REAL',\n",
       "  'upper_bound': 1.0},\n",
       " 'max_depth': {'default_value': 6L,\n",
       "  'description': 'The maximum depth of individual trees',\n",
       "  'lower_bound': 1L,\n",
       "  'parameter_type': 'INTEGER',\n",
       "  'upper_bound': 2147483647L},\n",
       " 'max_iterations': {'default_value': 10L,\n",
       "  'description': 'Maximum number of iterations to perform.',\n",
       "  'lower_bound': 1L,\n",
       "  'parameter_type': 'INTEGER',\n",
       "  'upper_bound': 2147483647L},\n",
       " 'metric': {'default_value': 'auto',\n",
       "  'description': 'Performance metric(s) to track during training iterations',\n",
       "  'parameter_type': 'DYNAMIC'},\n",
       " 'min_child_weight': {'default_value': 0.1,\n",
       "  'description': 'Minimum weight required on the leave nodes',\n",
       "  'lower_bound': 0.0,\n",
       "  'parameter_type': 'REAL',\n",
       "  'upper_bound': 3.4028234663852886e+38},\n",
       " 'min_loss_reduction': {'default_value': 0.0,\n",
       "  'description': 'Minimun loss reduction required for splitting a node',\n",
       "  'lower_bound': 0.0,\n",
       "  'parameter_type': 'REAL',\n",
       "  'upper_bound': 3.4028234663852886e+38},\n",
       " 'model_checkpoint_interval': {'default_value': 5L,\n",
       "  'description': 'Save model every K iteration',\n",
       "  'lower_bound': 0L,\n",
       "  'parameter_type': 'INTEGER',\n",
       "  'upper_bound': 2147483647L},\n",
       " 'model_checkpoint_path': {'default_value': None,\n",
       "  'description': 'The path for saving model during training',\n",
       "  'parameter_type': 'STRING'},\n",
       " 'random_seed': {'default_value': None,\n",
       "  'description': 'Seed for row and column subselection',\n",
       "  'lower_bound': -2147483647L,\n",
       "  'parameter_type': 'INTEGER',\n",
       "  'upper_bound': 2147483647L},\n",
       " 'resume_from_checkpoint': {'default_value': None,\n",
       "  'description': 'Load saved model from the path and continue training',\n",
       "  'parameter_type': 'STRING'},\n",
       " 'row_subsample': {'default_value': 0.8,\n",
       "  'description': 'Percentage of the examples (rows) for training each individual tree',\n",
       "  'lower_bound': 0.0,\n",
       "  'parameter_type': 'REAL',\n",
       "  'upper_bound': 1.0}}"
      ]
     },
     "execution_count": 4,
     "metadata": {},
     "output_type": "execute_result"
    }
   ],
   "source": [
    "out_sframe"
   ]
  },
  {
   "cell_type": "code",
   "execution_count": null,
   "metadata": {
    "collapsed": true
   },
   "outputs": [],
   "source": []
  }
 ],
 "metadata": {
  "kernelspec": {
   "display_name": "Python 2",
   "language": "python",
   "name": "python2"
  },
  "language_info": {
   "codemirror_mode": {
    "name": "ipython",
    "version": 2
   },
   "file_extension": ".py",
   "mimetype": "text/x-python",
   "name": "python",
   "nbconvert_exporter": "python",
   "pygments_lexer": "ipython2",
   "version": "2.7.11"
  }
 },
 "nbformat": 4,
 "nbformat_minor": 0
}
