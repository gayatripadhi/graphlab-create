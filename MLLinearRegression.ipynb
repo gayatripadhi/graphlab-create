{
 "cells": [
  {
   "cell_type": "code",
   "execution_count": 1,
   "metadata": {
    "collapsed": false
   },
   "outputs": [],
   "source": [
    "import graphlab as gl"
   ]
  },
  {
   "cell_type": "code",
   "execution_count": 2,
   "metadata": {
    "collapsed": false
   },
   "outputs": [
    {
     "name": "stdout",
     "output_type": "stream",
     "text": [
      "This non-commercial license of GraphLab Create for academic use is assigned to padhigayatri.official@gmail.com and will expire on January 02, 2019.\n"
     ]
    },
    {
     "name": "stderr",
     "output_type": "stream",
     "text": [
      "[INFO] graphlab.cython.cy_server: GraphLab Create v2.1 started. Logging: C:\\Users\\padhi\\AppData\\Local\\Temp\\graphlab_server_1515225061.log.0\n"
     ]
    },
    {
     "data": {
      "text/html": [
       "<pre>Downloading https://static.turi.com/datasets/regression/houses.csv to C:/Users/padhi/AppData/Local/Temp/graphlab-padhi/7408/f59c3d91-b490-4145-92f6-d8dca352d0ce.csv</pre>"
      ],
      "text/plain": [
       "Downloading https://static.turi.com/datasets/regression/houses.csv to C:/Users/padhi/AppData/Local/Temp/graphlab-padhi/7408/f59c3d91-b490-4145-92f6-d8dca352d0ce.csv"
      ]
     },
     "metadata": {},
     "output_type": "display_data"
    },
    {
     "data": {
      "text/html": [
       "<pre>Finished parsing file https://static.turi.com/datasets/regression/houses.csv</pre>"
      ],
      "text/plain": [
       "Finished parsing file https://static.turi.com/datasets/regression/houses.csv"
      ]
     },
     "metadata": {},
     "output_type": "display_data"
    },
    {
     "data": {
      "text/html": [
       "<pre>Parsing completed. Parsed 15 lines in 0.062522 secs.</pre>"
      ],
      "text/plain": [
       "Parsing completed. Parsed 15 lines in 0.062522 secs."
      ]
     },
     "metadata": {},
     "output_type": "display_data"
    },
    {
     "name": "stdout",
     "output_type": "stream",
     "text": [
      "------------------------------------------------------\n",
      "Inferred types from first 100 line(s) of file as \n",
      "column_type_hints=[long,long,float,long,long,long]\n",
      "If parsing fails due to incorrect types, you can correct\n",
      "the inferred type list above and pass it to read_csv in\n",
      "the column_type_hints argument\n",
      "------------------------------------------------------\n"
     ]
    },
    {
     "data": {
      "text/html": [
       "<pre>Finished parsing file https://static.turi.com/datasets/regression/houses.csv</pre>"
      ],
      "text/plain": [
       "Finished parsing file https://static.turi.com/datasets/regression/houses.csv"
      ]
     },
     "metadata": {},
     "output_type": "display_data"
    },
    {
     "data": {
      "text/html": [
       "<pre>Parsing completed. Parsed 15 lines in 0.03125 secs.</pre>"
      ],
      "text/plain": [
       "Parsing completed. Parsed 15 lines in 0.03125 secs."
      ]
     },
     "metadata": {},
     "output_type": "display_data"
    }
   ],
   "source": [
    "data =  gl.SFrame('https://static.turi.com/datasets/regression/houses.csv')"
   ]
  },
  {
   "cell_type": "code",
   "execution_count": 3,
   "metadata": {
    "collapsed": false
   },
   "outputs": [
    {
     "data": {
      "text/html": [
       "<pre>Boosted trees regression:</pre>"
      ],
      "text/plain": [
       "Boosted trees regression:"
      ]
     },
     "metadata": {},
     "output_type": "display_data"
    },
    {
     "data": {
      "text/html": [
       "<pre>--------------------------------------------------------</pre>"
      ],
      "text/plain": [
       "--------------------------------------------------------"
      ]
     },
     "metadata": {},
     "output_type": "display_data"
    },
    {
     "data": {
      "text/html": [
       "<pre>Number of examples          : 15</pre>"
      ],
      "text/plain": [
       "Number of examples          : 15"
      ]
     },
     "metadata": {},
     "output_type": "display_data"
    },
    {
     "data": {
      "text/html": [
       "<pre>Number of features          : 3</pre>"
      ],
      "text/plain": [
       "Number of features          : 3"
      ]
     },
     "metadata": {},
     "output_type": "display_data"
    },
    {
     "data": {
      "text/html": [
       "<pre>Number of unpacked features : 3</pre>"
      ],
      "text/plain": [
       "Number of unpacked features : 3"
      ]
     },
     "metadata": {},
     "output_type": "display_data"
    },
    {
     "data": {
      "text/html": [
       "<pre>+-----------+--------------+--------------------+---------------+</pre>"
      ],
      "text/plain": [
       "+-----------+--------------+--------------------+---------------+"
      ]
     },
     "metadata": {},
     "output_type": "display_data"
    },
    {
     "data": {
      "text/html": [
       "<pre>| Iteration | Elapsed Time | Training-max_error | Training-rmse |</pre>"
      ],
      "text/plain": [
       "| Iteration | Elapsed Time | Training-max_error | Training-rmse |"
      ]
     },
     "metadata": {},
     "output_type": "display_data"
    },
    {
     "data": {
      "text/html": [
       "<pre>+-----------+--------------+--------------------+---------------+</pre>"
      ],
      "text/plain": [
       "+-----------+--------------+--------------------+---------------+"
      ]
     },
     "metadata": {},
     "output_type": "display_data"
    },
    {
     "data": {
      "text/html": [
       "<pre>| 1         | 0.016682     | 213671.062500      | 105234.945312 |</pre>"
      ],
      "text/plain": [
       "| 1         | 0.016682     | 213671.062500      | 105234.945312 |"
      ]
     },
     "metadata": {},
     "output_type": "display_data"
    },
    {
     "data": {
      "text/html": [
       "<pre>| 2         | 0.016682     | 183884.562500      | 82256.898438  |</pre>"
      ],
      "text/plain": [
       "| 2         | 0.016682     | 183884.562500      | 82256.898438  |"
      ]
     },
     "metadata": {},
     "output_type": "display_data"
    },
    {
     "data": {
      "text/html": [
       "<pre>| 3         | 0.016682     | 149107.656250      | 65396.761719  |</pre>"
      ],
      "text/plain": [
       "| 3         | 0.016682     | 149107.656250      | 65396.761719  |"
      ]
     },
     "metadata": {},
     "output_type": "display_data"
    },
    {
     "data": {
      "text/html": [
       "<pre>| 4         | 0.016682     | 121286.109375      | 52618.617188  |</pre>"
      ],
      "text/plain": [
       "| 4         | 0.016682     | 121286.109375      | 52618.617188  |"
      ]
     },
     "metadata": {},
     "output_type": "display_data"
    },
    {
     "data": {
      "text/html": [
       "<pre>| 5         | 0.016682     | 99028.890625       | 42504.289062  |</pre>"
      ],
      "text/plain": [
       "| 5         | 0.016682     | 99028.890625       | 42504.289062  |"
      ]
     },
     "metadata": {},
     "output_type": "display_data"
    },
    {
     "data": {
      "text/html": [
       "<pre>| 6         | 0.016682     | 81223.109375       | 34111.531250  |</pre>"
      ],
      "text/plain": [
       "| 6         | 0.016682     | 81223.109375       | 34111.531250  |"
      ]
     },
     "metadata": {},
     "output_type": "display_data"
    },
    {
     "data": {
      "text/html": [
       "<pre>+-----------+--------------+--------------------+---------------+</pre>"
      ],
      "text/plain": [
       "+-----------+--------------+--------------------+---------------+"
      ]
     },
     "metadata": {},
     "output_type": "display_data"
    }
   ],
   "source": [
    "model = gl.regression.create(data, target='price',\n",
    "...                                  features=['bath', 'bedroom', 'size'])\n"
   ]
  },
  {
   "cell_type": "code",
   "execution_count": 6,
   "metadata": {
    "collapsed": false
   },
   "outputs": [],
   "source": [
    "predictions = model.predict(data)"
   ]
  },
  {
   "cell_type": "code",
   "execution_count": 7,
   "metadata": {
    "collapsed": false
   },
   "outputs": [],
   "source": [
    "results = model.evaluate(data)"
   ]
  },
  {
   "cell_type": "code",
   "execution_count": 8,
   "metadata": {
    "collapsed": false
   },
   "outputs": [
    {
     "data": {
      "text/plain": [
       "dtype: float\n",
       "Rows: 15\n",
       "[47354.8125, 86948.8671875, 31288.62890625, 90732.09375, 135966.53125, 84134.953125, 220827.03125, 115396.3359375, 135966.53125, 220827.03125, 78838.7421875, 110927.578125, 135966.53125, 137100.09375, 68074.03125]"
      ]
     },
     "execution_count": 8,
     "metadata": {},
     "output_type": "execute_result"
    }
   ],
   "source": [
    "predictions"
   ]
  },
  {
   "cell_type": "code",
   "execution_count": 9,
   "metadata": {
    "collapsed": false
   },
   "outputs": [
    {
     "data": {
      "text/plain": [
       "{'max_error': 39172.96875, 'rmse': 15539.67890511792}"
      ]
     },
     "execution_count": 9,
     "metadata": {},
     "output_type": "execute_result"
    }
   ],
   "source": [
    "results"
   ]
  }
 ],
 "metadata": {
  "kernelspec": {
   "display_name": "Python 2",
   "language": "python",
   "name": "python2"
  },
  "language_info": {
   "codemirror_mode": {
    "name": "ipython",
    "version": 2
   },
   "file_extension": ".py",
   "mimetype": "text/x-python",
   "name": "python",
   "nbconvert_exporter": "python",
   "pygments_lexer": "ipython2",
   "version": "2.7.11"
  }
 },
 "nbformat": 4,
 "nbformat_minor": 0
}
