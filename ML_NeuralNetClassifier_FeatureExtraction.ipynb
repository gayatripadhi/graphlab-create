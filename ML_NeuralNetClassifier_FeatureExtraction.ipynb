{
 "cells": [
  {
   "cell_type": "code",
   "execution_count": 1,
   "metadata": {
    "collapsed": true
   },
   "outputs": [],
   "source": [
    "import graphlab"
   ]
  },
  {
   "cell_type": "code",
   "execution_count": 2,
   "metadata": {
    "collapsed": false
   },
   "outputs": [
    {
     "name": "stderr",
     "output_type": "stream",
     "text": [
      "[INFO] graphlab.cython.cy_server: GraphLab Create v2.1 started. Logging: C:\\Users\\User\\AppData\\Local\\Temp\\graphlab_server_1516281212.log.0\n"
     ]
    },
    {
     "name": "stdout",
     "output_type": "stream",
     "text": [
      "This non-commercial license of GraphLab Create for academic use is assigned to padhigayatri.official@gmail.com and will expire on January 02, 2019.\n"
     ]
    },
    {
     "data": {
      "text/html": [
       "<pre>Downloading https://static.turi.com/datasets/mnist/sframe/train6k/dir_archive.ini to C:/Users/User/AppData/Local/Temp/graphlab-User/4752/d47f1928-eae2-404f-a8a1-82958beb2238.ini</pre>"
      ],
      "text/plain": [
       "Downloading https://static.turi.com/datasets/mnist/sframe/train6k/dir_archive.ini to C:/Users/User/AppData/Local/Temp/graphlab-User/4752/d47f1928-eae2-404f-a8a1-82958beb2238.ini"
      ]
     },
     "metadata": {},
     "output_type": "display_data"
    },
    {
     "data": {
      "text/html": [
       "<pre>Downloading https://static.turi.com/datasets/mnist/sframe/train6k/objects.bin to C:/Users/User/AppData/Local/Temp/graphlab-User/4752/427b321b-2d07-4042-8cbe-a4b6614d73e2.bin</pre>"
      ],
      "text/plain": [
       "Downloading https://static.turi.com/datasets/mnist/sframe/train6k/objects.bin to C:/Users/User/AppData/Local/Temp/graphlab-User/4752/427b321b-2d07-4042-8cbe-a4b6614d73e2.bin"
      ]
     },
     "metadata": {},
     "output_type": "display_data"
    },
    {
     "data": {
      "text/html": [
       "<pre>Downloading https://static.turi.com/datasets/mnist/sframe/train6k/m_1ae88fdf.frame_idx to C:/Users/User/AppData/Local/Temp/graphlab-User/4752/d4a5fe1f-6290-44ae-81b0-4602bd7da52c.frame_idx</pre>"
      ],
      "text/plain": [
       "Downloading https://static.turi.com/datasets/mnist/sframe/train6k/m_1ae88fdf.frame_idx to C:/Users/User/AppData/Local/Temp/graphlab-User/4752/d4a5fe1f-6290-44ae-81b0-4602bd7da52c.frame_idx"
      ]
     },
     "metadata": {},
     "output_type": "display_data"
    },
    {
     "data": {
      "text/html": [
       "<pre>Downloading https://static.turi.com/datasets/mnist/sframe/train6k/m_1ae88fdf.sidx to C:/Users/User/AppData/Local/Temp/graphlab-User/4752/8ba67b94-902e-4461-9d14-ce4800fd0847.sidx</pre>"
      ],
      "text/plain": [
       "Downloading https://static.turi.com/datasets/mnist/sframe/train6k/m_1ae88fdf.sidx to C:/Users/User/AppData/Local/Temp/graphlab-User/4752/8ba67b94-902e-4461-9d14-ce4800fd0847.sidx"
      ]
     },
     "metadata": {},
     "output_type": "display_data"
    }
   ],
   "source": [
    "data = graphlab.SFrame('https://static.turi.com/datasets/mnist/sframe/train6k')"
   ]
  },
  {
   "cell_type": "code",
   "execution_count": 3,
   "metadata": {
    "collapsed": true
   },
   "outputs": [],
   "source": [
    "net = graphlab.deeplearning.get_builtin_neuralnet('mnist')\n"
   ]
  },
  {
   "cell_type": "code",
   "execution_count": 4,
   "metadata": {
    "collapsed": false
   },
   "outputs": [
    {
     "data": {
      "text/html": [
       "<pre>Downloading https://static.turi.com/datasets/mnist/sframe/train6k/m_1ae88fdf.0000 to C:/Users/User/AppData/Local/Temp/graphlab-User/4752/12b7f6a8-a62b-4338-a0ea-780b43914c76.0000</pre>"
      ],
      "text/plain": [
       "Downloading https://static.turi.com/datasets/mnist/sframe/train6k/m_1ae88fdf.0000 to C:/Users/User/AppData/Local/Temp/graphlab-User/4752/12b7f6a8-a62b-4338-a0ea-780b43914c76.0000"
      ]
     },
     "metadata": {},
     "output_type": "display_data"
    },
    {
     "data": {
      "text/html": [
       "<pre>Downloading https://static.turi.com/datasets/mnist/sframe/train6k/m_1ae88fdf.0001 to C:/Users/User/AppData/Local/Temp/graphlab-User/4752/f4e0bd86-e1ae-4eab-ae86-90bb82e676f6.0001</pre>"
      ],
      "text/plain": [
       "Downloading https://static.turi.com/datasets/mnist/sframe/train6k/m_1ae88fdf.0001 to C:/Users/User/AppData/Local/Temp/graphlab-User/4752/f4e0bd86-e1ae-4eab-ae86-90bb82e676f6.0001"
      ]
     },
     "metadata": {},
     "output_type": "display_data"
    },
    {
     "data": {
      "text/html": [
       "<pre>Downloading https://static.turi.com/datasets/mnist/sframe/train6k/m_1ae88fdf.0002 to C:/Users/User/AppData/Local/Temp/graphlab-User/4752/f435498e-44c1-4938-b64a-ff2eae3e23ea.0002</pre>"
      ],
      "text/plain": [
       "Downloading https://static.turi.com/datasets/mnist/sframe/train6k/m_1ae88fdf.0002 to C:/Users/User/AppData/Local/Temp/graphlab-User/4752/f435498e-44c1-4938-b64a-ff2eae3e23ea.0002"
      ]
     },
     "metadata": {},
     "output_type": "display_data"
    },
    {
     "data": {
      "text/html": [
       "<pre>Downloading https://static.turi.com/datasets/mnist/sframe/train6k/m_1ae88fdf.0003 to C:/Users/User/AppData/Local/Temp/graphlab-User/4752/f80cb741-13cf-446b-92e7-33e98e6dc894.0003</pre>"
      ],
      "text/plain": [
       "Downloading https://static.turi.com/datasets/mnist/sframe/train6k/m_1ae88fdf.0003 to C:/Users/User/AppData/Local/Temp/graphlab-User/4752/f80cb741-13cf-446b-92e7-33e98e6dc894.0003"
      ]
     },
     "metadata": {},
     "output_type": "display_data"
    },
    {
     "data": {
      "text/html": [
       "<pre>Downloading https://static.turi.com/datasets/mnist/sframe/train6k/m_1ae88fdf.0004 to C:/Users/User/AppData/Local/Temp/graphlab-User/4752/f3ae541c-0995-4b4c-872e-d2ee2b524238.0004</pre>"
      ],
      "text/plain": [
       "Downloading https://static.turi.com/datasets/mnist/sframe/train6k/m_1ae88fdf.0004 to C:/Users/User/AppData/Local/Temp/graphlab-User/4752/f3ae541c-0995-4b4c-872e-d2ee2b524238.0004"
      ]
     },
     "metadata": {},
     "output_type": "display_data"
    },
    {
     "data": {
      "text/html": [
       "<pre>Downloading https://static.turi.com/datasets/mnist/sframe/train6k/m_1ae88fdf.0005 to C:/Users/User/AppData/Local/Temp/graphlab-User/4752/6e878dc1-0fdf-4796-83ae-28083340bdc7.0005</pre>"
      ],
      "text/plain": [
       "Downloading https://static.turi.com/datasets/mnist/sframe/train6k/m_1ae88fdf.0005 to C:/Users/User/AppData/Local/Temp/graphlab-User/4752/6e878dc1-0fdf-4796-83ae-28083340bdc7.0005"
      ]
     },
     "metadata": {},
     "output_type": "display_data"
    },
    {
     "data": {
      "text/html": [
       "<pre>Downloading https://static.turi.com/datasets/mnist/sframe/train6k/m_1ae88fdf.0006 to C:/Users/User/AppData/Local/Temp/graphlab-User/4752/f0686b8b-b197-486c-8236-ea7b0cf962df.0006</pre>"
      ],
      "text/plain": [
       "Downloading https://static.turi.com/datasets/mnist/sframe/train6k/m_1ae88fdf.0006 to C:/Users/User/AppData/Local/Temp/graphlab-User/4752/f0686b8b-b197-486c-8236-ea7b0cf962df.0006"
      ]
     },
     "metadata": {},
     "output_type": "display_data"
    },
    {
     "data": {
      "text/html": [
       "<pre>Downloading https://static.turi.com/datasets/mnist/sframe/train6k/m_1ae88fdf.0007 to C:/Users/User/AppData/Local/Temp/graphlab-User/4752/56e163bf-ee85-44ee-a72c-a9005724c71e.0007</pre>"
      ],
      "text/plain": [
       "Downloading https://static.turi.com/datasets/mnist/sframe/train6k/m_1ae88fdf.0007 to C:/Users/User/AppData/Local/Temp/graphlab-User/4752/56e163bf-ee85-44ee-a72c-a9005724c71e.0007"
      ]
     },
     "metadata": {},
     "output_type": "display_data"
    },
    {
     "name": "stdout",
     "output_type": "stream",
     "text": [
      "Using network:\n",
      "\n",
      "### network layers ###\n",
      "layer[0]: ConvolutionLayer\n",
      "  init_random = xavier\n",
      "  padding = 1\n",
      "  stride = 2\n",
      "  num_channels = 32\n",
      "  num_groups = 1\n",
      "  kernel_size = 3\n",
      "layer[1]: MaxPoolingLayer\n",
      "  padding = 0\n",
      "  stride = 2\n",
      "  kernel_size = 3\n",
      "layer[2]: FlattenLayer\n",
      "layer[3]: DropoutLayer\n",
      "  threshold = 0.5\n",
      "layer[4]: FullConnectionLayer\n",
      "  init_sigma = 0.01\n",
      "  init_random = gaussian\n",
      "  init_bias = 0\n",
      "  num_hidden_units = 100\n",
      "layer[5]: SigmoidLayer\n",
      "layer[6]: FullConnectionLayer\n",
      "  init_sigma = 0.01\n",
      "  init_random = gaussian\n",
      "  init_bias = 0\n",
      "  num_hidden_units = 10\n",
      "layer[7]: SoftmaxLayer\n",
      "### end network layers ###\n",
      "\n",
      "### network parameters ###\n",
      "init_random = gaussian\n",
      "learning_rate = 0.1\n",
      "input_shape = 1,28,28\n",
      "batch_size = 100\n",
      "divideby = 255\n",
      "l2_regularization = 0.0\n",
      "momentum = 0.9\n",
      "### end network parameters ###\n",
      "\n",
      "PROGRESS: Creating a validation set from 5 percent of training data. This may take a while.\n",
      "          You can set ``validation_set=None`` to disable validation tracking.\n",
      "\n"
     ]
    },
    {
     "data": {
      "text/html": [
       "<pre>Computing mean image...</pre>"
      ],
      "text/plain": [
       "Computing mean image..."
      ]
     },
     "metadata": {},
     "output_type": "display_data"
    },
    {
     "data": {
      "text/html": [
       "<pre>Done computing mean image.</pre>"
      ],
      "text/plain": [
       "Done computing mean image."
      ]
     },
     "metadata": {},
     "output_type": "display_data"
    },
    {
     "data": {
      "text/html": [
       "<pre>Creating neuralnet using cpu</pre>"
      ],
      "text/plain": [
       "Creating neuralnet using cpu"
      ]
     },
     "metadata": {},
     "output_type": "display_data"
    },
    {
     "data": {
      "text/html": [
       "<pre>Training with batch size = 100</pre>"
      ],
      "text/plain": [
       "Training with batch size = 100"
      ]
     },
     "metadata": {},
     "output_type": "display_data"
    },
    {
     "data": {
      "text/html": [
       "<pre>+-----------+----------+--------------+-------------------+---------------------+-----------------+</pre>"
      ],
      "text/plain": [
       "+-----------+----------+--------------+-------------------+---------------------+-----------------+"
      ]
     },
     "metadata": {},
     "output_type": "display_data"
    },
    {
     "data": {
      "text/html": [
       "<pre>| Iteration | Examples | Elapsed Time | Training-accuracy | Validation-accuracy | Examples/second |</pre>"
      ],
      "text/plain": [
       "| Iteration | Examples | Elapsed Time | Training-accuracy | Validation-accuracy | Examples/second |"
      ]
     },
     "metadata": {},
     "output_type": "display_data"
    },
    {
     "data": {
      "text/html": [
       "<pre>+-----------+----------+--------------+-------------------+---------------------+-----------------+</pre>"
      ],
      "text/plain": [
       "+-----------+----------+--------------+-------------------+---------------------+-----------------+"
      ]
     },
     "metadata": {},
     "output_type": "display_data"
    },
    {
     "data": {
      "text/html": [
       "<pre>| 1         | 5800     | 4.215936     | 0.149828          | 0.358108            | 1375.735596     |</pre>"
      ],
      "text/plain": [
       "| 1         | 5800     | 4.215936     | 0.149828          | 0.358108            | 1375.735596     |"
      ]
     },
     "metadata": {},
     "output_type": "display_data"
    },
    {
     "data": {
      "text/html": [
       "<pre>| 2         | 5800     | 8.077874     | 0.629138          | 0.885135            | 1501.864258     |</pre>"
      ],
      "text/plain": [
       "| 2         | 5800     | 8.077874     | 0.629138          | 0.885135            | 1501.864258     |"
      ]
     },
     "metadata": {},
     "output_type": "display_data"
    },
    {
     "data": {
      "text/html": [
       "<pre>| 3         | 5800     | 11.824834    | 0.853103          | 0.905405            | 1547.951538     |</pre>"
      ],
      "text/plain": [
       "| 3         | 5800     | 11.824834    | 0.853103          | 0.905405            | 1547.951538     |"
      ]
     },
     "metadata": {},
     "output_type": "display_data"
    },
    {
     "data": {
      "text/html": [
       "<pre>+-----------+----------+--------------+-------------------+---------------------+-----------------+</pre>"
      ],
      "text/plain": [
       "+-----------+----------+--------------+-------------------+---------------------+-----------------+"
      ]
     },
     "metadata": {},
     "output_type": "display_data"
    }
   ],
   "source": [
    "m = graphlab.neuralnet_classifier.create(data,\n",
    "                                         target='label',\n",
    "                                         network=net,\n",
    "                                         max_iterations=3)"
   ]
  },
  {
   "cell_type": "code",
   "execution_count": 5,
   "metadata": {
    "collapsed": true
   },
   "outputs": [],
   "source": [
    "data['features'] = m.extract_features(data)"
   ]
  },
  {
   "cell_type": "code",
   "execution_count": 6,
   "metadata": {
    "collapsed": false
   },
   "outputs": [
    {
     "name": "stdout",
     "output_type": "stream",
     "text": [
      "PROGRESS: Creating a validation set from 5 percent of training data. This may take a while.\n",
      "          You can set ``validation_set=None`` to disable validation tracking.\n",
      "\n",
      "PROGRESS: The following methods are available for this type of problem.\n",
      "PROGRESS: BoostedTreesClassifier, RandomForestClassifier, DecisionTreeClassifier, LogisticClassifier\n",
      "PROGRESS: The returned model will be chosen according to validation accuracy.\n"
     ]
    },
    {
     "data": {
      "text/html": [
       "<pre>Boosted trees classifier:</pre>"
      ],
      "text/plain": [
       "Boosted trees classifier:"
      ]
     },
     "metadata": {},
     "output_type": "display_data"
    },
    {
     "data": {
      "text/html": [
       "<pre>--------------------------------------------------------</pre>"
      ],
      "text/plain": [
       "--------------------------------------------------------"
      ]
     },
     "metadata": {},
     "output_type": "display_data"
    },
    {
     "data": {
      "text/html": [
       "<pre>Number of examples          : 5677</pre>"
      ],
      "text/plain": [
       "Number of examples          : 5677"
      ]
     },
     "metadata": {},
     "output_type": "display_data"
    },
    {
     "data": {
      "text/html": [
       "<pre>Number of classes           : 10</pre>"
      ],
      "text/plain": [
       "Number of classes           : 10"
      ]
     },
     "metadata": {},
     "output_type": "display_data"
    },
    {
     "data": {
      "text/html": [
       "<pre>Number of feature columns   : 1</pre>"
      ],
      "text/plain": [
       "Number of feature columns   : 1"
      ]
     },
     "metadata": {},
     "output_type": "display_data"
    },
    {
     "data": {
      "text/html": [
       "<pre>Number of unpacked features : 100</pre>"
      ],
      "text/plain": [
       "Number of unpacked features : 100"
      ]
     },
     "metadata": {},
     "output_type": "display_data"
    },
    {
     "data": {
      "text/html": [
       "<pre>+-----------+--------------+-------------------+---------------------+-------------------+---------------------+</pre>"
      ],
      "text/plain": [
       "+-----------+--------------+-------------------+---------------------+-------------------+---------------------+"
      ]
     },
     "metadata": {},
     "output_type": "display_data"
    },
    {
     "data": {
      "text/html": [
       "<pre>| Iteration | Elapsed Time | Training-accuracy | Validation-accuracy | Training-log_loss | Validation-log_loss |</pre>"
      ],
      "text/plain": [
       "| Iteration | Elapsed Time | Training-accuracy | Validation-accuracy | Training-log_loss | Validation-log_loss |"
      ]
     },
     "metadata": {},
     "output_type": "display_data"
    },
    {
     "data": {
      "text/html": [
       "<pre>+-----------+--------------+-------------------+---------------------+-------------------+---------------------+</pre>"
      ],
      "text/plain": [
       "+-----------+--------------+-------------------+---------------------+-------------------+---------------------+"
      ]
     },
     "metadata": {},
     "output_type": "display_data"
    },
    {
     "data": {
      "text/html": [
       "<pre>| 1         | 0.223013     | 0.969878          | 0.894737            | 1.139991          | 1.261382            |</pre>"
      ],
      "text/plain": [
       "| 1         | 0.223013     | 0.969878          | 0.894737            | 1.139991          | 1.261382            |"
      ]
     },
     "metadata": {},
     "output_type": "display_data"
    },
    {
     "data": {
      "text/html": [
       "<pre>| 2         | 0.430025     | 0.978334          | 0.916409            | 0.804769          | 0.958533            |</pre>"
      ],
      "text/plain": [
       "| 2         | 0.430025     | 0.978334          | 0.916409            | 0.804769          | 0.958533            |"
      ]
     },
     "metadata": {},
     "output_type": "display_data"
    },
    {
     "data": {
      "text/html": [
       "<pre>| 3         | 0.723041     | 0.981857          | 0.922601            | 0.592684          | 0.764279            |</pre>"
      ],
      "text/plain": [
       "| 3         | 0.723041     | 0.981857          | 0.922601            | 0.592684          | 0.764279            |"
      ]
     },
     "metadata": {},
     "output_type": "display_data"
    },
    {
     "data": {
      "text/html": [
       "<pre>| 4         | 0.954055     | 0.984499          | 0.916409            | 0.445685          | 0.633105            |</pre>"
      ],
      "text/plain": [
       "| 4         | 0.954055     | 0.984499          | 0.916409            | 0.445685          | 0.633105            |"
      ]
     },
     "metadata": {},
     "output_type": "display_data"
    },
    {
     "data": {
      "text/html": [
       "<pre>| 5         | 1.152066     | 0.986613          | 0.916409            | 0.341338          | 0.539723            |</pre>"
      ],
      "text/plain": [
       "| 5         | 1.152066     | 0.986613          | 0.916409            | 0.341338          | 0.539723            |"
      ]
     },
     "metadata": {},
     "output_type": "display_data"
    },
    {
     "data": {
      "text/html": [
       "<pre>| 6         | 1.342077     | 0.989431          | 0.919505            | 0.263458          | 0.470664            |</pre>"
      ],
      "text/plain": [
       "| 6         | 1.342077     | 0.989431          | 0.919505            | 0.263458          | 0.470664            |"
      ]
     },
     "metadata": {},
     "output_type": "display_data"
    },
    {
     "data": {
      "text/html": [
       "<pre>| 10        | 2.054118     | 0.994892          | 0.916409            | 0.100196          | 0.327144            |</pre>"
      ],
      "text/plain": [
       "| 10        | 2.054118     | 0.994892          | 0.916409            | 0.100196          | 0.327144            |"
      ]
     },
     "metadata": {},
     "output_type": "display_data"
    },
    {
     "data": {
      "text/html": [
       "<pre>+-----------+--------------+-------------------+---------------------+-------------------+---------------------+</pre>"
      ],
      "text/plain": [
       "+-----------+--------------+-------------------+---------------------+-------------------+---------------------+"
      ]
     },
     "metadata": {},
     "output_type": "display_data"
    },
    {
     "data": {
      "text/html": [
       "<pre>Random forest classifier:</pre>"
      ],
      "text/plain": [
       "Random forest classifier:"
      ]
     },
     "metadata": {},
     "output_type": "display_data"
    },
    {
     "data": {
      "text/html": [
       "<pre>--------------------------------------------------------</pre>"
      ],
      "text/plain": [
       "--------------------------------------------------------"
      ]
     },
     "metadata": {},
     "output_type": "display_data"
    },
    {
     "data": {
      "text/html": [
       "<pre>Number of examples          : 5677</pre>"
      ],
      "text/plain": [
       "Number of examples          : 5677"
      ]
     },
     "metadata": {},
     "output_type": "display_data"
    },
    {
     "data": {
      "text/html": [
       "<pre>Number of classes           : 10</pre>"
      ],
      "text/plain": [
       "Number of classes           : 10"
      ]
     },
     "metadata": {},
     "output_type": "display_data"
    },
    {
     "data": {
      "text/html": [
       "<pre>Number of feature columns   : 1</pre>"
      ],
      "text/plain": [
       "Number of feature columns   : 1"
      ]
     },
     "metadata": {},
     "output_type": "display_data"
    },
    {
     "data": {
      "text/html": [
       "<pre>Number of unpacked features : 100</pre>"
      ],
      "text/plain": [
       "Number of unpacked features : 100"
      ]
     },
     "metadata": {},
     "output_type": "display_data"
    },
    {
     "data": {
      "text/html": [
       "<pre>+-----------+--------------+-------------------+---------------------+-------------------+---------------------+</pre>"
      ],
      "text/plain": [
       "+-----------+--------------+-------------------+---------------------+-------------------+---------------------+"
      ]
     },
     "metadata": {},
     "output_type": "display_data"
    },
    {
     "data": {
      "text/html": [
       "<pre>| Iteration | Elapsed Time | Training-accuracy | Validation-accuracy | Training-log_loss | Validation-log_loss |</pre>"
      ],
      "text/plain": [
       "| Iteration | Elapsed Time | Training-accuracy | Validation-accuracy | Training-log_loss | Validation-log_loss |"
      ]
     },
     "metadata": {},
     "output_type": "display_data"
    },
    {
     "data": {
      "text/html": [
       "<pre>+-----------+--------------+-------------------+---------------------+-------------------+---------------------+</pre>"
      ],
      "text/plain": [
       "+-----------+--------------+-------------------+---------------------+-------------------+---------------------+"
      ]
     },
     "metadata": {},
     "output_type": "display_data"
    },
    {
     "data": {
      "text/html": [
       "<pre>| 1         | 0.163009     | 0.957900          | 0.873065            | 0.223539          | 0.489159            |</pre>"
      ],
      "text/plain": [
       "| 1         | 0.163009     | 0.957900          | 0.873065            | 0.223539          | 0.489159            |"
      ]
     },
     "metadata": {},
     "output_type": "display_data"
    },
    {
     "data": {
      "text/html": [
       "<pre>| 2         | 0.315018     | 0.965475          | 0.904025            | 0.195131          | 0.409321            |</pre>"
      ],
      "text/plain": [
       "| 2         | 0.315018     | 0.965475          | 0.904025            | 0.195131          | 0.409321            |"
      ]
     },
     "metadata": {},
     "output_type": "display_data"
    },
    {
     "data": {
      "text/html": [
       "<pre>| 3         | 0.470027     | 0.969702          | 0.922601            | 0.184761          | 0.387090            |</pre>"
      ],
      "text/plain": [
       "| 3         | 0.470027     | 0.969702          | 0.922601            | 0.184761          | 0.387090            |"
      ]
     },
     "metadata": {},
     "output_type": "display_data"
    },
    {
     "data": {
      "text/html": [
       "<pre>| 4         | 0.618035     | 0.973578          | 0.925697            | 0.176636          | 0.374574            |</pre>"
      ],
      "text/plain": [
       "| 4         | 0.618035     | 0.973578          | 0.925697            | 0.176636          | 0.374574            |"
      ]
     },
     "metadata": {},
     "output_type": "display_data"
    },
    {
     "data": {
      "text/html": [
       "<pre>| 5         | 0.772044     | 0.975163          | 0.919505            | 0.172661          | 0.365542            |</pre>"
      ],
      "text/plain": [
       "| 5         | 0.772044     | 0.975163          | 0.919505            | 0.172661          | 0.365542            |"
      ]
     },
     "metadata": {},
     "output_type": "display_data"
    },
    {
     "data": {
      "text/html": [
       "<pre>| 6         | 0.924053     | 0.977629          | 0.919505            | 0.167634          | 0.352987            |</pre>"
      ],
      "text/plain": [
       "| 6         | 0.924053     | 0.977629          | 0.919505            | 0.167634          | 0.352987            |"
      ]
     },
     "metadata": {},
     "output_type": "display_data"
    },
    {
     "data": {
      "text/html": [
       "<pre>| 10        | 1.494085     | 0.978157          | 0.922601            | 0.168067          | 0.348780            |</pre>"
      ],
      "text/plain": [
       "| 10        | 1.494085     | 0.978157          | 0.922601            | 0.168067          | 0.348780            |"
      ]
     },
     "metadata": {},
     "output_type": "display_data"
    },
    {
     "data": {
      "text/html": [
       "<pre>+-----------+--------------+-------------------+---------------------+-------------------+---------------------+</pre>"
      ],
      "text/plain": [
       "+-----------+--------------+-------------------+---------------------+-------------------+---------------------+"
      ]
     },
     "metadata": {},
     "output_type": "display_data"
    },
    {
     "data": {
      "text/html": [
       "<pre>Decision tree classifier:</pre>"
      ],
      "text/plain": [
       "Decision tree classifier:"
      ]
     },
     "metadata": {},
     "output_type": "display_data"
    },
    {
     "data": {
      "text/html": [
       "<pre>--------------------------------------------------------</pre>"
      ],
      "text/plain": [
       "--------------------------------------------------------"
      ]
     },
     "metadata": {},
     "output_type": "display_data"
    },
    {
     "data": {
      "text/html": [
       "<pre>Number of examples          : 5677</pre>"
      ],
      "text/plain": [
       "Number of examples          : 5677"
      ]
     },
     "metadata": {},
     "output_type": "display_data"
    },
    {
     "data": {
      "text/html": [
       "<pre>Number of classes           : 10</pre>"
      ],
      "text/plain": [
       "Number of classes           : 10"
      ]
     },
     "metadata": {},
     "output_type": "display_data"
    },
    {
     "data": {
      "text/html": [
       "<pre>Number of feature columns   : 1</pre>"
      ],
      "text/plain": [
       "Number of feature columns   : 1"
      ]
     },
     "metadata": {},
     "output_type": "display_data"
    },
    {
     "data": {
      "text/html": [
       "<pre>Number of unpacked features : 100</pre>"
      ],
      "text/plain": [
       "Number of unpacked features : 100"
      ]
     },
     "metadata": {},
     "output_type": "display_data"
    },
    {
     "data": {
      "text/html": [
       "<pre>+-----------+--------------+-------------------+---------------------+-------------------+---------------------+</pre>"
      ],
      "text/plain": [
       "+-----------+--------------+-------------------+---------------------+-------------------+---------------------+"
      ]
     },
     "metadata": {},
     "output_type": "display_data"
    },
    {
     "data": {
      "text/html": [
       "<pre>| Iteration | Elapsed Time | Training-accuracy | Validation-accuracy | Training-log_loss | Validation-log_loss |</pre>"
      ],
      "text/plain": [
       "| Iteration | Elapsed Time | Training-accuracy | Validation-accuracy | Training-log_loss | Validation-log_loss |"
      ]
     },
     "metadata": {},
     "output_type": "display_data"
    },
    {
     "data": {
      "text/html": [
       "<pre>+-----------+--------------+-------------------+---------------------+-------------------+---------------------+</pre>"
      ],
      "text/plain": [
       "+-----------+--------------+-------------------+---------------------+-------------------+---------------------+"
      ]
     },
     "metadata": {},
     "output_type": "display_data"
    },
    {
     "data": {
      "text/html": [
       "<pre>| 1         | 0.352020     | 0.969878          | 0.894737            | 1.139991          | 1.261382            |</pre>"
      ],
      "text/plain": [
       "| 1         | 0.352020     | 0.969878          | 0.894737            | 1.139991          | 1.261382            |"
      ]
     },
     "metadata": {},
     "output_type": "display_data"
    },
    {
     "data": {
      "text/html": [
       "<pre>+-----------+--------------+-------------------+---------------------+-------------------+---------------------+</pre>"
      ],
      "text/plain": [
       "+-----------+--------------+-------------------+---------------------+-------------------+---------------------+"
      ]
     },
     "metadata": {},
     "output_type": "display_data"
    },
    {
     "data": {
      "text/html": [
       "<pre>Logistic regression:</pre>"
      ],
      "text/plain": [
       "Logistic regression:"
      ]
     },
     "metadata": {},
     "output_type": "display_data"
    },
    {
     "data": {
      "text/html": [
       "<pre>--------------------------------------------------------</pre>"
      ],
      "text/plain": [
       "--------------------------------------------------------"
      ]
     },
     "metadata": {},
     "output_type": "display_data"
    },
    {
     "data": {
      "text/html": [
       "<pre>Number of examples          : 5677</pre>"
      ],
      "text/plain": [
       "Number of examples          : 5677"
      ]
     },
     "metadata": {},
     "output_type": "display_data"
    },
    {
     "data": {
      "text/html": [
       "<pre>Number of classes           : 10</pre>"
      ],
      "text/plain": [
       "Number of classes           : 10"
      ]
     },
     "metadata": {},
     "output_type": "display_data"
    },
    {
     "data": {
      "text/html": [
       "<pre>Number of feature columns   : 1</pre>"
      ],
      "text/plain": [
       "Number of feature columns   : 1"
      ]
     },
     "metadata": {},
     "output_type": "display_data"
    },
    {
     "data": {
      "text/html": [
       "<pre>Number of unpacked features : 100</pre>"
      ],
      "text/plain": [
       "Number of unpacked features : 100"
      ]
     },
     "metadata": {},
     "output_type": "display_data"
    },
    {
     "data": {
      "text/html": [
       "<pre>Number of coefficients    : 909</pre>"
      ],
      "text/plain": [
       "Number of coefficients    : 909"
      ]
     },
     "metadata": {},
     "output_type": "display_data"
    },
    {
     "data": {
      "text/html": [
       "<pre>Starting L-BFGS</pre>"
      ],
      "text/plain": [
       "Starting L-BFGS"
      ]
     },
     "metadata": {},
     "output_type": "display_data"
    },
    {
     "data": {
      "text/html": [
       "<pre>--------------------------------------------------------</pre>"
      ],
      "text/plain": [
       "--------------------------------------------------------"
      ]
     },
     "metadata": {},
     "output_type": "display_data"
    },
    {
     "data": {
      "text/html": [
       "<pre>+-----------+----------+-----------+--------------+-------------------+---------------------+</pre>"
      ],
      "text/plain": [
       "+-----------+----------+-----------+--------------+-------------------+---------------------+"
      ]
     },
     "metadata": {},
     "output_type": "display_data"
    },
    {
     "data": {
      "text/html": [
       "<pre>| Iteration | Passes   | Step size | Elapsed Time | Training-accuracy | Validation-accuracy |</pre>"
      ],
      "text/plain": [
       "| Iteration | Passes   | Step size | Elapsed Time | Training-accuracy | Validation-accuracy |"
      ]
     },
     "metadata": {},
     "output_type": "display_data"
    },
    {
     "data": {
      "text/html": [
       "<pre>+-----------+----------+-----------+--------------+-------------------+---------------------+</pre>"
      ],
      "text/plain": [
       "+-----------+----------+-----------+--------------+-------------------+---------------------+"
      ]
     },
     "metadata": {},
     "output_type": "display_data"
    },
    {
     "data": {
      "text/html": [
       "<pre>| 1         | 3        | 0.000176  | 0.161009     | 0.494451          | 0.476780            |</pre>"
      ],
      "text/plain": [
       "| 1         | 3        | 0.000176  | 0.161009     | 0.494451          | 0.476780            |"
      ]
     },
     "metadata": {},
     "output_type": "display_data"
    },
    {
     "data": {
      "text/html": [
       "<pre>| 2         | 5        | 1.000000  | 0.308017     | 0.782103          | 0.795666            |</pre>"
      ],
      "text/plain": [
       "| 2         | 5        | 1.000000  | 0.308017     | 0.782103          | 0.795666            |"
      ]
     },
     "metadata": {},
     "output_type": "display_data"
    },
    {
     "data": {
      "text/html": [
       "<pre>| 3         | 6        | 1.000000  | 0.400023     | 0.806940          | 0.804954            |</pre>"
      ],
      "text/plain": [
       "| 3         | 6        | 1.000000  | 0.400023     | 0.806940          | 0.804954            |"
      ]
     },
     "metadata": {},
     "output_type": "display_data"
    },
    {
     "data": {
      "text/html": [
       "<pre>| 4         | 7        | 1.000000  | 0.481027     | 0.818038          | 0.839009            |</pre>"
      ],
      "text/plain": [
       "| 4         | 7        | 1.000000  | 0.481027     | 0.818038          | 0.839009            |"
      ]
     },
     "metadata": {},
     "output_type": "display_data"
    },
    {
     "data": {
      "text/html": [
       "<pre>| 5         | 8        | 1.000000  | 0.581033     | 0.902589          | 0.888545            |</pre>"
      ],
      "text/plain": [
       "| 5         | 8        | 1.000000  | 0.581033     | 0.902589          | 0.888545            |"
      ]
     },
     "metadata": {},
     "output_type": "display_data"
    },
    {
     "data": {
      "text/html": [
       "<pre>| 6         | 9        | 1.000000  | 0.638036     | 0.884622          | 0.879257            |</pre>"
      ],
      "text/plain": [
       "| 6         | 9        | 1.000000  | 0.638036     | 0.884622          | 0.879257            |"
      ]
     },
     "metadata": {},
     "output_type": "display_data"
    },
    {
     "data": {
      "text/html": [
       "<pre>| 10        | 14       | 1.000000  | 0.891051     | 0.923375          | 0.916409            |</pre>"
      ],
      "text/plain": [
       "| 10        | 14       | 1.000000  | 0.891051     | 0.923375          | 0.916409            |"
      ]
     },
     "metadata": {},
     "output_type": "display_data"
    },
    {
     "data": {
      "text/html": [
       "<pre>+-----------+----------+-----------+--------------+-------------------+---------------------+</pre>"
      ],
      "text/plain": [
       "+-----------+----------+-----------+--------------+-------------------+---------------------+"
      ]
     },
     "metadata": {},
     "output_type": "display_data"
    },
    {
     "data": {
      "text/html": [
       "<pre>TERMINATED: Iteration limit reached.</pre>"
      ],
      "text/plain": [
       "TERMINATED: Iteration limit reached."
      ]
     },
     "metadata": {},
     "output_type": "display_data"
    },
    {
     "data": {
      "text/html": [
       "<pre>This model may not be optimal. To improve it, consider increasing `max_iterations`.</pre>"
      ],
      "text/plain": [
       "This model may not be optimal. To improve it, consider increasing `max_iterations`."
      ]
     },
     "metadata": {},
     "output_type": "display_data"
    },
    {
     "name": "stdout",
     "output_type": "stream",
     "text": [
      "PROGRESS: Model selection based on validation accuracy:\n",
      "PROGRESS: ---------------------------------------------\n",
      "PROGRESS: BoostedTreesClassifier          : 0.916408658028\n",
      "PROGRESS: RandomForestClassifier          : 0.922600626945\n",
      "PROGRESS: DecisionTreeClassifier          : 0.89473682642\n",
      "PROGRESS: LogisticClassifier              : 0.916409\n",
      "PROGRESS: ---------------------------------------------\n",
      "PROGRESS: Selecting RandomForestClassifier based on validation set performance.\n"
     ]
    }
   ],
   "source": [
    "m = graphlab.classifier.create(data,\n",
    "                               features = ['features'],\n",
    "                               target='label')"
   ]
  }
 ],
 "metadata": {
  "kernelspec": {
   "display_name": "Python 2",
   "language": "python",
   "name": "python2"
  },
  "language_info": {
   "codemirror_mode": {
    "name": "ipython",
    "version": 2
   },
   "file_extension": ".py",
   "mimetype": "text/x-python",
   "name": "python",
   "nbconvert_exporter": "python",
   "pygments_lexer": "ipython2",
   "version": "2.7.11"
  }
 },
 "nbformat": 4,
 "nbformat_minor": 0
}
