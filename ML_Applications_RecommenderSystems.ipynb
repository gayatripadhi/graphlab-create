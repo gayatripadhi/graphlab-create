{
 "cells": [
  {
   "cell_type": "code",
   "execution_count": 2,
   "metadata": {
    "collapsed": true
   },
   "outputs": [],
   "source": [
    "import graphlab as gl"
   ]
  },
  {
   "cell_type": "code",
   "execution_count": 4,
   "metadata": {
    "collapsed": false
   },
   "outputs": [
    {
     "data": {
      "text/html": [
       "<pre>Finished parsing file E:\\TuriFiles\\ml-20m\\ratings.csv</pre>"
      ],
      "text/plain": [
       "Finished parsing file E:\\TuriFiles\\ml-20m\\ratings.csv"
      ]
     },
     "metadata": {},
     "output_type": "display_data"
    },
    {
     "data": {
      "text/html": [
       "<pre>Parsing completed. Parsed 100 lines in 0.582033 secs.</pre>"
      ],
      "text/plain": [
       "Parsing completed. Parsed 100 lines in 0.582033 secs."
      ]
     },
     "metadata": {},
     "output_type": "display_data"
    },
    {
     "name": "stdout",
     "output_type": "stream",
     "text": [
      "------------------------------------------------------\n",
      "Inferred types from first 100 line(s) of file as \n",
      "column_type_hints=[long,long,float,long]\n",
      "If parsing fails due to incorrect types, you can correct\n",
      "the inferred type list above and pass it to read_csv in\n",
      "the column_type_hints argument\n",
      "------------------------------------------------------\n"
     ]
    },
    {
     "data": {
      "text/html": [
       "<pre>Read 2042753 lines. Lines per second: 1.88088e+006</pre>"
      ],
      "text/plain": [
       "Read 2042753 lines. Lines per second: 1.88088e+006"
      ]
     },
     "metadata": {},
     "output_type": "display_data"
    },
    {
     "data": {
      "text/html": [
       "<pre>Finished parsing file E:\\TuriFiles\\ml-20m\\ratings.csv</pre>"
      ],
      "text/plain": [
       "Finished parsing file E:\\TuriFiles\\ml-20m\\ratings.csv"
      ]
     },
     "metadata": {},
     "output_type": "display_data"
    },
    {
     "data": {
      "text/html": [
       "<pre>Parsing completed. Parsed 20000263 lines in 5.03029 secs.</pre>"
      ],
      "text/plain": [
       "Parsing completed. Parsed 20000263 lines in 5.03029 secs."
      ]
     },
     "metadata": {},
     "output_type": "display_data"
    }
   ],
   "source": [
    "actions = gl.SFrame.read_csv('E:/TuriFiles/ml-20m/ratings.csv')"
   ]
  },
  {
   "cell_type": "code",
   "execution_count": 5,
   "metadata": {
    "collapsed": false
   },
   "outputs": [
    {
     "data": {
      "text/html": [
       "<div style=\"max-height:1000px;max-width:1500px;overflow:auto;\"><table frame=\"box\" rules=\"cols\">\n",
       "    <tr>\n",
       "        <th style=\"padding-left: 1em; padding-right: 1em; text-align: center\">userId</th>\n",
       "        <th style=\"padding-left: 1em; padding-right: 1em; text-align: center\">movieId</th>\n",
       "        <th style=\"padding-left: 1em; padding-right: 1em; text-align: center\">rating</th>\n",
       "        <th style=\"padding-left: 1em; padding-right: 1em; text-align: center\">timestamp</th>\n",
       "    </tr>\n",
       "    <tr>\n",
       "        <td style=\"padding-left: 1em; padding-right: 1em; text-align: center; vertical-align: top\">1</td>\n",
       "        <td style=\"padding-left: 1em; padding-right: 1em; text-align: center; vertical-align: top\">2</td>\n",
       "        <td style=\"padding-left: 1em; padding-right: 1em; text-align: center; vertical-align: top\">3.5</td>\n",
       "        <td style=\"padding-left: 1em; padding-right: 1em; text-align: center; vertical-align: top\">1112486027</td>\n",
       "    </tr>\n",
       "    <tr>\n",
       "        <td style=\"padding-left: 1em; padding-right: 1em; text-align: center; vertical-align: top\">1</td>\n",
       "        <td style=\"padding-left: 1em; padding-right: 1em; text-align: center; vertical-align: top\">29</td>\n",
       "        <td style=\"padding-left: 1em; padding-right: 1em; text-align: center; vertical-align: top\">3.5</td>\n",
       "        <td style=\"padding-left: 1em; padding-right: 1em; text-align: center; vertical-align: top\">1112484676</td>\n",
       "    </tr>\n",
       "    <tr>\n",
       "        <td style=\"padding-left: 1em; padding-right: 1em; text-align: center; vertical-align: top\">1</td>\n",
       "        <td style=\"padding-left: 1em; padding-right: 1em; text-align: center; vertical-align: top\">32</td>\n",
       "        <td style=\"padding-left: 1em; padding-right: 1em; text-align: center; vertical-align: top\">3.5</td>\n",
       "        <td style=\"padding-left: 1em; padding-right: 1em; text-align: center; vertical-align: top\">1112484819</td>\n",
       "    </tr>\n",
       "    <tr>\n",
       "        <td style=\"padding-left: 1em; padding-right: 1em; text-align: center; vertical-align: top\">1</td>\n",
       "        <td style=\"padding-left: 1em; padding-right: 1em; text-align: center; vertical-align: top\">47</td>\n",
       "        <td style=\"padding-left: 1em; padding-right: 1em; text-align: center; vertical-align: top\">3.5</td>\n",
       "        <td style=\"padding-left: 1em; padding-right: 1em; text-align: center; vertical-align: top\">1112484727</td>\n",
       "    </tr>\n",
       "    <tr>\n",
       "        <td style=\"padding-left: 1em; padding-right: 1em; text-align: center; vertical-align: top\">1</td>\n",
       "        <td style=\"padding-left: 1em; padding-right: 1em; text-align: center; vertical-align: top\">50</td>\n",
       "        <td style=\"padding-left: 1em; padding-right: 1em; text-align: center; vertical-align: top\">3.5</td>\n",
       "        <td style=\"padding-left: 1em; padding-right: 1em; text-align: center; vertical-align: top\">1112484580</td>\n",
       "    </tr>\n",
       "    <tr>\n",
       "        <td style=\"padding-left: 1em; padding-right: 1em; text-align: center; vertical-align: top\">1</td>\n",
       "        <td style=\"padding-left: 1em; padding-right: 1em; text-align: center; vertical-align: top\">112</td>\n",
       "        <td style=\"padding-left: 1em; padding-right: 1em; text-align: center; vertical-align: top\">3.5</td>\n",
       "        <td style=\"padding-left: 1em; padding-right: 1em; text-align: center; vertical-align: top\">1094785740</td>\n",
       "    </tr>\n",
       "    <tr>\n",
       "        <td style=\"padding-left: 1em; padding-right: 1em; text-align: center; vertical-align: top\">1</td>\n",
       "        <td style=\"padding-left: 1em; padding-right: 1em; text-align: center; vertical-align: top\">151</td>\n",
       "        <td style=\"padding-left: 1em; padding-right: 1em; text-align: center; vertical-align: top\">4.0</td>\n",
       "        <td style=\"padding-left: 1em; padding-right: 1em; text-align: center; vertical-align: top\">1094785734</td>\n",
       "    </tr>\n",
       "    <tr>\n",
       "        <td style=\"padding-left: 1em; padding-right: 1em; text-align: center; vertical-align: top\">1</td>\n",
       "        <td style=\"padding-left: 1em; padding-right: 1em; text-align: center; vertical-align: top\">223</td>\n",
       "        <td style=\"padding-left: 1em; padding-right: 1em; text-align: center; vertical-align: top\">4.0</td>\n",
       "        <td style=\"padding-left: 1em; padding-right: 1em; text-align: center; vertical-align: top\">1112485573</td>\n",
       "    </tr>\n",
       "    <tr>\n",
       "        <td style=\"padding-left: 1em; padding-right: 1em; text-align: center; vertical-align: top\">1</td>\n",
       "        <td style=\"padding-left: 1em; padding-right: 1em; text-align: center; vertical-align: top\">253</td>\n",
       "        <td style=\"padding-left: 1em; padding-right: 1em; text-align: center; vertical-align: top\">4.0</td>\n",
       "        <td style=\"padding-left: 1em; padding-right: 1em; text-align: center; vertical-align: top\">1112484940</td>\n",
       "    </tr>\n",
       "    <tr>\n",
       "        <td style=\"padding-left: 1em; padding-right: 1em; text-align: center; vertical-align: top\">1</td>\n",
       "        <td style=\"padding-left: 1em; padding-right: 1em; text-align: center; vertical-align: top\">260</td>\n",
       "        <td style=\"padding-left: 1em; padding-right: 1em; text-align: center; vertical-align: top\">4.0</td>\n",
       "        <td style=\"padding-left: 1em; padding-right: 1em; text-align: center; vertical-align: top\">1112484826</td>\n",
       "    </tr>\n",
       "</table>\n",
       "[20000263 rows x 4 columns]<br/>Note: Only the head of the SFrame is printed.<br/>You can use print_rows(num_rows=m, num_columns=n) to print more rows and columns.\n",
       "</div>"
      ],
      "text/plain": [
       "Columns:\n",
       "\tuserId\tint\n",
       "\tmovieId\tint\n",
       "\trating\tfloat\n",
       "\ttimestamp\tint\n",
       "\n",
       "Rows: 20000263\n",
       "\n",
       "Data:\n",
       "+--------+---------+--------+------------+\n",
       "| userId | movieId | rating | timestamp  |\n",
       "+--------+---------+--------+------------+\n",
       "|   1    |    2    |  3.5   | 1112486027 |\n",
       "|   1    |    29   |  3.5   | 1112484676 |\n",
       "|   1    |    32   |  3.5   | 1112484819 |\n",
       "|   1    |    47   |  3.5   | 1112484727 |\n",
       "|   1    |    50   |  3.5   | 1112484580 |\n",
       "|   1    |   112   |  3.5   | 1094785740 |\n",
       "|   1    |   151   |  4.0   | 1094785734 |\n",
       "|   1    |   223   |  4.0   | 1112485573 |\n",
       "|   1    |   253   |  4.0   | 1112484940 |\n",
       "|   1    |   260   |  4.0   | 1112484826 |\n",
       "+--------+---------+--------+------------+\n",
       "[20000263 rows x 4 columns]\n",
       "Note: Only the head of the SFrame is printed.\n",
       "You can use print_rows(num_rows=m, num_columns=n) to print more rows and columns."
      ]
     },
     "execution_count": 5,
     "metadata": {},
     "output_type": "execute_result"
    }
   ],
   "source": [
    "actions"
   ]
  },
  {
   "cell_type": "code",
   "execution_count": 6,
   "metadata": {
    "collapsed": false
   },
   "outputs": [
    {
     "data": {
      "text/html": [
       "<pre>Finished parsing file E:\\TuriFiles\\ml-20m\\movies.csv</pre>"
      ],
      "text/plain": [
       "Finished parsing file E:\\TuriFiles\\ml-20m\\movies.csv"
      ]
     },
     "metadata": {},
     "output_type": "display_data"
    },
    {
     "data": {
      "text/html": [
       "<pre>Parsing completed. Parsed 100 lines in 0.134007 secs.</pre>"
      ],
      "text/plain": [
       "Parsing completed. Parsed 100 lines in 0.134007 secs."
      ]
     },
     "metadata": {},
     "output_type": "display_data"
    },
    {
     "name": "stdout",
     "output_type": "stream",
     "text": [
      "------------------------------------------------------\n",
      "Inferred types from first 100 line(s) of file as \n",
      "column_type_hints=[long,str,str]\n",
      "If parsing fails due to incorrect types, you can correct\n",
      "the inferred type list above and pass it to read_csv in\n",
      "the column_type_hints argument\n",
      "------------------------------------------------------\n"
     ]
    },
    {
     "data": {
      "text/html": [
       "<pre>Finished parsing file E:\\TuriFiles\\ml-20m\\movies.csv</pre>"
      ],
      "text/plain": [
       "Finished parsing file E:\\TuriFiles\\ml-20m\\movies.csv"
      ]
     },
     "metadata": {},
     "output_type": "display_data"
    },
    {
     "data": {
      "text/html": [
       "<pre>Parsing completed. Parsed 27278 lines in 0.033002 secs.</pre>"
      ],
      "text/plain": [
       "Parsing completed. Parsed 27278 lines in 0.033002 secs."
      ]
     },
     "metadata": {},
     "output_type": "display_data"
    }
   ],
   "source": [
    "items = gl.SFrame.read_csv('E:/TuriFiles/ml-20m/movies.csv')\n"
   ]
  },
  {
   "cell_type": "code",
   "execution_count": 7,
   "metadata": {
    "collapsed": false
   },
   "outputs": [
    {
     "data": {
      "text/html": [
       "<div style=\"max-height:1000px;max-width:1500px;overflow:auto;\"><table frame=\"box\" rules=\"cols\">\n",
       "    <tr>\n",
       "        <th style=\"padding-left: 1em; padding-right: 1em; text-align: center\">movieId</th>\n",
       "        <th style=\"padding-left: 1em; padding-right: 1em; text-align: center\">title</th>\n",
       "        <th style=\"padding-left: 1em; padding-right: 1em; text-align: center\">genres</th>\n",
       "    </tr>\n",
       "    <tr>\n",
       "        <td style=\"padding-left: 1em; padding-right: 1em; text-align: center; vertical-align: top\">1</td>\n",
       "        <td style=\"padding-left: 1em; padding-right: 1em; text-align: center; vertical-align: top\">Toy Story (1995)</td>\n",
       "        <td style=\"padding-left: 1em; padding-right: 1em; text-align: center; vertical-align: top\">Adventure|Animation|Child<br>ren|Comedy|Fantasy ...</td>\n",
       "    </tr>\n",
       "    <tr>\n",
       "        <td style=\"padding-left: 1em; padding-right: 1em; text-align: center; vertical-align: top\">2</td>\n",
       "        <td style=\"padding-left: 1em; padding-right: 1em; text-align: center; vertical-align: top\">Jumanji (1995)</td>\n",
       "        <td style=\"padding-left: 1em; padding-right: 1em; text-align: center; vertical-align: top\">Adventure|Children|Fantas<br>y ...</td>\n",
       "    </tr>\n",
       "    <tr>\n",
       "        <td style=\"padding-left: 1em; padding-right: 1em; text-align: center; vertical-align: top\">3</td>\n",
       "        <td style=\"padding-left: 1em; padding-right: 1em; text-align: center; vertical-align: top\">Grumpier Old Men (1995)</td>\n",
       "        <td style=\"padding-left: 1em; padding-right: 1em; text-align: center; vertical-align: top\">Comedy|Romance</td>\n",
       "    </tr>\n",
       "    <tr>\n",
       "        <td style=\"padding-left: 1em; padding-right: 1em; text-align: center; vertical-align: top\">4</td>\n",
       "        <td style=\"padding-left: 1em; padding-right: 1em; text-align: center; vertical-align: top\">Waiting to Exhale (1995)</td>\n",
       "        <td style=\"padding-left: 1em; padding-right: 1em; text-align: center; vertical-align: top\">Comedy|Drama|Romance</td>\n",
       "    </tr>\n",
       "    <tr>\n",
       "        <td style=\"padding-left: 1em; padding-right: 1em; text-align: center; vertical-align: top\">5</td>\n",
       "        <td style=\"padding-left: 1em; padding-right: 1em; text-align: center; vertical-align: top\">Father of the Bride Part<br>II (1995) ...</td>\n",
       "        <td style=\"padding-left: 1em; padding-right: 1em; text-align: center; vertical-align: top\">Comedy</td>\n",
       "    </tr>\n",
       "    <tr>\n",
       "        <td style=\"padding-left: 1em; padding-right: 1em; text-align: center; vertical-align: top\">6</td>\n",
       "        <td style=\"padding-left: 1em; padding-right: 1em; text-align: center; vertical-align: top\">Heat (1995)</td>\n",
       "        <td style=\"padding-left: 1em; padding-right: 1em; text-align: center; vertical-align: top\">Action|Crime|Thriller</td>\n",
       "    </tr>\n",
       "    <tr>\n",
       "        <td style=\"padding-left: 1em; padding-right: 1em; text-align: center; vertical-align: top\">7</td>\n",
       "        <td style=\"padding-left: 1em; padding-right: 1em; text-align: center; vertical-align: top\">Sabrina (1995)</td>\n",
       "        <td style=\"padding-left: 1em; padding-right: 1em; text-align: center; vertical-align: top\">Comedy|Romance</td>\n",
       "    </tr>\n",
       "    <tr>\n",
       "        <td style=\"padding-left: 1em; padding-right: 1em; text-align: center; vertical-align: top\">8</td>\n",
       "        <td style=\"padding-left: 1em; padding-right: 1em; text-align: center; vertical-align: top\">Tom and Huck (1995)</td>\n",
       "        <td style=\"padding-left: 1em; padding-right: 1em; text-align: center; vertical-align: top\">Adventure|Children</td>\n",
       "    </tr>\n",
       "    <tr>\n",
       "        <td style=\"padding-left: 1em; padding-right: 1em; text-align: center; vertical-align: top\">9</td>\n",
       "        <td style=\"padding-left: 1em; padding-right: 1em; text-align: center; vertical-align: top\">Sudden Death (1995)</td>\n",
       "        <td style=\"padding-left: 1em; padding-right: 1em; text-align: center; vertical-align: top\">Action</td>\n",
       "    </tr>\n",
       "    <tr>\n",
       "        <td style=\"padding-left: 1em; padding-right: 1em; text-align: center; vertical-align: top\">10</td>\n",
       "        <td style=\"padding-left: 1em; padding-right: 1em; text-align: center; vertical-align: top\">GoldenEye (1995)</td>\n",
       "        <td style=\"padding-left: 1em; padding-right: 1em; text-align: center; vertical-align: top\">Action|Adventure|Thriller</td>\n",
       "    </tr>\n",
       "</table>\n",
       "[27278 rows x 3 columns]<br/>Note: Only the head of the SFrame is printed.<br/>You can use print_rows(num_rows=m, num_columns=n) to print more rows and columns.\n",
       "</div>"
      ],
      "text/plain": [
       "Columns:\n",
       "\tmovieId\tint\n",
       "\ttitle\tstr\n",
       "\tgenres\tstr\n",
       "\n",
       "Rows: 27278\n",
       "\n",
       "Data:\n",
       "+---------+-------------------------------+-------------------------------+\n",
       "| movieId |             title             |             genres            |\n",
       "+---------+-------------------------------+-------------------------------+\n",
       "|    1    |        Toy Story (1995)       | Adventure|Animation|Childr... |\n",
       "|    2    |         Jumanji (1995)        |   Adventure|Children|Fantasy  |\n",
       "|    3    |    Grumpier Old Men (1995)    |         Comedy|Romance        |\n",
       "|    4    |    Waiting to Exhale (1995)   |      Comedy|Drama|Romance     |\n",
       "|    5    | Father of the Bride Part I... |             Comedy            |\n",
       "|    6    |          Heat (1995)          |     Action|Crime|Thriller     |\n",
       "|    7    |         Sabrina (1995)        |         Comedy|Romance        |\n",
       "|    8    |      Tom and Huck (1995)      |       Adventure|Children      |\n",
       "|    9    |      Sudden Death (1995)      |             Action            |\n",
       "|    10   |        GoldenEye (1995)       |   Action|Adventure|Thriller   |\n",
       "+---------+-------------------------------+-------------------------------+\n",
       "[27278 rows x 3 columns]\n",
       "Note: Only the head of the SFrame is printed.\n",
       "You can use print_rows(num_rows=m, num_columns=n) to print more rows and columns."
      ]
     },
     "execution_count": 7,
     "metadata": {},
     "output_type": "execute_result"
    }
   ],
   "source": [
    "items"
   ]
  },
  {
   "cell_type": "code",
   "execution_count": 8,
   "metadata": {
    "collapsed": true
   },
   "outputs": [],
   "source": [
    "training_data, validation_data = gl.recommender.util.random_split_by_user(actions, 'userId', 'movieId')"
   ]
  },
  {
   "cell_type": "code",
   "execution_count": 13,
   "metadata": {
    "collapsed": false
   },
   "outputs": [
    {
     "data": {
      "text/html": [
       "<pre>Recsys training: model = item_similarity</pre>"
      ],
      "text/plain": [
       "Recsys training: model = item_similarity"
      ]
     },
     "metadata": {},
     "output_type": "display_data"
    },
    {
     "data": {
      "text/html": [
       "<pre>Warning: Ignoring columns rating, timestamp;</pre>"
      ],
      "text/plain": [
       "Warning: Ignoring columns rating, timestamp;"
      ]
     },
     "metadata": {},
     "output_type": "display_data"
    },
    {
     "data": {
      "text/html": [
       "<pre>    To use one of these as a target column, set target = <column_name></pre>"
      ],
      "text/plain": [
       "    To use one of these as a target column, set target = <column_name>"
      ]
     },
     "metadata": {},
     "output_type": "display_data"
    },
    {
     "data": {
      "text/html": [
       "<pre>    and use a method that allows the use of a target.</pre>"
      ],
      "text/plain": [
       "    and use a method that allows the use of a target."
      ]
     },
     "metadata": {},
     "output_type": "display_data"
    },
    {
     "data": {
      "text/html": [
       "<pre>Preparing data set.</pre>"
      ],
      "text/plain": [
       "Preparing data set."
      ]
     },
     "metadata": {},
     "output_type": "display_data"
    },
    {
     "data": {
      "text/html": [
       "<pre>    Data has 19970212 observations with 138493 users and 26657 items.</pre>"
      ],
      "text/plain": [
       "    Data has 19970212 observations with 138493 users and 26657 items."
      ]
     },
     "metadata": {},
     "output_type": "display_data"
    },
    {
     "data": {
      "text/html": [
       "<pre>    Data prepared in: 8.21447s</pre>"
      ],
      "text/plain": [
       "    Data prepared in: 8.21447s"
      ]
     },
     "metadata": {},
     "output_type": "display_data"
    },
    {
     "data": {
      "text/html": [
       "<pre>Training model from provided data.</pre>"
      ],
      "text/plain": [
       "Training model from provided data."
      ]
     },
     "metadata": {},
     "output_type": "display_data"
    },
    {
     "data": {
      "text/html": [
       "<pre>Gathering per-item and per-user statistics.</pre>"
      ],
      "text/plain": [
       "Gathering per-item and per-user statistics."
      ]
     },
     "metadata": {},
     "output_type": "display_data"
    },
    {
     "data": {
      "text/html": [
       "<pre>+--------------------------------+------------+</pre>"
      ],
      "text/plain": [
       "+--------------------------------+------------+"
      ]
     },
     "metadata": {},
     "output_type": "display_data"
    },
    {
     "data": {
      "text/html": [
       "<pre>| Elapsed Time (Item Statistics) | % Complete |</pre>"
      ],
      "text/plain": [
       "| Elapsed Time (Item Statistics) | % Complete |"
      ]
     },
     "metadata": {},
     "output_type": "display_data"
    },
    {
     "data": {
      "text/html": [
       "<pre>+--------------------------------+------------+</pre>"
      ],
      "text/plain": [
       "+--------------------------------+------------+"
      ]
     },
     "metadata": {},
     "output_type": "display_data"
    },
    {
     "data": {
      "text/html": [
       "<pre>| 2ms                            | 0.5        |</pre>"
      ],
      "text/plain": [
       "| 2ms                            | 0.5        |"
      ]
     },
     "metadata": {},
     "output_type": "display_data"
    },
    {
     "data": {
      "text/html": [
       "<pre>| 194.011ms                      | 100        |</pre>"
      ],
      "text/plain": [
       "| 194.011ms                      | 100        |"
      ]
     },
     "metadata": {},
     "output_type": "display_data"
    },
    {
     "data": {
      "text/html": [
       "<pre>+--------------------------------+------------+</pre>"
      ],
      "text/plain": [
       "+--------------------------------+------------+"
      ]
     },
     "metadata": {},
     "output_type": "display_data"
    },
    {
     "data": {
      "text/html": [
       "<pre>Setting up lookup tables.</pre>"
      ],
      "text/plain": [
       "Setting up lookup tables."
      ]
     },
     "metadata": {},
     "output_type": "display_data"
    },
    {
     "data": {
      "text/html": [
       "<pre>Processing data in one pass using dense lookup tables.</pre>"
      ],
      "text/plain": [
       "Processing data in one pass using dense lookup tables."
      ]
     },
     "metadata": {},
     "output_type": "display_data"
    },
    {
     "data": {
      "text/html": [
       "<pre>+-------------------------------------+------------------+-----------------+</pre>"
      ],
      "text/plain": [
       "+-------------------------------------+------------------+-----------------+"
      ]
     },
     "metadata": {},
     "output_type": "display_data"
    },
    {
     "data": {
      "text/html": [
       "<pre>| Elapsed Time (Constructing Lookups) | Total % Complete | Items Processed |</pre>"
      ],
      "text/plain": [
       "| Elapsed Time (Constructing Lookups) | Total % Complete | Items Processed |"
      ]
     },
     "metadata": {},
     "output_type": "display_data"
    },
    {
     "data": {
      "text/html": [
       "<pre>+-------------------------------------+------------------+-----------------+</pre>"
      ],
      "text/plain": [
       "+-------------------------------------+------------------+-----------------+"
      ]
     },
     "metadata": {},
     "output_type": "display_data"
    },
    {
     "data": {
      "text/html": [
       "<pre>| 848.049ms                           | 0                | 0               |</pre>"
      ],
      "text/plain": [
       "| 848.049ms                           | 0                | 0               |"
      ]
     },
     "metadata": {},
     "output_type": "display_data"
    },
    {
     "data": {
      "text/html": [
       "<pre>| 1.84s                               | 3.25             | 930             |</pre>"
      ],
      "text/plain": [
       "| 1.84s                               | 3.25             | 930             |"
      ]
     },
     "metadata": {},
     "output_type": "display_data"
    },
    {
     "data": {
      "text/html": [
       "<pre>| 2.85s                               | 6.25             | 1715            |</pre>"
      ],
      "text/plain": [
       "| 2.85s                               | 6.25             | 1715            |"
      ]
     },
     "metadata": {},
     "output_type": "display_data"
    },
    {
     "data": {
      "text/html": [
       "<pre>| 3.84s                               | 9.5              | 2537            |</pre>"
      ],
      "text/plain": [
       "| 3.84s                               | 9.5              | 2537            |"
      ]
     },
     "metadata": {},
     "output_type": "display_data"
    },
    {
     "data": {
      "text/html": [
       "<pre>| 4.84s                               | 12.5             | 3382            |</pre>"
      ],
      "text/plain": [
       "| 4.84s                               | 12.5             | 3382            |"
      ]
     },
     "metadata": {},
     "output_type": "display_data"
    },
    {
     "data": {
      "text/html": [
       "<pre>| 5.85s                               | 15.75            | 4230            |</pre>"
      ],
      "text/plain": [
       "| 5.85s                               | 15.75            | 4230            |"
      ]
     },
     "metadata": {},
     "output_type": "display_data"
    },
    {
     "data": {
      "text/html": [
       "<pre>| 6.85s                               | 18.75            | 5028            |</pre>"
      ],
      "text/plain": [
       "| 6.85s                               | 18.75            | 5028            |"
      ]
     },
     "metadata": {},
     "output_type": "display_data"
    },
    {
     "data": {
      "text/html": [
       "<pre>| 7.84s                               | 22               | 5866            |</pre>"
      ],
      "text/plain": [
       "| 7.84s                               | 22               | 5866            |"
      ]
     },
     "metadata": {},
     "output_type": "display_data"
    },
    {
     "data": {
      "text/html": [
       "<pre>| 8.84s                               | 24.75            | 6662            |</pre>"
      ],
      "text/plain": [
       "| 8.84s                               | 24.75            | 6662            |"
      ]
     },
     "metadata": {},
     "output_type": "display_data"
    },
    {
     "data": {
      "text/html": [
       "<pre>| 9.84s                               | 27.75            | 7460            |</pre>"
      ],
      "text/plain": [
       "| 9.84s                               | 27.75            | 7460            |"
      ]
     },
     "metadata": {},
     "output_type": "display_data"
    },
    {
     "data": {
      "text/html": [
       "<pre>| 10.85s                              | 30.75            | 8221            |</pre>"
      ],
      "text/plain": [
       "| 10.85s                              | 30.75            | 8221            |"
      ]
     },
     "metadata": {},
     "output_type": "display_data"
    },
    {
     "data": {
      "text/html": [
       "<pre>| 11.84s                              | 33.5             | 8981            |</pre>"
      ],
      "text/plain": [
       "| 11.84s                              | 33.5             | 8981            |"
      ]
     },
     "metadata": {},
     "output_type": "display_data"
    },
    {
     "data": {
      "text/html": [
       "<pre>| 12.85s                              | 36.75            | 9827            |</pre>"
      ],
      "text/plain": [
       "| 12.85s                              | 36.75            | 9827            |"
      ]
     },
     "metadata": {},
     "output_type": "display_data"
    },
    {
     "data": {
      "text/html": [
       "<pre>| 13.84s                              | 39.75            | 10619           |</pre>"
      ],
      "text/plain": [
       "| 13.84s                              | 39.75            | 10619           |"
      ]
     },
     "metadata": {},
     "output_type": "display_data"
    },
    {
     "data": {
      "text/html": [
       "<pre>| 14.84s                              | 43               | 11485           |</pre>"
      ],
      "text/plain": [
       "| 14.84s                              | 43               | 11485           |"
      ]
     },
     "metadata": {},
     "output_type": "display_data"
    },
    {
     "data": {
      "text/html": [
       "<pre>| 15.84s                              | 46               | 12287           |</pre>"
      ],
      "text/plain": [
       "| 15.84s                              | 46               | 12287           |"
      ]
     },
     "metadata": {},
     "output_type": "display_data"
    },
    {
     "data": {
      "text/html": [
       "<pre>| 16.84s                              | 49               | 13122           |</pre>"
      ],
      "text/plain": [
       "| 16.84s                              | 49               | 13122           |"
      ]
     },
     "metadata": {},
     "output_type": "display_data"
    },
    {
     "data": {
      "text/html": [
       "<pre>| 17.85s                              | 52.25            | 13942           |</pre>"
      ],
      "text/plain": [
       "| 17.85s                              | 52.25            | 13942           |"
      ]
     },
     "metadata": {},
     "output_type": "display_data"
    },
    {
     "data": {
      "text/html": [
       "<pre>| 18.85s                              | 55               | 14709           |</pre>"
      ],
      "text/plain": [
       "| 18.85s                              | 55               | 14709           |"
      ]
     },
     "metadata": {},
     "output_type": "display_data"
    },
    {
     "data": {
      "text/html": [
       "<pre>| 19.85s                              | 58.25            | 15541           |</pre>"
      ],
      "text/plain": [
       "| 19.85s                              | 58.25            | 15541           |"
      ]
     },
     "metadata": {},
     "output_type": "display_data"
    },
    {
     "data": {
      "text/html": [
       "<pre>| 20.85s                              | 61.25            | 16381           |</pre>"
      ],
      "text/plain": [
       "| 20.85s                              | 61.25            | 16381           |"
      ]
     },
     "metadata": {},
     "output_type": "display_data"
    },
    {
     "data": {
      "text/html": [
       "<pre>| 21.85s                              | 64.25            | 17136           |</pre>"
      ],
      "text/plain": [
       "| 21.85s                              | 64.25            | 17136           |"
      ]
     },
     "metadata": {},
     "output_type": "display_data"
    },
    {
     "data": {
      "text/html": [
       "<pre>| 22.85s                              | 67               | 17920           |</pre>"
      ],
      "text/plain": [
       "| 22.85s                              | 67               | 17920           |"
      ]
     },
     "metadata": {},
     "output_type": "display_data"
    },
    {
     "data": {
      "text/html": [
       "<pre>| 23.85s                              | 69.75            | 18656           |</pre>"
      ],
      "text/plain": [
       "| 23.85s                              | 69.75            | 18656           |"
      ]
     },
     "metadata": {},
     "output_type": "display_data"
    },
    {
     "data": {
      "text/html": [
       "<pre>| 24.85s                              | 72.5             | 19385           |</pre>"
      ],
      "text/plain": [
       "| 24.85s                              | 72.5             | 19385           |"
      ]
     },
     "metadata": {},
     "output_type": "display_data"
    },
    {
     "data": {
      "text/html": [
       "<pre>| 25.85s                              | 74.75            | 19954           |</pre>"
      ],
      "text/plain": [
       "| 25.85s                              | 74.75            | 19954           |"
      ]
     },
     "metadata": {},
     "output_type": "display_data"
    },
    {
     "data": {
      "text/html": [
       "<pre>| 26.85s                              | 77.25            | 20645           |</pre>"
      ],
      "text/plain": [
       "| 26.85s                              | 77.25            | 20645           |"
      ]
     },
     "metadata": {},
     "output_type": "display_data"
    },
    {
     "data": {
      "text/html": [
       "<pre>| 27.85s                              | 80.5             | 21511           |</pre>"
      ],
      "text/plain": [
       "| 27.85s                              | 80.5             | 21511           |"
      ]
     },
     "metadata": {},
     "output_type": "display_data"
    },
    {
     "data": {
      "text/html": [
       "<pre>| 28.85s                              | 83.25            | 22244           |</pre>"
      ],
      "text/plain": [
       "| 28.85s                              | 83.25            | 22244           |"
      ]
     },
     "metadata": {},
     "output_type": "display_data"
    },
    {
     "data": {
      "text/html": [
       "<pre>| 29.85s                              | 86               | 22959           |</pre>"
      ],
      "text/plain": [
       "| 29.85s                              | 86               | 22959           |"
      ]
     },
     "metadata": {},
     "output_type": "display_data"
    },
    {
     "data": {
      "text/html": [
       "<pre>| 30.85s                              | 88.75            | 23686           |</pre>"
      ],
      "text/plain": [
       "| 30.85s                              | 88.75            | 23686           |"
      ]
     },
     "metadata": {},
     "output_type": "display_data"
    },
    {
     "data": {
      "text/html": [
       "<pre>| 31.85s                              | 91.75            | 24499           |</pre>"
      ],
      "text/plain": [
       "| 31.85s                              | 91.75            | 24499           |"
      ]
     },
     "metadata": {},
     "output_type": "display_data"
    },
    {
     "data": {
      "text/html": [
       "<pre>| 32.85s                              | 94.75            | 25258           |</pre>"
      ],
      "text/plain": [
       "| 32.85s                              | 94.75            | 25258           |"
      ]
     },
     "metadata": {},
     "output_type": "display_data"
    },
    {
     "data": {
      "text/html": [
       "<pre>| 33.85s                              | 97.75            | 26061           |</pre>"
      ],
      "text/plain": [
       "| 33.85s                              | 97.75            | 26061           |"
      ]
     },
     "metadata": {},
     "output_type": "display_data"
    },
    {
     "data": {
      "text/html": [
       "<pre>| 39.10s                              | 100              | 26657           |</pre>"
      ],
      "text/plain": [
       "| 39.10s                              | 100              | 26657           |"
      ]
     },
     "metadata": {},
     "output_type": "display_data"
    },
    {
     "data": {
      "text/html": [
       "<pre>+-------------------------------------+------------------+-----------------+</pre>"
      ],
      "text/plain": [
       "+-------------------------------------+------------------+-----------------+"
      ]
     },
     "metadata": {},
     "output_type": "display_data"
    },
    {
     "data": {
      "text/html": [
       "<pre>Finalizing lookup tables.</pre>"
      ],
      "text/plain": [
       "Finalizing lookup tables."
      ]
     },
     "metadata": {},
     "output_type": "display_data"
    },
    {
     "data": {
      "text/html": [
       "<pre>Generating candidate set for working with new users.</pre>"
      ],
      "text/plain": [
       "Generating candidate set for working with new users."
      ]
     },
     "metadata": {},
     "output_type": "display_data"
    },
    {
     "data": {
      "text/html": [
       "<pre>Finished training in 39.7823s</pre>"
      ],
      "text/plain": [
       "Finished training in 39.7823s"
      ]
     },
     "metadata": {},
     "output_type": "display_data"
    }
   ],
   "source": [
    "model = gl.recommender.create(training_data,'userId', 'movieId')"
   ]
  },
  {
   "cell_type": "code",
   "execution_count": 14,
   "metadata": {
    "collapsed": false
   },
   "outputs": [
    {
     "data": {
      "text/plain": [
       "Class                            : ItemSimilarityRecommender\n",
       "\n",
       "Schema\n",
       "------\n",
       "User ID                          : userId\n",
       "Item ID                          : movieId\n",
       "Target                           : None\n",
       "Additional observation features  : 0\n",
       "User side features               : []\n",
       "Item side features               : []\n",
       "\n",
       "Statistics\n",
       "----------\n",
       "Number of observations           : 19970212\n",
       "Number of users                  : 138493\n",
       "Number of items                  : 26657\n",
       "\n",
       "Training summary\n",
       "----------------\n",
       "Training time                    : 39.7823\n",
       "\n",
       "Model Parameters\n",
       "----------------\n",
       "Model class                      : ItemSimilarityRecommender\n",
       "threshold                        : 0.001\n",
       "similarity_type                  : jaccard\n",
       "training_method                  : auto\n",
       "\n",
       "Other Settings\n",
       "--------------\n",
       "degree_approximation_threshold   : 4096\n",
       "sparse_density_estimation_sample_size : 4096\n",
       "max_data_passes                  : 4096\n",
       "target_memory_usage              : 8589934592\n",
       "seed_item_set_size               : 50\n",
       "nearest_neighbors_interaction_proportion_threshold : 0.05\n",
       "max_item_neighborhood_size       : 64"
      ]
     },
     "execution_count": 14,
     "metadata": {},
     "output_type": "execute_result"
    }
   ],
   "source": [
    "model"
   ]
  },
  {
   "cell_type": "code",
   "execution_count": 15,
   "metadata": {
    "collapsed": false
   },
   "outputs": [
    {
     "data": {
      "text/html": [
       "<pre>recommendations finished on 1000/138493 queries. users per second: 8546.57</pre>"
      ],
      "text/plain": [
       "recommendations finished on 1000/138493 queries. users per second: 8546.57"
      ]
     },
     "metadata": {},
     "output_type": "display_data"
    },
    {
     "data": {
      "text/html": [
       "<pre>recommendations finished on 2000/138493 queries. users per second: 8771.43</pre>"
      ],
      "text/plain": [
       "recommendations finished on 2000/138493 queries. users per second: 8771.43"
      ]
     },
     "metadata": {},
     "output_type": "display_data"
    },
    {
     "data": {
      "text/html": [
       "<pre>recommendations finished on 3000/138493 queries. users per second: 8745.87</pre>"
      ],
      "text/plain": [
       "recommendations finished on 3000/138493 queries. users per second: 8745.87"
      ]
     },
     "metadata": {},
     "output_type": "display_data"
    },
    {
     "data": {
      "text/html": [
       "<pre>recommendations finished on 4000/138493 queries. users per second: 8849.05</pre>"
      ],
      "text/plain": [
       "recommendations finished on 4000/138493 queries. users per second: 8849.05"
      ]
     },
     "metadata": {},
     "output_type": "display_data"
    },
    {
     "data": {
      "text/html": [
       "<pre>recommendations finished on 5000/138493 queries. users per second: 8896.29</pre>"
      ],
      "text/plain": [
       "recommendations finished on 5000/138493 queries. users per second: 8896.29"
      ]
     },
     "metadata": {},
     "output_type": "display_data"
    },
    {
     "data": {
      "text/html": [
       "<pre>recommendations finished on 6000/138493 queries. users per second: 8941.37</pre>"
      ],
      "text/plain": [
       "recommendations finished on 6000/138493 queries. users per second: 8941.37"
      ]
     },
     "metadata": {},
     "output_type": "display_data"
    },
    {
     "data": {
      "text/html": [
       "<pre>recommendations finished on 7000/138493 queries. users per second: 8905.34</pre>"
      ],
      "text/plain": [
       "recommendations finished on 7000/138493 queries. users per second: 8905.34"
      ]
     },
     "metadata": {},
     "output_type": "display_data"
    },
    {
     "data": {
      "text/html": [
       "<pre>recommendations finished on 8000/138493 queries. users per second: 9018.66</pre>"
      ],
      "text/plain": [
       "recommendations finished on 8000/138493 queries. users per second: 9018.66"
      ]
     },
     "metadata": {},
     "output_type": "display_data"
    },
    {
     "data": {
      "text/html": [
       "<pre>recommendations finished on 9000/138493 queries. users per second: 9108.8</pre>"
      ],
      "text/plain": [
       "recommendations finished on 9000/138493 queries. users per second: 9108.8"
      ]
     },
     "metadata": {},
     "output_type": "display_data"
    },
    {
     "data": {
      "text/html": [
       "<pre>recommendations finished on 10000/138493 queries. users per second: 9182.21</pre>"
      ],
      "text/plain": [
       "recommendations finished on 10000/138493 queries. users per second: 9182.21"
      ]
     },
     "metadata": {},
     "output_type": "display_data"
    },
    {
     "data": {
      "text/html": [
       "<pre>recommendations finished on 11000/138493 queries. users per second: 9235.41</pre>"
      ],
      "text/plain": [
       "recommendations finished on 11000/138493 queries. users per second: 9235.41"
      ]
     },
     "metadata": {},
     "output_type": "display_data"
    },
    {
     "data": {
      "text/html": [
       "<pre>recommendations finished on 12000/138493 queries. users per second: 9273.04</pre>"
      ],
      "text/plain": [
       "recommendations finished on 12000/138493 queries. users per second: 9273.04"
      ]
     },
     "metadata": {},
     "output_type": "display_data"
    },
    {
     "data": {
      "text/html": [
       "<pre>recommendations finished on 13000/138493 queries. users per second: 9305.12</pre>"
      ],
      "text/plain": [
       "recommendations finished on 13000/138493 queries. users per second: 9305.12"
      ]
     },
     "metadata": {},
     "output_type": "display_data"
    },
    {
     "data": {
      "text/html": [
       "<pre>recommendations finished on 14000/138493 queries. users per second: 9332.8</pre>"
      ],
      "text/plain": [
       "recommendations finished on 14000/138493 queries. users per second: 9332.8"
      ]
     },
     "metadata": {},
     "output_type": "display_data"
    },
    {
     "data": {
      "text/html": [
       "<pre>recommendations finished on 15000/138493 queries. users per second: 9368.61</pre>"
      ],
      "text/plain": [
       "recommendations finished on 15000/138493 queries. users per second: 9368.61"
      ]
     },
     "metadata": {},
     "output_type": "display_data"
    },
    {
     "data": {
      "text/html": [
       "<pre>recommendations finished on 16000/138493 queries. users per second: 9400.17</pre>"
      ],
      "text/plain": [
       "recommendations finished on 16000/138493 queries. users per second: 9400.17"
      ]
     },
     "metadata": {},
     "output_type": "display_data"
    },
    {
     "data": {
      "text/html": [
       "<pre>recommendations finished on 17000/138493 queries. users per second: 9422.97</pre>"
      ],
      "text/plain": [
       "recommendations finished on 17000/138493 queries. users per second: 9422.97"
      ]
     },
     "metadata": {},
     "output_type": "display_data"
    },
    {
     "data": {
      "text/html": [
       "<pre>recommendations finished on 18000/138493 queries. users per second: 9453.24</pre>"
      ],
      "text/plain": [
       "recommendations finished on 18000/138493 queries. users per second: 9453.24"
      ]
     },
     "metadata": {},
     "output_type": "display_data"
    },
    {
     "data": {
      "text/html": [
       "<pre>recommendations finished on 19000/138493 queries. users per second: 9475.77</pre>"
      ],
      "text/plain": [
       "recommendations finished on 19000/138493 queries. users per second: 9475.77"
      ]
     },
     "metadata": {},
     "output_type": "display_data"
    },
    {
     "data": {
      "text/html": [
       "<pre>recommendations finished on 20000/138493 queries. users per second: 9491.63</pre>"
      ],
      "text/plain": [
       "recommendations finished on 20000/138493 queries. users per second: 9491.63"
      ]
     },
     "metadata": {},
     "output_type": "display_data"
    },
    {
     "data": {
      "text/html": [
       "<pre>recommendations finished on 21000/138493 queries. users per second: 9510.33</pre>"
      ],
      "text/plain": [
       "recommendations finished on 21000/138493 queries. users per second: 9510.33"
      ]
     },
     "metadata": {},
     "output_type": "display_data"
    },
    {
     "data": {
      "text/html": [
       "<pre>recommendations finished on 22000/138493 queries. users per second: 9523.27</pre>"
      ],
      "text/plain": [
       "recommendations finished on 22000/138493 queries. users per second: 9523.27"
      ]
     },
     "metadata": {},
     "output_type": "display_data"
    },
    {
     "data": {
      "text/html": [
       "<pre>recommendations finished on 23000/138493 queries. users per second: 9543.02</pre>"
      ],
      "text/plain": [
       "recommendations finished on 23000/138493 queries. users per second: 9543.02"
      ]
     },
     "metadata": {},
     "output_type": "display_data"
    },
    {
     "data": {
      "text/html": [
       "<pre>recommendations finished on 24000/138493 queries. users per second: 9557.4</pre>"
      ],
      "text/plain": [
       "recommendations finished on 24000/138493 queries. users per second: 9557.4"
      ]
     },
     "metadata": {},
     "output_type": "display_data"
    },
    {
     "data": {
      "text/html": [
       "<pre>recommendations finished on 25000/138493 queries. users per second: 9574.33</pre>"
      ],
      "text/plain": [
       "recommendations finished on 25000/138493 queries. users per second: 9574.33"
      ]
     },
     "metadata": {},
     "output_type": "display_data"
    },
    {
     "data": {
      "text/html": [
       "<pre>recommendations finished on 26000/138493 queries. users per second: 9586.47</pre>"
      ],
      "text/plain": [
       "recommendations finished on 26000/138493 queries. users per second: 9586.47"
      ]
     },
     "metadata": {},
     "output_type": "display_data"
    },
    {
     "data": {
      "text/html": [
       "<pre>recommendations finished on 27000/138493 queries. users per second: 9597.74</pre>"
      ],
      "text/plain": [
       "recommendations finished on 27000/138493 queries. users per second: 9597.74"
      ]
     },
     "metadata": {},
     "output_type": "display_data"
    },
    {
     "data": {
      "text/html": [
       "<pre>recommendations finished on 28000/138493 queries. users per second: 9604.94</pre>"
      ],
      "text/plain": [
       "recommendations finished on 28000/138493 queries. users per second: 9604.94"
      ]
     },
     "metadata": {},
     "output_type": "display_data"
    },
    {
     "data": {
      "text/html": [
       "<pre>recommendations finished on 29000/138493 queries. users per second: 9614.84</pre>"
      ],
      "text/plain": [
       "recommendations finished on 29000/138493 queries. users per second: 9614.84"
      ]
     },
     "metadata": {},
     "output_type": "display_data"
    },
    {
     "data": {
      "text/html": [
       "<pre>recommendations finished on 30000/138493 queries. users per second: 9621</pre>"
      ],
      "text/plain": [
       "recommendations finished on 30000/138493 queries. users per second: 9621"
      ]
     },
     "metadata": {},
     "output_type": "display_data"
    },
    {
     "data": {
      "text/html": [
       "<pre>recommendations finished on 31000/138493 queries. users per second: 9626.78</pre>"
      ],
      "text/plain": [
       "recommendations finished on 31000/138493 queries. users per second: 9626.78"
      ]
     },
     "metadata": {},
     "output_type": "display_data"
    },
    {
     "data": {
      "text/html": [
       "<pre>recommendations finished on 32000/138493 queries. users per second: 9635.1</pre>"
      ],
      "text/plain": [
       "recommendations finished on 32000/138493 queries. users per second: 9635.1"
      ]
     },
     "metadata": {},
     "output_type": "display_data"
    },
    {
     "data": {
      "text/html": [
       "<pre>recommendations finished on 33000/138493 queries. users per second: 9642.93</pre>"
      ],
      "text/plain": [
       "recommendations finished on 33000/138493 queries. users per second: 9642.93"
      ]
     },
     "metadata": {},
     "output_type": "display_data"
    },
    {
     "data": {
      "text/html": [
       "<pre>recommendations finished on 34000/138493 queries. users per second: 9644.84</pre>"
      ],
      "text/plain": [
       "recommendations finished on 34000/138493 queries. users per second: 9644.84"
      ]
     },
     "metadata": {},
     "output_type": "display_data"
    },
    {
     "data": {
      "text/html": [
       "<pre>recommendations finished on 35000/138493 queries. users per second: 9654.62</pre>"
      ],
      "text/plain": [
       "recommendations finished on 35000/138493 queries. users per second: 9654.62"
      ]
     },
     "metadata": {},
     "output_type": "display_data"
    },
    {
     "data": {
      "text/html": [
       "<pre>recommendations finished on 36000/138493 queries. users per second: 9658.69</pre>"
      ],
      "text/plain": [
       "recommendations finished on 36000/138493 queries. users per second: 9658.69"
      ]
     },
     "metadata": {},
     "output_type": "display_data"
    },
    {
     "data": {
      "text/html": [
       "<pre>recommendations finished on 37000/138493 queries. users per second: 9667.59</pre>"
      ],
      "text/plain": [
       "recommendations finished on 37000/138493 queries. users per second: 9667.59"
      ]
     },
     "metadata": {},
     "output_type": "display_data"
    },
    {
     "data": {
      "text/html": [
       "<pre>recommendations finished on 38000/138493 queries. users per second: 9673.58</pre>"
      ],
      "text/plain": [
       "recommendations finished on 38000/138493 queries. users per second: 9673.58"
      ]
     },
     "metadata": {},
     "output_type": "display_data"
    },
    {
     "data": {
      "text/html": [
       "<pre>recommendations finished on 39000/138493 queries. users per second: 9676.87</pre>"
      ],
      "text/plain": [
       "recommendations finished on 39000/138493 queries. users per second: 9676.87"
      ]
     },
     "metadata": {},
     "output_type": "display_data"
    },
    {
     "data": {
      "text/html": [
       "<pre>recommendations finished on 40000/138493 queries. users per second: 9682.33</pre>"
      ],
      "text/plain": [
       "recommendations finished on 40000/138493 queries. users per second: 9682.33"
      ]
     },
     "metadata": {},
     "output_type": "display_data"
    },
    {
     "data": {
      "text/html": [
       "<pre>recommendations finished on 41000/138493 queries. users per second: 9687.54</pre>"
      ],
      "text/plain": [
       "recommendations finished on 41000/138493 queries. users per second: 9687.54"
      ]
     },
     "metadata": {},
     "output_type": "display_data"
    },
    {
     "data": {
      "text/html": [
       "<pre>recommendations finished on 42000/138493 queries. users per second: 9692.5</pre>"
      ],
      "text/plain": [
       "recommendations finished on 42000/138493 queries. users per second: 9692.5"
      ]
     },
     "metadata": {},
     "output_type": "display_data"
    },
    {
     "data": {
      "text/html": [
       "<pre>recommendations finished on 43000/138493 queries. users per second: 9701.61</pre>"
      ],
      "text/plain": [
       "recommendations finished on 43000/138493 queries. users per second: 9701.61"
      ]
     },
     "metadata": {},
     "output_type": "display_data"
    },
    {
     "data": {
      "text/html": [
       "<pre>recommendations finished on 44000/138493 queries. users per second: 9708.18</pre>"
      ],
      "text/plain": [
       "recommendations finished on 44000/138493 queries. users per second: 9708.18"
      ]
     },
     "metadata": {},
     "output_type": "display_data"
    },
    {
     "data": {
      "text/html": [
       "<pre>recommendations finished on 45000/138493 queries. users per second: 9710.28</pre>"
      ],
      "text/plain": [
       "recommendations finished on 45000/138493 queries. users per second: 9710.28"
      ]
     },
     "metadata": {},
     "output_type": "display_data"
    },
    {
     "data": {
      "text/html": [
       "<pre>recommendations finished on 46000/138493 queries. users per second: 9714.33</pre>"
      ],
      "text/plain": [
       "recommendations finished on 46000/138493 queries. users per second: 9714.33"
      ]
     },
     "metadata": {},
     "output_type": "display_data"
    },
    {
     "data": {
      "text/html": [
       "<pre>recommendations finished on 47000/138493 queries. users per second: 9720.23</pre>"
      ],
      "text/plain": [
       "recommendations finished on 47000/138493 queries. users per second: 9720.23"
      ]
     },
     "metadata": {},
     "output_type": "display_data"
    },
    {
     "data": {
      "text/html": [
       "<pre>recommendations finished on 48000/138493 queries. users per second: 9723.92</pre>"
      ],
      "text/plain": [
       "recommendations finished on 48000/138493 queries. users per second: 9723.92"
      ]
     },
     "metadata": {},
     "output_type": "display_data"
    },
    {
     "data": {
      "text/html": [
       "<pre>recommendations finished on 49000/138493 queries. users per second: 9713.96</pre>"
      ],
      "text/plain": [
       "recommendations finished on 49000/138493 queries. users per second: 9713.96"
      ]
     },
     "metadata": {},
     "output_type": "display_data"
    },
    {
     "data": {
      "text/html": [
       "<pre>recommendations finished on 50000/138493 queries. users per second: 9717.62</pre>"
      ],
      "text/plain": [
       "recommendations finished on 50000/138493 queries. users per second: 9717.62"
      ]
     },
     "metadata": {},
     "output_type": "display_data"
    },
    {
     "data": {
      "text/html": [
       "<pre>recommendations finished on 51000/138493 queries. users per second: 9721.14</pre>"
      ],
      "text/plain": [
       "recommendations finished on 51000/138493 queries. users per second: 9721.14"
      ]
     },
     "metadata": {},
     "output_type": "display_data"
    },
    {
     "data": {
      "text/html": [
       "<pre>recommendations finished on 52000/138493 queries. users per second: 9704.56</pre>"
      ],
      "text/plain": [
       "recommendations finished on 52000/138493 queries. users per second: 9704.56"
      ]
     },
     "metadata": {},
     "output_type": "display_data"
    },
    {
     "data": {
      "text/html": [
       "<pre>recommendations finished on 53000/138493 queries. users per second: 9690.43</pre>"
      ],
      "text/plain": [
       "recommendations finished on 53000/138493 queries. users per second: 9690.43"
      ]
     },
     "metadata": {},
     "output_type": "display_data"
    },
    {
     "data": {
      "text/html": [
       "<pre>recommendations finished on 54000/138493 queries. users per second: 9678.6</pre>"
      ],
      "text/plain": [
       "recommendations finished on 54000/138493 queries. users per second: 9678.6"
      ]
     },
     "metadata": {},
     "output_type": "display_data"
    },
    {
     "data": {
      "text/html": [
       "<pre>recommendations finished on 55000/138493 queries. users per second: 9663.83</pre>"
      ],
      "text/plain": [
       "recommendations finished on 55000/138493 queries. users per second: 9663.83"
      ]
     },
     "metadata": {},
     "output_type": "display_data"
    },
    {
     "data": {
      "text/html": [
       "<pre>recommendations finished on 56000/138493 queries. users per second: 9656.29</pre>"
      ],
      "text/plain": [
       "recommendations finished on 56000/138493 queries. users per second: 9656.29"
      ]
     },
     "metadata": {},
     "output_type": "display_data"
    },
    {
     "data": {
      "text/html": [
       "<pre>recommendations finished on 57000/138493 queries. users per second: 9647.38</pre>"
      ],
      "text/plain": [
       "recommendations finished on 57000/138493 queries. users per second: 9647.38"
      ]
     },
     "metadata": {},
     "output_type": "display_data"
    },
    {
     "data": {
      "text/html": [
       "<pre>recommendations finished on 58000/138493 queries. users per second: 9650.03</pre>"
      ],
      "text/plain": [
       "recommendations finished on 58000/138493 queries. users per second: 9650.03"
      ]
     },
     "metadata": {},
     "output_type": "display_data"
    },
    {
     "data": {
      "text/html": [
       "<pre>recommendations finished on 59000/138493 queries. users per second: 9647.85</pre>"
      ],
      "text/plain": [
       "recommendations finished on 59000/138493 queries. users per second: 9647.85"
      ]
     },
     "metadata": {},
     "output_type": "display_data"
    },
    {
     "data": {
      "text/html": [
       "<pre>recommendations finished on 60000/138493 queries. users per second: 9638</pre>"
      ],
      "text/plain": [
       "recommendations finished on 60000/138493 queries. users per second: 9638"
      ]
     },
     "metadata": {},
     "output_type": "display_data"
    },
    {
     "data": {
      "text/html": [
       "<pre>recommendations finished on 61000/138493 queries. users per second: 9634.58</pre>"
      ],
      "text/plain": [
       "recommendations finished on 61000/138493 queries. users per second: 9634.58"
      ]
     },
     "metadata": {},
     "output_type": "display_data"
    },
    {
     "data": {
      "text/html": [
       "<pre>recommendations finished on 62000/138493 queries. users per second: 9631.27</pre>"
      ],
      "text/plain": [
       "recommendations finished on 62000/138493 queries. users per second: 9631.27"
      ]
     },
     "metadata": {},
     "output_type": "display_data"
    },
    {
     "data": {
      "text/html": [
       "<pre>recommendations finished on 63000/138493 queries. users per second: 9620.71</pre>"
      ],
      "text/plain": [
       "recommendations finished on 63000/138493 queries. users per second: 9620.71"
      ]
     },
     "metadata": {},
     "output_type": "display_data"
    },
    {
     "data": {
      "text/html": [
       "<pre>recommendations finished on 64000/138493 queries. users per second: 9614.84</pre>"
      ],
      "text/plain": [
       "recommendations finished on 64000/138493 queries. users per second: 9614.84"
      ]
     },
     "metadata": {},
     "output_type": "display_data"
    },
    {
     "data": {
      "text/html": [
       "<pre>recommendations finished on 65000/138493 queries. users per second: 9609.15</pre>"
      ],
      "text/plain": [
       "recommendations finished on 65000/138493 queries. users per second: 9609.15"
      ]
     },
     "metadata": {},
     "output_type": "display_data"
    },
    {
     "data": {
      "text/html": [
       "<pre>recommendations finished on 66000/138493 queries. users per second: 9599.45</pre>"
      ],
      "text/plain": [
       "recommendations finished on 66000/138493 queries. users per second: 9599.45"
      ]
     },
     "metadata": {},
     "output_type": "display_data"
    },
    {
     "data": {
      "text/html": [
       "<pre>recommendations finished on 67000/138493 queries. users per second: 9588.69</pre>"
      ],
      "text/plain": [
       "recommendations finished on 67000/138493 queries. users per second: 9588.69"
      ]
     },
     "metadata": {},
     "output_type": "display_data"
    },
    {
     "data": {
      "text/html": [
       "<pre>recommendations finished on 68000/138493 queries. users per second: 9590.43</pre>"
      ],
      "text/plain": [
       "recommendations finished on 68000/138493 queries. users per second: 9590.43"
      ]
     },
     "metadata": {},
     "output_type": "display_data"
    },
    {
     "data": {
      "text/html": [
       "<pre>recommendations finished on 69000/138493 queries. users per second: 9593.45</pre>"
      ],
      "text/plain": [
       "recommendations finished on 69000/138493 queries. users per second: 9593.45"
      ]
     },
     "metadata": {},
     "output_type": "display_data"
    },
    {
     "data": {
      "text/html": [
       "<pre>recommendations finished on 70000/138493 queries. users per second: 9595.06</pre>"
      ],
      "text/plain": [
       "recommendations finished on 70000/138493 queries. users per second: 9595.06"
      ]
     },
     "metadata": {},
     "output_type": "display_data"
    },
    {
     "data": {
      "text/html": [
       "<pre>recommendations finished on 71000/138493 queries. users per second: 9595.34</pre>"
      ],
      "text/plain": [
       "recommendations finished on 71000/138493 queries. users per second: 9595.34"
      ]
     },
     "metadata": {},
     "output_type": "display_data"
    },
    {
     "data": {
      "text/html": [
       "<pre>recommendations finished on 72000/138493 queries. users per second: 9594.33</pre>"
      ],
      "text/plain": [
       "recommendations finished on 72000/138493 queries. users per second: 9594.33"
      ]
     },
     "metadata": {},
     "output_type": "display_data"
    },
    {
     "data": {
      "text/html": [
       "<pre>recommendations finished on 73000/138493 queries. users per second: 9588.31</pre>"
      ],
      "text/plain": [
       "recommendations finished on 73000/138493 queries. users per second: 9588.31"
      ]
     },
     "metadata": {},
     "output_type": "display_data"
    },
    {
     "data": {
      "text/html": [
       "<pre>recommendations finished on 74000/138493 queries. users per second: 9584.94</pre>"
      ],
      "text/plain": [
       "recommendations finished on 74000/138493 queries. users per second: 9584.94"
      ]
     },
     "metadata": {},
     "output_type": "display_data"
    },
    {
     "data": {
      "text/html": [
       "<pre>recommendations finished on 75000/138493 queries. users per second: 9590.24</pre>"
      ],
      "text/plain": [
       "recommendations finished on 75000/138493 queries. users per second: 9590.24"
      ]
     },
     "metadata": {},
     "output_type": "display_data"
    },
    {
     "data": {
      "text/html": [
       "<pre>recommendations finished on 76000/138493 queries. users per second: 9572.45</pre>"
      ],
      "text/plain": [
       "recommendations finished on 76000/138493 queries. users per second: 9572.45"
      ]
     },
     "metadata": {},
     "output_type": "display_data"
    },
    {
     "data": {
      "text/html": [
       "<pre>recommendations finished on 77000/138493 queries. users per second: 9557.55</pre>"
      ],
      "text/plain": [
       "recommendations finished on 77000/138493 queries. users per second: 9557.55"
      ]
     },
     "metadata": {},
     "output_type": "display_data"
    },
    {
     "data": {
      "text/html": [
       "<pre>recommendations finished on 78000/138493 queries. users per second: 9553.59</pre>"
      ],
      "text/plain": [
       "recommendations finished on 78000/138493 queries. users per second: 9553.59"
      ]
     },
     "metadata": {},
     "output_type": "display_data"
    },
    {
     "data": {
      "text/html": [
       "<pre>recommendations finished on 79000/138493 queries. users per second: 9541.67</pre>"
      ],
      "text/plain": [
       "recommendations finished on 79000/138493 queries. users per second: 9541.67"
      ]
     },
     "metadata": {},
     "output_type": "display_data"
    },
    {
     "data": {
      "text/html": [
       "<pre>recommendations finished on 80000/138493 queries. users per second: 9527.8</pre>"
      ],
      "text/plain": [
       "recommendations finished on 80000/138493 queries. users per second: 9527.8"
      ]
     },
     "metadata": {},
     "output_type": "display_data"
    },
    {
     "data": {
      "text/html": [
       "<pre>recommendations finished on 81000/138493 queries. users per second: 9531.11</pre>"
      ],
      "text/plain": [
       "recommendations finished on 81000/138493 queries. users per second: 9531.11"
      ]
     },
     "metadata": {},
     "output_type": "display_data"
    },
    {
     "data": {
      "text/html": [
       "<pre>recommendations finished on 82000/138493 queries. users per second: 9534.34</pre>"
      ],
      "text/plain": [
       "recommendations finished on 82000/138493 queries. users per second: 9534.34"
      ]
     },
     "metadata": {},
     "output_type": "display_data"
    },
    {
     "data": {
      "text/html": [
       "<pre>recommendations finished on 83000/138493 queries. users per second: 9538.59</pre>"
      ],
      "text/plain": [
       "recommendations finished on 83000/138493 queries. users per second: 9538.59"
      ]
     },
     "metadata": {},
     "output_type": "display_data"
    },
    {
     "data": {
      "text/html": [
       "<pre>recommendations finished on 84000/138493 queries. users per second: 9540.57</pre>"
      ],
      "text/plain": [
       "recommendations finished on 84000/138493 queries. users per second: 9540.57"
      ]
     },
     "metadata": {},
     "output_type": "display_data"
    },
    {
     "data": {
      "text/html": [
       "<pre>recommendations finished on 85000/138493 queries. users per second: 9545.73</pre>"
      ],
      "text/plain": [
       "recommendations finished on 85000/138493 queries. users per second: 9545.73"
      ]
     },
     "metadata": {},
     "output_type": "display_data"
    },
    {
     "data": {
      "text/html": [
       "<pre>recommendations finished on 86000/138493 queries. users per second: 9547.58</pre>"
      ],
      "text/plain": [
       "recommendations finished on 86000/138493 queries. users per second: 9547.58"
      ]
     },
     "metadata": {},
     "output_type": "display_data"
    },
    {
     "data": {
      "text/html": [
       "<pre>recommendations finished on 87000/138493 queries. users per second: 9541.02</pre>"
      ],
      "text/plain": [
       "recommendations finished on 87000/138493 queries. users per second: 9541.02"
      ]
     },
     "metadata": {},
     "output_type": "display_data"
    },
    {
     "data": {
      "text/html": [
       "<pre>recommendations finished on 88000/138493 queries. users per second: 9522.23</pre>"
      ],
      "text/plain": [
       "recommendations finished on 88000/138493 queries. users per second: 9522.23"
      ]
     },
     "metadata": {},
     "output_type": "display_data"
    },
    {
     "data": {
      "text/html": [
       "<pre>recommendations finished on 89000/138493 queries. users per second: 9524.28</pre>"
      ],
      "text/plain": [
       "recommendations finished on 89000/138493 queries. users per second: 9524.28"
      ]
     },
     "metadata": {},
     "output_type": "display_data"
    },
    {
     "data": {
      "text/html": [
       "<pre>recommendations finished on 90000/138493 queries. users per second: 9526.29</pre>"
      ],
      "text/plain": [
       "recommendations finished on 90000/138493 queries. users per second: 9526.29"
      ]
     },
     "metadata": {},
     "output_type": "display_data"
    },
    {
     "data": {
      "text/html": [
       "<pre>recommendations finished on 91000/138493 queries. users per second: 9528.25</pre>"
      ],
      "text/plain": [
       "recommendations finished on 91000/138493 queries. users per second: 9528.25"
      ]
     },
     "metadata": {},
     "output_type": "display_data"
    },
    {
     "data": {
      "text/html": [
       "<pre>recommendations finished on 92000/138493 queries. users per second: 9527.21</pre>"
      ],
      "text/plain": [
       "recommendations finished on 92000/138493 queries. users per second: 9527.21"
      ]
     },
     "metadata": {},
     "output_type": "display_data"
    },
    {
     "data": {
      "text/html": [
       "<pre>recommendations finished on 93000/138493 queries. users per second: 9519.37</pre>"
      ],
      "text/plain": [
       "recommendations finished on 93000/138493 queries. users per second: 9519.37"
      ]
     },
     "metadata": {},
     "output_type": "display_data"
    },
    {
     "data": {
      "text/html": [
       "<pre>recommendations finished on 94000/138493 queries. users per second: 9515.55</pre>"
      ],
      "text/plain": [
       "recommendations finished on 94000/138493 queries. users per second: 9515.55"
      ]
     },
     "metadata": {},
     "output_type": "display_data"
    },
    {
     "data": {
      "text/html": [
       "<pre>recommendations finished on 95000/138493 queries. users per second: 9517.54</pre>"
      ],
      "text/plain": [
       "recommendations finished on 95000/138493 queries. users per second: 9517.54"
      ]
     },
     "metadata": {},
     "output_type": "display_data"
    },
    {
     "data": {
      "text/html": [
       "<pre>recommendations finished on 96000/138493 queries. users per second: 9521.38</pre>"
      ],
      "text/plain": [
       "recommendations finished on 96000/138493 queries. users per second: 9521.38"
      ]
     },
     "metadata": {},
     "output_type": "display_data"
    },
    {
     "data": {
      "text/html": [
       "<pre>recommendations finished on 97000/138493 queries. users per second: 9522.33</pre>"
      ],
      "text/plain": [
       "recommendations finished on 97000/138493 queries. users per second: 9522.33"
      ]
     },
     "metadata": {},
     "output_type": "display_data"
    },
    {
     "data": {
      "text/html": [
       "<pre>recommendations finished on 98000/138493 queries. users per second: 9524.19</pre>"
      ],
      "text/plain": [
       "recommendations finished on 98000/138493 queries. users per second: 9524.19"
      ]
     },
     "metadata": {},
     "output_type": "display_data"
    },
    {
     "data": {
      "text/html": [
       "<pre>recommendations finished on 99000/138493 queries. users per second: 9526.01</pre>"
      ],
      "text/plain": [
       "recommendations finished on 99000/138493 queries. users per second: 9526.01"
      ]
     },
     "metadata": {},
     "output_type": "display_data"
    },
    {
     "data": {
      "text/html": [
       "<pre>recommendations finished on 100000/138493 queries. users per second: 9529.62</pre>"
      ],
      "text/plain": [
       "recommendations finished on 100000/138493 queries. users per second: 9529.62"
      ]
     },
     "metadata": {},
     "output_type": "display_data"
    },
    {
     "data": {
      "text/html": [
       "<pre>recommendations finished on 101000/138493 queries. users per second: 9531.35</pre>"
      ],
      "text/plain": [
       "recommendations finished on 101000/138493 queries. users per second: 9531.35"
      ]
     },
     "metadata": {},
     "output_type": "display_data"
    },
    {
     "data": {
      "text/html": [
       "<pre>recommendations finished on 102000/138493 queries. users per second: 9533.95</pre>"
      ],
      "text/plain": [
       "recommendations finished on 102000/138493 queries. users per second: 9533.95"
      ]
     },
     "metadata": {},
     "output_type": "display_data"
    },
    {
     "data": {
      "text/html": [
       "<pre>recommendations finished on 103000/138493 queries. users per second: 9530.31</pre>"
      ],
      "text/plain": [
       "recommendations finished on 103000/138493 queries. users per second: 9530.31"
      ]
     },
     "metadata": {},
     "output_type": "display_data"
    },
    {
     "data": {
      "text/html": [
       "<pre>recommendations finished on 104000/138493 queries. users per second: 9529.37</pre>"
      ],
      "text/plain": [
       "recommendations finished on 104000/138493 queries. users per second: 9529.37"
      ]
     },
     "metadata": {},
     "output_type": "display_data"
    },
    {
     "data": {
      "text/html": [
       "<pre>recommendations finished on 105000/138493 queries. users per second: 9526.72</pre>"
      ],
      "text/plain": [
       "recommendations finished on 105000/138493 queries. users per second: 9526.72"
      ]
     },
     "metadata": {},
     "output_type": "display_data"
    },
    {
     "data": {
      "text/html": [
       "<pre>recommendations finished on 106000/138493 queries. users per second: 9526.69</pre>"
      ],
      "text/plain": [
       "recommendations finished on 106000/138493 queries. users per second: 9526.69"
      ]
     },
     "metadata": {},
     "output_type": "display_data"
    },
    {
     "data": {
      "text/html": [
       "<pre>recommendations finished on 107000/138493 queries. users per second: 9528.35</pre>"
      ],
      "text/plain": [
       "recommendations finished on 107000/138493 queries. users per second: 9528.35"
      ]
     },
     "metadata": {},
     "output_type": "display_data"
    },
    {
     "data": {
      "text/html": [
       "<pre>recommendations finished on 108000/138493 queries. users per second: 9532.51</pre>"
      ],
      "text/plain": [
       "recommendations finished on 108000/138493 queries. users per second: 9532.51"
      ]
     },
     "metadata": {},
     "output_type": "display_data"
    },
    {
     "data": {
      "text/html": [
       "<pre>recommendations finished on 109000/138493 queries. users per second: 9535.76</pre>"
      ],
      "text/plain": [
       "recommendations finished on 109000/138493 queries. users per second: 9535.76"
      ]
     },
     "metadata": {},
     "output_type": "display_data"
    },
    {
     "data": {
      "text/html": [
       "<pre>recommendations finished on 110000/138493 queries. users per second: 9538.96</pre>"
      ],
      "text/plain": [
       "recommendations finished on 110000/138493 queries. users per second: 9538.96"
      ]
     },
     "metadata": {},
     "output_type": "display_data"
    },
    {
     "data": {
      "text/html": [
       "<pre>recommendations finished on 111000/138493 queries. users per second: 9542.92</pre>"
      ],
      "text/plain": [
       "recommendations finished on 111000/138493 queries. users per second: 9542.92"
      ]
     },
     "metadata": {},
     "output_type": "display_data"
    },
    {
     "data": {
      "text/html": [
       "<pre>recommendations finished on 112000/138493 queries. users per second: 9545.18</pre>"
      ],
      "text/plain": [
       "recommendations finished on 112000/138493 queries. users per second: 9545.18"
      ]
     },
     "metadata": {},
     "output_type": "display_data"
    },
    {
     "data": {
      "text/html": [
       "<pre>recommendations finished on 113000/138493 queries. users per second: 9548.21</pre>"
      ],
      "text/plain": [
       "recommendations finished on 113000/138493 queries. users per second: 9548.21"
      ]
     },
     "metadata": {},
     "output_type": "display_data"
    },
    {
     "data": {
      "text/html": [
       "<pre>recommendations finished on 114000/138493 queries. users per second: 9551.19</pre>"
      ],
      "text/plain": [
       "recommendations finished on 114000/138493 queries. users per second: 9551.19"
      ]
     },
     "metadata": {},
     "output_type": "display_data"
    },
    {
     "data": {
      "text/html": [
       "<pre>recommendations finished on 115000/138493 queries. users per second: 9554.92</pre>"
      ],
      "text/plain": [
       "recommendations finished on 115000/138493 queries. users per second: 9554.92"
      ]
     },
     "metadata": {},
     "output_type": "display_data"
    },
    {
     "data": {
      "text/html": [
       "<pre>recommendations finished on 116000/138493 queries. users per second: 9558.58</pre>"
      ],
      "text/plain": [
       "recommendations finished on 116000/138493 queries. users per second: 9558.58"
      ]
     },
     "metadata": {},
     "output_type": "display_data"
    },
    {
     "data": {
      "text/html": [
       "<pre>recommendations finished on 117000/138493 queries. users per second: 9561.4</pre>"
      ],
      "text/plain": [
       "recommendations finished on 117000/138493 queries. users per second: 9561.4"
      ]
     },
     "metadata": {},
     "output_type": "display_data"
    },
    {
     "data": {
      "text/html": [
       "<pre>recommendations finished on 118000/138493 queries. users per second: 9564.18</pre>"
      ],
      "text/plain": [
       "recommendations finished on 118000/138493 queries. users per second: 9564.18"
      ]
     },
     "metadata": {},
     "output_type": "display_data"
    },
    {
     "data": {
      "text/html": [
       "<pre>recommendations finished on 119000/138493 queries. users per second: 9567.68</pre>"
      ],
      "text/plain": [
       "recommendations finished on 119000/138493 queries. users per second: 9567.68"
      ]
     },
     "metadata": {},
     "output_type": "display_data"
    },
    {
     "data": {
      "text/html": [
       "<pre>recommendations finished on 120000/138493 queries. users per second: 9568.83</pre>"
      ],
      "text/plain": [
       "recommendations finished on 120000/138493 queries. users per second: 9568.83"
      ]
     },
     "metadata": {},
     "output_type": "display_data"
    },
    {
     "data": {
      "text/html": [
       "<pre>recommendations finished on 121000/138493 queries. users per second: 9569.97</pre>"
      ],
      "text/plain": [
       "recommendations finished on 121000/138493 queries. users per second: 9569.97"
      ]
     },
     "metadata": {},
     "output_type": "display_data"
    },
    {
     "data": {
      "text/html": [
       "<pre>recommendations finished on 122000/138493 queries. users per second: 9571.83</pre>"
      ],
      "text/plain": [
       "recommendations finished on 122000/138493 queries. users per second: 9571.83"
      ]
     },
     "metadata": {},
     "output_type": "display_data"
    },
    {
     "data": {
      "text/html": [
       "<pre>recommendations finished on 123000/138493 queries. users per second: 9575.16</pre>"
      ],
      "text/plain": [
       "recommendations finished on 123000/138493 queries. users per second: 9575.16"
      ]
     },
     "metadata": {},
     "output_type": "display_data"
    },
    {
     "data": {
      "text/html": [
       "<pre>recommendations finished on 124000/138493 queries. users per second: 9576.22</pre>"
      ],
      "text/plain": [
       "recommendations finished on 124000/138493 queries. users per second: 9576.22"
      ]
     },
     "metadata": {},
     "output_type": "display_data"
    },
    {
     "data": {
      "text/html": [
       "<pre>recommendations finished on 125000/138493 queries. users per second: 9561.88</pre>"
      ],
      "text/plain": [
       "recommendations finished on 125000/138493 queries. users per second: 9561.88"
      ]
     },
     "metadata": {},
     "output_type": "display_data"
    },
    {
     "data": {
      "text/html": [
       "<pre>recommendations finished on 126000/138493 queries. users per second: 9552.87</pre>"
      ],
      "text/plain": [
       "recommendations finished on 126000/138493 queries. users per second: 9552.87"
      ]
     },
     "metadata": {},
     "output_type": "display_data"
    },
    {
     "data": {
      "text/html": [
       "<pre>recommendations finished on 127000/138493 queries. users per second: 9543.3</pre>"
      ],
      "text/plain": [
       "recommendations finished on 127000/138493 queries. users per second: 9543.3"
      ]
     },
     "metadata": {},
     "output_type": "display_data"
    },
    {
     "data": {
      "text/html": [
       "<pre>recommendations finished on 128000/138493 queries. users per second: 9534.62</pre>"
      ],
      "text/plain": [
       "recommendations finished on 128000/138493 queries. users per second: 9534.62"
      ]
     },
     "metadata": {},
     "output_type": "display_data"
    },
    {
     "data": {
      "text/html": [
       "<pre>recommendations finished on 129000/138493 queries. users per second: 9532.41</pre>"
      ],
      "text/plain": [
       "recommendations finished on 129000/138493 queries. users per second: 9532.41"
      ]
     },
     "metadata": {},
     "output_type": "display_data"
    },
    {
     "data": {
      "text/html": [
       "<pre>recommendations finished on 130000/138493 queries. users per second: 9530.25</pre>"
      ],
      "text/plain": [
       "recommendations finished on 130000/138493 queries. users per second: 9530.25"
      ]
     },
     "metadata": {},
     "output_type": "display_data"
    },
    {
     "data": {
      "text/html": [
       "<pre>recommendations finished on 131000/138493 queries. users per second: 9531.58</pre>"
      ],
      "text/plain": [
       "recommendations finished on 131000/138493 queries. users per second: 9531.58"
      ]
     },
     "metadata": {},
     "output_type": "display_data"
    },
    {
     "data": {
      "text/html": [
       "<pre>recommendations finished on 132000/138493 queries. users per second: 9534.27</pre>"
      ],
      "text/plain": [
       "recommendations finished on 132000/138493 queries. users per second: 9534.27"
      ]
     },
     "metadata": {},
     "output_type": "display_data"
    },
    {
     "data": {
      "text/html": [
       "<pre>recommendations finished on 133000/138493 queries. users per second: 9532.82</pre>"
      ],
      "text/plain": [
       "recommendations finished on 133000/138493 queries. users per second: 9532.82"
      ]
     },
     "metadata": {},
     "output_type": "display_data"
    },
    {
     "data": {
      "text/html": [
       "<pre>recommendations finished on 134000/138493 queries. users per second: 9519.21</pre>"
      ],
      "text/plain": [
       "recommendations finished on 134000/138493 queries. users per second: 9519.21"
      ]
     },
     "metadata": {},
     "output_type": "display_data"
    },
    {
     "data": {
      "text/html": [
       "<pre>recommendations finished on 135000/138493 queries. users per second: 9455.23</pre>"
      ],
      "text/plain": [
       "recommendations finished on 135000/138493 queries. users per second: 9455.23"
      ]
     },
     "metadata": {},
     "output_type": "display_data"
    },
    {
     "data": {
      "text/html": [
       "<pre>recommendations finished on 136000/138493 queries. users per second: 9394.32</pre>"
      ],
      "text/plain": [
       "recommendations finished on 136000/138493 queries. users per second: 9394.32"
      ]
     },
     "metadata": {},
     "output_type": "display_data"
    },
    {
     "data": {
      "text/html": [
       "<pre>recommendations finished on 137000/138493 queries. users per second: 9336.34</pre>"
      ],
      "text/plain": [
       "recommendations finished on 137000/138493 queries. users per second: 9336.34"
      ]
     },
     "metadata": {},
     "output_type": "display_data"
    },
    {
     "data": {
      "text/html": [
       "<pre>recommendations finished on 138000/138493 queries. users per second: 9249.42</pre>"
      ],
      "text/plain": [
       "recommendations finished on 138000/138493 queries. users per second: 9249.42"
      ]
     },
     "metadata": {},
     "output_type": "display_data"
    }
   ],
   "source": [
    "results = model.recommend()"
   ]
  },
  {
   "cell_type": "code",
   "execution_count": 12,
   "metadata": {
    "collapsed": false
   },
   "outputs": [
    {
     "data": {
      "text/html": [
       "<div style=\"max-height:1000px;max-width:1500px;overflow:auto;\"><table frame=\"box\" rules=\"cols\">\n",
       "    <tr>\n",
       "        <th style=\"padding-left: 1em; padding-right: 1em; text-align: center\">userId</th>\n",
       "        <th style=\"padding-left: 1em; padding-right: 1em; text-align: center\">movieId</th>\n",
       "        <th style=\"padding-left: 1em; padding-right: 1em; text-align: center\">score</th>\n",
       "        <th style=\"padding-left: 1em; padding-right: 1em; text-align: center\">rank</th>\n",
       "    </tr>\n",
       "    <tr>\n",
       "        <td style=\"padding-left: 1em; padding-right: 1em; text-align: center; vertical-align: top\">1</td>\n",
       "        <td style=\"padding-left: 1em; padding-right: 1em; text-align: center; vertical-align: top\">1682</td>\n",
       "        <td style=\"padding-left: 1em; padding-right: 1em; text-align: center; vertical-align: top\">0.0900809025764</td>\n",
       "        <td style=\"padding-left: 1em; padding-right: 1em; text-align: center; vertical-align: top\">1</td>\n",
       "    </tr>\n",
       "    <tr>\n",
       "        <td style=\"padding-left: 1em; padding-right: 1em; text-align: center; vertical-align: top\">1</td>\n",
       "        <td style=\"padding-left: 1em; padding-right: 1em; text-align: center; vertical-align: top\">2115</td>\n",
       "        <td style=\"padding-left: 1em; padding-right: 1em; text-align: center; vertical-align: top\">0.0870407806124</td>\n",
       "        <td style=\"padding-left: 1em; padding-right: 1em; text-align: center; vertical-align: top\">2</td>\n",
       "    </tr>\n",
       "    <tr>\n",
       "        <td style=\"padding-left: 1em; padding-right: 1em; text-align: center; vertical-align: top\">1</td>\n",
       "        <td style=\"padding-left: 1em; padding-right: 1em; text-align: center; vertical-align: top\">3578</td>\n",
       "        <td style=\"padding-left: 1em; padding-right: 1em; text-align: center; vertical-align: top\">0.0858814576694</td>\n",
       "        <td style=\"padding-left: 1em; padding-right: 1em; text-align: center; vertical-align: top\">3</td>\n",
       "    </tr>\n",
       "    <tr>\n",
       "        <td style=\"padding-left: 1em; padding-right: 1em; text-align: center; vertical-align: top\">1</td>\n",
       "        <td style=\"padding-left: 1em; padding-right: 1em; text-align: center; vertical-align: top\">1265</td>\n",
       "        <td style=\"padding-left: 1em; padding-right: 1em; text-align: center; vertical-align: top\">0.0857377730097</td>\n",
       "        <td style=\"padding-left: 1em; padding-right: 1em; text-align: center; vertical-align: top\">4</td>\n",
       "    </tr>\n",
       "    <tr>\n",
       "        <td style=\"padding-left: 1em; padding-right: 1em; text-align: center; vertical-align: top\">1</td>\n",
       "        <td style=\"padding-left: 1em; padding-right: 1em; text-align: center; vertical-align: top\">1580</td>\n",
       "        <td style=\"padding-left: 1em; padding-right: 1em; text-align: center; vertical-align: top\">0.0852166390419</td>\n",
       "        <td style=\"padding-left: 1em; padding-right: 1em; text-align: center; vertical-align: top\">5</td>\n",
       "    </tr>\n",
       "    <tr>\n",
       "        <td style=\"padding-left: 1em; padding-right: 1em; text-align: center; vertical-align: top\">1</td>\n",
       "        <td style=\"padding-left: 1em; padding-right: 1em; text-align: center; vertical-align: top\">2571</td>\n",
       "        <td style=\"padding-left: 1em; padding-right: 1em; text-align: center; vertical-align: top\">0.0840726310866</td>\n",
       "        <td style=\"padding-left: 1em; padding-right: 1em; text-align: center; vertical-align: top\">6</td>\n",
       "    </tr>\n",
       "    <tr>\n",
       "        <td style=\"padding-left: 1em; padding-right: 1em; text-align: center; vertical-align: top\">1</td>\n",
       "        <td style=\"padding-left: 1em; padding-right: 1em; text-align: center; vertical-align: top\">1527</td>\n",
       "        <td style=\"padding-left: 1em; padding-right: 1em; text-align: center; vertical-align: top\">0.0818555048534</td>\n",
       "        <td style=\"padding-left: 1em; padding-right: 1em; text-align: center; vertical-align: top\">7</td>\n",
       "    </tr>\n",
       "    <tr>\n",
       "        <td style=\"padding-left: 1em; padding-right: 1em; text-align: center; vertical-align: top\">1</td>\n",
       "        <td style=\"padding-left: 1em; padding-right: 1em; text-align: center; vertical-align: top\">1270</td>\n",
       "        <td style=\"padding-left: 1em; padding-right: 1em; text-align: center; vertical-align: top\">0.0811249106271</td>\n",
       "        <td style=\"padding-left: 1em; padding-right: 1em; text-align: center; vertical-align: top\">8</td>\n",
       "    </tr>\n",
       "    <tr>\n",
       "        <td style=\"padding-left: 1em; padding-right: 1em; text-align: center; vertical-align: top\">1</td>\n",
       "        <td style=\"padding-left: 1em; padding-right: 1em; text-align: center; vertical-align: top\">3793</td>\n",
       "        <td style=\"padding-left: 1em; padding-right: 1em; text-align: center; vertical-align: top\">0.0746987121446</td>\n",
       "        <td style=\"padding-left: 1em; padding-right: 1em; text-align: center; vertical-align: top\">9</td>\n",
       "    </tr>\n",
       "    <tr>\n",
       "        <td style=\"padding-left: 1em; padding-right: 1em; text-align: center; vertical-align: top\">1</td>\n",
       "        <td style=\"padding-left: 1em; padding-right: 1em; text-align: center; vertical-align: top\">2028</td>\n",
       "        <td style=\"padding-left: 1em; padding-right: 1em; text-align: center; vertical-align: top\">0.0722797254154</td>\n",
       "        <td style=\"padding-left: 1em; padding-right: 1em; text-align: center; vertical-align: top\">10</td>\n",
       "    </tr>\n",
       "</table>\n",
       "[1384930 rows x 4 columns]<br/>Note: Only the head of the SFrame is printed.<br/>You can use print_rows(num_rows=m, num_columns=n) to print more rows and columns.\n",
       "</div>"
      ],
      "text/plain": [
       "Columns:\n",
       "\tuserId\tint\n",
       "\tmovieId\tint\n",
       "\tscore\tfloat\n",
       "\trank\tint\n",
       "\n",
       "Rows: 1384930\n",
       "\n",
       "Data:\n",
       "+--------+---------+-----------------+------+\n",
       "| userId | movieId |      score      | rank |\n",
       "+--------+---------+-----------------+------+\n",
       "|   1    |   1682  | 0.0900809025764 |  1   |\n",
       "|   1    |   2115  | 0.0870407806124 |  2   |\n",
       "|   1    |   3578  | 0.0858814576694 |  3   |\n",
       "|   1    |   1265  | 0.0857377730097 |  4   |\n",
       "|   1    |   1580  | 0.0852166390419 |  5   |\n",
       "|   1    |   2571  | 0.0840726310866 |  6   |\n",
       "|   1    |   1527  | 0.0818555048534 |  7   |\n",
       "|   1    |   1270  | 0.0811249106271 |  8   |\n",
       "|   1    |   3793  | 0.0746987121446 |  9   |\n",
       "|   1    |   2028  | 0.0722797254154 |  10  |\n",
       "+--------+---------+-----------------+------+\n",
       "[1384930 rows x 4 columns]\n",
       "Note: Only the head of the SFrame is printed.\n",
       "You can use print_rows(num_rows=m, num_columns=n) to print more rows and columns."
      ]
     },
     "execution_count": 12,
     "metadata": {},
     "output_type": "execute_result"
    }
   ],
   "source": [
    "results"
   ]
  }
 ],
 "metadata": {
  "kernelspec": {
   "display_name": "Python 2",
   "language": "python",
   "name": "python2"
  },
  "language_info": {
   "codemirror_mode": {
    "name": "ipython",
    "version": 2
   },
   "file_extension": ".py",
   "mimetype": "text/x-python",
   "name": "python",
   "nbconvert_exporter": "python",
   "pygments_lexer": "ipython2",
   "version": "2.7.11"
  }
 },
 "nbformat": 4,
 "nbformat_minor": 0
}
