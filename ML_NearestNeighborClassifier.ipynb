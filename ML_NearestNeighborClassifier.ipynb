{
 "cells": [
  {
   "cell_type": "code",
   "execution_count": 4,
   "metadata": {
    "collapsed": true
   },
   "outputs": [],
   "source": [
    "import graphlab as gl"
   ]
  },
  {
   "cell_type": "code",
   "execution_count": 5,
   "metadata": {
    "collapsed": true
   },
   "outputs": [],
   "source": [
    "import os"
   ]
  },
  {
   "cell_type": "code",
   "execution_count": 6,
   "metadata": {
    "collapsed": true
   },
   "outputs": [],
   "source": [
    "filename = 'yelp-data.csv'"
   ]
  },
  {
   "cell_type": "code",
   "execution_count": 7,
   "metadata": {
    "collapsed": false
   },
   "outputs": [
    {
     "name": "stderr",
     "output_type": "stream",
     "text": [
      "[INFO] graphlab.cython.cy_server: GraphLab Create v2.1 started. Logging: C:\\Users\\User\\AppData\\Local\\Temp\\graphlab_server_1516366826.log.0\n"
     ]
    },
    {
     "name": "stdout",
     "output_type": "stream",
     "text": [
      "This non-commercial license of GraphLab Create for academic use is assigned to padhigayatri.official@gmail.com and will expire on January 02, 2019.\n"
     ]
    },
    {
     "data": {
      "text/html": [
       "<pre>Downloading https://static.turi.com/datasets/regression/yelp-data.csv to C:/Users/User/AppData/Local/Temp/graphlab-User/2436/3fb64d80-31b1-4a43-a4ef-25df4ef8f453.csv</pre>"
      ],
      "text/plain": [
       "Downloading https://static.turi.com/datasets/regression/yelp-data.csv to C:/Users/User/AppData/Local/Temp/graphlab-User/2436/3fb64d80-31b1-4a43-a4ef-25df4ef8f453.csv"
      ]
     },
     "metadata": {},
     "output_type": "display_data"
    },
    {
     "data": {
      "text/html": [
       "<pre>Finished parsing file https://static.turi.com/datasets/regression/yelp-data.csv</pre>"
      ],
      "text/plain": [
       "Finished parsing file https://static.turi.com/datasets/regression/yelp-data.csv"
      ]
     },
     "metadata": {},
     "output_type": "display_data"
    },
    {
     "data": {
      "text/html": [
       "<pre>Parsing completed. Parsed 100 lines in 0.585034 secs.</pre>"
      ],
      "text/plain": [
       "Parsing completed. Parsed 100 lines in 0.585034 secs."
      ]
     },
     "metadata": {},
     "output_type": "display_data"
    },
    {
     "name": "stdout",
     "output_type": "stream",
     "text": [
      "------------------------------------------------------\n",
      "Inferred types from first 100 line(s) of file as \n",
      "column_type_hints=[str,str,str,long,str,str,str,dict,long,long,long,list,str,str,float,float,str,long,long,float,str,str,float,str,long,str,long,long,long,dict]\n",
      "If parsing fails due to incorrect types, you can correct\n",
      "the inferred type list above and pass it to read_csv in\n",
      "the column_type_hints argument\n",
      "------------------------------------------------------\n"
     ]
    },
    {
     "data": {
      "text/html": [
       "<pre>Read 47948 lines. Lines per second: 62185.8</pre>"
      ],
      "text/plain": [
       "Read 47948 lines. Lines per second: 62185.8"
      ]
     },
     "metadata": {},
     "output_type": "display_data"
    },
    {
     "data": {
      "text/html": [
       "<pre>Finished parsing file https://static.turi.com/datasets/regression/yelp-data.csv</pre>"
      ],
      "text/plain": [
       "Finished parsing file https://static.turi.com/datasets/regression/yelp-data.csv"
      ]
     },
     "metadata": {},
     "output_type": "display_data"
    },
    {
     "data": {
      "text/html": [
       "<pre>Parsing completed. Parsed 215879 lines in 2.42114 secs.</pre>"
      ],
      "text/plain": [
       "Parsing completed. Parsed 215879 lines in 2.42114 secs."
      ]
     },
     "metadata": {},
     "output_type": "display_data"
    }
   ],
   "source": [
    "if os.path.exists(filename):\n",
    "    data = gl.SFrame.read_csv(filename)\n",
    "else:\n",
    "    data =  gl.SFrame('https://static.turi.com/datasets/regression/{}'.format(filename))\n",
    "    data.save(filename, format='csv')"
   ]
  },
  {
   "cell_type": "code",
   "execution_count": 8,
   "metadata": {
    "collapsed": true
   },
   "outputs": [],
   "source": [
    "train_data, test_data = data.random_split(0.9)\n"
   ]
  },
  {
   "cell_type": "code",
   "execution_count": 9,
   "metadata": {
    "collapsed": true
   },
   "outputs": [],
   "source": [
    "numeric_features = ['user_avg_stars', \n",
    "                    'business_avg_stars', \n",
    "                    'user_review_count', \n",
    "                    'business_review_count']"
   ]
  },
  {
   "cell_type": "code",
   "execution_count": 10,
   "metadata": {
    "collapsed": true
   },
   "outputs": [],
   "source": [
    "for ftr in numeric_features:\n",
    "    mean = train_data[ftr].mean()\n",
    "    stdev = train_data[ftr].std()\n",
    "    train_data[ftr] = (train_data[ftr] - mean) / stdev\n",
    "    test_data[ftr] = (test_data[ftr] - mean) / stdev"
   ]
  },
  {
   "cell_type": "code",
   "execution_count": 11,
   "metadata": {
    "collapsed": false
   },
   "outputs": [
    {
     "data": {
      "text/html": [
       "<pre>Starting ball tree nearest neighbors model training.</pre>"
      ],
      "text/plain": [
       "Starting ball tree nearest neighbors model training."
      ]
     },
     "metadata": {},
     "output_type": "display_data"
    },
    {
     "data": {
      "text/html": [
       "<pre>+------------+--------------+</pre>"
      ],
      "text/plain": [
       "+------------+--------------+"
      ]
     },
     "metadata": {},
     "output_type": "display_data"
    },
    {
     "data": {
      "text/html": [
       "<pre>| Tree level | Elapsed Time |</pre>"
      ],
      "text/plain": [
       "| Tree level | Elapsed Time |"
      ]
     },
     "metadata": {},
     "output_type": "display_data"
    },
    {
     "data": {
      "text/html": [
       "<pre>+------------+--------------+</pre>"
      ],
      "text/plain": [
       "+------------+--------------+"
      ]
     },
     "metadata": {},
     "output_type": "display_data"
    },
    {
     "data": {
      "text/html": [
       "<pre>| 0          | 53.003ms     |</pre>"
      ],
      "text/plain": [
       "| 0          | 53.003ms     |"
      ]
     },
     "metadata": {},
     "output_type": "display_data"
    },
    {
     "data": {
      "text/html": [
       "<pre>| 1          | 90.005ms     |</pre>"
      ],
      "text/plain": [
       "| 1          | 90.005ms     |"
      ]
     },
     "metadata": {},
     "output_type": "display_data"
    },
    {
     "data": {
      "text/html": [
       "<pre>| 2          | 126.007ms    |</pre>"
      ],
      "text/plain": [
       "| 2          | 126.007ms    |"
      ]
     },
     "metadata": {},
     "output_type": "display_data"
    },
    {
     "data": {
      "text/html": [
       "<pre>| 3          | 162.009ms    |</pre>"
      ],
      "text/plain": [
       "| 3          | 162.009ms    |"
      ]
     },
     "metadata": {},
     "output_type": "display_data"
    },
    {
     "data": {
      "text/html": [
       "<pre>| 4          | 198.011ms    |</pre>"
      ],
      "text/plain": [
       "| 4          | 198.011ms    |"
      ]
     },
     "metadata": {},
     "output_type": "display_data"
    },
    {
     "data": {
      "text/html": [
       "<pre>| 5          | 238.013ms    |</pre>"
      ],
      "text/plain": [
       "| 5          | 238.013ms    |"
      ]
     },
     "metadata": {},
     "output_type": "display_data"
    },
    {
     "data": {
      "text/html": [
       "<pre>| 6          | 274.015ms    |</pre>"
      ],
      "text/plain": [
       "| 6          | 274.015ms    |"
      ]
     },
     "metadata": {},
     "output_type": "display_data"
    },
    {
     "data": {
      "text/html": [
       "<pre>| 7          | 311.017ms    |</pre>"
      ],
      "text/plain": [
       "| 7          | 311.017ms    |"
      ]
     },
     "metadata": {},
     "output_type": "display_data"
    },
    {
     "data": {
      "text/html": [
       "<pre>| 8          | 329.018ms    |</pre>"
      ],
      "text/plain": [
       "| 8          | 329.018ms    |"
      ]
     },
     "metadata": {},
     "output_type": "display_data"
    },
    {
     "data": {
      "text/html": [
       "<pre>+------------+--------------+</pre>"
      ],
      "text/plain": [
       "+------------+--------------+"
      ]
     },
     "metadata": {},
     "output_type": "display_data"
    }
   ],
   "source": [
    "m = gl.nearest_neighbor_classifier.create(train_data, target='stars',\n",
    "                                          features=numeric_features)"
   ]
  },
  {
   "cell_type": "code",
   "execution_count": 12,
   "metadata": {
    "collapsed": false
   },
   "outputs": [
    {
     "data": {
      "text/html": [
       "<pre>+--------------+-------------+--------------+</pre>"
      ],
      "text/plain": [
       "+--------------+-------------+--------------+"
      ]
     },
     "metadata": {},
     "output_type": "display_data"
    },
    {
     "data": {
      "text/html": [
       "<pre>| Query points | % Complete. | Elapsed Time |</pre>"
      ],
      "text/plain": [
       "| Query points | % Complete. | Elapsed Time |"
      ]
     },
     "metadata": {},
     "output_type": "display_data"
    },
    {
     "data": {
      "text/html": [
       "<pre>+--------------+-------------+--------------+</pre>"
      ],
      "text/plain": [
       "+--------------+-------------+--------------+"
      ]
     },
     "metadata": {},
     "output_type": "display_data"
    },
    {
     "data": {
      "text/html": [
       "<pre>| 1            | 0           | 91.005ms     |</pre>"
      ],
      "text/plain": [
       "| 1            | 0           | 91.005ms     |"
      ]
     },
     "metadata": {},
     "output_type": "display_data"
    },
    {
     "data": {
      "text/html": [
       "<pre>| 81           | 0.25        | 1.10s        |</pre>"
      ],
      "text/plain": [
       "| 81           | 0.25        | 1.10s        |"
      ]
     },
     "metadata": {},
     "output_type": "display_data"
    },
    {
     "data": {
      "text/html": [
       "<pre>| 166          | 0.75        | 2.09s        |</pre>"
      ],
      "text/plain": [
       "| 166          | 0.75        | 2.09s        |"
      ]
     },
     "metadata": {},
     "output_type": "display_data"
    },
    {
     "data": {
      "text/html": [
       "<pre>| 255          | 1           | 3.09s        |</pre>"
      ],
      "text/plain": [
       "| 255          | 1           | 3.09s        |"
      ]
     },
     "metadata": {},
     "output_type": "display_data"
    },
    {
     "data": {
      "text/html": [
       "<pre>| 375          | 1.5         | 4.10s        |</pre>"
      ],
      "text/plain": [
       "| 375          | 1.5         | 4.10s        |"
      ]
     },
     "metadata": {},
     "output_type": "display_data"
    },
    {
     "data": {
      "text/html": [
       "<pre>| 491          | 2.25        | 5.10s        |</pre>"
      ],
      "text/plain": [
       "| 491          | 2.25        | 5.10s        |"
      ]
     },
     "metadata": {},
     "output_type": "display_data"
    },
    {
     "data": {
      "text/html": [
       "<pre>| 602          | 2.75        | 6.09s        |</pre>"
      ],
      "text/plain": [
       "| 602          | 2.75        | 6.09s        |"
      ]
     },
     "metadata": {},
     "output_type": "display_data"
    },
    {
     "data": {
      "text/html": [
       "<pre>| 715          | 3.25        | 7.09s        |</pre>"
      ],
      "text/plain": [
       "| 715          | 3.25        | 7.09s        |"
      ]
     },
     "metadata": {},
     "output_type": "display_data"
    },
    {
     "data": {
      "text/html": [
       "<pre>| 829          | 3.75        | 8.10s        |</pre>"
      ],
      "text/plain": [
       "| 829          | 3.75        | 8.10s        |"
      ]
     },
     "metadata": {},
     "output_type": "display_data"
    },
    {
     "data": {
      "text/html": [
       "<pre>| 934          | 4.25        | 9.09s        |</pre>"
      ],
      "text/plain": [
       "| 934          | 4.25        | 9.09s        |"
      ]
     },
     "metadata": {},
     "output_type": "display_data"
    },
    {
     "data": {
      "text/html": [
       "<pre>| 1012         | 4.5         | 10.09s       |</pre>"
      ],
      "text/plain": [
       "| 1012         | 4.5         | 10.09s       |"
      ]
     },
     "metadata": {},
     "output_type": "display_data"
    },
    {
     "data": {
      "text/html": [
       "<pre>| 1116         | 5           | 11.09s       |</pre>"
      ],
      "text/plain": [
       "| 1116         | 5           | 11.09s       |"
      ]
     },
     "metadata": {},
     "output_type": "display_data"
    },
    {
     "data": {
      "text/html": [
       "<pre>| 1215         | 5.5         | 12.09s       |</pre>"
      ],
      "text/plain": [
       "| 1215         | 5.5         | 12.09s       |"
      ]
     },
     "metadata": {},
     "output_type": "display_data"
    },
    {
     "data": {
      "text/html": [
       "<pre>| 1311         | 6           | 13.09s       |</pre>"
      ],
      "text/plain": [
       "| 1311         | 6           | 13.09s       |"
      ]
     },
     "metadata": {},
     "output_type": "display_data"
    },
    {
     "data": {
      "text/html": [
       "<pre>| 1420         | 6.5         | 14.09s       |</pre>"
      ],
      "text/plain": [
       "| 1420         | 6.5         | 14.09s       |"
      ]
     },
     "metadata": {},
     "output_type": "display_data"
    },
    {
     "data": {
      "text/html": [
       "<pre>| 1525         | 6.75        | 15.09s       |</pre>"
      ],
      "text/plain": [
       "| 1525         | 6.75        | 15.09s       |"
      ]
     },
     "metadata": {},
     "output_type": "display_data"
    },
    {
     "data": {
      "text/html": [
       "<pre>| 1632         | 7.25        | 16.09s       |</pre>"
      ],
      "text/plain": [
       "| 1632         | 7.25        | 16.09s       |"
      ]
     },
     "metadata": {},
     "output_type": "display_data"
    },
    {
     "data": {
      "text/html": [
       "<pre>| 1715         | 7.75        | 17.10s       |</pre>"
      ],
      "text/plain": [
       "| 1715         | 7.75        | 17.10s       |"
      ]
     },
     "metadata": {},
     "output_type": "display_data"
    },
    {
     "data": {
      "text/html": [
       "<pre>| 1810         | 8.25        | 18.09s       |</pre>"
      ],
      "text/plain": [
       "| 1810         | 8.25        | 18.09s       |"
      ]
     },
     "metadata": {},
     "output_type": "display_data"
    },
    {
     "data": {
      "text/html": [
       "<pre>| 1908         | 8.5         | 19.10s       |</pre>"
      ],
      "text/plain": [
       "| 1908         | 8.5         | 19.10s       |"
      ]
     },
     "metadata": {},
     "output_type": "display_data"
    },
    {
     "data": {
      "text/html": [
       "<pre>| 2010         | 9           | 20.10s       |</pre>"
      ],
      "text/plain": [
       "| 2010         | 9           | 20.10s       |"
      ]
     },
     "metadata": {},
     "output_type": "display_data"
    },
    {
     "data": {
      "text/html": [
       "<pre>| 2098         | 9.5         | 21.08s       |</pre>"
      ],
      "text/plain": [
       "| 2098         | 9.5         | 21.08s       |"
      ]
     },
     "metadata": {},
     "output_type": "display_data"
    },
    {
     "data": {
      "text/html": [
       "<pre>| 2195         | 10          | 22.09s       |</pre>"
      ],
      "text/plain": [
       "| 2195         | 10          | 22.09s       |"
      ]
     },
     "metadata": {},
     "output_type": "display_data"
    },
    {
     "data": {
      "text/html": [
       "<pre>| 2287         | 10.25       | 23.09s       |</pre>"
      ],
      "text/plain": [
       "| 2287         | 10.25       | 23.09s       |"
      ]
     },
     "metadata": {},
     "output_type": "display_data"
    },
    {
     "data": {
      "text/html": [
       "<pre>| 2387         | 10.75       | 24.08s       |</pre>"
      ],
      "text/plain": [
       "| 2387         | 10.75       | 24.08s       |"
      ]
     },
     "metadata": {},
     "output_type": "display_data"
    },
    {
     "data": {
      "text/html": [
       "<pre>| 2491         | 11.25       | 25.11s       |</pre>"
      ],
      "text/plain": [
       "| 2491         | 11.25       | 25.11s       |"
      ]
     },
     "metadata": {},
     "output_type": "display_data"
    },
    {
     "data": {
      "text/html": [
       "<pre>| 2597         | 11.75       | 26.09s       |</pre>"
      ],
      "text/plain": [
       "| 2597         | 11.75       | 26.09s       |"
      ]
     },
     "metadata": {},
     "output_type": "display_data"
    },
    {
     "data": {
      "text/html": [
       "<pre>| 2703         | 12.25       | 27.10s       |</pre>"
      ],
      "text/plain": [
       "| 2703         | 12.25       | 27.10s       |"
      ]
     },
     "metadata": {},
     "output_type": "display_data"
    },
    {
     "data": {
      "text/html": [
       "<pre>| 2805         | 12.75       | 28.08s       |</pre>"
      ],
      "text/plain": [
       "| 2805         | 12.75       | 28.08s       |"
      ]
     },
     "metadata": {},
     "output_type": "display_data"
    },
    {
     "data": {
      "text/html": [
       "<pre>| 2915         | 13.25       | 29.09s       |</pre>"
      ],
      "text/plain": [
       "| 2915         | 13.25       | 29.09s       |"
      ]
     },
     "metadata": {},
     "output_type": "display_data"
    },
    {
     "data": {
      "text/html": [
       "<pre>| 3036         | 13.75       | 30.09s       |</pre>"
      ],
      "text/plain": [
       "| 3036         | 13.75       | 30.09s       |"
      ]
     },
     "metadata": {},
     "output_type": "display_data"
    },
    {
     "data": {
      "text/html": [
       "<pre>| 3135         | 14.25       | 31.10s       |</pre>"
      ],
      "text/plain": [
       "| 3135         | 14.25       | 31.10s       |"
      ]
     },
     "metadata": {},
     "output_type": "display_data"
    },
    {
     "data": {
      "text/html": [
       "<pre>| 3224         | 14.75       | 32.08s       |</pre>"
      ],
      "text/plain": [
       "| 3224         | 14.75       | 32.08s       |"
      ]
     },
     "metadata": {},
     "output_type": "display_data"
    },
    {
     "data": {
      "text/html": [
       "<pre>| 3333         | 15.25       | 33.08s       |</pre>"
      ],
      "text/plain": [
       "| 3333         | 15.25       | 33.08s       |"
      ]
     },
     "metadata": {},
     "output_type": "display_data"
    },
    {
     "data": {
      "text/html": [
       "<pre>| 3439         | 15.75       | 34.10s       |</pre>"
      ],
      "text/plain": [
       "| 3439         | 15.75       | 34.10s       |"
      ]
     },
     "metadata": {},
     "output_type": "display_data"
    },
    {
     "data": {
      "text/html": [
       "<pre>| 3525         | 16          | 35.08s       |</pre>"
      ],
      "text/plain": [
       "| 3525         | 16          | 35.08s       |"
      ]
     },
     "metadata": {},
     "output_type": "display_data"
    },
    {
     "data": {
      "text/html": [
       "<pre>| 3624         | 16.5        | 36.08s       |</pre>"
      ],
      "text/plain": [
       "| 3624         | 16.5        | 36.08s       |"
      ]
     },
     "metadata": {},
     "output_type": "display_data"
    },
    {
     "data": {
      "text/html": [
       "<pre>| 3723         | 17          | 37.09s       |</pre>"
      ],
      "text/plain": [
       "| 3723         | 17          | 37.09s       |"
      ]
     },
     "metadata": {},
     "output_type": "display_data"
    },
    {
     "data": {
      "text/html": [
       "<pre>| 3825         | 17.5        | 38.11s       |</pre>"
      ],
      "text/plain": [
       "| 3825         | 17.5        | 38.11s       |"
      ]
     },
     "metadata": {},
     "output_type": "display_data"
    },
    {
     "data": {
      "text/html": [
       "<pre>| 3920         | 17.75       | 39.10s       |</pre>"
      ],
      "text/plain": [
       "| 3920         | 17.75       | 39.10s       |"
      ]
     },
     "metadata": {},
     "output_type": "display_data"
    },
    {
     "data": {
      "text/html": [
       "<pre>| 4022         | 18.25       | 40.08s       |</pre>"
      ],
      "text/plain": [
       "| 4022         | 18.25       | 40.08s       |"
      ]
     },
     "metadata": {},
     "output_type": "display_data"
    },
    {
     "data": {
      "text/html": [
       "<pre>| 4102         | 18.75       | 41.12s       |</pre>"
      ],
      "text/plain": [
       "| 4102         | 18.75       | 41.12s       |"
      ]
     },
     "metadata": {},
     "output_type": "display_data"
    },
    {
     "data": {
      "text/html": [
       "<pre>| 4183         | 19          | 42.08s       |</pre>"
      ],
      "text/plain": [
       "| 4183         | 19          | 42.08s       |"
      ]
     },
     "metadata": {},
     "output_type": "display_data"
    },
    {
     "data": {
      "text/html": [
       "<pre>| 4297         | 19.5        | 43.09s       |</pre>"
      ],
      "text/plain": [
       "| 4297         | 19.5        | 43.09s       |"
      ]
     },
     "metadata": {},
     "output_type": "display_data"
    },
    {
     "data": {
      "text/html": [
       "<pre>| 4394         | 20          | 44.09s       |</pre>"
      ],
      "text/plain": [
       "| 4394         | 20          | 44.09s       |"
      ]
     },
     "metadata": {},
     "output_type": "display_data"
    },
    {
     "data": {
      "text/html": [
       "<pre>| 4486         | 20.5        | 45.09s       |</pre>"
      ],
      "text/plain": [
       "| 4486         | 20.5        | 45.09s       |"
      ]
     },
     "metadata": {},
     "output_type": "display_data"
    },
    {
     "data": {
      "text/html": [
       "<pre>| 4586         | 21          | 46.09s       |</pre>"
      ],
      "text/plain": [
       "| 4586         | 21          | 46.09s       |"
      ]
     },
     "metadata": {},
     "output_type": "display_data"
    },
    {
     "data": {
      "text/html": [
       "<pre>| 4679         | 21.25       | 47.09s       |</pre>"
      ],
      "text/plain": [
       "| 4679         | 21.25       | 47.09s       |"
      ]
     },
     "metadata": {},
     "output_type": "display_data"
    },
    {
     "data": {
      "text/html": [
       "<pre>| 4792         | 21.75       | 48.09s       |</pre>"
      ],
      "text/plain": [
       "| 4792         | 21.75       | 48.09s       |"
      ]
     },
     "metadata": {},
     "output_type": "display_data"
    },
    {
     "data": {
      "text/html": [
       "<pre>| 4881         | 22.25       | 49.10s       |</pre>"
      ],
      "text/plain": [
       "| 4881         | 22.25       | 49.10s       |"
      ]
     },
     "metadata": {},
     "output_type": "display_data"
    },
    {
     "data": {
      "text/html": [
       "<pre>| 4995         | 22.75       | 50.09s       |</pre>"
      ],
      "text/plain": [
       "| 4995         | 22.75       | 50.09s       |"
      ]
     },
     "metadata": {},
     "output_type": "display_data"
    },
    {
     "data": {
      "text/html": [
       "<pre>| 5102         | 23.25       | 51.08s       |</pre>"
      ],
      "text/plain": [
       "| 5102         | 23.25       | 51.08s       |"
      ]
     },
     "metadata": {},
     "output_type": "display_data"
    },
    {
     "data": {
      "text/html": [
       "<pre>| 5194         | 23.75       | 52.08s       |</pre>"
      ],
      "text/plain": [
       "| 5194         | 23.75       | 52.08s       |"
      ]
     },
     "metadata": {},
     "output_type": "display_data"
    },
    {
     "data": {
      "text/html": [
       "<pre>| 5278         | 24          | 53.10s       |</pre>"
      ],
      "text/plain": [
       "| 5278         | 24          | 53.10s       |"
      ]
     },
     "metadata": {},
     "output_type": "display_data"
    },
    {
     "data": {
      "text/html": [
       "<pre>| 5378         | 24.5        | 54.09s       |</pre>"
      ],
      "text/plain": [
       "| 5378         | 24.5        | 54.09s       |"
      ]
     },
     "metadata": {},
     "output_type": "display_data"
    },
    {
     "data": {
      "text/html": [
       "<pre>| 5476         | 25          | 55.09s       |</pre>"
      ],
      "text/plain": [
       "| 5476         | 25          | 55.09s       |"
      ]
     },
     "metadata": {},
     "output_type": "display_data"
    },
    {
     "data": {
      "text/html": [
       "<pre>| 5572         | 25.5        | 56.09s       |</pre>"
      ],
      "text/plain": [
       "| 5572         | 25.5        | 56.09s       |"
      ]
     },
     "metadata": {},
     "output_type": "display_data"
    },
    {
     "data": {
      "text/html": [
       "<pre>| 5674         | 26          | 57.09s       |</pre>"
      ],
      "text/plain": [
       "| 5674         | 26          | 57.09s       |"
      ]
     },
     "metadata": {},
     "output_type": "display_data"
    },
    {
     "data": {
      "text/html": [
       "<pre>| 5764         | 26.25       | 58.08s       |</pre>"
      ],
      "text/plain": [
       "| 5764         | 26.25       | 58.08s       |"
      ]
     },
     "metadata": {},
     "output_type": "display_data"
    },
    {
     "data": {
      "text/html": [
       "<pre>| 5850         | 26.75       | 59.10s       |</pre>"
      ],
      "text/plain": [
       "| 5850         | 26.75       | 59.10s       |"
      ]
     },
     "metadata": {},
     "output_type": "display_data"
    },
    {
     "data": {
      "text/html": [
       "<pre>| 5940         | 27          | 1m 0s        |</pre>"
      ],
      "text/plain": [
       "| 5940         | 27          | 1m 0s        |"
      ]
     },
     "metadata": {},
     "output_type": "display_data"
    },
    {
     "data": {
      "text/html": [
       "<pre>| 6058         | 27.75       | 1m 1s        |</pre>"
      ],
      "text/plain": [
       "| 6058         | 27.75       | 1m 1s        |"
      ]
     },
     "metadata": {},
     "output_type": "display_data"
    },
    {
     "data": {
      "text/html": [
       "<pre>| 6170         | 28.25       | 1m 2s        |</pre>"
      ],
      "text/plain": [
       "| 6170         | 28.25       | 1m 2s        |"
      ]
     },
     "metadata": {},
     "output_type": "display_data"
    },
    {
     "data": {
      "text/html": [
       "<pre>| 6267         | 28.5        | 1m 3s        |</pre>"
      ],
      "text/plain": [
       "| 6267         | 28.5        | 1m 3s        |"
      ]
     },
     "metadata": {},
     "output_type": "display_data"
    },
    {
     "data": {
      "text/html": [
       "<pre>| 6369         | 29          | 1m 4s        |</pre>"
      ],
      "text/plain": [
       "| 6369         | 29          | 1m 4s        |"
      ]
     },
     "metadata": {},
     "output_type": "display_data"
    },
    {
     "data": {
      "text/html": [
       "<pre>| 6483         | 29.5        | 1m 5s        |</pre>"
      ],
      "text/plain": [
       "| 6483         | 29.5        | 1m 5s        |"
      ]
     },
     "metadata": {},
     "output_type": "display_data"
    },
    {
     "data": {
      "text/html": [
       "<pre>| 6572         | 30          | 1m 6s        |</pre>"
      ],
      "text/plain": [
       "| 6572         | 30          | 1m 6s        |"
      ]
     },
     "metadata": {},
     "output_type": "display_data"
    },
    {
     "data": {
      "text/html": [
       "<pre>| 6675         | 30.5        | 1m 7s        |</pre>"
      ],
      "text/plain": [
       "| 6675         | 30.5        | 1m 7s        |"
      ]
     },
     "metadata": {},
     "output_type": "display_data"
    },
    {
     "data": {
      "text/html": [
       "<pre>| 6779         | 31          | 1m 8s        |</pre>"
      ],
      "text/plain": [
       "| 6779         | 31          | 1m 8s        |"
      ]
     },
     "metadata": {},
     "output_type": "display_data"
    },
    {
     "data": {
      "text/html": [
       "<pre>| 6880         | 31.5        | 1m 9s        |</pre>"
      ],
      "text/plain": [
       "| 6880         | 31.5        | 1m 9s        |"
      ]
     },
     "metadata": {},
     "output_type": "display_data"
    },
    {
     "data": {
      "text/html": [
       "<pre>| 6983         | 32          | 1m 10s       |</pre>"
      ],
      "text/plain": [
       "| 6983         | 32          | 1m 10s       |"
      ]
     },
     "metadata": {},
     "output_type": "display_data"
    },
    {
     "data": {
      "text/html": [
       "<pre>| 7101         | 32.5        | 1m 11s       |</pre>"
      ],
      "text/plain": [
       "| 7101         | 32.5        | 1m 11s       |"
      ]
     },
     "metadata": {},
     "output_type": "display_data"
    },
    {
     "data": {
      "text/html": [
       "<pre>| 7187         | 32.75       | 1m 12s       |</pre>"
      ],
      "text/plain": [
       "| 7187         | 32.75       | 1m 12s       |"
      ]
     },
     "metadata": {},
     "output_type": "display_data"
    },
    {
     "data": {
      "text/html": [
       "<pre>| 7301         | 33.25       | 1m 13s       |</pre>"
      ],
      "text/plain": [
       "| 7301         | 33.25       | 1m 13s       |"
      ]
     },
     "metadata": {},
     "output_type": "display_data"
    },
    {
     "data": {
      "text/html": [
       "<pre>| 7401         | 33.75       | 1m 14s       |</pre>"
      ],
      "text/plain": [
       "| 7401         | 33.75       | 1m 14s       |"
      ]
     },
     "metadata": {},
     "output_type": "display_data"
    },
    {
     "data": {
      "text/html": [
       "<pre>| 7516         | 34.25       | 1m 15s       |</pre>"
      ],
      "text/plain": [
       "| 7516         | 34.25       | 1m 15s       |"
      ]
     },
     "metadata": {},
     "output_type": "display_data"
    },
    {
     "data": {
      "text/html": [
       "<pre>| 7620         | 34.75       | 1m 16s       |</pre>"
      ],
      "text/plain": [
       "| 7620         | 34.75       | 1m 16s       |"
      ]
     },
     "metadata": {},
     "output_type": "display_data"
    },
    {
     "data": {
      "text/html": [
       "<pre>| 7714         | 35.25       | 1m 17s       |</pre>"
      ],
      "text/plain": [
       "| 7714         | 35.25       | 1m 17s       |"
      ]
     },
     "metadata": {},
     "output_type": "display_data"
    },
    {
     "data": {
      "text/html": [
       "<pre>| 7825         | 35.75       | 1m 18s       |</pre>"
      ],
      "text/plain": [
       "| 7825         | 35.75       | 1m 18s       |"
      ]
     },
     "metadata": {},
     "output_type": "display_data"
    },
    {
     "data": {
      "text/html": [
       "<pre>| 7932         | 36.25       | 1m 19s       |</pre>"
      ],
      "text/plain": [
       "| 7932         | 36.25       | 1m 19s       |"
      ]
     },
     "metadata": {},
     "output_type": "display_data"
    },
    {
     "data": {
      "text/html": [
       "<pre>| 8041         | 36.75       | 1m 20s       |</pre>"
      ],
      "text/plain": [
       "| 8041         | 36.75       | 1m 20s       |"
      ]
     },
     "metadata": {},
     "output_type": "display_data"
    },
    {
     "data": {
      "text/html": [
       "<pre>| 8121         | 37          | 1m 21s       |</pre>"
      ],
      "text/plain": [
       "| 8121         | 37          | 1m 21s       |"
      ]
     },
     "metadata": {},
     "output_type": "display_data"
    },
    {
     "data": {
      "text/html": [
       "<pre>| 8228         | 37.5        | 1m 22s       |</pre>"
      ],
      "text/plain": [
       "| 8228         | 37.5        | 1m 22s       |"
      ]
     },
     "metadata": {},
     "output_type": "display_data"
    },
    {
     "data": {
      "text/html": [
       "<pre>| 8323         | 38          | 1m 23s       |</pre>"
      ],
      "text/plain": [
       "| 8323         | 38          | 1m 23s       |"
      ]
     },
     "metadata": {},
     "output_type": "display_data"
    },
    {
     "data": {
      "text/html": [
       "<pre>| 8417         | 38.5        | 1m 24s       |</pre>"
      ],
      "text/plain": [
       "| 8417         | 38.5        | 1m 24s       |"
      ]
     },
     "metadata": {},
     "output_type": "display_data"
    },
    {
     "data": {
      "text/html": [
       "<pre>| 8522         | 39          | 1m 25s       |</pre>"
      ],
      "text/plain": [
       "| 8522         | 39          | 1m 25s       |"
      ]
     },
     "metadata": {},
     "output_type": "display_data"
    },
    {
     "data": {
      "text/html": [
       "<pre>| 8619         | 39.5        | 1m 26s       |</pre>"
      ],
      "text/plain": [
       "| 8619         | 39.5        | 1m 26s       |"
      ]
     },
     "metadata": {},
     "output_type": "display_data"
    },
    {
     "data": {
      "text/html": [
       "<pre>| 8728         | 40          | 1m 27s       |</pre>"
      ],
      "text/plain": [
       "| 8728         | 40          | 1m 27s       |"
      ]
     },
     "metadata": {},
     "output_type": "display_data"
    },
    {
     "data": {
      "text/html": [
       "<pre>| 8824         | 40.25       | 1m 28s       |</pre>"
      ],
      "text/plain": [
       "| 8824         | 40.25       | 1m 28s       |"
      ]
     },
     "metadata": {},
     "output_type": "display_data"
    },
    {
     "data": {
      "text/html": [
       "<pre>| 8919         | 40.75       | 1m 29s       |</pre>"
      ],
      "text/plain": [
       "| 8919         | 40.75       | 1m 29s       |"
      ]
     },
     "metadata": {},
     "output_type": "display_data"
    },
    {
     "data": {
      "text/html": [
       "<pre>| 9040         | 41.25       | 1m 30s       |</pre>"
      ],
      "text/plain": [
       "| 9040         | 41.25       | 1m 30s       |"
      ]
     },
     "metadata": {},
     "output_type": "display_data"
    },
    {
     "data": {
      "text/html": [
       "<pre>| 9139         | 41.75       | 1m 31s       |</pre>"
      ],
      "text/plain": [
       "| 9139         | 41.75       | 1m 31s       |"
      ]
     },
     "metadata": {},
     "output_type": "display_data"
    },
    {
     "data": {
      "text/html": [
       "<pre>| 9235         | 42.25       | 1m 32s       |</pre>"
      ],
      "text/plain": [
       "| 9235         | 42.25       | 1m 32s       |"
      ]
     },
     "metadata": {},
     "output_type": "display_data"
    },
    {
     "data": {
      "text/html": [
       "<pre>| 9339         | 42.75       | 1m 33s       |</pre>"
      ],
      "text/plain": [
       "| 9339         | 42.75       | 1m 33s       |"
      ]
     },
     "metadata": {},
     "output_type": "display_data"
    },
    {
     "data": {
      "text/html": [
       "<pre>| 9426         | 43          | 1m 34s       |</pre>"
      ],
      "text/plain": [
       "| 9426         | 43          | 1m 34s       |"
      ]
     },
     "metadata": {},
     "output_type": "display_data"
    },
    {
     "data": {
      "text/html": [
       "<pre>| 9529         | 43.5        | 1m 35s       |</pre>"
      ],
      "text/plain": [
       "| 9529         | 43.5        | 1m 35s       |"
      ]
     },
     "metadata": {},
     "output_type": "display_data"
    },
    {
     "data": {
      "text/html": [
       "<pre>| 9633         | 44          | 1m 36s       |</pre>"
      ],
      "text/plain": [
       "| 9633         | 44          | 1m 36s       |"
      ]
     },
     "metadata": {},
     "output_type": "display_data"
    },
    {
     "data": {
      "text/html": [
       "<pre>| 9729         | 44.5        | 1m 37s       |</pre>"
      ],
      "text/plain": [
       "| 9729         | 44.5        | 1m 37s       |"
      ]
     },
     "metadata": {},
     "output_type": "display_data"
    },
    {
     "data": {
      "text/html": [
       "<pre>| 9841         | 45          | 1m 38s       |</pre>"
      ],
      "text/plain": [
       "| 9841         | 45          | 1m 38s       |"
      ]
     },
     "metadata": {},
     "output_type": "display_data"
    },
    {
     "data": {
      "text/html": [
       "<pre>| 9939         | 45.5        | 1m 39s       |</pre>"
      ],
      "text/plain": [
       "| 9939         | 45.5        | 1m 39s       |"
      ]
     },
     "metadata": {},
     "output_type": "display_data"
    },
    {
     "data": {
      "text/html": [
       "<pre>| 10036        | 46          | 1m 40s       |</pre>"
      ],
      "text/plain": [
       "| 10036        | 46          | 1m 40s       |"
      ]
     },
     "metadata": {},
     "output_type": "display_data"
    },
    {
     "data": {
      "text/html": [
       "<pre>| 10130        | 46.25       | 1m 41s       |</pre>"
      ],
      "text/plain": [
       "| 10130        | 46.25       | 1m 41s       |"
      ]
     },
     "metadata": {},
     "output_type": "display_data"
    },
    {
     "data": {
      "text/html": [
       "<pre>| 10214        | 46.75       | 1m 42s       |</pre>"
      ],
      "text/plain": [
       "| 10214        | 46.75       | 1m 42s       |"
      ]
     },
     "metadata": {},
     "output_type": "display_data"
    },
    {
     "data": {
      "text/html": [
       "<pre>| 10309        | 47.25       | 1m 43s       |</pre>"
      ],
      "text/plain": [
       "| 10309        | 47.25       | 1m 43s       |"
      ]
     },
     "metadata": {},
     "output_type": "display_data"
    },
    {
     "data": {
      "text/html": [
       "<pre>| 10409        | 47.5        | 1m 44s       |</pre>"
      ],
      "text/plain": [
       "| 10409        | 47.5        | 1m 44s       |"
      ]
     },
     "metadata": {},
     "output_type": "display_data"
    },
    {
     "data": {
      "text/html": [
       "<pre>| 10498        | 48          | 1m 45s       |</pre>"
      ],
      "text/plain": [
       "| 10498        | 48          | 1m 45s       |"
      ]
     },
     "metadata": {},
     "output_type": "display_data"
    },
    {
     "data": {
      "text/html": [
       "<pre>| 10598        | 48.5        | 1m 46s       |</pre>"
      ],
      "text/plain": [
       "| 10598        | 48.5        | 1m 46s       |"
      ]
     },
     "metadata": {},
     "output_type": "display_data"
    },
    {
     "data": {
      "text/html": [
       "<pre>| 10715        | 49          | 1m 47s       |</pre>"
      ],
      "text/plain": [
       "| 10715        | 49          | 1m 47s       |"
      ]
     },
     "metadata": {},
     "output_type": "display_data"
    },
    {
     "data": {
      "text/html": [
       "<pre>| 10808        | 49.5        | 1m 48s       |</pre>"
      ],
      "text/plain": [
       "| 10808        | 49.5        | 1m 48s       |"
      ]
     },
     "metadata": {},
     "output_type": "display_data"
    },
    {
     "data": {
      "text/html": [
       "<pre>| 10903        | 49.75       | 1m 49s       |</pre>"
      ],
      "text/plain": [
       "| 10903        | 49.75       | 1m 49s       |"
      ]
     },
     "metadata": {},
     "output_type": "display_data"
    },
    {
     "data": {
      "text/html": [
       "<pre>| 11002        | 50.25       | 1m 50s       |</pre>"
      ],
      "text/plain": [
       "| 11002        | 50.25       | 1m 50s       |"
      ]
     },
     "metadata": {},
     "output_type": "display_data"
    },
    {
     "data": {
      "text/html": [
       "<pre>| 11092        | 50.75       | 1m 51s       |</pre>"
      ],
      "text/plain": [
       "| 11092        | 50.75       | 1m 51s       |"
      ]
     },
     "metadata": {},
     "output_type": "display_data"
    },
    {
     "data": {
      "text/html": [
       "<pre>| 11184        | 51.25       | 1m 52s       |</pre>"
      ],
      "text/plain": [
       "| 11184        | 51.25       | 1m 52s       |"
      ]
     },
     "metadata": {},
     "output_type": "display_data"
    },
    {
     "data": {
      "text/html": [
       "<pre>| 11280        | 51.5        | 1m 53s       |</pre>"
      ],
      "text/plain": [
       "| 11280        | 51.5        | 1m 53s       |"
      ]
     },
     "metadata": {},
     "output_type": "display_data"
    },
    {
     "data": {
      "text/html": [
       "<pre>| 11379        | 52          | 1m 54s       |</pre>"
      ],
      "text/plain": [
       "| 11379        | 52          | 1m 54s       |"
      ]
     },
     "metadata": {},
     "output_type": "display_data"
    },
    {
     "data": {
      "text/html": [
       "<pre>| 11482        | 52.5        | 1m 55s       |</pre>"
      ],
      "text/plain": [
       "| 11482        | 52.5        | 1m 55s       |"
      ]
     },
     "metadata": {},
     "output_type": "display_data"
    },
    {
     "data": {
      "text/html": [
       "<pre>| 11578        | 53          | 1m 56s       |</pre>"
      ],
      "text/plain": [
       "| 11578        | 53          | 1m 56s       |"
      ]
     },
     "metadata": {},
     "output_type": "display_data"
    },
    {
     "data": {
      "text/html": [
       "<pre>| 11682        | 53.5        | 1m 57s       |</pre>"
      ],
      "text/plain": [
       "| 11682        | 53.5        | 1m 57s       |"
      ]
     },
     "metadata": {},
     "output_type": "display_data"
    },
    {
     "data": {
      "text/html": [
       "<pre>| 11791        | 54          | 1m 58s       |</pre>"
      ],
      "text/plain": [
       "| 11791        | 54          | 1m 58s       |"
      ]
     },
     "metadata": {},
     "output_type": "display_data"
    },
    {
     "data": {
      "text/html": [
       "<pre>| 11899        | 54.5        | 1m 59s       |</pre>"
      ],
      "text/plain": [
       "| 11899        | 54.5        | 1m 59s       |"
      ]
     },
     "metadata": {},
     "output_type": "display_data"
    },
    {
     "data": {
      "text/html": [
       "<pre>| 11984        | 54.75       | 2m 0s        |</pre>"
      ],
      "text/plain": [
       "| 11984        | 54.75       | 2m 0s        |"
      ]
     },
     "metadata": {},
     "output_type": "display_data"
    },
    {
     "data": {
      "text/html": [
       "<pre>| 12074        | 55.25       | 2m 1s        |</pre>"
      ],
      "text/plain": [
       "| 12074        | 55.25       | 2m 1s        |"
      ]
     },
     "metadata": {},
     "output_type": "display_data"
    },
    {
     "data": {
      "text/html": [
       "<pre>| 12162        | 55.75       | 2m 2s        |</pre>"
      ],
      "text/plain": [
       "| 12162        | 55.75       | 2m 2s        |"
      ]
     },
     "metadata": {},
     "output_type": "display_data"
    },
    {
     "data": {
      "text/html": [
       "<pre>| 12255        | 56          | 2m 3s        |</pre>"
      ],
      "text/plain": [
       "| 12255        | 56          | 2m 3s        |"
      ]
     },
     "metadata": {},
     "output_type": "display_data"
    },
    {
     "data": {
      "text/html": [
       "<pre>| 12357        | 56.5        | 2m 4s        |</pre>"
      ],
      "text/plain": [
       "| 12357        | 56.5        | 2m 4s        |"
      ]
     },
     "metadata": {},
     "output_type": "display_data"
    },
    {
     "data": {
      "text/html": [
       "<pre>| 12455        | 57          | 2m 5s        |</pre>"
      ],
      "text/plain": [
       "| 12455        | 57          | 2m 5s        |"
      ]
     },
     "metadata": {},
     "output_type": "display_data"
    },
    {
     "data": {
      "text/html": [
       "<pre>| 12543        | 57.25       | 2m 6s        |</pre>"
      ],
      "text/plain": [
       "| 12543        | 57.25       | 2m 6s        |"
      ]
     },
     "metadata": {},
     "output_type": "display_data"
    },
    {
     "data": {
      "text/html": [
       "<pre>| 12643        | 57.75       | 2m 7s        |</pre>"
      ],
      "text/plain": [
       "| 12643        | 57.75       | 2m 7s        |"
      ]
     },
     "metadata": {},
     "output_type": "display_data"
    },
    {
     "data": {
      "text/html": [
       "<pre>| 12755        | 58.25       | 2m 8s        |</pre>"
      ],
      "text/plain": [
       "| 12755        | 58.25       | 2m 8s        |"
      ]
     },
     "metadata": {},
     "output_type": "display_data"
    },
    {
     "data": {
      "text/html": [
       "<pre>| 12847        | 58.75       | 2m 9s        |</pre>"
      ],
      "text/plain": [
       "| 12847        | 58.75       | 2m 9s        |"
      ]
     },
     "metadata": {},
     "output_type": "display_data"
    },
    {
     "data": {
      "text/html": [
       "<pre>| 12966        | 59.25       | 2m 10s       |</pre>"
      ],
      "text/plain": [
       "| 12966        | 59.25       | 2m 10s       |"
      ]
     },
     "metadata": {},
     "output_type": "display_data"
    },
    {
     "data": {
      "text/html": [
       "<pre>| 13068        | 59.75       | 2m 11s       |</pre>"
      ],
      "text/plain": [
       "| 13068        | 59.75       | 2m 11s       |"
      ]
     },
     "metadata": {},
     "output_type": "display_data"
    },
    {
     "data": {
      "text/html": [
       "<pre>| 13174        | 60.25       | 2m 12s       |</pre>"
      ],
      "text/plain": [
       "| 13174        | 60.25       | 2m 12s       |"
      ]
     },
     "metadata": {},
     "output_type": "display_data"
    },
    {
     "data": {
      "text/html": [
       "<pre>| 13277        | 60.75       | 2m 13s       |</pre>"
      ],
      "text/plain": [
       "| 13277        | 60.75       | 2m 13s       |"
      ]
     },
     "metadata": {},
     "output_type": "display_data"
    },
    {
     "data": {
      "text/html": [
       "<pre>| 13356        | 61          | 2m 14s       |</pre>"
      ],
      "text/plain": [
       "| 13356        | 61          | 2m 14s       |"
      ]
     },
     "metadata": {},
     "output_type": "display_data"
    },
    {
     "data": {
      "text/html": [
       "<pre>| 13465        | 61.5        | 2m 15s       |</pre>"
      ],
      "text/plain": [
       "| 13465        | 61.5        | 2m 15s       |"
      ]
     },
     "metadata": {},
     "output_type": "display_data"
    },
    {
     "data": {
      "text/html": [
       "<pre>| 13563        | 62          | 2m 16s       |</pre>"
      ],
      "text/plain": [
       "| 13563        | 62          | 2m 16s       |"
      ]
     },
     "metadata": {},
     "output_type": "display_data"
    },
    {
     "data": {
      "text/html": [
       "<pre>| 13682        | 62.5        | 2m 17s       |</pre>"
      ],
      "text/plain": [
       "| 13682        | 62.5        | 2m 17s       |"
      ]
     },
     "metadata": {},
     "output_type": "display_data"
    },
    {
     "data": {
      "text/html": [
       "<pre>| 13774        | 63          | 2m 18s       |</pre>"
      ],
      "text/plain": [
       "| 13774        | 63          | 2m 18s       |"
      ]
     },
     "metadata": {},
     "output_type": "display_data"
    },
    {
     "data": {
      "text/html": [
       "<pre>| 13878        | 63.5        | 2m 19s       |</pre>"
      ],
      "text/plain": [
       "| 13878        | 63.5        | 2m 19s       |"
      ]
     },
     "metadata": {},
     "output_type": "display_data"
    },
    {
     "data": {
      "text/html": [
       "<pre>| 13980        | 64          | 2m 20s       |</pre>"
      ],
      "text/plain": [
       "| 13980        | 64          | 2m 20s       |"
      ]
     },
     "metadata": {},
     "output_type": "display_data"
    },
    {
     "data": {
      "text/html": [
       "<pre>| 14075        | 64.5        | 2m 21s       |</pre>"
      ],
      "text/plain": [
       "| 14075        | 64.5        | 2m 21s       |"
      ]
     },
     "metadata": {},
     "output_type": "display_data"
    },
    {
     "data": {
      "text/html": [
       "<pre>| 14180        | 65          | 2m 22s       |</pre>"
      ],
      "text/plain": [
       "| 14180        | 65          | 2m 22s       |"
      ]
     },
     "metadata": {},
     "output_type": "display_data"
    },
    {
     "data": {
      "text/html": [
       "<pre>| 14278        | 65.25       | 2m 23s       |</pre>"
      ],
      "text/plain": [
       "| 14278        | 65.25       | 2m 23s       |"
      ]
     },
     "metadata": {},
     "output_type": "display_data"
    },
    {
     "data": {
      "text/html": [
       "<pre>| 14381        | 65.75       | 2m 24s       |</pre>"
      ],
      "text/plain": [
       "| 14381        | 65.75       | 2m 24s       |"
      ]
     },
     "metadata": {},
     "output_type": "display_data"
    },
    {
     "data": {
      "text/html": [
       "<pre>| 14477        | 66.25       | 2m 25s       |</pre>"
      ],
      "text/plain": [
       "| 14477        | 66.25       | 2m 25s       |"
      ]
     },
     "metadata": {},
     "output_type": "display_data"
    },
    {
     "data": {
      "text/html": [
       "<pre>| 14585        | 66.75       | 2m 26s       |</pre>"
      ],
      "text/plain": [
       "| 14585        | 66.75       | 2m 26s       |"
      ]
     },
     "metadata": {},
     "output_type": "display_data"
    },
    {
     "data": {
      "text/html": [
       "<pre>| 14666        | 67          | 2m 27s       |</pre>"
      ],
      "text/plain": [
       "| 14666        | 67          | 2m 27s       |"
      ]
     },
     "metadata": {},
     "output_type": "display_data"
    },
    {
     "data": {
      "text/html": [
       "<pre>| 14773        | 67.5        | 2m 28s       |</pre>"
      ],
      "text/plain": [
       "| 14773        | 67.5        | 2m 28s       |"
      ]
     },
     "metadata": {},
     "output_type": "display_data"
    },
    {
     "data": {
      "text/html": [
       "<pre>| 14882        | 68          | 2m 29s       |</pre>"
      ],
      "text/plain": [
       "| 14882        | 68          | 2m 29s       |"
      ]
     },
     "metadata": {},
     "output_type": "display_data"
    },
    {
     "data": {
      "text/html": [
       "<pre>| 14996        | 68.5        | 2m 30s       |</pre>"
      ],
      "text/plain": [
       "| 14996        | 68.5        | 2m 30s       |"
      ]
     },
     "metadata": {},
     "output_type": "display_data"
    },
    {
     "data": {
      "text/html": [
       "<pre>| 15092        | 69          | 2m 31s       |</pre>"
      ],
      "text/plain": [
       "| 15092        | 69          | 2m 31s       |"
      ]
     },
     "metadata": {},
     "output_type": "display_data"
    },
    {
     "data": {
      "text/html": [
       "<pre>| 15206        | 69.5        | 2m 32s       |</pre>"
      ],
      "text/plain": [
       "| 15206        | 69.5        | 2m 32s       |"
      ]
     },
     "metadata": {},
     "output_type": "display_data"
    },
    {
     "data": {
      "text/html": [
       "<pre>| 15306        | 70          | 2m 33s       |</pre>"
      ],
      "text/plain": [
       "| 15306        | 70          | 2m 33s       |"
      ]
     },
     "metadata": {},
     "output_type": "display_data"
    },
    {
     "data": {
      "text/html": [
       "<pre>| 15402        | 70.5        | 2m 34s       |</pre>"
      ],
      "text/plain": [
       "| 15402        | 70.5        | 2m 34s       |"
      ]
     },
     "metadata": {},
     "output_type": "display_data"
    },
    {
     "data": {
      "text/html": [
       "<pre>| 15496        | 71          | 2m 35s       |</pre>"
      ],
      "text/plain": [
       "| 15496        | 71          | 2m 35s       |"
      ]
     },
     "metadata": {},
     "output_type": "display_data"
    },
    {
     "data": {
      "text/html": [
       "<pre>| 15605        | 71.5        | 2m 36s       |</pre>"
      ],
      "text/plain": [
       "| 15605        | 71.5        | 2m 36s       |"
      ]
     },
     "metadata": {},
     "output_type": "display_data"
    },
    {
     "data": {
      "text/html": [
       "<pre>| 15706        | 71.75       | 2m 37s       |</pre>"
      ],
      "text/plain": [
       "| 15706        | 71.75       | 2m 37s       |"
      ]
     },
     "metadata": {},
     "output_type": "display_data"
    },
    {
     "data": {
      "text/html": [
       "<pre>| 15812        | 72.25       | 2m 38s       |</pre>"
      ],
      "text/plain": [
       "| 15812        | 72.25       | 2m 38s       |"
      ]
     },
     "metadata": {},
     "output_type": "display_data"
    },
    {
     "data": {
      "text/html": [
       "<pre>| 15937        | 73          | 2m 39s       |</pre>"
      ],
      "text/plain": [
       "| 15937        | 73          | 2m 39s       |"
      ]
     },
     "metadata": {},
     "output_type": "display_data"
    },
    {
     "data": {
      "text/html": [
       "<pre>| 16040        | 73.5        | 2m 40s       |</pre>"
      ],
      "text/plain": [
       "| 16040        | 73.5        | 2m 40s       |"
      ]
     },
     "metadata": {},
     "output_type": "display_data"
    },
    {
     "data": {
      "text/html": [
       "<pre>| 16140        | 73.75       | 2m 41s       |</pre>"
      ],
      "text/plain": [
       "| 16140        | 73.75       | 2m 41s       |"
      ]
     },
     "metadata": {},
     "output_type": "display_data"
    },
    {
     "data": {
      "text/html": [
       "<pre>| 16259        | 74.5        | 2m 42s       |</pre>"
      ],
      "text/plain": [
       "| 16259        | 74.5        | 2m 42s       |"
      ]
     },
     "metadata": {},
     "output_type": "display_data"
    },
    {
     "data": {
      "text/html": [
       "<pre>| 16371        | 75          | 2m 43s       |</pre>"
      ],
      "text/plain": [
       "| 16371        | 75          | 2m 43s       |"
      ]
     },
     "metadata": {},
     "output_type": "display_data"
    },
    {
     "data": {
      "text/html": [
       "<pre>| 16476        | 75.5        | 2m 44s       |</pre>"
      ],
      "text/plain": [
       "| 16476        | 75.5        | 2m 44s       |"
      ]
     },
     "metadata": {},
     "output_type": "display_data"
    },
    {
     "data": {
      "text/html": [
       "<pre>| 16569        | 75.75       | 2m 45s       |</pre>"
      ],
      "text/plain": [
       "| 16569        | 75.75       | 2m 45s       |"
      ]
     },
     "metadata": {},
     "output_type": "display_data"
    },
    {
     "data": {
      "text/html": [
       "<pre>| 16679        | 76.25       | 2m 46s       |</pre>"
      ],
      "text/plain": [
       "| 16679        | 76.25       | 2m 46s       |"
      ]
     },
     "metadata": {},
     "output_type": "display_data"
    },
    {
     "data": {
      "text/html": [
       "<pre>| 16801        | 77          | 2m 47s       |</pre>"
      ],
      "text/plain": [
       "| 16801        | 77          | 2m 47s       |"
      ]
     },
     "metadata": {},
     "output_type": "display_data"
    },
    {
     "data": {
      "text/html": [
       "<pre>| 16887        | 77.25       | 2m 48s       |</pre>"
      ],
      "text/plain": [
       "| 16887        | 77.25       | 2m 48s       |"
      ]
     },
     "metadata": {},
     "output_type": "display_data"
    },
    {
     "data": {
      "text/html": [
       "<pre>| 16990        | 77.75       | 2m 49s       |</pre>"
      ],
      "text/plain": [
       "| 16990        | 77.75       | 2m 49s       |"
      ]
     },
     "metadata": {},
     "output_type": "display_data"
    },
    {
     "data": {
      "text/html": [
       "<pre>| 17082        | 78.25       | 2m 50s       |</pre>"
      ],
      "text/plain": [
       "| 17082        | 78.25       | 2m 50s       |"
      ]
     },
     "metadata": {},
     "output_type": "display_data"
    },
    {
     "data": {
      "text/html": [
       "<pre>| 17198        | 78.75       | 2m 51s       |</pre>"
      ],
      "text/plain": [
       "| 17198        | 78.75       | 2m 51s       |"
      ]
     },
     "metadata": {},
     "output_type": "display_data"
    },
    {
     "data": {
      "text/html": [
       "<pre>| 17301        | 79.25       | 2m 52s       |</pre>"
      ],
      "text/plain": [
       "| 17301        | 79.25       | 2m 52s       |"
      ]
     },
     "metadata": {},
     "output_type": "display_data"
    },
    {
     "data": {
      "text/html": [
       "<pre>| 17402        | 79.75       | 2m 53s       |</pre>"
      ],
      "text/plain": [
       "| 17402        | 79.75       | 2m 53s       |"
      ]
     },
     "metadata": {},
     "output_type": "display_data"
    },
    {
     "data": {
      "text/html": [
       "<pre>| 17513        | 80.25       | 2m 54s       |</pre>"
      ],
      "text/plain": [
       "| 17513        | 80.25       | 2m 54s       |"
      ]
     },
     "metadata": {},
     "output_type": "display_data"
    },
    {
     "data": {
      "text/html": [
       "<pre>| 17620        | 80.75       | 2m 55s       |</pre>"
      ],
      "text/plain": [
       "| 17620        | 80.75       | 2m 55s       |"
      ]
     },
     "metadata": {},
     "output_type": "display_data"
    },
    {
     "data": {
      "text/html": [
       "<pre>| 17734        | 81.25       | 2m 56s       |</pre>"
      ],
      "text/plain": [
       "| 17734        | 81.25       | 2m 56s       |"
      ]
     },
     "metadata": {},
     "output_type": "display_data"
    },
    {
     "data": {
      "text/html": [
       "<pre>| 17841        | 81.75       | 2m 57s       |</pre>"
      ],
      "text/plain": [
       "| 17841        | 81.75       | 2m 57s       |"
      ]
     },
     "metadata": {},
     "output_type": "display_data"
    },
    {
     "data": {
      "text/html": [
       "<pre>| 17944        | 82.25       | 2m 58s       |</pre>"
      ],
      "text/plain": [
       "| 17944        | 82.25       | 2m 58s       |"
      ]
     },
     "metadata": {},
     "output_type": "display_data"
    },
    {
     "data": {
      "text/html": [
       "<pre>| 18053        | 82.75       | 2m 59s       |</pre>"
      ],
      "text/plain": [
       "| 18053        | 82.75       | 2m 59s       |"
      ]
     },
     "metadata": {},
     "output_type": "display_data"
    },
    {
     "data": {
      "text/html": [
       "<pre>| 18158        | 83          | 3m 0s        |</pre>"
      ],
      "text/plain": [
       "| 18158        | 83          | 3m 0s        |"
      ]
     },
     "metadata": {},
     "output_type": "display_data"
    },
    {
     "data": {
      "text/html": [
       "<pre>| 18257        | 83.5        | 3m 1s        |</pre>"
      ],
      "text/plain": [
       "| 18257        | 83.5        | 3m 1s        |"
      ]
     },
     "metadata": {},
     "output_type": "display_data"
    },
    {
     "data": {
      "text/html": [
       "<pre>| 18364        | 84          | 3m 2s        |</pre>"
      ],
      "text/plain": [
       "| 18364        | 84          | 3m 2s        |"
      ]
     },
     "metadata": {},
     "output_type": "display_data"
    },
    {
     "data": {
      "text/html": [
       "<pre>| 18458        | 84.5        | 3m 3s        |</pre>"
      ],
      "text/plain": [
       "| 18458        | 84.5        | 3m 3s        |"
      ]
     },
     "metadata": {},
     "output_type": "display_data"
    },
    {
     "data": {
      "text/html": [
       "<pre>| 18555        | 85          | 3m 4s        |</pre>"
      ],
      "text/plain": [
       "| 18555        | 85          | 3m 4s        |"
      ]
     },
     "metadata": {},
     "output_type": "display_data"
    },
    {
     "data": {
      "text/html": [
       "<pre>| 18670        | 85.5        | 3m 5s        |</pre>"
      ],
      "text/plain": [
       "| 18670        | 85.5        | 3m 5s        |"
      ]
     },
     "metadata": {},
     "output_type": "display_data"
    },
    {
     "data": {
      "text/html": [
       "<pre>| 18778        | 86          | 3m 6s        |</pre>"
      ],
      "text/plain": [
       "| 18778        | 86          | 3m 6s        |"
      ]
     },
     "metadata": {},
     "output_type": "display_data"
    },
    {
     "data": {
      "text/html": [
       "<pre>| 18893        | 86.5        | 3m 7s        |</pre>"
      ],
      "text/plain": [
       "| 18893        | 86.5        | 3m 7s        |"
      ]
     },
     "metadata": {},
     "output_type": "display_data"
    },
    {
     "data": {
      "text/html": [
       "<pre>| 18996        | 87          | 3m 8s        |</pre>"
      ],
      "text/plain": [
       "| 18996        | 87          | 3m 8s        |"
      ]
     },
     "metadata": {},
     "output_type": "display_data"
    },
    {
     "data": {
      "text/html": [
       "<pre>| 19089        | 87.5        | 3m 9s        |</pre>"
      ],
      "text/plain": [
       "| 19089        | 87.5        | 3m 9s        |"
      ]
     },
     "metadata": {},
     "output_type": "display_data"
    },
    {
     "data": {
      "text/html": [
       "<pre>| 19201        | 88          | 3m 10s       |</pre>"
      ],
      "text/plain": [
       "| 19201        | 88          | 3m 10s       |"
      ]
     },
     "metadata": {},
     "output_type": "display_data"
    },
    {
     "data": {
      "text/html": [
       "<pre>| 19303        | 88.25       | 3m 11s       |</pre>"
      ],
      "text/plain": [
       "| 19303        | 88.25       | 3m 11s       |"
      ]
     },
     "metadata": {},
     "output_type": "display_data"
    },
    {
     "data": {
      "text/html": [
       "<pre>| 19411        | 88.75       | 3m 12s       |</pre>"
      ],
      "text/plain": [
       "| 19411        | 88.75       | 3m 12s       |"
      ]
     },
     "metadata": {},
     "output_type": "display_data"
    },
    {
     "data": {
      "text/html": [
       "<pre>| 19517        | 89.25       | 3m 13s       |</pre>"
      ],
      "text/plain": [
       "| 19517        | 89.25       | 3m 13s       |"
      ]
     },
     "metadata": {},
     "output_type": "display_data"
    },
    {
     "data": {
      "text/html": [
       "<pre>| 19619        | 89.75       | 3m 14s       |</pre>"
      ],
      "text/plain": [
       "| 19619        | 89.75       | 3m 14s       |"
      ]
     },
     "metadata": {},
     "output_type": "display_data"
    },
    {
     "data": {
      "text/html": [
       "<pre>| 19718        | 90.25       | 3m 15s       |</pre>"
      ],
      "text/plain": [
       "| 19718        | 90.25       | 3m 15s       |"
      ]
     },
     "metadata": {},
     "output_type": "display_data"
    },
    {
     "data": {
      "text/html": [
       "<pre>| 19823        | 90.75       | 3m 16s       |</pre>"
      ],
      "text/plain": [
       "| 19823        | 90.75       | 3m 16s       |"
      ]
     },
     "metadata": {},
     "output_type": "display_data"
    },
    {
     "data": {
      "text/html": [
       "<pre>| 19916        | 91.25       | 3m 17s       |</pre>"
      ],
      "text/plain": [
       "| 19916        | 91.25       | 3m 17s       |"
      ]
     },
     "metadata": {},
     "output_type": "display_data"
    },
    {
     "data": {
      "text/html": [
       "<pre>| 20024        | 91.75       | 3m 18s       |</pre>"
      ],
      "text/plain": [
       "| 20024        | 91.75       | 3m 18s       |"
      ]
     },
     "metadata": {},
     "output_type": "display_data"
    },
    {
     "data": {
      "text/html": [
       "<pre>| 20147        | 92.25       | 3m 19s       |</pre>"
      ],
      "text/plain": [
       "| 20147        | 92.25       | 3m 19s       |"
      ]
     },
     "metadata": {},
     "output_type": "display_data"
    },
    {
     "data": {
      "text/html": [
       "<pre>| 20250        | 92.75       | 3m 20s       |</pre>"
      ],
      "text/plain": [
       "| 20250        | 92.75       | 3m 20s       |"
      ]
     },
     "metadata": {},
     "output_type": "display_data"
    },
    {
     "data": {
      "text/html": [
       "<pre>| 20360        | 93.25       | 3m 21s       |</pre>"
      ],
      "text/plain": [
       "| 20360        | 93.25       | 3m 21s       |"
      ]
     },
     "metadata": {},
     "output_type": "display_data"
    },
    {
     "data": {
      "text/html": [
       "<pre>| 20460        | 93.75       | 3m 22s       |</pre>"
      ],
      "text/plain": [
       "| 20460        | 93.75       | 3m 22s       |"
      ]
     },
     "metadata": {},
     "output_type": "display_data"
    },
    {
     "data": {
      "text/html": [
       "<pre>| 20568        | 94.25       | 3m 23s       |</pre>"
      ],
      "text/plain": [
       "| 20568        | 94.25       | 3m 23s       |"
      ]
     },
     "metadata": {},
     "output_type": "display_data"
    },
    {
     "data": {
      "text/html": [
       "<pre>| 20677        | 94.75       | 3m 24s       |</pre>"
      ],
      "text/plain": [
       "| 20677        | 94.75       | 3m 24s       |"
      ]
     },
     "metadata": {},
     "output_type": "display_data"
    },
    {
     "data": {
      "text/html": [
       "<pre>| 20764        | 95          | 3m 25s       |</pre>"
      ],
      "text/plain": [
       "| 20764        | 95          | 3m 25s       |"
      ]
     },
     "metadata": {},
     "output_type": "display_data"
    },
    {
     "data": {
      "text/html": [
       "<pre>| 20876        | 95.5        | 3m 26s       |</pre>"
      ],
      "text/plain": [
       "| 20876        | 95.5        | 3m 26s       |"
      ]
     },
     "metadata": {},
     "output_type": "display_data"
    },
    {
     "data": {
      "text/html": [
       "<pre>| 20984        | 96          | 3m 27s       |</pre>"
      ],
      "text/plain": [
       "| 20984        | 96          | 3m 27s       |"
      ]
     },
     "metadata": {},
     "output_type": "display_data"
    },
    {
     "data": {
      "text/html": [
       "<pre>| 21096        | 96.5        | 3m 28s       |</pre>"
      ],
      "text/plain": [
       "| 21096        | 96.5        | 3m 28s       |"
      ]
     },
     "metadata": {},
     "output_type": "display_data"
    },
    {
     "data": {
      "text/html": [
       "<pre>| 21198        | 97          | 3m 29s       |</pre>"
      ],
      "text/plain": [
       "| 21198        | 97          | 3m 29s       |"
      ]
     },
     "metadata": {},
     "output_type": "display_data"
    },
    {
     "data": {
      "text/html": [
       "<pre>| 21291        | 97.5        | 3m 30s       |</pre>"
      ],
      "text/plain": [
       "| 21291        | 97.5        | 3m 30s       |"
      ]
     },
     "metadata": {},
     "output_type": "display_data"
    },
    {
     "data": {
      "text/html": [
       "<pre>| 21386        | 98          | 3m 31s       |</pre>"
      ],
      "text/plain": [
       "| 21386        | 98          | 3m 31s       |"
      ]
     },
     "metadata": {},
     "output_type": "display_data"
    },
    {
     "data": {
      "text/html": [
       "<pre>| 21493        | 98.5        | 3m 32s       |</pre>"
      ],
      "text/plain": [
       "| 21493        | 98.5        | 3m 32s       |"
      ]
     },
     "metadata": {},
     "output_type": "display_data"
    },
    {
     "data": {
      "text/html": [
       "<pre>| 21600        | 99          | 3m 33s       |</pre>"
      ],
      "text/plain": [
       "| 21600        | 99          | 3m 33s       |"
      ]
     },
     "metadata": {},
     "output_type": "display_data"
    },
    {
     "data": {
      "text/html": [
       "<pre>| 21703        | 99.25       | 3m 34s       |</pre>"
      ],
      "text/plain": [
       "| 21703        | 99.25       | 3m 34s       |"
      ]
     },
     "metadata": {},
     "output_type": "display_data"
    },
    {
     "data": {
      "text/html": [
       "<pre>| 21758        | 99.5        | 3m 35s       |</pre>"
      ],
      "text/plain": [
       "| 21758        | 99.5        | 3m 35s       |"
      ]
     },
     "metadata": {},
     "output_type": "display_data"
    },
    {
     "data": {
      "text/html": [
       "<pre>| 21806        | 99.75       | 3m 36s       |</pre>"
      ],
      "text/plain": [
       "| 21806        | 99.75       | 3m 36s       |"
      ]
     },
     "metadata": {},
     "output_type": "display_data"
    },
    {
     "data": {
      "text/html": [
       "<pre>| Done         |             | 3m 36s       |</pre>"
      ],
      "text/plain": [
       "| Done         |             | 3m 36s       |"
      ]
     },
     "metadata": {},
     "output_type": "display_data"
    },
    {
     "data": {
      "text/html": [
       "<pre>+--------------+-------------+--------------+</pre>"
      ],
      "text/plain": [
       "+--------------+-------------+--------------+"
      ]
     },
     "metadata": {},
     "output_type": "display_data"
    }
   ],
   "source": [
    "predictions = m.classify(test_data, max_neighbors=20, radius=None)"
   ]
  },
  {
   "cell_type": "code",
   "execution_count": 13,
   "metadata": {
    "collapsed": false
   },
   "outputs": [
    {
     "name": "stdout",
     "output_type": "stream",
     "text": [
      "+-------+-------------+\n",
      "| class | probability |\n",
      "+-------+-------------+\n",
      "|   4   |     0.45    |\n",
      "|   5   |     0.7     |\n",
      "|   4   |     0.35    |\n",
      "|   4   |     0.5     |\n",
      "|   5   |     0.45    |\n",
      "|   4   |     0.45    |\n",
      "|   3   |     0.35    |\n",
      "|   5   |     0.55    |\n",
      "|   5   |     0.8     |\n",
      "|   4   |     0.65    |\n",
      "+-------+-------------+\n",
      "[21815 rows x 2 columns]\n",
      "Note: Only the head of the SFrame is printed.\n",
      "You can use print_rows(num_rows=m, num_columns=n) to print more rows and columns.\n"
     ]
    }
   ],
   "source": [
    "print predictions"
   ]
  },
  {
   "cell_type": "code",
   "execution_count": 14,
   "metadata": {
    "collapsed": true
   },
   "outputs": [],
   "source": [
    "topk = m.predict_topk(test_data[:5], max_neighbors=20, k=3)"
   ]
  },
  {
   "cell_type": "code",
   "execution_count": 15,
   "metadata": {
    "collapsed": false
   },
   "outputs": [
    {
     "name": "stdout",
     "output_type": "stream",
     "text": [
      "+--------+-------+-------------+\n",
      "| row_id | class | probability |\n",
      "+--------+-------+-------------+\n",
      "|   2    |   4   |     0.35    |\n",
      "|   2    |   3   |     0.25    |\n",
      "|   2    |   2   |     0.2     |\n",
      "|   0    |   4   |     0.45    |\n",
      "|   0    |   5   |     0.35    |\n",
      "|   0    |   3   |     0.15    |\n",
      "|   4    |   5   |     0.45    |\n",
      "|   4    |   4   |     0.4     |\n",
      "|   4    |   3   |     0.15    |\n",
      "|   3    |   4   |     0.5     |\n",
      "+--------+-------+-------------+\n",
      "[14 rows x 3 columns]\n",
      "Note: Only the head of the SFrame is printed.\n",
      "You can use print_rows(num_rows=m, num_columns=n) to print more rows and columns.\n"
     ]
    }
   ],
   "source": [
    "print topk"
   ]
  },
  {
   "cell_type": "code",
   "execution_count": 16,
   "metadata": {
    "collapsed": false
   },
   "outputs": [
    {
     "name": "stdout",
     "output_type": "stream",
     "text": [
      "WARNING: Ignoring `roc_curve`. Not supported for multi-class classification.\n"
     ]
    },
    {
     "data": {
      "text/html": [
       "<pre>+--------------+-------------+--------------+</pre>"
      ],
      "text/plain": [
       "+--------------+-------------+--------------+"
      ]
     },
     "metadata": {},
     "output_type": "display_data"
    },
    {
     "data": {
      "text/html": [
       "<pre>| Query points | % Complete. | Elapsed Time |</pre>"
      ],
      "text/plain": [
       "| Query points | % Complete. | Elapsed Time |"
      ]
     },
     "metadata": {},
     "output_type": "display_data"
    },
    {
     "data": {
      "text/html": [
       "<pre>+--------------+-------------+--------------+</pre>"
      ],
      "text/plain": [
       "+--------------+-------------+--------------+"
      ]
     },
     "metadata": {},
     "output_type": "display_data"
    },
    {
     "data": {
      "text/html": [
       "<pre>| 1            | 0           | 25.001ms     |</pre>"
      ],
      "text/plain": [
       "| 1            | 0           | 25.001ms     |"
      ]
     },
     "metadata": {},
     "output_type": "display_data"
    },
    {
     "data": {
      "text/html": [
       "<pre>| 128          | 4.25        | 1.02s        |</pre>"
      ],
      "text/plain": [
       "| 128          | 4.25        | 1.02s        |"
      ]
     },
     "metadata": {},
     "output_type": "display_data"
    },
    {
     "data": {
      "text/html": [
       "<pre>| 243          | 8           | 2.02s        |</pre>"
      ],
      "text/plain": [
       "| 243          | 8           | 2.02s        |"
      ]
     },
     "metadata": {},
     "output_type": "display_data"
    },
    {
     "data": {
      "text/html": [
       "<pre>| 341          | 11.25       | 3.03s        |</pre>"
      ],
      "text/plain": [
       "| 341          | 11.25       | 3.03s        |"
      ]
     },
     "metadata": {},
     "output_type": "display_data"
    },
    {
     "data": {
      "text/html": [
       "<pre>| 462          | 15.25       | 4.03s        |</pre>"
      ],
      "text/plain": [
       "| 462          | 15.25       | 4.03s        |"
      ]
     },
     "metadata": {},
     "output_type": "display_data"
    },
    {
     "data": {
      "text/html": [
       "<pre>| 579          | 19.25       | 5.02s        |</pre>"
      ],
      "text/plain": [
       "| 579          | 19.25       | 5.02s        |"
      ]
     },
     "metadata": {},
     "output_type": "display_data"
    },
    {
     "data": {
      "text/html": [
       "<pre>| 688          | 22.75       | 6.02s        |</pre>"
      ],
      "text/plain": [
       "| 688          | 22.75       | 6.02s        |"
      ]
     },
     "metadata": {},
     "output_type": "display_data"
    },
    {
     "data": {
      "text/html": [
       "<pre>| 802          | 26.5        | 7.04s        |</pre>"
      ],
      "text/plain": [
       "| 802          | 26.5        | 7.04s        |"
      ]
     },
     "metadata": {},
     "output_type": "display_data"
    },
    {
     "data": {
      "text/html": [
       "<pre>| 910          | 30.25       | 8.08s        |</pre>"
      ],
      "text/plain": [
       "| 910          | 30.25       | 8.08s        |"
      ]
     },
     "metadata": {},
     "output_type": "display_data"
    },
    {
     "data": {
      "text/html": [
       "<pre>| 1017         | 33.75       | 9.03s        |</pre>"
      ],
      "text/plain": [
       "| 1017         | 33.75       | 9.03s        |"
      ]
     },
     "metadata": {},
     "output_type": "display_data"
    },
    {
     "data": {
      "text/html": [
       "<pre>| 1130         | 37.5        | 10.02s       |</pre>"
      ],
      "text/plain": [
       "| 1130         | 37.5        | 10.02s       |"
      ]
     },
     "metadata": {},
     "output_type": "display_data"
    },
    {
     "data": {
      "text/html": [
       "<pre>| 1231         | 41          | 11.03s       |</pre>"
      ],
      "text/plain": [
       "| 1231         | 41          | 11.03s       |"
      ]
     },
     "metadata": {},
     "output_type": "display_data"
    },
    {
     "data": {
      "text/html": [
       "<pre>| 1336         | 44.5        | 12.03s       |</pre>"
      ],
      "text/plain": [
       "| 1336         | 44.5        | 12.03s       |"
      ]
     },
     "metadata": {},
     "output_type": "display_data"
    },
    {
     "data": {
      "text/html": [
       "<pre>| 1443         | 48          | 13.02s       |</pre>"
      ],
      "text/plain": [
       "| 1443         | 48          | 13.02s       |"
      ]
     },
     "metadata": {},
     "output_type": "display_data"
    },
    {
     "data": {
      "text/html": [
       "<pre>| 1540         | 51.25       | 14.02s       |</pre>"
      ],
      "text/plain": [
       "| 1540         | 51.25       | 14.02s       |"
      ]
     },
     "metadata": {},
     "output_type": "display_data"
    },
    {
     "data": {
      "text/html": [
       "<pre>| 1661         | 55.25       | 15.03s       |</pre>"
      ],
      "text/plain": [
       "| 1661         | 55.25       | 15.03s       |"
      ]
     },
     "metadata": {},
     "output_type": "display_data"
    },
    {
     "data": {
      "text/html": [
       "<pre>| 1767         | 58.75       | 16.02s       |</pre>"
      ],
      "text/plain": [
       "| 1767         | 58.75       | 16.02s       |"
      ]
     },
     "metadata": {},
     "output_type": "display_data"
    },
    {
     "data": {
      "text/html": [
       "<pre>| 1884         | 62.75       | 17.03s       |</pre>"
      ],
      "text/plain": [
       "| 1884         | 62.75       | 17.03s       |"
      ]
     },
     "metadata": {},
     "output_type": "display_data"
    },
    {
     "data": {
      "text/html": [
       "<pre>| 1994         | 66.25       | 18.02s       |</pre>"
      ],
      "text/plain": [
       "| 1994         | 66.25       | 18.02s       |"
      ]
     },
     "metadata": {},
     "output_type": "display_data"
    },
    {
     "data": {
      "text/html": [
       "<pre>| 2103         | 70          | 19.02s       |</pre>"
      ],
      "text/plain": [
       "| 2103         | 70          | 19.02s       |"
      ]
     },
     "metadata": {},
     "output_type": "display_data"
    },
    {
     "data": {
      "text/html": [
       "<pre>| 2221         | 74          | 20.03s       |</pre>"
      ],
      "text/plain": [
       "| 2221         | 74          | 20.03s       |"
      ]
     },
     "metadata": {},
     "output_type": "display_data"
    },
    {
     "data": {
      "text/html": [
       "<pre>| 2337         | 77.75       | 21.03s       |</pre>"
      ],
      "text/plain": [
       "| 2337         | 77.75       | 21.03s       |"
      ]
     },
     "metadata": {},
     "output_type": "display_data"
    },
    {
     "data": {
      "text/html": [
       "<pre>| 2447         | 81.5        | 22.02s       |</pre>"
      ],
      "text/plain": [
       "| 2447         | 81.5        | 22.02s       |"
      ]
     },
     "metadata": {},
     "output_type": "display_data"
    },
    {
     "data": {
      "text/html": [
       "<pre>| 2557         | 85          | 23.02s       |</pre>"
      ],
      "text/plain": [
       "| 2557         | 85          | 23.02s       |"
      ]
     },
     "metadata": {},
     "output_type": "display_data"
    },
    {
     "data": {
      "text/html": [
       "<pre>| 2661         | 88.5        | 24.02s       |</pre>"
      ],
      "text/plain": [
       "| 2661         | 88.5        | 24.02s       |"
      ]
     },
     "metadata": {},
     "output_type": "display_data"
    },
    {
     "data": {
      "text/html": [
       "<pre>| 2784         | 92.75       | 25.03s       |</pre>"
      ],
      "text/plain": [
       "| 2784         | 92.75       | 25.03s       |"
      ]
     },
     "metadata": {},
     "output_type": "display_data"
    },
    {
     "data": {
      "text/html": [
       "<pre>| 2889         | 96.25       | 26.03s       |</pre>"
      ],
      "text/plain": [
       "| 2889         | 96.25       | 26.03s       |"
      ]
     },
     "metadata": {},
     "output_type": "display_data"
    },
    {
     "data": {
      "text/html": [
       "<pre>| 2977         | 99          | 27.02s       |</pre>"
      ],
      "text/plain": [
       "| 2977         | 99          | 27.02s       |"
      ]
     },
     "metadata": {},
     "output_type": "display_data"
    },
    {
     "data": {
      "text/html": [
       "<pre>| Done         |             | 27.48s       |</pre>"
      ],
      "text/plain": [
       "| Done         |             | 27.48s       |"
      ]
     },
     "metadata": {},
     "output_type": "display_data"
    },
    {
     "data": {
      "text/html": [
       "<pre>+--------------+-------------+--------------+</pre>"
      ],
      "text/plain": [
       "+--------------+-------------+--------------+"
      ]
     },
     "metadata": {},
     "output_type": "display_data"
    },
    {
     "data": {
      "text/html": [
       "<pre>+--------------+-------------+--------------+</pre>"
      ],
      "text/plain": [
       "+--------------+-------------+--------------+"
      ]
     },
     "metadata": {},
     "output_type": "display_data"
    },
    {
     "data": {
      "text/html": [
       "<pre>| Query points | % Complete. | Elapsed Time |</pre>"
      ],
      "text/plain": [
       "| Query points | % Complete. | Elapsed Time |"
      ]
     },
     "metadata": {},
     "output_type": "display_data"
    },
    {
     "data": {
      "text/html": [
       "<pre>+--------------+-------------+--------------+</pre>"
      ],
      "text/plain": [
       "+--------------+-------------+--------------+"
      ]
     },
     "metadata": {},
     "output_type": "display_data"
    },
    {
     "data": {
      "text/html": [
       "<pre>| 1            | 0           | 11.001ms     |</pre>"
      ],
      "text/plain": [
       "| 1            | 0           | 11.001ms     |"
      ]
     },
     "metadata": {},
     "output_type": "display_data"
    },
    {
     "data": {
      "text/html": [
       "<pre>| 131          | 4.25        | 1.01s        |</pre>"
      ],
      "text/plain": [
       "| 131          | 4.25        | 1.01s        |"
      ]
     },
     "metadata": {},
     "output_type": "display_data"
    },
    {
     "data": {
      "text/html": [
       "<pre>| 240          | 8           | 2.02s        |</pre>"
      ],
      "text/plain": [
       "| 240          | 8           | 2.02s        |"
      ]
     },
     "metadata": {},
     "output_type": "display_data"
    },
    {
     "data": {
      "text/html": [
       "<pre>| 331          | 11          | 3.01s        |</pre>"
      ],
      "text/plain": [
       "| 331          | 11          | 3.01s        |"
      ]
     },
     "metadata": {},
     "output_type": "display_data"
    },
    {
     "data": {
      "text/html": [
       "<pre>| 452          | 15          | 4.02s        |</pre>"
      ],
      "text/plain": [
       "| 452          | 15          | 4.02s        |"
      ]
     },
     "metadata": {},
     "output_type": "display_data"
    },
    {
     "data": {
      "text/html": [
       "<pre>| 573          | 19          | 5.01s        |</pre>"
      ],
      "text/plain": [
       "| 573          | 19          | 5.01s        |"
      ]
     },
     "metadata": {},
     "output_type": "display_data"
    },
    {
     "data": {
      "text/html": [
       "<pre>| 687          | 22.75       | 6.01s        |</pre>"
      ],
      "text/plain": [
       "| 687          | 22.75       | 6.01s        |"
      ]
     },
     "metadata": {},
     "output_type": "display_data"
    },
    {
     "data": {
      "text/html": [
       "<pre>| 802          | 26.5        | 7.01s        |</pre>"
      ],
      "text/plain": [
       "| 802          | 26.5        | 7.01s        |"
      ]
     },
     "metadata": {},
     "output_type": "display_data"
    },
    {
     "data": {
      "text/html": [
       "<pre>| 915          | 30.5        | 8.02s        |</pre>"
      ],
      "text/plain": [
       "| 915          | 30.5        | 8.02s        |"
      ]
     },
     "metadata": {},
     "output_type": "display_data"
    },
    {
     "data": {
      "text/html": [
       "<pre>| 1029         | 34.25       | 9.03s        |</pre>"
      ],
      "text/plain": [
       "| 1029         | 34.25       | 9.03s        |"
      ]
     },
     "metadata": {},
     "output_type": "display_data"
    },
    {
     "data": {
      "text/html": [
       "<pre>| 1139         | 37.75       | 10.01s       |</pre>"
      ],
      "text/plain": [
       "| 1139         | 37.75       | 10.01s       |"
      ]
     },
     "metadata": {},
     "output_type": "display_data"
    },
    {
     "data": {
      "text/html": [
       "<pre>| 1239         | 41.25       | 11.03s       |</pre>"
      ],
      "text/plain": [
       "| 1239         | 41.25       | 11.03s       |"
      ]
     },
     "metadata": {},
     "output_type": "display_data"
    },
    {
     "data": {
      "text/html": [
       "<pre>| 1355         | 45          | 12.01s       |</pre>"
      ],
      "text/plain": [
       "| 1355         | 45          | 12.01s       |"
      ]
     },
     "metadata": {},
     "output_type": "display_data"
    },
    {
     "data": {
      "text/html": [
       "<pre>| 1464         | 48.75       | 13.01s       |</pre>"
      ],
      "text/plain": [
       "| 1464         | 48.75       | 13.01s       |"
      ]
     },
     "metadata": {},
     "output_type": "display_data"
    },
    {
     "data": {
      "text/html": [
       "<pre>| 1570         | 52.25       | 14.02s       |</pre>"
      ],
      "text/plain": [
       "| 1570         | 52.25       | 14.02s       |"
      ]
     },
     "metadata": {},
     "output_type": "display_data"
    },
    {
     "data": {
      "text/html": [
       "<pre>| 1693         | 56.25       | 15.01s       |</pre>"
      ],
      "text/plain": [
       "| 1693         | 56.25       | 15.01s       |"
      ]
     },
     "metadata": {},
     "output_type": "display_data"
    },
    {
     "data": {
      "text/html": [
       "<pre>| 1790         | 59.5        | 16.02s       |</pre>"
      ],
      "text/plain": [
       "| 1790         | 59.5        | 16.02s       |"
      ]
     },
     "metadata": {},
     "output_type": "display_data"
    },
    {
     "data": {
      "text/html": [
       "<pre>| 1906         | 63.5        | 17.00s       |</pre>"
      ],
      "text/plain": [
       "| 1906         | 63.5        | 17.00s       |"
      ]
     },
     "metadata": {},
     "output_type": "display_data"
    },
    {
     "data": {
      "text/html": [
       "<pre>| 2021         | 67.25       | 18.03s       |</pre>"
      ],
      "text/plain": [
       "| 2021         | 67.25       | 18.03s       |"
      ]
     },
     "metadata": {},
     "output_type": "display_data"
    },
    {
     "data": {
      "text/html": [
       "<pre>| 2132         | 71          | 19.03s       |</pre>"
      ],
      "text/plain": [
       "| 2132         | 71          | 19.03s       |"
      ]
     },
     "metadata": {},
     "output_type": "display_data"
    },
    {
     "data": {
      "text/html": [
       "<pre>| 2251         | 75          | 20.00s       |</pre>"
      ],
      "text/plain": [
       "| 2251         | 75          | 20.00s       |"
      ]
     },
     "metadata": {},
     "output_type": "display_data"
    },
    {
     "data": {
      "text/html": [
       "<pre>| 2367         | 78.75       | 21.01s       |</pre>"
      ],
      "text/plain": [
       "| 2367         | 78.75       | 21.01s       |"
      ]
     },
     "metadata": {},
     "output_type": "display_data"
    },
    {
     "data": {
      "text/html": [
       "<pre>| 2472         | 82.25       | 22.03s       |</pre>"
      ],
      "text/plain": [
       "| 2472         | 82.25       | 22.03s       |"
      ]
     },
     "metadata": {},
     "output_type": "display_data"
    },
    {
     "data": {
      "text/html": [
       "<pre>| 2588         | 86.25       | 23.02s       |</pre>"
      ],
      "text/plain": [
       "| 2588         | 86.25       | 23.02s       |"
      ]
     },
     "metadata": {},
     "output_type": "display_data"
    },
    {
     "data": {
      "text/html": [
       "<pre>| 2688         | 89.5        | 24.03s       |</pre>"
      ],
      "text/plain": [
       "| 2688         | 89.5        | 24.03s       |"
      ]
     },
     "metadata": {},
     "output_type": "display_data"
    },
    {
     "data": {
      "text/html": [
       "<pre>| 2797         | 93          | 25.01s       |</pre>"
      ],
      "text/plain": [
       "| 2797         | 93          | 25.01s       |"
      ]
     },
     "metadata": {},
     "output_type": "display_data"
    },
    {
     "data": {
      "text/html": [
       "<pre>| 2893         | 96.25       | 26.01s       |</pre>"
      ],
      "text/plain": [
       "| 2893         | 96.25       | 26.01s       |"
      ]
     },
     "metadata": {},
     "output_type": "display_data"
    },
    {
     "data": {
      "text/html": [
       "<pre>| 2980         | 99.25       | 27.02s       |</pre>"
      ],
      "text/plain": [
       "| 2980         | 99.25       | 27.02s       |"
      ]
     },
     "metadata": {},
     "output_type": "display_data"
    },
    {
     "data": {
      "text/html": [
       "<pre>| Done         |             | 27.45s       |</pre>"
      ],
      "text/plain": [
       "| Done         |             | 27.45s       |"
      ]
     },
     "metadata": {},
     "output_type": "display_data"
    },
    {
     "data": {
      "text/html": [
       "<pre>+--------------+-------------+--------------+</pre>"
      ],
      "text/plain": [
       "+--------------+-------------+--------------+"
      ]
     },
     "metadata": {},
     "output_type": "display_data"
    },
    {
     "name": "stdout",
     "output_type": "stream",
     "text": [
      "0.441333333333\n"
     ]
    }
   ],
   "source": [
    "evals = m.evaluate(test_data[:3000])\n",
    "print evals['accuracy']"
   ]
  },
  {
   "cell_type": "code",
   "execution_count": 17,
   "metadata": {
    "collapsed": false
   },
   "outputs": [
    {
     "name": "stdout",
     "output_type": "stream",
     "text": [
      "0.114370845748\n"
     ]
    }
   ],
   "source": [
    "conf_matrix = evals['confusion_matrix']\n",
    "conf_matrix['within_one'] = conf_matrix.apply(\n",
    "    lambda x: abs(x['target_label'] - x['predicted_label']) <= 1)\n",
    "num_within_one = conf_matrix[conf_matrix['within_one']]['count'].sum()\n",
    "print float(num_within_one) / len(test_data)"
   ]
  },
  {
   "cell_type": "code",
   "execution_count": 18,
   "metadata": {
    "collapsed": true
   },
   "outputs": [],
   "source": [
    "train_data['word_counts'] = gl.text_analytics.count_words(train_data['text'],\n",
    "                                                          to_lower=True)"
   ]
  },
  {
   "cell_type": "code",
   "execution_count": 19,
   "metadata": {
    "collapsed": true
   },
   "outputs": [],
   "source": [
    "test_data['word_counts'] = gl.text_analytics.count_words(test_data['text'],\n",
    "                                                         to_lower=True)"
   ]
  },
  {
   "cell_type": "code",
   "execution_count": 20,
   "metadata": {
    "collapsed": true
   },
   "outputs": [],
   "source": [
    "my_dist = [\n",
    "    [numeric_features, 'euclidean', 1.0],\n",
    "    [['word_counts'], 'weighted_jaccard', 1.0]\n",
    "    ]"
   ]
  },
  {
   "cell_type": "code",
   "execution_count": 21,
   "metadata": {
    "collapsed": false
   },
   "outputs": [
    {
     "name": "stdout",
     "output_type": "stream",
     "text": [
      "Defaulting to brute force instead of ball tree because there are multiple distance components.\n"
     ]
    },
    {
     "data": {
      "text/html": [
       "<pre>Starting brute force nearest neighbors model training.</pre>"
      ],
      "text/plain": [
       "Starting brute force nearest neighbors model training."
      ]
     },
     "metadata": {},
     "output_type": "display_data"
    }
   ],
   "source": [
    "m2 = gl.nearest_neighbor_classifier.create(train_data, target='stars',\n",
    "                                          distance=my_dist)"
   ]
  },
  {
   "cell_type": "code",
   "execution_count": 22,
   "metadata": {
    "collapsed": false
   },
   "outputs": [
    {
     "name": "stdout",
     "output_type": "stream",
     "text": [
      "WARNING: Ignoring `roc_curve`. Not supported for multi-class classification.\n"
     ]
    },
    {
     "data": {
      "text/html": [
       "<pre>Starting pairwise querying.</pre>"
      ],
      "text/plain": [
       "Starting pairwise querying."
      ]
     },
     "metadata": {},
     "output_type": "display_data"
    },
    {
     "data": {
      "text/html": [
       "<pre>+--------------+---------+-------------+--------------+</pre>"
      ],
      "text/plain": [
       "+--------------+---------+-------------+--------------+"
      ]
     },
     "metadata": {},
     "output_type": "display_data"
    },
    {
     "data": {
      "text/html": [
       "<pre>| Query points | # Pairs | % Complete. | Elapsed Time |</pre>"
      ],
      "text/plain": [
       "| Query points | # Pairs | % Complete. | Elapsed Time |"
      ]
     },
     "metadata": {},
     "output_type": "display_data"
    },
    {
     "data": {
      "text/html": [
       "<pre>+--------------+---------+-------------+--------------+</pre>"
      ],
      "text/plain": [
       "+--------------+---------+-------------+--------------+"
      ]
     },
     "metadata": {},
     "output_type": "display_data"
    },
    {
     "data": {
      "text/html": [
       "<pre>| 0            | 3000    | 0.000515294 | 30.002ms     |</pre>"
      ],
      "text/plain": [
       "| 0            | 3000    | 0.000515294 | 30.002ms     |"
      ]
     },
     "metadata": {},
     "output_type": "display_data"
    },
    {
     "data": {
      "text/html": [
       "<pre>| 22           | 4413000 | 0.757997    | 1.03s        |</pre>"
      ],
      "text/plain": [
       "| 22           | 4413000 | 0.757997    | 1.03s        |"
      ]
     },
     "metadata": {},
     "output_type": "display_data"
    },
    {
     "data": {
      "text/html": [
       "<pre>| 43           | 8391000 | 1.44128     | 2.03s        |</pre>"
      ],
      "text/plain": [
       "| 43           | 8391000 | 1.44128     | 2.03s        |"
      ]
     },
     "metadata": {},
     "output_type": "display_data"
    },
    {
     "data": {
      "text/html": [
       "<pre>| 64           | 1e+007  | 2.15135     | 3.03s        |</pre>"
      ],
      "text/plain": [
       "| 64           | 1e+007  | 2.15135     | 3.03s        |"
      ]
     },
     "metadata": {},
     "output_type": "display_data"
    },
    {
     "data": {
      "text/html": [
       "<pre>| 86           | 2e+007  | 2.87895     | 4.03s        |</pre>"
      ],
      "text/plain": [
       "| 86           | 2e+007  | 2.87895     | 4.03s        |"
      ]
     },
     "metadata": {},
     "output_type": "display_data"
    },
    {
     "data": {
      "text/html": [
       "<pre>| 108          | 2e+007  | 3.61221     | 5.02s        |</pre>"
      ],
      "text/plain": [
       "| 108          | 2e+007  | 3.61221     | 5.02s        |"
      ]
     },
     "metadata": {},
     "output_type": "display_data"
    },
    {
     "data": {
      "text/html": [
       "<pre>| 129          | 3e+007  | 4.32074     | 6.02s        |</pre>"
      ],
      "text/plain": [
       "| 129          | 3e+007  | 4.32074     | 6.02s        |"
      ]
     },
     "metadata": {},
     "output_type": "display_data"
    },
    {
     "data": {
      "text/html": [
       "<pre>| 146          | 3e+007  | 4.88653     | 7.03s        |</pre>"
      ],
      "text/plain": [
       "| 146          | 3e+007  | 4.88653     | 7.03s        |"
      ]
     },
     "metadata": {},
     "output_type": "display_data"
    },
    {
     "data": {
      "text/html": [
       "<pre>| 168          | 3e+007  | 5.60743     | 8.02s        |</pre>"
      ],
      "text/plain": [
       "| 168          | 3e+007  | 5.60743     | 8.02s        |"
      ]
     },
     "metadata": {},
     "output_type": "display_data"
    },
    {
     "data": {
      "text/html": [
       "<pre>| 189          | 4e+007  | 6.3242      | 9.02s        |</pre>"
      ],
      "text/plain": [
       "| 189          | 4e+007  | 6.3242      | 9.02s        |"
      ]
     },
     "metadata": {},
     "output_type": "display_data"
    },
    {
     "data": {
      "text/html": [
       "<pre>| 210          | 4e+007  | 7.02294     | 10.02s       |</pre>"
      ],
      "text/plain": [
       "| 210          | 4e+007  | 7.02294     | 10.02s       |"
      ]
     },
     "metadata": {},
     "output_type": "display_data"
    },
    {
     "data": {
      "text/html": [
       "<pre>| 231          | 4e+007  | 7.7191      | 11.02s       |</pre>"
      ],
      "text/plain": [
       "| 231          | 4e+007  | 7.7191      | 11.02s       |"
      ]
     },
     "metadata": {},
     "output_type": "display_data"
    },
    {
     "data": {
      "text/html": [
       "<pre>| 250          | 5e+007  | 8.35652     | 12.02s       |</pre>"
      ],
      "text/plain": [
       "| 250          | 5e+007  | 8.35652     | 12.02s       |"
      ]
     },
     "metadata": {},
     "output_type": "display_data"
    },
    {
     "data": {
      "text/html": [
       "<pre>| 272          | 5e+007  | 9.08772     | 13.02s       |</pre>"
      ],
      "text/plain": [
       "| 272          | 5e+007  | 9.08772     | 13.02s       |"
      ]
     },
     "metadata": {},
     "output_type": "display_data"
    },
    {
     "data": {
      "text/html": [
       "<pre>| 295          | 6e+007  | 9.83335     | 14.02s       |</pre>"
      ],
      "text/plain": [
       "| 295          | 6e+007  | 9.83335     | 14.02s       |"
      ]
     },
     "metadata": {},
     "output_type": "display_data"
    },
    {
     "data": {
      "text/html": [
       "<pre>| 316          | 6e+007  | 10.546      | 15.02s       |</pre>"
      ],
      "text/plain": [
       "| 316          | 6e+007  | 10.546      | 15.02s       |"
      ]
     },
     "metadata": {},
     "output_type": "display_data"
    },
    {
     "data": {
      "text/html": [
       "<pre>| 337          | 7e+007  | 11.2597     | 16.02s       |</pre>"
      ],
      "text/plain": [
       "| 337          | 7e+007  | 11.2597     | 16.02s       |"
      ]
     },
     "metadata": {},
     "output_type": "display_data"
    },
    {
     "data": {
      "text/html": [
       "<pre>| 358          | 7e+007  | 11.9461     | 17.02s       |</pre>"
      ],
      "text/plain": [
       "| 358          | 7e+007  | 11.9461     | 17.02s       |"
      ]
     },
     "metadata": {},
     "output_type": "display_data"
    },
    {
     "data": {
      "text/html": [
       "<pre>| 380          | 7e+007  | 12.686      | 18.02s       |</pre>"
      ],
      "text/plain": [
       "| 380          | 7e+007  | 12.686      | 18.02s       |"
      ]
     },
     "metadata": {},
     "output_type": "display_data"
    },
    {
     "data": {
      "text/html": [
       "<pre>| 402          | 8e+007  | 13.4136     | 19.02s       |</pre>"
      ],
      "text/plain": [
       "| 402          | 8e+007  | 13.4136     | 19.02s       |"
      ]
     },
     "metadata": {},
     "output_type": "display_data"
    },
    {
     "data": {
      "text/html": [
       "<pre>| 424          | 8e+007  | 14.1386     | 20.02s       |</pre>"
      ],
      "text/plain": [
       "| 424          | 8e+007  | 14.1386     | 20.02s       |"
      ]
     },
     "metadata": {},
     "output_type": "display_data"
    },
    {
     "data": {
      "text/html": [
       "<pre>| 446          | 9e+007  | 14.8667     | 21.02s       |</pre>"
      ],
      "text/plain": [
       "| 446          | 9e+007  | 14.8667     | 21.02s       |"
      ]
     },
     "metadata": {},
     "output_type": "display_data"
    },
    {
     "data": {
      "text/html": [
       "<pre>| 467          | 9e+007  | 15.583      | 22.02s       |</pre>"
      ],
      "text/plain": [
       "| 467          | 9e+007  | 15.583      | 22.02s       |"
      ]
     },
     "metadata": {},
     "output_type": "display_data"
    },
    {
     "data": {
      "text/html": [
       "<pre>| 488          | 9e+007  | 16.2668     | 23.02s       |</pre>"
      ],
      "text/plain": [
       "| 488          | 9e+007  | 16.2668     | 23.02s       |"
      ]
     },
     "metadata": {},
     "output_type": "display_data"
    },
    {
     "data": {
      "text/html": [
       "<pre>| 510          | 1e+008  | 17.0011     | 24.02s       |</pre>"
      ],
      "text/plain": [
       "| 510          | 1e+008  | 17.0011     | 24.02s       |"
      ]
     },
     "metadata": {},
     "output_type": "display_data"
    },
    {
     "data": {
      "text/html": [
       "<pre>| 532          | 1e+008  | 17.7344     | 25.02s       |</pre>"
      ],
      "text/plain": [
       "| 532          | 1e+008  | 17.7344     | 25.02s       |"
      ]
     },
     "metadata": {},
     "output_type": "display_data"
    },
    {
     "data": {
      "text/html": [
       "<pre>| 554          | 1e+008  | 18.4723     | 26.02s       |</pre>"
      ],
      "text/plain": [
       "| 554          | 1e+008  | 18.4723     | 26.02s       |"
      ]
     },
     "metadata": {},
     "output_type": "display_data"
    },
    {
     "data": {
      "text/html": [
       "<pre>| 576          | 1e+008  | 19.2138     | 27.02s       |</pre>"
      ],
      "text/plain": [
       "| 576          | 1e+008  | 19.2138     | 27.02s       |"
      ]
     },
     "metadata": {},
     "output_type": "display_data"
    },
    {
     "data": {
      "text/html": [
       "<pre>| 598          | 1e+008  | 19.9429     | 28.02s       |</pre>"
      ],
      "text/plain": [
       "| 598          | 1e+008  | 19.9429     | 28.02s       |"
      ]
     },
     "metadata": {},
     "output_type": "display_data"
    },
    {
     "data": {
      "text/html": [
       "<pre>| 619          | 1e+008  | 20.6612     | 29.02s       |</pre>"
      ],
      "text/plain": [
       "| 619          | 1e+008  | 20.6612     | 29.02s       |"
      ]
     },
     "metadata": {},
     "output_type": "display_data"
    },
    {
     "data": {
      "text/html": [
       "<pre>| 641          | 1e+008  | 21.394      | 30.02s       |</pre>"
      ],
      "text/plain": [
       "| 641          | 1e+008  | 21.394      | 30.02s       |"
      ]
     },
     "metadata": {},
     "output_type": "display_data"
    },
    {
     "data": {
      "text/html": [
       "<pre>| 662          | 1e+008  | 22.0824     | 31.02s       |</pre>"
      ],
      "text/plain": [
       "| 662          | 1e+008  | 22.0824     | 31.02s       |"
      ]
     },
     "metadata": {},
     "output_type": "display_data"
    },
    {
     "data": {
      "text/html": [
       "<pre>| 682          | 1e+008  | 22.7435     | 32.02s       |</pre>"
      ],
      "text/plain": [
       "| 682          | 1e+008  | 22.7435     | 32.02s       |"
      ]
     },
     "metadata": {},
     "output_type": "display_data"
    },
    {
     "data": {
      "text/html": [
       "<pre>| 701          | 1e+008  | 23.3681     | 33.02s       |</pre>"
      ],
      "text/plain": [
       "| 701          | 1e+008  | 23.3681     | 33.02s       |"
      ]
     },
     "metadata": {},
     "output_type": "display_data"
    },
    {
     "data": {
      "text/html": [
       "<pre>| 721          | 1e+008  | 24.0663     | 34.02s       |</pre>"
      ],
      "text/plain": [
       "| 721          | 1e+008  | 24.0663     | 34.02s       |"
      ]
     },
     "metadata": {},
     "output_type": "display_data"
    },
    {
     "data": {
      "text/html": [
       "<pre>| 743          | 1e+008  | 24.7872     | 35.02s       |</pre>"
      ],
      "text/plain": [
       "| 743          | 1e+008  | 24.7872     | 35.02s       |"
      ]
     },
     "metadata": {},
     "output_type": "display_data"
    },
    {
     "data": {
      "text/html": [
       "<pre>| 765          | 1e+008  | 25.5153     | 36.02s       |</pre>"
      ],
      "text/plain": [
       "| 765          | 1e+008  | 25.5153     | 36.02s       |"
      ]
     },
     "metadata": {},
     "output_type": "display_data"
    },
    {
     "data": {
      "text/html": [
       "<pre>| 782          | 2e+008  | 26.095      | 37.02s       |</pre>"
      ],
      "text/plain": [
       "| 782          | 2e+008  | 26.095      | 37.02s       |"
      ]
     },
     "metadata": {},
     "output_type": "display_data"
    },
    {
     "data": {
      "text/html": [
       "<pre>| 797          | 2e+008  | 26.5758     | 38.02s       |</pre>"
      ],
      "text/plain": [
       "| 797          | 2e+008  | 26.5758     | 38.02s       |"
      ]
     },
     "metadata": {},
     "output_type": "display_data"
    },
    {
     "data": {
      "text/html": [
       "<pre>| 815          | 2e+008  | 27.1921     | 39.02s       |</pre>"
      ],
      "text/plain": [
       "| 815          | 2e+008  | 27.1921     | 39.02s       |"
      ]
     },
     "metadata": {},
     "output_type": "display_data"
    },
    {
     "data": {
      "text/html": [
       "<pre>| 836          | 2e+008  | 27.8753     | 40.02s       |</pre>"
      ],
      "text/plain": [
       "| 836          | 2e+008  | 27.8753     | 40.02s       |"
      ]
     },
     "metadata": {},
     "output_type": "display_data"
    },
    {
     "data": {
      "text/html": [
       "<pre>| 857          | 2e+008  | 28.588      | 41.02s       |</pre>"
      ],
      "text/plain": [
       "| 857          | 2e+008  | 28.588      | 41.02s       |"
      ]
     },
     "metadata": {},
     "output_type": "display_data"
    },
    {
     "data": {
      "text/html": [
       "<pre>| 877          | 2e+008  | 29.2507     | 42.02s       |</pre>"
      ],
      "text/plain": [
       "| 877          | 2e+008  | 29.2507     | 42.02s       |"
      ]
     },
     "metadata": {},
     "output_type": "display_data"
    },
    {
     "data": {
      "text/html": [
       "<pre>| 897          | 2e+008  | 29.9004     | 43.02s       |</pre>"
      ],
      "text/plain": [
       "| 897          | 2e+008  | 29.9004     | 43.02s       |"
      ]
     },
     "metadata": {},
     "output_type": "display_data"
    },
    {
     "data": {
      "text/html": [
       "<pre>| 917          | 2e+008  | 30.5672     | 44.02s       |</pre>"
      ],
      "text/plain": [
       "| 917          | 2e+008  | 30.5672     | 44.02s       |"
      ]
     },
     "metadata": {},
     "output_type": "display_data"
    },
    {
     "data": {
      "text/html": [
       "<pre>| 935          | 2e+008  | 31.1969     | 45.02s       |</pre>"
      ],
      "text/plain": [
       "| 935          | 2e+008  | 31.1969     | 45.02s       |"
      ]
     },
     "metadata": {},
     "output_type": "display_data"
    },
    {
     "data": {
      "text/html": [
       "<pre>| 955          | 2e+008  | 31.8653     | 46.02s       |</pre>"
      ],
      "text/plain": [
       "| 955          | 2e+008  | 31.8653     | 46.02s       |"
      ]
     },
     "metadata": {},
     "output_type": "display_data"
    },
    {
     "data": {
      "text/html": [
       "<pre>| 977          | 2e+008  | 32.5877     | 47.02s       |</pre>"
      ],
      "text/plain": [
       "| 977          | 2e+008  | 32.5877     | 47.02s       |"
      ]
     },
     "metadata": {},
     "output_type": "display_data"
    },
    {
     "data": {
      "text/html": [
       "<pre>| 998          | 2e+008  | 33.2978     | 48.02s       |</pre>"
      ],
      "text/plain": [
       "| 998          | 2e+008  | 33.2978     | 48.02s       |"
      ]
     },
     "metadata": {},
     "output_type": "display_data"
    },
    {
     "data": {
      "text/html": [
       "<pre>| 1019         | 2e+008  | 33.9872     | 49.02s       |</pre>"
      ],
      "text/plain": [
       "| 1019         | 2e+008  | 33.9872     | 49.02s       |"
      ]
     },
     "metadata": {},
     "output_type": "display_data"
    },
    {
     "data": {
      "text/html": [
       "<pre>| 1040         | 2e+008  | 34.6968     | 50.02s       |</pre>"
      ],
      "text/plain": [
       "| 1040         | 2e+008  | 34.6968     | 50.02s       |"
      ]
     },
     "metadata": {},
     "output_type": "display_data"
    },
    {
     "data": {
      "text/html": [
       "<pre>| 1060         | 2e+008  | 35.3363     | 51.02s       |</pre>"
      ],
      "text/plain": [
       "| 1060         | 2e+008  | 35.3363     | 51.02s       |"
      ]
     },
     "metadata": {},
     "output_type": "display_data"
    },
    {
     "data": {
      "text/html": [
       "<pre>| 1080         | 2e+008  | 36.0232     | 52.02s       |</pre>"
      ],
      "text/plain": [
       "| 1080         | 2e+008  | 36.0232     | 52.02s       |"
      ]
     },
     "metadata": {},
     "output_type": "display_data"
    },
    {
     "data": {
      "text/html": [
       "<pre>| 1100         | 2e+008  | 36.6889     | 53.02s       |</pre>"
      ],
      "text/plain": [
       "| 1100         | 2e+008  | 36.6889     | 53.02s       |"
      ]
     },
     "metadata": {},
     "output_type": "display_data"
    },
    {
     "data": {
      "text/html": [
       "<pre>| 1121         | 2e+008  | 37.381      | 54.02s       |</pre>"
      ],
      "text/plain": [
       "| 1121         | 2e+008  | 37.381      | 54.02s       |"
      ]
     },
     "metadata": {},
     "output_type": "display_data"
    },
    {
     "data": {
      "text/html": [
       "<pre>| 1141         | 2e+008  | 38.0617     | 55.02s       |</pre>"
      ],
      "text/plain": [
       "| 1141         | 2e+008  | 38.0617     | 55.02s       |"
      ]
     },
     "metadata": {},
     "output_type": "display_data"
    },
    {
     "data": {
      "text/html": [
       "<pre>| 1163         | 2e+008  | 38.7702     | 56.02s       |</pre>"
      ],
      "text/plain": [
       "| 1163         | 2e+008  | 38.7702     | 56.02s       |"
      ]
     },
     "metadata": {},
     "output_type": "display_data"
    },
    {
     "data": {
      "text/html": [
       "<pre>| 1183         | 2e+008  | 39.4499     | 57.02s       |</pre>"
      ],
      "text/plain": [
       "| 1183         | 2e+008  | 39.4499     | 57.02s       |"
      ]
     },
     "metadata": {},
     "output_type": "display_data"
    },
    {
     "data": {
      "text/html": [
       "<pre>| 1204         | 2e+008  | 40.1522     | 58.02s       |</pre>"
      ],
      "text/plain": [
       "| 1204         | 2e+008  | 40.1522     | 58.02s       |"
      ]
     },
     "metadata": {},
     "output_type": "display_data"
    },
    {
     "data": {
      "text/html": [
       "<pre>| 1225         | 2e+008  | 40.8494     | 59.02s       |</pre>"
      ],
      "text/plain": [
       "| 1225         | 2e+008  | 40.8494     | 59.02s       |"
      ]
     },
     "metadata": {},
     "output_type": "display_data"
    },
    {
     "data": {
      "text/html": [
       "<pre>| 1246         | 2e+008  | 41.56       | 1m 0s        |</pre>"
      ],
      "text/plain": [
       "| 1246         | 2e+008  | 41.56       | 1m 0s        |"
      ]
     },
     "metadata": {},
     "output_type": "display_data"
    },
    {
     "data": {
      "text/html": [
       "<pre>| 1268         | 2e+008  | 42.2727     | 1m 1s        |</pre>"
      ],
      "text/plain": [
       "| 1268         | 2e+008  | 42.2727     | 1m 1s        |"
      ]
     },
     "metadata": {},
     "output_type": "display_data"
    },
    {
     "data": {
      "text/html": [
       "<pre>| 1289         | 3e+008  | 42.9838     | 1m 2s        |</pre>"
      ],
      "text/plain": [
       "| 1289         | 3e+008  | 42.9838     | 1m 2s        |"
      ]
     },
     "metadata": {},
     "output_type": "display_data"
    },
    {
     "data": {
      "text/html": [
       "<pre>| 1310         | 3e+008  | 43.684      | 1m 3s        |</pre>"
      ],
      "text/plain": [
       "| 1310         | 3e+008  | 43.684      | 1m 3s        |"
      ]
     },
     "metadata": {},
     "output_type": "display_data"
    },
    {
     "data": {
      "text/html": [
       "<pre>| 1330         | 3e+008  | 44.3462     | 1m 4s        |</pre>"
      ],
      "text/plain": [
       "| 1330         | 3e+008  | 44.3462     | 1m 4s        |"
      ]
     },
     "metadata": {},
     "output_type": "display_data"
    },
    {
     "data": {
      "text/html": [
       "<pre>| 1352         | 3e+008  | 45.0831     | 1m 5s        |</pre>"
      ],
      "text/plain": [
       "| 1352         | 3e+008  | 45.0831     | 1m 5s        |"
      ]
     },
     "metadata": {},
     "output_type": "display_data"
    },
    {
     "data": {
      "text/html": [
       "<pre>| 1374         | 3e+008  | 45.804      | 1m 6s        |</pre>"
      ],
      "text/plain": [
       "| 1374         | 3e+008  | 45.804      | 1m 6s        |"
      ]
     },
     "metadata": {},
     "output_type": "display_data"
    },
    {
     "data": {
      "text/html": [
       "<pre>| 1394         | 3e+008  | 46.4908     | 1m 7s        |</pre>"
      ],
      "text/plain": [
       "| 1394         | 3e+008  | 46.4908     | 1m 7s        |"
      ]
     },
     "metadata": {},
     "output_type": "display_data"
    },
    {
     "data": {
      "text/html": [
       "<pre>| 1416         | 3e+008  | 47.2221     | 1m 8s        |</pre>"
      ],
      "text/plain": [
       "| 1416         | 3e+008  | 47.2221     | 1m 8s        |"
      ]
     },
     "metadata": {},
     "output_type": "display_data"
    },
    {
     "data": {
      "text/html": [
       "<pre>| 1437         | 3e+008  | 47.9125     | 1m 9s        |</pre>"
      ],
      "text/plain": [
       "| 1437         | 3e+008  | 47.9125     | 1m 9s        |"
      ]
     },
     "metadata": {},
     "output_type": "display_data"
    },
    {
     "data": {
      "text/html": [
       "<pre>| 1459         | 3e+008  | 48.6427     | 1m 10s       |</pre>"
      ],
      "text/plain": [
       "| 1459         | 3e+008  | 48.6427     | 1m 10s       |"
      ]
     },
     "metadata": {},
     "output_type": "display_data"
    },
    {
     "data": {
      "text/html": [
       "<pre>| 1479         | 3e+008  | 49.3327     | 1m 11s       |</pre>"
      ],
      "text/plain": [
       "| 1479         | 3e+008  | 49.3327     | 1m 11s       |"
      ]
     },
     "metadata": {},
     "output_type": "display_data"
    },
    {
     "data": {
      "text/html": [
       "<pre>| 1501         | 3e+008  | 50.0469     | 1m 12s       |</pre>"
      ],
      "text/plain": [
       "| 1501         | 3e+008  | 50.0469     | 1m 12s       |"
      ]
     },
     "metadata": {},
     "output_type": "display_data"
    },
    {
     "data": {
      "text/html": [
       "<pre>| 1523         | 3e+008  | 50.7698     | 1m 13s       |</pre>"
      ],
      "text/plain": [
       "| 1523         | 3e+008  | 50.7698     | 1m 13s       |"
      ]
     },
     "metadata": {},
     "output_type": "display_data"
    },
    {
     "data": {
      "text/html": [
       "<pre>| 1544         | 3e+008  | 51.4846     | 1m 14s       |</pre>"
      ],
      "text/plain": [
       "| 1544         | 3e+008  | 51.4846     | 1m 14s       |"
      ]
     },
     "metadata": {},
     "output_type": "display_data"
    },
    {
     "data": {
      "text/html": [
       "<pre>| 1566         | 3e+008  | 52.2003     | 1m 15s       |</pre>"
      ],
      "text/plain": [
       "| 1566         | 3e+008  | 52.2003     | 1m 15s       |"
      ]
     },
     "metadata": {},
     "output_type": "display_data"
    },
    {
     "data": {
      "text/html": [
       "<pre>| 1587         | 3e+008  | 52.914      | 1m 16s       |</pre>"
      ],
      "text/plain": [
       "| 1587         | 3e+008  | 52.914      | 1m 16s       |"
      ]
     },
     "metadata": {},
     "output_type": "display_data"
    },
    {
     "data": {
      "text/html": [
       "<pre>| 1605         | 3e+008  | 53.5241     | 1m 17s       |</pre>"
      ],
      "text/plain": [
       "| 1605         | 3e+008  | 53.5241     | 1m 17s       |"
      ]
     },
     "metadata": {},
     "output_type": "display_data"
    },
    {
     "data": {
      "text/html": [
       "<pre>| 1626         | 3e+008  | 54.2048     | 1m 18s       |</pre>"
      ],
      "text/plain": [
       "| 1626         | 3e+008  | 54.2048     | 1m 18s       |"
      ]
     },
     "metadata": {},
     "output_type": "display_data"
    },
    {
     "data": {
      "text/html": [
       "<pre>| 1647         | 3e+008  | 54.9278     | 1m 19s       |</pre>"
      ],
      "text/plain": [
       "| 1647         | 3e+008  | 54.9278     | 1m 19s       |"
      ]
     },
     "metadata": {},
     "output_type": "display_data"
    },
    {
     "data": {
      "text/html": [
       "<pre>| 1669         | 3e+008  | 55.644      | 1m 20s       |</pre>"
      ],
      "text/plain": [
       "| 1669         | 3e+008  | 55.644      | 1m 20s       |"
      ]
     },
     "metadata": {},
     "output_type": "display_data"
    },
    {
     "data": {
      "text/html": [
       "<pre>| 1691         | 3e+008  | 56.3866     | 1m 21s       |</pre>"
      ],
      "text/plain": [
       "| 1691         | 3e+008  | 56.3866     | 1m 21s       |"
      ]
     },
     "metadata": {},
     "output_type": "display_data"
    },
    {
     "data": {
      "text/html": [
       "<pre>| 1713         | 3e+008  | 57.1208     | 1m 22s       |</pre>"
      ],
      "text/plain": [
       "| 1713         | 3e+008  | 57.1208     | 1m 22s       |"
      ]
     },
     "metadata": {},
     "output_type": "display_data"
    },
    {
     "data": {
      "text/html": [
       "<pre>| 1733         | 3e+008  | 57.7938     | 1m 23s       |</pre>"
      ],
      "text/plain": [
       "| 1733         | 3e+008  | 57.7938     | 1m 23s       |"
      ]
     },
     "metadata": {},
     "output_type": "display_data"
    },
    {
     "data": {
      "text/html": [
       "<pre>| 1754         | 3e+008  | 58.4869     | 1m 24s       |</pre>"
      ],
      "text/plain": [
       "| 1754         | 3e+008  | 58.4869     | 1m 24s       |"
      ]
     },
     "metadata": {},
     "output_type": "display_data"
    },
    {
     "data": {
      "text/html": [
       "<pre>| 1776         | 3e+008  | 59.2124     | 1m 25s       |</pre>"
      ],
      "text/plain": [
       "| 1776         | 3e+008  | 59.2124     | 1m 25s       |"
      ]
     },
     "metadata": {},
     "output_type": "display_data"
    },
    {
     "data": {
      "text/html": [
       "<pre>| 1798         | 3e+008  | 59.9467     | 1m 26s       |</pre>"
      ],
      "text/plain": [
       "| 1798         | 3e+008  | 59.9467     | 1m 26s       |"
      ]
     },
     "metadata": {},
     "output_type": "display_data"
    },
    {
     "data": {
      "text/html": [
       "<pre>| 1819         | 4e+008  | 60.6516     | 1m 27s       |</pre>"
      ],
      "text/plain": [
       "| 1819         | 4e+008  | 60.6516     | 1m 27s       |"
      ]
     },
     "metadata": {},
     "output_type": "display_data"
    },
    {
     "data": {
      "text/html": [
       "<pre>| 1841         | 4e+008  | 61.3731     | 1m 28s       |</pre>"
      ],
      "text/plain": [
       "| 1841         | 4e+008  | 61.3731     | 1m 28s       |"
      ]
     },
     "metadata": {},
     "output_type": "display_data"
    },
    {
     "data": {
      "text/html": [
       "<pre>| 1862         | 4e+008  | 62.0811     | 1m 29s       |</pre>"
      ],
      "text/plain": [
       "| 1862         | 4e+008  | 62.0811     | 1m 29s       |"
      ]
     },
     "metadata": {},
     "output_type": "display_data"
    },
    {
     "data": {
      "text/html": [
       "<pre>| 1883         | 4e+008  | 62.7937     | 1m 30s       |</pre>"
      ],
      "text/plain": [
       "| 1883         | 4e+008  | 62.7937     | 1m 30s       |"
      ]
     },
     "metadata": {},
     "output_type": "display_data"
    },
    {
     "data": {
      "text/html": [
       "<pre>| 1905         | 4e+008  | 63.511      | 1m 31s       |</pre>"
      ],
      "text/plain": [
       "| 1905         | 4e+008  | 63.511      | 1m 31s       |"
      ]
     },
     "metadata": {},
     "output_type": "display_data"
    },
    {
     "data": {
      "text/html": [
       "<pre>| 1926         | 4e+008  | 64.2247     | 1m 32s       |</pre>"
      ],
      "text/plain": [
       "| 1926         | 4e+008  | 64.2247     | 1m 32s       |"
      ]
     },
     "metadata": {},
     "output_type": "display_data"
    },
    {
     "data": {
      "text/html": [
       "<pre>| 1948         | 4e+008  | 64.9549     | 1m 33s       |</pre>"
      ],
      "text/plain": [
       "| 1948         | 4e+008  | 64.9549     | 1m 33s       |"
      ]
     },
     "metadata": {},
     "output_type": "display_data"
    },
    {
     "data": {
      "text/html": [
       "<pre>| 1967         | 4e+008  | 65.583      | 1m 34s       |</pre>"
      ],
      "text/plain": [
       "| 1967         | 4e+008  | 65.583      | 1m 34s       |"
      ]
     },
     "metadata": {},
     "output_type": "display_data"
    },
    {
     "data": {
      "text/html": [
       "<pre>| 1986         | 4e+008  | 66.2333     | 1m 35s       |</pre>"
      ],
      "text/plain": [
       "| 1986         | 4e+008  | 66.2333     | 1m 35s       |"
      ]
     },
     "metadata": {},
     "output_type": "display_data"
    },
    {
     "data": {
      "text/html": [
       "<pre>| 2008         | 4e+008  | 66.9573     | 1m 36s       |</pre>"
      ],
      "text/plain": [
       "| 2008         | 4e+008  | 66.9573     | 1m 36s       |"
      ]
     },
     "metadata": {},
     "output_type": "display_data"
    },
    {
     "data": {
      "text/html": [
       "<pre>| 2030         | 4e+008  | 67.6967     | 1m 37s       |</pre>"
      ],
      "text/plain": [
       "| 2030         | 4e+008  | 67.6967     | 1m 37s       |"
      ]
     },
     "metadata": {},
     "output_type": "display_data"
    },
    {
     "data": {
      "text/html": [
       "<pre>| 2052         | 4e+008  | 68.4285     | 1m 38s       |</pre>"
      ],
      "text/plain": [
       "| 2052         | 4e+008  | 68.4285     | 1m 38s       |"
      ]
     },
     "metadata": {},
     "output_type": "display_data"
    },
    {
     "data": {
      "text/html": [
       "<pre>| 2075         | 4e+008  | 69.1689     | 1m 39s       |</pre>"
      ],
      "text/plain": [
       "| 2075         | 4e+008  | 69.1689     | 1m 39s       |"
      ]
     },
     "metadata": {},
     "output_type": "display_data"
    },
    {
     "data": {
      "text/html": [
       "<pre>| 2095         | 4e+008  | 69.8388     | 1m 40s       |</pre>"
      ],
      "text/plain": [
       "| 2095         | 4e+008  | 69.8388     | 1m 40s       |"
      ]
     },
     "metadata": {},
     "output_type": "display_data"
    },
    {
     "data": {
      "text/html": [
       "<pre>| 2116         | 4e+008  | 70.5551     | 1m 41s       |</pre>"
      ],
      "text/plain": [
       "| 2116         | 4e+008  | 70.5551     | 1m 41s       |"
      ]
     },
     "metadata": {},
     "output_type": "display_data"
    },
    {
     "data": {
      "text/html": [
       "<pre>| 2138         | 4e+008  | 71.2976     | 1m 42s       |</pre>"
      ],
      "text/plain": [
       "| 2138         | 4e+008  | 71.2976     | 1m 42s       |"
      ]
     },
     "metadata": {},
     "output_type": "display_data"
    },
    {
     "data": {
      "text/html": [
       "<pre>| 2161         | 4e+008  | 72.0402     | 1m 43s       |</pre>"
      ],
      "text/plain": [
       "| 2161         | 4e+008  | 72.0402     | 1m 43s       |"
      ]
     },
     "metadata": {},
     "output_type": "display_data"
    },
    {
     "data": {
      "text/html": [
       "<pre>| 2182         | 4e+008  | 72.7662     | 1m 44s       |</pre>"
      ],
      "text/plain": [
       "| 2182         | 4e+008  | 72.7662     | 1m 44s       |"
      ]
     },
     "metadata": {},
     "output_type": "display_data"
    },
    {
     "data": {
      "text/html": [
       "<pre>| 2205         | 4e+008  | 73.5087     | 1m 45s       |</pre>"
      ],
      "text/plain": [
       "| 2205         | 4e+008  | 73.5087     | 1m 45s       |"
      ]
     },
     "metadata": {},
     "output_type": "display_data"
    },
    {
     "data": {
      "text/html": [
       "<pre>| 2227         | 4e+008  | 74.2461     | 1m 46s       |</pre>"
      ],
      "text/plain": [
       "| 2227         | 4e+008  | 74.2461     | 1m 46s       |"
      ]
     },
     "metadata": {},
     "output_type": "display_data"
    },
    {
     "data": {
      "text/html": [
       "<pre>| 2249         | 4e+008  | 74.984      | 1m 47s       |</pre>"
      ],
      "text/plain": [
       "| 2249         | 4e+008  | 74.984      | 1m 47s       |"
      ]
     },
     "metadata": {},
     "output_type": "display_data"
    },
    {
     "data": {
      "text/html": [
       "<pre>| 2271         | 4e+008  | 75.7214     | 1m 48s       |</pre>"
      ],
      "text/plain": [
       "| 2271         | 4e+008  | 75.7214     | 1m 48s       |"
      ]
     },
     "metadata": {},
     "output_type": "display_data"
    },
    {
     "data": {
      "text/html": [
       "<pre>| 2293         | 4e+008  | 76.4511     | 1m 49s       |</pre>"
      ],
      "text/plain": [
       "| 2293         | 4e+008  | 76.4511     | 1m 49s       |"
      ]
     },
     "metadata": {},
     "output_type": "display_data"
    },
    {
     "data": {
      "text/html": [
       "<pre>| 2315         | 4e+008  | 77.1962     | 1m 50s       |</pre>"
      ],
      "text/plain": [
       "| 2315         | 4e+008  | 77.1962     | 1m 50s       |"
      ]
     },
     "metadata": {},
     "output_type": "display_data"
    },
    {
     "data": {
      "text/html": [
       "<pre>| 2337         | 5e+008  | 77.9284     | 1m 51s       |</pre>"
      ],
      "text/plain": [
       "| 2337         | 5e+008  | 77.9284     | 1m 51s       |"
      ]
     },
     "metadata": {},
     "output_type": "display_data"
    },
    {
     "data": {
      "text/html": [
       "<pre>| 2359         | 5e+008  | 78.6565     | 1m 52s       |</pre>"
      ],
      "text/plain": [
       "| 2359         | 5e+008  | 78.6565     | 1m 52s       |"
      ]
     },
     "metadata": {},
     "output_type": "display_data"
    },
    {
     "data": {
      "text/html": [
       "<pre>| 2381         | 5e+008  | 79.3949     | 1m 53s       |</pre>"
      ],
      "text/plain": [
       "| 2381         | 5e+008  | 79.3949     | 1m 53s       |"
      ]
     },
     "metadata": {},
     "output_type": "display_data"
    },
    {
     "data": {
      "text/html": [
       "<pre>| 2402         | 5e+008  | 80.087      | 1m 54s       |</pre>"
      ],
      "text/plain": [
       "| 2402         | 5e+008  | 80.087      | 1m 54s       |"
      ]
     },
     "metadata": {},
     "output_type": "display_data"
    },
    {
     "data": {
      "text/html": [
       "<pre>| 2421         | 5e+008  | 80.7058     | 1m 55s       |</pre>"
      ],
      "text/plain": [
       "| 2421         | 5e+008  | 80.7058     | 1m 55s       |"
      ]
     },
     "metadata": {},
     "output_type": "display_data"
    },
    {
     "data": {
      "text/html": [
       "<pre>| 2442         | 5e+008  | 81.4154     | 1m 56s       |</pre>"
      ],
      "text/plain": [
       "| 2442         | 5e+008  | 81.4154     | 1m 56s       |"
      ]
     },
     "metadata": {},
     "output_type": "display_data"
    },
    {
     "data": {
      "text/html": [
       "<pre>| 2463         | 5e+008  | 82.125      | 1m 57s       |</pre>"
      ],
      "text/plain": [
       "| 2463         | 5e+008  | 82.125      | 1m 57s       |"
      ]
     },
     "metadata": {},
     "output_type": "display_data"
    },
    {
     "data": {
      "text/html": [
       "<pre>| 2485         | 5e+008  | 82.8484     | 1m 58s       |</pre>"
      ],
      "text/plain": [
       "| 2485         | 5e+008  | 82.8484     | 1m 58s       |"
      ]
     },
     "metadata": {},
     "output_type": "display_data"
    },
    {
     "data": {
      "text/html": [
       "<pre>| 2507         | 5e+008  | 83.5889     | 1m 59s       |</pre>"
      ],
      "text/plain": [
       "| 2507         | 5e+008  | 83.5889     | 1m 59s       |"
      ]
     },
     "metadata": {},
     "output_type": "display_data"
    },
    {
     "data": {
      "text/html": [
       "<pre>| 2529         | 5e+008  | 84.3206     | 2m 0s        |</pre>"
      ],
      "text/plain": [
       "| 2529         | 5e+008  | 84.3206     | 2m 0s        |"
      ]
     },
     "metadata": {},
     "output_type": "display_data"
    },
    {
     "data": {
      "text/html": [
       "<pre>| 2549         | 5e+008  | 84.973      | 2m 1s        |</pre>"
      ],
      "text/plain": [
       "| 2549         | 5e+008  | 84.973      | 2m 1s        |"
      ]
     },
     "metadata": {},
     "output_type": "display_data"
    },
    {
     "data": {
      "text/html": [
       "<pre>| 2571         | 5e+008  | 85.7124     | 2m 2s        |</pre>"
      ],
      "text/plain": [
       "| 2571         | 5e+008  | 85.7124     | 2m 2s        |"
      ]
     },
     "metadata": {},
     "output_type": "display_data"
    },
    {
     "data": {
      "text/html": [
       "<pre>| 2593         | 5e+008  | 86.4431     | 2m 3s        |</pre>"
      ],
      "text/plain": [
       "| 2593         | 5e+008  | 86.4431     | 2m 3s        |"
      ]
     },
     "metadata": {},
     "output_type": "display_data"
    },
    {
     "data": {
      "text/html": [
       "<pre>| 2613         | 5e+008  | 87.1269     | 2m 4s        |</pre>"
      ],
      "text/plain": [
       "| 2613         | 5e+008  | 87.1269     | 2m 4s        |"
      ]
     },
     "metadata": {},
     "output_type": "display_data"
    },
    {
     "data": {
      "text/html": [
       "<pre>| 2635         | 5e+008  | 87.8509     | 2m 5s        |</pre>"
      ],
      "text/plain": [
       "| 2635         | 5e+008  | 87.8509     | 2m 5s        |"
      ]
     },
     "metadata": {},
     "output_type": "display_data"
    },
    {
     "data": {
      "text/html": [
       "<pre>| 2657         | 5e+008  | 88.5739     | 2m 6s        |</pre>"
      ],
      "text/plain": [
       "| 2657         | 5e+008  | 88.5739     | 2m 6s        |"
      ]
     },
     "metadata": {},
     "output_type": "display_data"
    },
    {
     "data": {
      "text/html": [
       "<pre>| 2677         | 5e+008  | 89.2618     | 2m 7s        |</pre>"
      ],
      "text/plain": [
       "| 2677         | 5e+008  | 89.2618     | 2m 7s        |"
      ]
     },
     "metadata": {},
     "output_type": "display_data"
    },
    {
     "data": {
      "text/html": [
       "<pre>| 2699         | 5e+008  | 89.977      | 2m 8s        |</pre>"
      ],
      "text/plain": [
       "| 2699         | 5e+008  | 89.977      | 2m 8s        |"
      ]
     },
     "metadata": {},
     "output_type": "display_data"
    },
    {
     "data": {
      "text/html": [
       "<pre>| 2721         | 5e+008  | 90.702      | 2m 9s        |</pre>"
      ],
      "text/plain": [
       "| 2721         | 5e+008  | 90.702      | 2m 9s        |"
      ]
     },
     "metadata": {},
     "output_type": "display_data"
    },
    {
     "data": {
      "text/html": [
       "<pre>| 2742         | 5e+008  | 91.4137     | 2m 10s       |</pre>"
      ],
      "text/plain": [
       "| 2742         | 5e+008  | 91.4137     | 2m 10s       |"
      ]
     },
     "metadata": {},
     "output_type": "display_data"
    },
    {
     "data": {
      "text/html": [
       "<pre>| 2764         | 5e+008  | 92.1392     | 2m 11s       |</pre>"
      ],
      "text/plain": [
       "| 2764         | 5e+008  | 92.1392     | 2m 11s       |"
      ]
     },
     "metadata": {},
     "output_type": "display_data"
    },
    {
     "data": {
      "text/html": [
       "<pre>| 2782         | 5e+008  | 92.7426     | 2m 12s       |</pre>"
      ],
      "text/plain": [
       "| 2782         | 5e+008  | 92.7426     | 2m 12s       |"
      ]
     },
     "metadata": {},
     "output_type": "display_data"
    },
    {
     "data": {
      "text/html": [
       "<pre>| 2799         | 5e+008  | 93.3239     | 2m 13s       |</pre>"
      ],
      "text/plain": [
       "| 2799         | 5e+008  | 93.3239     | 2m 13s       |"
      ]
     },
     "metadata": {},
     "output_type": "display_data"
    },
    {
     "data": {
      "text/html": [
       "<pre>| 2821         | 5e+008  | 94.0597     | 2m 14s       |</pre>"
      ],
      "text/plain": [
       "| 2821         | 5e+008  | 94.0597     | 2m 14s       |"
      ]
     },
     "metadata": {},
     "output_type": "display_data"
    },
    {
     "data": {
      "text/html": [
       "<pre>| 2844         | 6e+008  | 94.8038     | 2m 15s       |</pre>"
      ],
      "text/plain": [
       "| 2844         | 6e+008  | 94.8038     | 2m 15s       |"
      ]
     },
     "metadata": {},
     "output_type": "display_data"
    },
    {
     "data": {
      "text/html": [
       "<pre>| 2866         | 6e+008  | 95.5381     | 2m 16s       |</pre>"
      ],
      "text/plain": [
       "| 2866         | 6e+008  | 95.5381     | 2m 16s       |"
      ]
     },
     "metadata": {},
     "output_type": "display_data"
    },
    {
     "data": {
      "text/html": [
       "<pre>| 2887         | 6e+008  | 96.2585     | 2m 17s       |</pre>"
      ],
      "text/plain": [
       "| 2887         | 6e+008  | 96.2585     | 2m 17s       |"
      ]
     },
     "metadata": {},
     "output_type": "display_data"
    },
    {
     "data": {
      "text/html": [
       "<pre>| 2907         | 6e+008  | 96.9309     | 2m 18s       |</pre>"
      ],
      "text/plain": [
       "| 2907         | 6e+008  | 96.9309     | 2m 18s       |"
      ]
     },
     "metadata": {},
     "output_type": "display_data"
    },
    {
     "data": {
      "text/html": [
       "<pre>| 2930         | 6e+008  | 97.6693     | 2m 19s       |</pre>"
      ],
      "text/plain": [
       "| 2930         | 6e+008  | 97.6693     | 2m 19s       |"
      ]
     },
     "metadata": {},
     "output_type": "display_data"
    },
    {
     "data": {
      "text/html": [
       "<pre>| 2952         | 6e+008  | 98.4093     | 2m 20s       |</pre>"
      ],
      "text/plain": [
       "| 2952         | 6e+008  | 98.4093     | 2m 20s       |"
      ]
     },
     "metadata": {},
     "output_type": "display_data"
    },
    {
     "data": {
      "text/html": [
       "<pre>| 2970         | 6e+008  | 99.0271     | 2m 21s       |</pre>"
      ],
      "text/plain": [
       "| 2970         | 6e+008  | 99.0271     | 2m 21s       |"
      ]
     },
     "metadata": {},
     "output_type": "display_data"
    },
    {
     "data": {
      "text/html": [
       "<pre>| 2987         | 6e+008  | 99.5749     | 2m 22s       |</pre>"
      ],
      "text/plain": [
       "| 2987         | 6e+008  | 99.5749     | 2m 22s       |"
      ]
     },
     "metadata": {},
     "output_type": "display_data"
    },
    {
     "data": {
      "text/html": [
       "<pre>| 2998         | 6e+008  | 99.9382     | 2m 23s       |</pre>"
      ],
      "text/plain": [
       "| 2998         | 6e+008  | 99.9382     | 2m 23s       |"
      ]
     },
     "metadata": {},
     "output_type": "display_data"
    },
    {
     "data": {
      "text/html": [
       "<pre>| Done         |         | 100         | 2m 23s       |</pre>"
      ],
      "text/plain": [
       "| Done         |         | 100         | 2m 23s       |"
      ]
     },
     "metadata": {},
     "output_type": "display_data"
    },
    {
     "data": {
      "text/html": [
       "<pre>+--------------+---------+-------------+--------------+</pre>"
      ],
      "text/plain": [
       "+--------------+---------+-------------+--------------+"
      ]
     },
     "metadata": {},
     "output_type": "display_data"
    },
    {
     "data": {
      "text/html": [
       "<pre>Starting pairwise querying.</pre>"
      ],
      "text/plain": [
       "Starting pairwise querying."
      ]
     },
     "metadata": {},
     "output_type": "display_data"
    },
    {
     "data": {
      "text/html": [
       "<pre>+--------------+---------+-------------+--------------+</pre>"
      ],
      "text/plain": [
       "+--------------+---------+-------------+--------------+"
      ]
     },
     "metadata": {},
     "output_type": "display_data"
    },
    {
     "data": {
      "text/html": [
       "<pre>| Query points | # Pairs | % Complete. | Elapsed Time |</pre>"
      ],
      "text/plain": [
       "| Query points | # Pairs | % Complete. | Elapsed Time |"
      ]
     },
     "metadata": {},
     "output_type": "display_data"
    },
    {
     "data": {
      "text/html": [
       "<pre>+--------------+---------+-------------+--------------+</pre>"
      ],
      "text/plain": [
       "+--------------+---------+-------------+--------------+"
      ]
     },
     "metadata": {},
     "output_type": "display_data"
    },
    {
     "data": {
      "text/html": [
       "<pre>| 0            | 3000    | 0.000515294 | 16.001ms     |</pre>"
      ],
      "text/plain": [
       "| 0            | 3000    | 0.000515294 | 16.001ms     |"
      ]
     },
     "metadata": {},
     "output_type": "display_data"
    },
    {
     "data": {
      "text/html": [
       "<pre>| 23           | 4500000 | 0.772941    | 1.01s        |</pre>"
      ],
      "text/plain": [
       "| 23           | 4500000 | 0.772941    | 1.01s        |"
      ]
     },
     "metadata": {},
     "output_type": "display_data"
    },
    {
     "data": {
      "text/html": [
       "<pre>| 45           | 8835000 | 1.51754     | 2.01s        |</pre>"
      ],
      "text/plain": [
       "| 45           | 8835000 | 1.51754     | 2.01s        |"
      ]
     },
     "metadata": {},
     "output_type": "display_data"
    },
    {
     "data": {
      "text/html": [
       "<pre>| 67           | 1e+007  | 2.25596     | 3.01s        |</pre>"
      ],
      "text/plain": [
       "| 67           | 1e+007  | 2.25596     | 3.01s        |"
      ]
     },
     "metadata": {},
     "output_type": "display_data"
    },
    {
     "data": {
      "text/html": [
       "<pre>| 90           | 2e+007  | 3.00313     | 4.01s        |</pre>"
      ],
      "text/plain": [
       "| 90           | 2e+007  | 3.00313     | 4.01s        |"
      ]
     },
     "metadata": {},
     "output_type": "display_data"
    },
    {
     "data": {
      "text/html": [
       "<pre>| 112          | 2e+007  | 3.74361     | 5.01s        |</pre>"
      ],
      "text/plain": [
       "| 112          | 2e+007  | 3.74361     | 5.01s        |"
      ]
     },
     "metadata": {},
     "output_type": "display_data"
    },
    {
     "data": {
      "text/html": [
       "<pre>| 134          | 3e+007  | 4.49491     | 6.01s        |</pre>"
      ],
      "text/plain": [
       "| 134          | 3e+007  | 4.49491     | 6.01s        |"
      ]
     },
     "metadata": {},
     "output_type": "display_data"
    },
    {
     "data": {
      "text/html": [
       "<pre>| 157          | 3e+007  | 5.25394     | 7.01s        |</pre>"
      ],
      "text/plain": [
       "| 157          | 3e+007  | 5.25394     | 7.01s        |"
      ]
     },
     "metadata": {},
     "output_type": "display_data"
    },
    {
     "data": {
      "text/html": [
       "<pre>| 180          | 3e+007  | 6.00214     | 8.01s        |</pre>"
      ],
      "text/plain": [
       "| 180          | 3e+007  | 6.00214     | 8.01s        |"
      ]
     },
     "metadata": {},
     "output_type": "display_data"
    },
    {
     "data": {
      "text/html": [
       "<pre>| 202          | 4e+007  | 6.74004     | 9.01s        |</pre>"
      ],
      "text/plain": [
       "| 202          | 4e+007  | 6.74004     | 9.01s        |"
      ]
     },
     "metadata": {},
     "output_type": "display_data"
    },
    {
     "data": {
      "text/html": [
       "<pre>| 224          | 4e+007  | 7.48207     | 10.01s       |</pre>"
      ],
      "text/plain": [
       "| 224          | 4e+007  | 7.48207     | 10.01s       |"
      ]
     },
     "metadata": {},
     "output_type": "display_data"
    },
    {
     "data": {
      "text/html": [
       "<pre>| 246          | 5e+007  | 8.22512     | 11.01s       |</pre>"
      ],
      "text/plain": [
       "| 246          | 5e+007  | 8.22512     | 11.01s       |"
      ]
     },
     "metadata": {},
     "output_type": "display_data"
    },
    {
     "data": {
      "text/html": [
       "<pre>| 268          | 5e+007  | 8.96045     | 12.01s       |</pre>"
      ],
      "text/plain": [
       "| 268          | 5e+007  | 8.96045     | 12.01s       |"
      ]
     },
     "metadata": {},
     "output_type": "display_data"
    },
    {
     "data": {
      "text/html": [
       "<pre>| 291          | 6e+007  | 9.70247     | 13.01s       |</pre>"
      ],
      "text/plain": [
       "| 291          | 6e+007  | 9.70247     | 13.01s       |"
      ]
     },
     "metadata": {},
     "output_type": "display_data"
    },
    {
     "data": {
      "text/html": [
       "<pre>| 313          | 6e+007  | 10.4399     | 14.01s       |</pre>"
      ],
      "text/plain": [
       "| 313          | 6e+007  | 10.4399     | 14.01s       |"
      ]
     },
     "metadata": {},
     "output_type": "display_data"
    },
    {
     "data": {
      "text/html": [
       "<pre>| 335          | 7e+007  | 11.1716     | 15.01s       |</pre>"
      ],
      "text/plain": [
       "| 335          | 7e+007  | 11.1716     | 15.01s       |"
      ]
     },
     "metadata": {},
     "output_type": "display_data"
    },
    {
     "data": {
      "text/html": [
       "<pre>| 357          | 7e+007  | 11.9203     | 16.01s       |</pre>"
      ],
      "text/plain": [
       "| 357          | 7e+007  | 11.9203     | 16.01s       |"
      ]
     },
     "metadata": {},
     "output_type": "display_data"
    },
    {
     "data": {
      "text/html": [
       "<pre>| 380          | 7e+007  | 12.667      | 17.01s       |</pre>"
      ],
      "text/plain": [
       "| 380          | 7e+007  | 12.667      | 17.01s       |"
      ]
     },
     "metadata": {},
     "output_type": "display_data"
    },
    {
     "data": {
      "text/html": [
       "<pre>| 402          | 8e+007  | 13.4126     | 18.01s       |</pre>"
      ],
      "text/plain": [
       "| 402          | 8e+007  | 13.4126     | 18.01s       |"
      ]
     },
     "metadata": {},
     "output_type": "display_data"
    },
    {
     "data": {
      "text/html": [
       "<pre>| 424          | 8e+007  | 14.1587     | 19.01s       |</pre>"
      ],
      "text/plain": [
       "| 424          | 8e+007  | 14.1587     | 19.01s       |"
      ]
     },
     "metadata": {},
     "output_type": "display_data"
    },
    {
     "data": {
      "text/html": [
       "<pre>| 446          | 9e+007  | 14.8925     | 20.01s       |</pre>"
      ],
      "text/plain": [
       "| 446          | 9e+007  | 14.8925     | 20.01s       |"
      ]
     },
     "metadata": {},
     "output_type": "display_data"
    },
    {
     "data": {
      "text/html": [
       "<pre>| 468          | 9e+007  | 15.6314     | 21.01s       |</pre>"
      ],
      "text/plain": [
       "| 468          | 9e+007  | 15.6314     | 21.01s       |"
      ]
     },
     "metadata": {},
     "output_type": "display_data"
    },
    {
     "data": {
      "text/html": [
       "<pre>| 490          | 1e+008  | 16.3663     | 22.01s       |</pre>"
      ],
      "text/plain": [
       "| 490          | 1e+008  | 16.3663     | 22.01s       |"
      ]
     },
     "metadata": {},
     "output_type": "display_data"
    },
    {
     "data": {
      "text/html": [
       "<pre>| 513          | 1e+008  | 17.1057     | 23.01s       |</pre>"
      ],
      "text/plain": [
       "| 513          | 1e+008  | 17.1057     | 23.01s       |"
      ]
     },
     "metadata": {},
     "output_type": "display_data"
    },
    {
     "data": {
      "text/html": [
       "<pre>| 535          | 1e+008  | 17.8462     | 24.01s       |</pre>"
      ],
      "text/plain": [
       "| 535          | 1e+008  | 17.8462     | 24.01s       |"
      ]
     },
     "metadata": {},
     "output_type": "display_data"
    },
    {
     "data": {
      "text/html": [
       "<pre>| 557          | 1e+008  | 18.5727     | 25.01s       |</pre>"
      ],
      "text/plain": [
       "| 557          | 1e+008  | 18.5727     | 25.01s       |"
      ]
     },
     "metadata": {},
     "output_type": "display_data"
    },
    {
     "data": {
      "text/html": [
       "<pre>| 577          | 1e+008  | 19.255      | 26.01s       |</pre>"
      ],
      "text/plain": [
       "| 577          | 1e+008  | 19.255      | 26.01s       |"
      ]
     },
     "metadata": {},
     "output_type": "display_data"
    },
    {
     "data": {
      "text/html": [
       "<pre>| 599          | 1e+008  | 19.9986     | 27.01s       |</pre>"
      ],
      "text/plain": [
       "| 599          | 1e+008  | 19.9986     | 27.01s       |"
      ]
     },
     "metadata": {},
     "output_type": "display_data"
    },
    {
     "data": {
      "text/html": [
       "<pre>| 621          | 1e+008  | 20.7071     | 28.01s       |</pre>"
      ],
      "text/plain": [
       "| 621          | 1e+008  | 20.7071     | 28.01s       |"
      ]
     },
     "metadata": {},
     "output_type": "display_data"
    },
    {
     "data": {
      "text/html": [
       "<pre>| 643          | 1e+008  | 21.4465     | 29.01s       |</pre>"
      ],
      "text/plain": [
       "| 643          | 1e+008  | 21.4465     | 29.01s       |"
      ]
     },
     "metadata": {},
     "output_type": "display_data"
    },
    {
     "data": {
      "text/html": [
       "<pre>| 665          | 1e+008  | 22.1958     | 30.01s       |</pre>"
      ],
      "text/plain": [
       "| 665          | 1e+008  | 22.1958     | 30.01s       |"
      ]
     },
     "metadata": {},
     "output_type": "display_data"
    },
    {
     "data": {
      "text/html": [
       "<pre>| 688          | 1e+008  | 22.9373     | 31.01s       |</pre>"
      ],
      "text/plain": [
       "| 688          | 1e+008  | 22.9373     | 31.01s       |"
      ]
     },
     "metadata": {},
     "output_type": "display_data"
    },
    {
     "data": {
      "text/html": [
       "<pre>| 709          | 1e+008  | 23.6659     | 32.01s       |</pre>"
      ],
      "text/plain": [
       "| 709          | 1e+008  | 23.6659     | 32.01s       |"
      ]
     },
     "metadata": {},
     "output_type": "display_data"
    },
    {
     "data": {
      "text/html": [
       "<pre>| 732          | 1e+008  | 24.4038     | 33.01s       |</pre>"
      ],
      "text/plain": [
       "| 732          | 1e+008  | 24.4038     | 33.01s       |"
      ]
     },
     "metadata": {},
     "output_type": "display_data"
    },
    {
     "data": {
      "text/html": [
       "<pre>| 754          | 1e+008  | 25.1396     | 34.01s       |</pre>"
      ],
      "text/plain": [
       "| 754          | 1e+008  | 25.1396     | 34.01s       |"
      ]
     },
     "metadata": {},
     "output_type": "display_data"
    },
    {
     "data": {
      "text/html": [
       "<pre>| 776          | 2e+008  | 25.877      | 35.01s       |</pre>"
      ],
      "text/plain": [
       "| 776          | 2e+008  | 25.877      | 35.01s       |"
      ]
     },
     "metadata": {},
     "output_type": "display_data"
    },
    {
     "data": {
      "text/html": [
       "<pre>| 798          | 2e+008  | 26.617      | 36.01s       |</pre>"
      ],
      "text/plain": [
       "| 798          | 2e+008  | 26.617      | 36.01s       |"
      ]
     },
     "metadata": {},
     "output_type": "display_data"
    },
    {
     "data": {
      "text/html": [
       "<pre>| 820          | 2e+008  | 27.3539     | 37.01s       |</pre>"
      ],
      "text/plain": [
       "| 820          | 2e+008  | 27.3539     | 37.01s       |"
      ]
     },
     "metadata": {},
     "output_type": "display_data"
    },
    {
     "data": {
      "text/html": [
       "<pre>| 842          | 2e+008  | 28.0737     | 38.01s       |</pre>"
      ],
      "text/plain": [
       "| 842          | 2e+008  | 28.0737     | 38.01s       |"
      ]
     },
     "metadata": {},
     "output_type": "display_data"
    },
    {
     "data": {
      "text/html": [
       "<pre>| 865          | 2e+008  | 28.8374     | 39.01s       |</pre>"
      ],
      "text/plain": [
       "| 865          | 2e+008  | 28.8374     | 39.01s       |"
      ]
     },
     "metadata": {},
     "output_type": "display_data"
    },
    {
     "data": {
      "text/html": [
       "<pre>| 887          | 2e+008  | 29.5779     | 40.01s       |</pre>"
      ],
      "text/plain": [
       "| 887          | 2e+008  | 29.5779     | 40.01s       |"
      ]
     },
     "metadata": {},
     "output_type": "display_data"
    },
    {
     "data": {
      "text/html": [
       "<pre>| 910          | 2e+008  | 30.3354     | 41.01s       |</pre>"
      ],
      "text/plain": [
       "| 910          | 2e+008  | 30.3354     | 41.01s       |"
      ]
     },
     "metadata": {},
     "output_type": "display_data"
    },
    {
     "data": {
      "text/html": [
       "<pre>| 931          | 2e+008  | 31.066      | 42.01s       |</pre>"
      ],
      "text/plain": [
       "| 931          | 2e+008  | 31.066      | 42.01s       |"
      ]
     },
     "metadata": {},
     "output_type": "display_data"
    },
    {
     "data": {
      "text/html": [
       "<pre>| 954          | 2e+008  | 31.8039     | 43.01s       |</pre>"
      ],
      "text/plain": [
       "| 954          | 2e+008  | 31.8039     | 43.01s       |"
      ]
     },
     "metadata": {},
     "output_type": "display_data"
    },
    {
     "data": {
      "text/html": [
       "<pre>| 976          | 2e+008  | 32.5558     | 44.01s       |</pre>"
      ],
      "text/plain": [
       "| 976          | 2e+008  | 32.5558     | 44.01s       |"
      ]
     },
     "metadata": {},
     "output_type": "display_data"
    },
    {
     "data": {
      "text/html": [
       "<pre>| 998          | 2e+008  | 33.2942     | 45.01s       |</pre>"
      ],
      "text/plain": [
       "| 998          | 2e+008  | 33.2942     | 45.01s       |"
      ]
     },
     "metadata": {},
     "output_type": "display_data"
    },
    {
     "data": {
      "text/html": [
       "<pre>| 1020         | 2e+008  | 34.0321     | 46.01s       |</pre>"
      ],
      "text/plain": [
       "| 1020         | 2e+008  | 34.0321     | 46.01s       |"
      ]
     },
     "metadata": {},
     "output_type": "display_data"
    },
    {
     "data": {
      "text/html": [
       "<pre>| 1043         | 2e+008  | 34.7684     | 47.01s       |</pre>"
      ],
      "text/plain": [
       "| 1043         | 2e+008  | 34.7684     | 47.01s       |"
      ]
     },
     "metadata": {},
     "output_type": "display_data"
    },
    {
     "data": {
      "text/html": [
       "<pre>| 1065         | 2e+008  | 35.5074     | 48.00s       |</pre>"
      ],
      "text/plain": [
       "| 1065         | 2e+008  | 35.5074     | 48.00s       |"
      ]
     },
     "metadata": {},
     "output_type": "display_data"
    },
    {
     "data": {
      "text/html": [
       "<pre>| 1087         | 2e+008  | 36.2509     | 49.01s       |</pre>"
      ],
      "text/plain": [
       "| 1087         | 2e+008  | 36.2509     | 49.01s       |"
      ]
     },
     "metadata": {},
     "output_type": "display_data"
    },
    {
     "data": {
      "text/html": [
       "<pre>| 1109         | 2e+008  | 36.9863     | 50.00s       |</pre>"
      ],
      "text/plain": [
       "| 1109         | 2e+008  | 36.9863     | 50.00s       |"
      ]
     },
     "metadata": {},
     "output_type": "display_data"
    },
    {
     "data": {
      "text/html": [
       "<pre>| 1131         | 2e+008  | 37.7221     | 51.01s       |</pre>"
      ],
      "text/plain": [
       "| 1131         | 2e+008  | 37.7221     | 51.01s       |"
      ]
     },
     "metadata": {},
     "output_type": "display_data"
    },
    {
     "data": {
      "text/html": [
       "<pre>| 1154         | 2e+008  | 38.4729     | 52.00s       |</pre>"
      ],
      "text/plain": [
       "| 1154         | 2e+008  | 38.4729     | 52.00s       |"
      ]
     },
     "metadata": {},
     "output_type": "display_data"
    },
    {
     "data": {
      "text/html": [
       "<pre>| 1176         | 2e+008  | 39.218      | 53.01s       |</pre>"
      ],
      "text/plain": [
       "| 1176         | 2e+008  | 39.218      | 53.01s       |"
      ]
     },
     "metadata": {},
     "output_type": "display_data"
    },
    {
     "data": {
      "text/html": [
       "<pre>| 1198         | 2e+008  | 39.96       | 54.01s       |</pre>"
      ],
      "text/plain": [
       "| 1198         | 2e+008  | 39.96       | 54.01s       |"
      ]
     },
     "metadata": {},
     "output_type": "display_data"
    },
    {
     "data": {
      "text/html": [
       "<pre>| 1221         | 2e+008  | 40.701      | 55.01s       |</pre>"
      ],
      "text/plain": [
       "| 1221         | 2e+008  | 40.701      | 55.01s       |"
      ]
     },
     "metadata": {},
     "output_type": "display_data"
    },
    {
     "data": {
      "text/html": [
       "<pre>| 1243         | 2e+008  | 41.4456     | 56.00s       |</pre>"
      ],
      "text/plain": [
       "| 1243         | 2e+008  | 41.4456     | 56.00s       |"
      ]
     },
     "metadata": {},
     "output_type": "display_data"
    },
    {
     "data": {
      "text/html": [
       "<pre>| 1265         | 2e+008  | 42.1938     | 57.01s       |</pre>"
      ],
      "text/plain": [
       "| 1265         | 2e+008  | 42.1938     | 57.01s       |"
      ]
     },
     "metadata": {},
     "output_type": "display_data"
    },
    {
     "data": {
      "text/html": [
       "<pre>| 1287         | 2e+008  | 42.9322     | 58.00s       |</pre>"
      ],
      "text/plain": [
       "| 1287         | 2e+008  | 42.9322     | 58.00s       |"
      ]
     },
     "metadata": {},
     "output_type": "display_data"
    },
    {
     "data": {
      "text/html": [
       "<pre>| 1310         | 3e+008  | 43.6691     | 59.00s       |</pre>"
      ],
      "text/plain": [
       "| 1310         | 3e+008  | 43.6691     | 59.00s       |"
      ]
     },
     "metadata": {},
     "output_type": "display_data"
    },
    {
     "data": {
      "text/html": [
       "<pre>| 1331         | 3e+008  | 44.3926     | 1m 0s        |</pre>"
      ],
      "text/plain": [
       "| 1331         | 3e+008  | 44.3926     | 1m 0s        |"
      ]
     },
     "metadata": {},
     "output_type": "display_data"
    },
    {
     "data": {
      "text/html": [
       "<pre>| 1353         | 3e+008  | 45.1114     | 1m 1s        |</pre>"
      ],
      "text/plain": [
       "| 1353         | 3e+008  | 45.1114     | 1m 1s        |"
      ]
     },
     "metadata": {},
     "output_type": "display_data"
    },
    {
     "data": {
      "text/html": [
       "<pre>| 1375         | 3e+008  | 45.8478     | 1m 2s        |</pre>"
      ],
      "text/plain": [
       "| 1375         | 3e+008  | 45.8478     | 1m 2s        |"
      ]
     },
     "metadata": {},
     "output_type": "display_data"
    },
    {
     "data": {
      "text/html": [
       "<pre>| 1396         | 3e+008  | 46.5578     | 1m 3s        |</pre>"
      ],
      "text/plain": [
       "| 1396         | 3e+008  | 46.5578     | 1m 3s        |"
      ]
     },
     "metadata": {},
     "output_type": "display_data"
    },
    {
     "data": {
      "text/html": [
       "<pre>| 1418         | 3e+008  | 47.2762     | 1m 4s        |</pre>"
      ],
      "text/plain": [
       "| 1418         | 3e+008  | 47.2762     | 1m 4s        |"
      ]
     },
     "metadata": {},
     "output_type": "display_data"
    },
    {
     "data": {
      "text/html": [
       "<pre>| 1438         | 3e+008  | 47.9625     | 1m 5s        |</pre>"
      ],
      "text/plain": [
       "| 1438         | 3e+008  | 47.9625     | 1m 5s        |"
      ]
     },
     "metadata": {},
     "output_type": "display_data"
    },
    {
     "data": {
      "text/html": [
       "<pre>| 1459         | 3e+008  | 48.6664     | 1m 6s        |</pre>"
      ],
      "text/plain": [
       "| 1459         | 3e+008  | 48.6664     | 1m 6s        |"
      ]
     },
     "metadata": {},
     "output_type": "display_data"
    },
    {
     "data": {
      "text/html": [
       "<pre>| 1481         | 3e+008  | 49.3791     | 1m 7s        |</pre>"
      ],
      "text/plain": [
       "| 1481         | 3e+008  | 49.3791     | 1m 7s        |"
      ]
     },
     "metadata": {},
     "output_type": "display_data"
    },
    {
     "data": {
      "text/html": [
       "<pre>| 1502         | 3e+008  | 50.0891     | 1m 8s        |</pre>"
      ],
      "text/plain": [
       "| 1502         | 3e+008  | 50.0891     | 1m 8s        |"
      ]
     },
     "metadata": {},
     "output_type": "display_data"
    },
    {
     "data": {
      "text/html": [
       "<pre>| 1524         | 3e+008  | 50.8008     | 1m 9s        |</pre>"
      ],
      "text/plain": [
       "| 1524         | 3e+008  | 50.8008     | 1m 9s        |"
      ]
     },
     "metadata": {},
     "output_type": "display_data"
    },
    {
     "data": {
      "text/html": [
       "<pre>| 1546         | 3e+008  | 51.5382     | 1m 10s       |</pre>"
      ],
      "text/plain": [
       "| 1546         | 3e+008  | 51.5382     | 1m 10s       |"
      ]
     },
     "metadata": {},
     "output_type": "display_data"
    },
    {
     "data": {
      "text/html": [
       "<pre>| 1568         | 3e+008  | 52.2761     | 1m 11s       |</pre>"
      ],
      "text/plain": [
       "| 1568         | 3e+008  | 52.2761     | 1m 11s       |"
      ]
     },
     "metadata": {},
     "output_type": "display_data"
    },
    {
     "data": {
      "text/html": [
       "<pre>| 1590         | 3e+008  | 53.0047     | 1m 12s       |</pre>"
      ],
      "text/plain": [
       "| 1590         | 3e+008  | 53.0047     | 1m 12s       |"
      ]
     },
     "metadata": {},
     "output_type": "display_data"
    },
    {
     "data": {
      "text/html": [
       "<pre>| 1612         | 3e+008  | 53.7338     | 1m 13s       |</pre>"
      ],
      "text/plain": [
       "| 1612         | 3e+008  | 53.7338     | 1m 13s       |"
      ]
     },
     "metadata": {},
     "output_type": "display_data"
    },
    {
     "data": {
      "text/html": [
       "<pre>| 1632         | 3e+008  | 54.429      | 1m 14s       |</pre>"
      ],
      "text/plain": [
       "| 1632         | 3e+008  | 54.429      | 1m 14s       |"
      ]
     },
     "metadata": {},
     "output_type": "display_data"
    },
    {
     "data": {
      "text/html": [
       "<pre>| 1653         | 3e+008  | 55.106      | 1m 15s       |</pre>"
      ],
      "text/plain": [
       "| 1653         | 3e+008  | 55.106      | 1m 15s       |"
      ]
     },
     "metadata": {},
     "output_type": "display_data"
    },
    {
     "data": {
      "text/html": [
       "<pre>| 1673         | 3e+008  | 55.7878     | 1m 16s       |</pre>"
      ],
      "text/plain": [
       "| 1673         | 3e+008  | 55.7878     | 1m 16s       |"
      ]
     },
     "metadata": {},
     "output_type": "display_data"
    },
    {
     "data": {
      "text/html": [
       "<pre>| 1692         | 3e+008  | 56.4005     | 1m 17s       |</pre>"
      ],
      "text/plain": [
       "| 1692         | 3e+008  | 56.4005     | 1m 17s       |"
      ]
     },
     "metadata": {},
     "output_type": "display_data"
    },
    {
     "data": {
      "text/html": [
       "<pre>| 1711         | 3e+008  | 57.0657     | 1m 18s       |</pre>"
      ],
      "text/plain": [
       "| 1711         | 3e+008  | 57.0657     | 1m 18s       |"
      ]
     },
     "metadata": {},
     "output_type": "display_data"
    },
    {
     "data": {
      "text/html": [
       "<pre>| 1733         | 3e+008  | 57.7675     | 1m 19s       |</pre>"
      ],
      "text/plain": [
       "| 1733         | 3e+008  | 57.7675     | 1m 19s       |"
      ]
     },
     "metadata": {},
     "output_type": "display_data"
    },
    {
     "data": {
      "text/html": [
       "<pre>| 1751         | 3e+008  | 58.3972     | 1m 20s       |</pre>"
      ],
      "text/plain": [
       "| 1751         | 3e+008  | 58.3972     | 1m 20s       |"
      ]
     },
     "metadata": {},
     "output_type": "display_data"
    },
    {
     "data": {
      "text/html": [
       "<pre>| 1771         | 3e+008  | 59.0352     | 1m 21s       |</pre>"
      ],
      "text/plain": [
       "| 1771         | 3e+008  | 59.0352     | 1m 21s       |"
      ]
     },
     "metadata": {},
     "output_type": "display_data"
    },
    {
     "data": {
      "text/html": [
       "<pre>| 1793         | 3e+008  | 59.7818     | 1m 22s       |</pre>"
      ],
      "text/plain": [
       "| 1793         | 3e+008  | 59.7818     | 1m 22s       |"
      ]
     },
     "metadata": {},
     "output_type": "display_data"
    },
    {
     "data": {
      "text/html": [
       "<pre>| 1815         | 4e+008  | 60.5166     | 1m 23s       |</pre>"
      ],
      "text/plain": [
       "| 1815         | 4e+008  | 60.5166     | 1m 23s       |"
      ]
     },
     "metadata": {},
     "output_type": "display_data"
    },
    {
     "data": {
      "text/html": [
       "<pre>| 1837         | 4e+008  | 61.253      | 1m 24s       |</pre>"
      ],
      "text/plain": [
       "| 1837         | 4e+008  | 61.253      | 1m 24s       |"
      ]
     },
     "metadata": {},
     "output_type": "display_data"
    },
    {
     "data": {
      "text/html": [
       "<pre>| 1859         | 4e+008  | 61.9796     | 1m 25s       |</pre>"
      ],
      "text/plain": [
       "| 1859         | 4e+008  | 61.9796     | 1m 25s       |"
      ]
     },
     "metadata": {},
     "output_type": "display_data"
    },
    {
     "data": {
      "text/html": [
       "<pre>| 1878         | 4e+008  | 62.6262     | 1m 26s       |</pre>"
      ],
      "text/plain": [
       "| 1878         | 4e+008  | 62.6262     | 1m 26s       |"
      ]
     },
     "metadata": {},
     "output_type": "display_data"
    },
    {
     "data": {
      "text/html": [
       "<pre>| 1901         | 4e+008  | 63.3678     | 1m 27s       |</pre>"
      ],
      "text/plain": [
       "| 1901         | 4e+008  | 63.3678     | 1m 27s       |"
      ]
     },
     "metadata": {},
     "output_type": "display_data"
    },
    {
     "data": {
      "text/html": [
       "<pre>| 1922         | 4e+008  | 64.0974     | 1m 28s       |</pre>"
      ],
      "text/plain": [
       "| 1922         | 4e+008  | 64.0974     | 1m 28s       |"
      ]
     },
     "metadata": {},
     "output_type": "display_data"
    },
    {
     "data": {
      "text/html": [
       "<pre>| 1945         | 4e+008  | 64.8394     | 1m 29s       |</pre>"
      ],
      "text/plain": [
       "| 1945         | 4e+008  | 64.8394     | 1m 29s       |"
      ]
     },
     "metadata": {},
     "output_type": "display_data"
    },
    {
     "data": {
      "text/html": [
       "<pre>| 1967         | 4e+008  | 65.5742     | 1m 30s       |</pre>"
      ],
      "text/plain": [
       "| 1967         | 4e+008  | 65.5742     | 1m 30s       |"
      ]
     },
     "metadata": {},
     "output_type": "display_data"
    },
    {
     "data": {
      "text/html": [
       "<pre>| 1988         | 4e+008  | 66.2848     | 1m 31s       |</pre>"
      ],
      "text/plain": [
       "| 1988         | 4e+008  | 66.2848     | 1m 31s       |"
      ]
     },
     "metadata": {},
     "output_type": "display_data"
    },
    {
     "data": {
      "text/html": [
       "<pre>| 2010         | 4e+008  | 67.0274     | 1m 32s       |</pre>"
      ],
      "text/plain": [
       "| 2010         | 4e+008  | 67.0274     | 1m 32s       |"
      ]
     },
     "metadata": {},
     "output_type": "display_data"
    },
    {
     "data": {
      "text/html": [
       "<pre>| 2032         | 4e+008  | 67.7364     | 1m 33s       |</pre>"
      ],
      "text/plain": [
       "| 2032         | 4e+008  | 67.7364     | 1m 33s       |"
      ]
     },
     "metadata": {},
     "output_type": "display_data"
    },
    {
     "data": {
      "text/html": [
       "<pre>| 2053         | 4e+008  | 68.4614     | 1m 34s       |</pre>"
      ],
      "text/plain": [
       "| 2053         | 4e+008  | 68.4614     | 1m 34s       |"
      ]
     },
     "metadata": {},
     "output_type": "display_data"
    },
    {
     "data": {
      "text/html": [
       "<pre>| 2074         | 4e+008  | 69.1334     | 1m 35s       |</pre>"
      ],
      "text/plain": [
       "| 2074         | 4e+008  | 69.1334     | 1m 35s       |"
      ]
     },
     "metadata": {},
     "output_type": "display_data"
    },
    {
     "data": {
      "text/html": [
       "<pre>| 2093         | 4e+008  | 69.7806     | 1m 36s       |</pre>"
      ],
      "text/plain": [
       "| 2093         | 4e+008  | 69.7806     | 1m 36s       |"
      ]
     },
     "metadata": {},
     "output_type": "display_data"
    },
    {
     "data": {
      "text/html": [
       "<pre>| 2115         | 4e+008  | 70.519      | 1m 37s       |</pre>"
      ],
      "text/plain": [
       "| 2115         | 4e+008  | 70.519      | 1m 37s       |"
      ]
     },
     "metadata": {},
     "output_type": "display_data"
    },
    {
     "data": {
      "text/html": [
       "<pre>| 2138         | 4e+008  | 71.2677     | 1m 38s       |</pre>"
      ],
      "text/plain": [
       "| 2138         | 4e+008  | 71.2677     | 1m 38s       |"
      ]
     },
     "metadata": {},
     "output_type": "display_data"
    },
    {
     "data": {
      "text/html": [
       "<pre>| 2159         | 4e+008  | 71.9742     | 1m 39s       |</pre>"
      ],
      "text/plain": [
       "| 2159         | 4e+008  | 71.9742     | 1m 39s       |"
      ]
     },
     "metadata": {},
     "output_type": "display_data"
    },
    {
     "data": {
      "text/html": [
       "<pre>| 2180         | 4e+008  | 72.6889     | 1m 40s       |</pre>"
      ],
      "text/plain": [
       "| 2180         | 4e+008  | 72.6889     | 1m 40s       |"
      ]
     },
     "metadata": {},
     "output_type": "display_data"
    },
    {
     "data": {
      "text/html": [
       "<pre>| 2201         | 4e+008  | 73.3949     | 1m 41s       |</pre>"
      ],
      "text/plain": [
       "| 2201         | 4e+008  | 73.3949     | 1m 41s       |"
      ]
     },
     "metadata": {},
     "output_type": "display_data"
    },
    {
     "data": {
      "text/html": [
       "<pre>| 2222         | 4e+008  | 74.0843     | 1m 42s       |</pre>"
      ],
      "text/plain": [
       "| 2222         | 4e+008  | 74.0843     | 1m 42s       |"
      ]
     },
     "metadata": {},
     "output_type": "display_data"
    },
    {
     "data": {
      "text/html": [
       "<pre>| 2243         | 4e+008  | 74.7758     | 1m 43s       |</pre>"
      ],
      "text/plain": [
       "| 2243         | 4e+008  | 74.7758     | 1m 43s       |"
      ]
     },
     "metadata": {},
     "output_type": "display_data"
    },
    {
     "data": {
      "text/html": [
       "<pre>| 2264         | 4e+008  | 75.487      | 1m 44s       |</pre>"
      ],
      "text/plain": [
       "| 2264         | 4e+008  | 75.487      | 1m 44s       |"
      ]
     },
     "metadata": {},
     "output_type": "display_data"
    },
    {
     "data": {
      "text/html": [
       "<pre>| 2286         | 4e+008  | 76.2228     | 1m 45s       |</pre>"
      ],
      "text/plain": [
       "| 2286         | 4e+008  | 76.2228     | 1m 45s       |"
      ]
     },
     "metadata": {},
     "output_type": "display_data"
    },
    {
     "data": {
      "text/html": [
       "<pre>| 2307         | 4e+008  | 76.9035     | 1m 46s       |</pre>"
      ],
      "text/plain": [
       "| 2307         | 4e+008  | 76.9035     | 1m 46s       |"
      ]
     },
     "metadata": {},
     "output_type": "display_data"
    },
    {
     "data": {
      "text/html": [
       "<pre>| 2328         | 5e+008  | 77.6027     | 1m 47s       |</pre>"
      ],
      "text/plain": [
       "| 2328         | 5e+008  | 77.6027     | 1m 47s       |"
      ]
     },
     "metadata": {},
     "output_type": "display_data"
    },
    {
     "data": {
      "text/html": [
       "<pre>| 2349         | 5e+008  | 78.3298     | 1m 48s       |</pre>"
      ],
      "text/plain": [
       "| 2349         | 5e+008  | 78.3298     | 1m 48s       |"
      ]
     },
     "metadata": {},
     "output_type": "display_data"
    },
    {
     "data": {
      "text/html": [
       "<pre>| 2370         | 5e+008  | 79.01       | 1m 49s       |</pre>"
      ],
      "text/plain": [
       "| 2370         | 5e+008  | 79.01       | 1m 49s       |"
      ]
     },
     "metadata": {},
     "output_type": "display_data"
    },
    {
     "data": {
      "text/html": [
       "<pre>| 2389         | 5e+008  | 79.6583     | 1m 50s       |</pre>"
      ],
      "text/plain": [
       "| 2389         | 5e+008  | 79.6583     | 1m 50s       |"
      ]
     },
     "metadata": {},
     "output_type": "display_data"
    },
    {
     "data": {
      "text/html": [
       "<pre>| 2410         | 5e+008  | 80.3488     | 1m 51s       |</pre>"
      ],
      "text/plain": [
       "| 2410         | 5e+008  | 80.3488     | 1m 51s       |"
      ]
     },
     "metadata": {},
     "output_type": "display_data"
    },
    {
     "data": {
      "text/html": [
       "<pre>| 2432         | 5e+008  | 81.0861     | 1m 52s       |</pre>"
      ],
      "text/plain": [
       "| 2432         | 5e+008  | 81.0861     | 1m 52s       |"
      ]
     },
     "metadata": {},
     "output_type": "display_data"
    },
    {
     "data": {
      "text/html": [
       "<pre>| 2455         | 5e+008  | 81.8374     | 1m 53s       |</pre>"
      ],
      "text/plain": [
       "| 2455         | 5e+008  | 81.8374     | 1m 53s       |"
      ]
     },
     "metadata": {},
     "output_type": "display_data"
    },
    {
     "data": {
      "text/html": [
       "<pre>| 2477         | 5e+008  | 82.5717     | 1m 54s       |</pre>"
      ],
      "text/plain": [
       "| 2477         | 5e+008  | 82.5717     | 1m 54s       |"
      ]
     },
     "metadata": {},
     "output_type": "display_data"
    },
    {
     "data": {
      "text/html": [
       "<pre>| 2496         | 5e+008  | 83.2035     | 1m 55s       |</pre>"
      ],
      "text/plain": [
       "| 2496         | 5e+008  | 83.2035     | 1m 55s       |"
      ]
     },
     "metadata": {},
     "output_type": "display_data"
    },
    {
     "data": {
      "text/html": [
       "<pre>| 2516         | 5e+008  | 83.8754     | 1m 56s       |</pre>"
      ],
      "text/plain": [
       "| 2516         | 5e+008  | 83.8754     | 1m 56s       |"
      ]
     },
     "metadata": {},
     "output_type": "display_data"
    },
    {
     "data": {
      "text/html": [
       "<pre>| 2535         | 5e+008  | 84.5216     | 1m 57s       |</pre>"
      ],
      "text/plain": [
       "| 2535         | 5e+008  | 84.5216     | 1m 57s       |"
      ]
     },
     "metadata": {},
     "output_type": "display_data"
    },
    {
     "data": {
      "text/html": [
       "<pre>| 2555         | 5e+008  | 85.1683     | 1m 58s       |</pre>"
      ],
      "text/plain": [
       "| 2555         | 5e+008  | 85.1683     | 1m 58s       |"
      ]
     },
     "metadata": {},
     "output_type": "display_data"
    },
    {
     "data": {
      "text/html": [
       "<pre>| 2575         | 5e+008  | 85.8423     | 1m 59s       |</pre>"
      ],
      "text/plain": [
       "| 2575         | 5e+008  | 85.8423     | 1m 59s       |"
      ]
     },
     "metadata": {},
     "output_type": "display_data"
    },
    {
     "data": {
      "text/html": [
       "<pre>| 2595         | 5e+008  | 86.5199     | 2m 0s        |</pre>"
      ],
      "text/plain": [
       "| 2595         | 5e+008  | 86.5199     | 2m 0s        |"
      ]
     },
     "metadata": {},
     "output_type": "display_data"
    },
    {
     "data": {
      "text/html": [
       "<pre>| 2616         | 5e+008  | 87.2284     | 2m 1s        |</pre>"
      ],
      "text/plain": [
       "| 2616         | 5e+008  | 87.2284     | 2m 1s        |"
      ]
     },
     "metadata": {},
     "output_type": "display_data"
    },
    {
     "data": {
      "text/html": [
       "<pre>| 2637         | 5e+008  | 87.9164     | 2m 2s        |</pre>"
      ],
      "text/plain": [
       "| 2637         | 5e+008  | 87.9164     | 2m 2s        |"
      ]
     },
     "metadata": {},
     "output_type": "display_data"
    },
    {
     "data": {
      "text/html": [
       "<pre>| 2658         | 5e+008  | 88.6074     | 2m 3s        |</pre>"
      ],
      "text/plain": [
       "| 2658         | 5e+008  | 88.6074     | 2m 3s        |"
      ]
     },
     "metadata": {},
     "output_type": "display_data"
    },
    {
     "data": {
      "text/html": [
       "<pre>| 2678         | 5e+008  | 89.2845     | 2m 4s        |</pre>"
      ],
      "text/plain": [
       "| 2678         | 5e+008  | 89.2845     | 2m 4s        |"
      ]
     },
     "metadata": {},
     "output_type": "display_data"
    },
    {
     "data": {
      "text/html": [
       "<pre>| 2698         | 5e+008  | 89.9543     | 2m 5s        |</pre>"
      ],
      "text/plain": [
       "| 2698         | 5e+008  | 89.9543     | 2m 5s        |"
      ]
     },
     "metadata": {},
     "output_type": "display_data"
    },
    {
     "data": {
      "text/html": [
       "<pre>| 2717         | 5e+008  | 90.5845     | 2m 6s        |</pre>"
      ],
      "text/plain": [
       "| 2717         | 5e+008  | 90.5845     | 2m 6s        |"
      ]
     },
     "metadata": {},
     "output_type": "display_data"
    },
    {
     "data": {
      "text/html": [
       "<pre>| 2738         | 5e+008  | 91.2838     | 2m 7s        |</pre>"
      ],
      "text/plain": [
       "| 2738         | 5e+008  | 91.2838     | 2m 7s        |"
      ]
     },
     "metadata": {},
     "output_type": "display_data"
    },
    {
     "data": {
      "text/html": [
       "<pre>| 2758         | 5e+008  | 91.9357     | 2m 8s        |</pre>"
      ],
      "text/plain": [
       "| 2758         | 5e+008  | 91.9357     | 2m 8s        |"
      ]
     },
     "metadata": {},
     "output_type": "display_data"
    },
    {
     "data": {
      "text/html": [
       "<pre>| 2774         | 5e+008  | 92.4958     | 2m 9s        |</pre>"
      ],
      "text/plain": [
       "| 2774         | 5e+008  | 92.4958     | 2m 9s        |"
      ]
     },
     "metadata": {},
     "output_type": "display_data"
    },
    {
     "data": {
      "text/html": [
       "<pre>| 2794         | 5e+008  | 93.1564     | 2m 10s       |</pre>"
      ],
      "text/plain": [
       "| 2794         | 5e+008  | 93.1564     | 2m 10s       |"
      ]
     },
     "metadata": {},
     "output_type": "display_data"
    },
    {
     "data": {
      "text/html": [
       "<pre>| 2813         | 5e+008  | 93.7825     | 2m 11s       |</pre>"
      ],
      "text/plain": [
       "| 2813         | 5e+008  | 93.7825     | 2m 11s       |"
      ]
     },
     "metadata": {},
     "output_type": "display_data"
    },
    {
     "data": {
      "text/html": [
       "<pre>| 2832         | 5e+008  | 94.4163     | 2m 12s       |</pre>"
      ],
      "text/plain": [
       "| 2832         | 5e+008  | 94.4163     | 2m 12s       |"
      ]
     },
     "metadata": {},
     "output_type": "display_data"
    },
    {
     "data": {
      "text/html": [
       "<pre>| 2849         | 6e+008  | 94.9965     | 2m 13s       |</pre>"
      ],
      "text/plain": [
       "| 2849         | 6e+008  | 94.9965     | 2m 13s       |"
      ]
     },
     "metadata": {},
     "output_type": "display_data"
    },
    {
     "data": {
      "text/html": [
       "<pre>| 2866         | 6e+008  | 95.5437     | 2m 14s       |</pre>"
      ],
      "text/plain": [
       "| 2866         | 6e+008  | 95.5437     | 2m 14s       |"
      ]
     },
     "metadata": {},
     "output_type": "display_data"
    },
    {
     "data": {
      "text/html": [
       "<pre>| 2886         | 6e+008  | 96.228      | 2m 15s       |</pre>"
      ],
      "text/plain": [
       "| 2886         | 6e+008  | 96.228      | 2m 15s       |"
      ]
     },
     "metadata": {},
     "output_type": "display_data"
    },
    {
     "data": {
      "text/html": [
       "<pre>| 2902         | 6e+008  | 96.7356     | 2m 16s       |</pre>"
      ],
      "text/plain": [
       "| 2902         | 6e+008  | 96.7356     | 2m 16s       |"
      ]
     },
     "metadata": {},
     "output_type": "display_data"
    },
    {
     "data": {
      "text/html": [
       "<pre>| 2917         | 6e+008  | 97.2592     | 2m 16s       |</pre>"
      ],
      "text/plain": [
       "| 2917         | 6e+008  | 97.2592     | 2m 16s       |"
      ]
     },
     "metadata": {},
     "output_type": "display_data"
    },
    {
     "data": {
      "text/html": [
       "<pre>| 2933         | 6e+008  | 97.7667     | 2m 17s       |</pre>"
      ],
      "text/plain": [
       "| 2933         | 6e+008  | 97.7667     | 2m 17s       |"
      ]
     },
     "metadata": {},
     "output_type": "display_data"
    },
    {
     "data": {
      "text/html": [
       "<pre>| 2951         | 6e+008  | 98.3825     | 2m 19s       |</pre>"
      ],
      "text/plain": [
       "| 2951         | 6e+008  | 98.3825     | 2m 19s       |"
      ]
     },
     "metadata": {},
     "output_type": "display_data"
    },
    {
     "data": {
      "text/html": [
       "<pre>| 2967         | 6e+008  | 98.9158     | 2m 20s       |</pre>"
      ],
      "text/plain": [
       "| 2967         | 6e+008  | 98.9158     | 2m 20s       |"
      ]
     },
     "metadata": {},
     "output_type": "display_data"
    },
    {
     "data": {
      "text/html": [
       "<pre>| 2982         | 6e+008  | 99.4234     | 2m 21s       |</pre>"
      ],
      "text/plain": [
       "| 2982         | 6e+008  | 99.4234     | 2m 21s       |"
      ]
     },
     "metadata": {},
     "output_type": "display_data"
    },
    {
     "data": {
      "text/html": [
       "<pre>| 2989         | 6e+008  | 99.6522     | 2m 22s       |</pre>"
      ],
      "text/plain": [
       "| 2989         | 6e+008  | 99.6522     | 2m 22s       |"
      ]
     },
     "metadata": {},
     "output_type": "display_data"
    },
    {
     "data": {
      "text/html": [
       "<pre>| 2994         | 6e+008  | 99.8325     | 2m 23s       |</pre>"
      ],
      "text/plain": [
       "| 2994         | 6e+008  | 99.8325     | 2m 23s       |"
      ]
     },
     "metadata": {},
     "output_type": "display_data"
    },
    {
     "data": {
      "text/html": [
       "<pre>| Done         |         | 100         | 2m 23s       |</pre>"
      ],
      "text/plain": [
       "| Done         |         | 100         | 2m 23s       |"
      ]
     },
     "metadata": {},
     "output_type": "display_data"
    },
    {
     "data": {
      "text/html": [
       "<pre>+--------------+---------+-------------+--------------+</pre>"
      ],
      "text/plain": [
       "+--------------+---------+-------------+--------------+"
      ]
     },
     "metadata": {},
     "output_type": "display_data"
    }
   ],
   "source": [
    "accuracy = m2.evaluate(test_data[:3000], metric='accuracy')"
   ]
  },
  {
   "cell_type": "code",
   "execution_count": 23,
   "metadata": {
    "collapsed": false
   },
   "outputs": [
    {
     "name": "stdout",
     "output_type": "stream",
     "text": [
      "{'accuracy': 0.4656666666666667}\n"
     ]
    }
   ],
   "source": [
    "print accuracy"
   ]
  },
  {
   "cell_type": "code",
   "execution_count": null,
   "metadata": {
    "collapsed": true
   },
   "outputs": [],
   "source": []
  }
 ],
 "metadata": {
  "kernelspec": {
   "display_name": "Python 2",
   "language": "python",
   "name": "python2"
  },
  "language_info": {
   "codemirror_mode": {
    "name": "ipython",
    "version": 2
   },
   "file_extension": ".py",
   "mimetype": "text/x-python",
   "name": "python",
   "nbconvert_exporter": "python",
   "pygments_lexer": "ipython2",
   "version": "2.7.11"
  }
 },
 "nbformat": 4,
 "nbformat_minor": 0
}
