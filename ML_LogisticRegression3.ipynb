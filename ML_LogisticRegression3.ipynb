{
 "cells": [
  {
   "cell_type": "code",
   "execution_count": 1,
   "metadata": {
    "collapsed": true
   },
   "outputs": [],
   "source": [
    "import graphlab as gl"
   ]
  },
  {
   "cell_type": "code",
   "execution_count": 2,
   "metadata": {
    "collapsed": false
   },
   "outputs": [
    {
     "name": "stderr",
     "output_type": "stream",
     "text": [
      "[INFO] graphlab.cython.cy_server: GraphLab Create v2.1 started. Logging: C:\\Users\\User\\AppData\\Local\\Temp\\graphlab_server_1515655050.log.0\n"
     ]
    },
    {
     "name": "stdout",
     "output_type": "stream",
     "text": [
      "This non-commercial license of GraphLab Create for academic use is assigned to padhigayatri.official@gmail.com and will expire on January 02, 2019.\n"
     ]
    },
    {
     "data": {
      "text/html": [
       "<pre>Downloading https://static.turi.com/datasets/mnist/sframe/train6k-array/dir_archive.ini to C:/Users/User/AppData/Local/Temp/graphlab-User/2056/0def736b-d107-42f1-ae23-a30ae9b57238.ini</pre>"
      ],
      "text/plain": [
       "Downloading https://static.turi.com/datasets/mnist/sframe/train6k-array/dir_archive.ini to C:/Users/User/AppData/Local/Temp/graphlab-User/2056/0def736b-d107-42f1-ae23-a30ae9b57238.ini"
      ]
     },
     "metadata": {},
     "output_type": "display_data"
    },
    {
     "data": {
      "text/html": [
       "<pre>Downloading https://static.turi.com/datasets/mnist/sframe/train6k-array/objects.bin to C:/Users/User/AppData/Local/Temp/graphlab-User/2056/d3fe984d-880d-4f7d-8c45-387f9777e4af.bin</pre>"
      ],
      "text/plain": [
       "Downloading https://static.turi.com/datasets/mnist/sframe/train6k-array/objects.bin to C:/Users/User/AppData/Local/Temp/graphlab-User/2056/d3fe984d-880d-4f7d-8c45-387f9777e4af.bin"
      ]
     },
     "metadata": {},
     "output_type": "display_data"
    },
    {
     "data": {
      "text/html": [
       "<pre>Downloading https://static.turi.com/datasets/mnist/sframe/train6k-array/m_95c19a8836676e4b.frame_idx to C:/Users/User/AppData/Local/Temp/graphlab-User/2056/23022494-2110-41d6-98f5-4c95a6a859c1.frame_idx</pre>"
      ],
      "text/plain": [
       "Downloading https://static.turi.com/datasets/mnist/sframe/train6k-array/m_95c19a8836676e4b.frame_idx to C:/Users/User/AppData/Local/Temp/graphlab-User/2056/23022494-2110-41d6-98f5-4c95a6a859c1.frame_idx"
      ]
     },
     "metadata": {},
     "output_type": "display_data"
    },
    {
     "data": {
      "text/html": [
       "<pre>Downloading https://static.turi.com/datasets/mnist/sframe/train6k-array/m_95c19a8836676e4b.sidx to C:/Users/User/AppData/Local/Temp/graphlab-User/2056/b8a9d844-bb63-4ee7-aed9-fec69128c6d6.sidx</pre>"
      ],
      "text/plain": [
       "Downloading https://static.turi.com/datasets/mnist/sframe/train6k-array/m_95c19a8836676e4b.sidx to C:/Users/User/AppData/Local/Temp/graphlab-User/2056/b8a9d844-bb63-4ee7-aed9-fec69128c6d6.sidx"
      ]
     },
     "metadata": {},
     "output_type": "display_data"
    }
   ],
   "source": [
    "# Load the data\n",
    "# The data can be downloaded using\n",
    "data = gl.SFrame('https://static.turi.com/datasets/mnist/sframe/train6k-array')"
   ]
  },
  {
   "cell_type": "code",
   "execution_count": 7,
   "metadata": {
    "collapsed": false
   },
   "outputs": [
    {
     "data": {
      "text/html": [
       "<div style=\"max-height:1000px;max-width:1500px;overflow:auto;\"><table frame=\"box\" rules=\"cols\">\n",
       "    <tr>\n",
       "        <th style=\"padding-left: 1em; padding-right: 1em; text-align: center\">label</th>\n",
       "        <th style=\"padding-left: 1em; padding-right: 1em; text-align: center\">image-array</th>\n",
       "    </tr>\n",
       "    <tr>\n",
       "        <td style=\"padding-left: 1em; padding-right: 1em; text-align: center; vertical-align: top\">5</td>\n",
       "        <td style=\"padding-left: 1em; padding-right: 1em; text-align: center; vertical-align: top\">[0.0, 0.0, 0.0, 0.0, 0.0,<br>0.0, 0.0, 0.0, 2.0, 0.0, ...</td>\n",
       "    </tr>\n",
       "    <tr>\n",
       "        <td style=\"padding-left: 1em; padding-right: 1em; text-align: center; vertical-align: top\">8</td>\n",
       "        <td style=\"padding-left: 1em; padding-right: 1em; text-align: center; vertical-align: top\">[0.0, 0.0, 0.0, 0.0, 0.0,<br>0.0, 0.0, 0.0, 0.0, 6.0, ...</td>\n",
       "    </tr>\n",
       "    <tr>\n",
       "        <td style=\"padding-left: 1em; padding-right: 1em; text-align: center; vertical-align: top\">1</td>\n",
       "        <td style=\"padding-left: 1em; padding-right: 1em; text-align: center; vertical-align: top\">[0.0, 0.0, 0.0, 0.0, 0.0,<br>0.0, 0.0, 0.0, 0.0, 0.0, ...</td>\n",
       "    </tr>\n",
       "    <tr>\n",
       "        <td style=\"padding-left: 1em; padding-right: 1em; text-align: center; vertical-align: top\">4</td>\n",
       "        <td style=\"padding-left: 1em; padding-right: 1em; text-align: center; vertical-align: top\">[0.0, 0.0, 0.0, 0.0, 0.0,<br>0.0, 0.0, 0.0, 0.0, 5.0, ...</td>\n",
       "    </tr>\n",
       "    <tr>\n",
       "        <td style=\"padding-left: 1em; padding-right: 1em; text-align: center; vertical-align: top\">2</td>\n",
       "        <td style=\"padding-left: 1em; padding-right: 1em; text-align: center; vertical-align: top\">[0.0, 0.0, 0.0, 0.0, 0.0,<br>0.0, 0.0, 0.0, 0.0, 2 ...</td>\n",
       "    </tr>\n",
       "    <tr>\n",
       "        <td style=\"padding-left: 1em; padding-right: 1em; text-align: center; vertical-align: top\">7</td>\n",
       "        <td style=\"padding-left: 1em; padding-right: 1em; text-align: center; vertical-align: top\">[0.0, 0.0, 0.0, 0.0, 0.0,<br>0.0, 0.0, 0.0, 3.0, 0.0, ...</td>\n",
       "    </tr>\n",
       "    <tr>\n",
       "        <td style=\"padding-left: 1em; padding-right: 1em; text-align: center; vertical-align: top\">0</td>\n",
       "        <td style=\"padding-left: 1em; padding-right: 1em; text-align: center; vertical-align: top\">[0.0, 0.0, 0.0, 0.0, 0.0,<br>0.0, 0.0, 0.0, 0.0, 0.0, ...</td>\n",
       "    </tr>\n",
       "    <tr>\n",
       "        <td style=\"padding-left: 1em; padding-right: 1em; text-align: center; vertical-align: top\">2</td>\n",
       "        <td style=\"padding-left: 1em; padding-right: 1em; text-align: center; vertical-align: top\">[0.0, 0.0, 0.0, 0.0, 0.0,<br>0.0, 0.0, 0.0, 4.0, 2.0, ...</td>\n",
       "    </tr>\n",
       "    <tr>\n",
       "        <td style=\"padding-left: 1em; padding-right: 1em; text-align: center; vertical-align: top\">5</td>\n",
       "        <td style=\"padding-left: 1em; padding-right: 1em; text-align: center; vertical-align: top\">[0.0, 0.0, 0.0, 0.0, 0.0,<br>0.0, 0.0, 0.0, 0.0, 0.0, ...</td>\n",
       "    </tr>\n",
       "    <tr>\n",
       "        <td style=\"padding-left: 1em; padding-right: 1em; text-align: center; vertical-align: top\">9</td>\n",
       "        <td style=\"padding-left: 1em; padding-right: 1em; text-align: center; vertical-align: top\">[0.0, 0.0, 0.0, 0.0, 0.0,<br>0.0, 0.0, 0.0, 7.0, 2.0, ...</td>\n",
       "    </tr>\n",
       "</table>\n",
       "[6000 rows x 2 columns]<br/>Note: Only the head of the SFrame is printed.<br/>You can use print_rows(num_rows=m, num_columns=n) to print more rows and columns.\n",
       "</div>"
      ],
      "text/plain": [
       "Columns:\n",
       "\tlabel\tint\n",
       "\timage-array\tarray\n",
       "\n",
       "Rows: 6000\n",
       "\n",
       "Data:\n",
       "+-------+-------------------------------+\n",
       "| label |          image-array          |\n",
       "+-------+-------------------------------+\n",
       "|   5   | [0.0, 0.0, 0.0, 0.0, 0.0, ... |\n",
       "|   8   | [0.0, 0.0, 0.0, 0.0, 0.0, ... |\n",
       "|   1   | [0.0, 0.0, 0.0, 0.0, 0.0, ... |\n",
       "|   4   | [0.0, 0.0, 0.0, 0.0, 0.0, ... |\n",
       "|   2   | [0.0, 0.0, 0.0, 0.0, 0.0, ... |\n",
       "|   7   | [0.0, 0.0, 0.0, 0.0, 0.0, ... |\n",
       "|   0   | [0.0, 0.0, 0.0, 0.0, 0.0, ... |\n",
       "|   2   | [0.0, 0.0, 0.0, 0.0, 0.0, ... |\n",
       "|   5   | [0.0, 0.0, 0.0, 0.0, 0.0, ... |\n",
       "|   9   | [0.0, 0.0, 0.0, 0.0, 0.0, ... |\n",
       "+-------+-------------------------------+\n",
       "[6000 rows x 2 columns]\n",
       "Note: Only the head of the SFrame is printed.\n",
       "You can use print_rows(num_rows=m, num_columns=n) to print more rows and columns."
      ]
     },
     "execution_count": 7,
     "metadata": {},
     "output_type": "execute_result"
    }
   ],
   "source": [
    "data"
   ]
  },
  {
   "cell_type": "code",
   "execution_count": 3,
   "metadata": {
    "collapsed": true
   },
   "outputs": [],
   "source": [
    "# Make a train-test split\n",
    "train_data, test_data = data.random_split(0.8)"
   ]
  },
  {
   "cell_type": "code",
   "execution_count": 4,
   "metadata": {
    "collapsed": false
   },
   "outputs": [
    {
     "name": "stdout",
     "output_type": "stream",
     "text": [
      "PROGRESS: Creating a validation set from 5 percent of training data. This may take a while.\n",
      "          You can set ``validation_set=None`` to disable validation tracking.\n",
      "\n"
     ]
    },
    {
     "data": {
      "text/html": [
       "<pre>Downloading https://static.turi.com/datasets/mnist/sframe/train6k-array/m_95c19a8836676e4b.0000 to C:/Users/User/AppData/Local/Temp/graphlab-User/2056/bd30e0a3-8b13-48a0-ab5a-e15427cf8dde.0000</pre>"
      ],
      "text/plain": [
       "Downloading https://static.turi.com/datasets/mnist/sframe/train6k-array/m_95c19a8836676e4b.0000 to C:/Users/User/AppData/Local/Temp/graphlab-User/2056/bd30e0a3-8b13-48a0-ab5a-e15427cf8dde.0000"
      ]
     },
     "metadata": {},
     "output_type": "display_data"
    },
    {
     "data": {
      "text/html": [
       "<pre>Downloading https://static.turi.com/datasets/mnist/sframe/train6k-array/m_95c19a8836676e4b.0001 to C:/Users/User/AppData/Local/Temp/graphlab-User/2056/9a20f345-59bc-4828-8f8a-355ef52931f3.0001</pre>"
      ],
      "text/plain": [
       "Downloading https://static.turi.com/datasets/mnist/sframe/train6k-array/m_95c19a8836676e4b.0001 to C:/Users/User/AppData/Local/Temp/graphlab-User/2056/9a20f345-59bc-4828-8f8a-355ef52931f3.0001"
      ]
     },
     "metadata": {},
     "output_type": "display_data"
    },
    {
     "data": {
      "text/html": [
       "<pre>Downloading https://static.turi.com/datasets/mnist/sframe/train6k-array/m_95c19a8836676e4b.0002 to C:/Users/User/AppData/Local/Temp/graphlab-User/2056/da8ad515-4e69-4e66-bbda-43612b9fca71.0002</pre>"
      ],
      "text/plain": [
       "Downloading https://static.turi.com/datasets/mnist/sframe/train6k-array/m_95c19a8836676e4b.0002 to C:/Users/User/AppData/Local/Temp/graphlab-User/2056/da8ad515-4e69-4e66-bbda-43612b9fca71.0002"
      ]
     },
     "metadata": {},
     "output_type": "display_data"
    },
    {
     "data": {
      "text/html": [
       "<pre>Downloading https://static.turi.com/datasets/mnist/sframe/train6k-array/m_95c19a8836676e4b.0003 to C:/Users/User/AppData/Local/Temp/graphlab-User/2056/ca21f37b-c409-48b4-92dc-88d220c5b372.0003</pre>"
      ],
      "text/plain": [
       "Downloading https://static.turi.com/datasets/mnist/sframe/train6k-array/m_95c19a8836676e4b.0003 to C:/Users/User/AppData/Local/Temp/graphlab-User/2056/ca21f37b-c409-48b4-92dc-88d220c5b372.0003"
      ]
     },
     "metadata": {},
     "output_type": "display_data"
    },
    {
     "data": {
      "text/html": [
       "<pre>WARNING: Detected extremely low variance for feature(s) 'image-array' because all entries are nearly the same.\n",
       "Proceeding with model training using all features. If the model does not provide results of adequate quality, exclude the above mentioned feature(s) from the input dataset.</pre>"
      ],
      "text/plain": [
       "WARNING: Detected extremely low variance for feature(s) 'image-array' because all entries are nearly the same.\n",
       "Proceeding with model training using all features. If the model does not provide results of adequate quality, exclude the above mentioned feature(s) from the input dataset."
      ]
     },
     "metadata": {},
     "output_type": "display_data"
    },
    {
     "data": {
      "text/html": [
       "<pre>Logistic regression:</pre>"
      ],
      "text/plain": [
       "Logistic regression:"
      ]
     },
     "metadata": {},
     "output_type": "display_data"
    },
    {
     "data": {
      "text/html": [
       "<pre>--------------------------------------------------------</pre>"
      ],
      "text/plain": [
       "--------------------------------------------------------"
      ]
     },
     "metadata": {},
     "output_type": "display_data"
    },
    {
     "data": {
      "text/html": [
       "<pre>Number of examples          : 4611</pre>"
      ],
      "text/plain": [
       "Number of examples          : 4611"
      ]
     },
     "metadata": {},
     "output_type": "display_data"
    },
    {
     "data": {
      "text/html": [
       "<pre>Number of classes           : 10</pre>"
      ],
      "text/plain": [
       "Number of classes           : 10"
      ]
     },
     "metadata": {},
     "output_type": "display_data"
    },
    {
     "data": {
      "text/html": [
       "<pre>Number of feature columns   : 1</pre>"
      ],
      "text/plain": [
       "Number of feature columns   : 1"
      ]
     },
     "metadata": {},
     "output_type": "display_data"
    },
    {
     "data": {
      "text/html": [
       "<pre>Number of unpacked features : 784</pre>"
      ],
      "text/plain": [
       "Number of unpacked features : 784"
      ]
     },
     "metadata": {},
     "output_type": "display_data"
    },
    {
     "data": {
      "text/html": [
       "<pre>Number of coefficients    : 7065</pre>"
      ],
      "text/plain": [
       "Number of coefficients    : 7065"
      ]
     },
     "metadata": {},
     "output_type": "display_data"
    },
    {
     "data": {
      "text/html": [
       "<pre>Starting L-BFGS</pre>"
      ],
      "text/plain": [
       "Starting L-BFGS"
      ]
     },
     "metadata": {},
     "output_type": "display_data"
    },
    {
     "data": {
      "text/html": [
       "<pre>--------------------------------------------------------</pre>"
      ],
      "text/plain": [
       "--------------------------------------------------------"
      ]
     },
     "metadata": {},
     "output_type": "display_data"
    },
    {
     "data": {
      "text/html": [
       "<pre>+-----------+----------+-----------+--------------+-------------------+---------------------+</pre>"
      ],
      "text/plain": [
       "+-----------+----------+-----------+--------------+-------------------+---------------------+"
      ]
     },
     "metadata": {},
     "output_type": "display_data"
    },
    {
     "data": {
      "text/html": [
       "<pre>| Iteration | Passes   | Step size | Elapsed Time | Training-accuracy | Validation-accuracy |</pre>"
      ],
      "text/plain": [
       "| Iteration | Passes   | Step size | Elapsed Time | Training-accuracy | Validation-accuracy |"
      ]
     },
     "metadata": {},
     "output_type": "display_data"
    },
    {
     "data": {
      "text/html": [
       "<pre>+-----------+----------+-----------+--------------+-------------------+---------------------+</pre>"
      ],
      "text/plain": [
       "+-----------+----------+-----------+--------------+-------------------+---------------------+"
      ]
     },
     "metadata": {},
     "output_type": "display_data"
    },
    {
     "data": {
      "text/html": [
       "<pre>| 1         | 3        | 0.000217  | 1.838105     | 0.570158          | 0.561475            |</pre>"
      ],
      "text/plain": [
       "| 1         | 3        | 0.000217  | 1.838105     | 0.570158          | 0.561475            |"
      ]
     },
     "metadata": {},
     "output_type": "display_data"
    },
    {
     "data": {
      "text/html": [
       "<pre>| 2         | 5        | 1.000000  | 2.429139     | 0.678595          | 0.704918            |</pre>"
      ],
      "text/plain": [
       "| 2         | 5        | 1.000000  | 2.429139     | 0.678595          | 0.704918            |"
      ]
     },
     "metadata": {},
     "output_type": "display_data"
    },
    {
     "data": {
      "text/html": [
       "<pre>| 3         | 6        | 1.000000  | 2.754157     | 0.751898          | 0.750000            |</pre>"
      ],
      "text/plain": [
       "| 3         | 6        | 1.000000  | 2.754157     | 0.751898          | 0.750000            |"
      ]
     },
     "metadata": {},
     "output_type": "display_data"
    },
    {
     "data": {
      "text/html": [
       "<pre>| 4         | 7        | 1.000000  | 3.078176     | 0.806116          | 0.815574            |</pre>"
      ],
      "text/plain": [
       "| 4         | 7        | 1.000000  | 3.078176     | 0.806116          | 0.815574            |"
      ]
     },
     "metadata": {},
     "output_type": "display_data"
    },
    {
     "data": {
      "text/html": [
       "<pre>| 5         | 8        | 1.000000  | 3.404195     | 0.851876          | 0.819672            |</pre>"
      ],
      "text/plain": [
       "| 5         | 8        | 1.000000  | 3.404195     | 0.851876          | 0.819672            |"
      ]
     },
     "metadata": {},
     "output_type": "display_data"
    },
    {
     "data": {
      "text/html": [
       "<pre>| 6         | 9        | 1.000000  | 3.728213     | 0.868358          | 0.868852            |</pre>"
      ],
      "text/plain": [
       "| 6         | 9        | 1.000000  | 3.728213     | 0.868358          | 0.868852            |"
      ]
     },
     "metadata": {},
     "output_type": "display_data"
    },
    {
     "data": {
      "text/html": [
       "<pre>| 10        | 13       | 1.000000  | 5.030288     | 0.909998          | 0.889344            |</pre>"
      ],
      "text/plain": [
       "| 10        | 13       | 1.000000  | 5.030288     | 0.909998          | 0.889344            |"
      ]
     },
     "metadata": {},
     "output_type": "display_data"
    },
    {
     "data": {
      "text/html": [
       "<pre>+-----------+----------+-----------+--------------+-------------------+---------------------+</pre>"
      ],
      "text/plain": [
       "+-----------+----------+-----------+--------------+-------------------+---------------------+"
      ]
     },
     "metadata": {},
     "output_type": "display_data"
    },
    {
     "data": {
      "text/html": [
       "<pre>TERMINATED: Iteration limit reached.</pre>"
      ],
      "text/plain": [
       "TERMINATED: Iteration limit reached."
      ]
     },
     "metadata": {},
     "output_type": "display_data"
    },
    {
     "data": {
      "text/html": [
       "<pre>This model may not be optimal. To improve it, consider increasing `max_iterations`.</pre>"
      ],
      "text/plain": [
       "This model may not be optimal. To improve it, consider increasing `max_iterations`."
      ]
     },
     "metadata": {},
     "output_type": "display_data"
    }
   ],
   "source": [
    "# Create a model.\n",
    "model = gl.logistic_classifier.create(train_data, target='label')\n"
   ]
  },
  {
   "cell_type": "code",
   "execution_count": 10,
   "metadata": {
    "collapsed": false
   },
   "outputs": [
    {
     "name": "stdout",
     "output_type": "stream",
     "text": [
      "+-------------+-------+-------+------------------+--------+\n",
      "|     name    | index | class |      value       | stderr |\n",
      "+-------------+-------+-------+------------------+--------+\n",
      "| (intercept) |  None |   1   | 0.0769814766166  |  None  |\n",
      "| image-array |   0   |   1   | -0.0262323995455 |  None  |\n",
      "| image-array |   1   |   1   | -0.0225473172843 |  None  |\n",
      "| image-array |   2   |   1   | -0.0196481256133 |  None  |\n",
      "| image-array |   3   |   1   | -0.0223197989011 |  None  |\n",
      "| image-array |   4   |   1   | -0.0221148951208 |  None  |\n",
      "| image-array |   5   |   1   | -0.024900826897  |  None  |\n",
      "| image-array |   6   |   1   | -0.0114595511357 |  None  |\n",
      "| image-array |   7   |   1   | -0.0301476538649 |  None  |\n",
      "| image-array |   8   |   1   | -0.0104205879952 |  None  |\n",
      "+-------------+-------+-------+------------------+--------+\n",
      "[7065 rows x 5 columns]\n",
      "Note: Only the head of the SFrame is printed.\n",
      "You can use print_rows(num_rows=m, num_columns=n) to print more rows and columns.\n"
     ]
    }
   ],
   "source": [
    "coefs = model['coefficients']\n",
    "print coefs"
   ]
  },
  {
   "cell_type": "code",
   "execution_count": 11,
   "metadata": {
    "collapsed": false
   },
   "outputs": [
    {
     "name": "stdout",
     "output_type": "stream",
     "text": [
      "Class                          : LogisticClassifier\n",
      "\n",
      "Schema\n",
      "------\n",
      "Number of coefficients         : 7065\n",
      "Number of examples             : 4611\n",
      "Number of classes              : 10\n",
      "Number of feature columns      : 1\n",
      "Number of unpacked features    : 784\n",
      "\n",
      "Hyperparameters\n",
      "---------------\n",
      "L1 penalty                     : 0.0\n",
      "L2 penalty                     : 0.01\n",
      "\n",
      "Training Summary\n",
      "----------------\n",
      "Solver                         : lbfgs\n",
      "Solver iterations              : 10\n",
      "Solver status                  : TERMINATED: Iteration limit reached.\n",
      "Training time (sec)            : 5.0893\n",
      "\n",
      "Settings\n",
      "--------\n",
      "Log-likelihood                 : 1435.1103\n",
      "\n",
      "Highest Positive Coefficients\n",
      "-----------------------------\n",
      "image-array[726]               : 1.6947\n",
      "image-array[782]               : 1.0874\n",
      "image-array[755]               : 0.518\n",
      "image-array[755]               : 0.245\n",
      "image-array[783]               : 0.2247\n",
      "\n",
      "Lowest Negative Coefficients\n",
      "----------------------------\n",
      "image-array[726]               : -0.4512\n",
      "image-array[726]               : -0.3989\n",
      "image-array[782]               : -0.3889\n",
      "image-array[755]               : -0.3423\n",
      "image-array[726]               : -0.3175\n",
      "\n"
     ]
    }
   ],
   "source": [
    "model.summary()"
   ]
  },
  {
   "cell_type": "code",
   "execution_count": 13,
   "metadata": {
    "collapsed": false
   },
   "outputs": [
    {
     "name": "stdout",
     "output_type": "stream",
     "text": [
      "Canvas is accessible via web browser at the URL: http://localhost:50102/index.html\n",
      "Opening Canvas in default web browser.\n"
     ]
    }
   ],
   "source": [
    "label = train_data['label']\n",
    "label.show()"
   ]
  },
  {
   "cell_type": "code",
   "execution_count": 14,
   "metadata": {
    "collapsed": false
   },
   "outputs": [
    {
     "name": "stdout",
     "output_type": "stream",
     "text": [
      "Canvas is updated and available in a tab in the default browser.\n"
     ]
    }
   ],
   "source": [
    "image_array = train_data['image-array']\n",
    "image_array.show()"
   ]
  },
  {
   "cell_type": "code",
   "execution_count": 5,
   "metadata": {
    "collapsed": true
   },
   "outputs": [],
   "source": [
    "# Save predictions to an SFrame (class and corresponding class-probabilities)\n",
    "predictions = model.classify(test_data)"
   ]
  },
  {
   "cell_type": "code",
   "execution_count": 6,
   "metadata": {
    "collapsed": true
   },
   "outputs": [],
   "source": [
    "# Top 5 predictions with probabilities, rank, and margin\n",
    "top = model.predict_topk(test_data, output_type='probability', k = 5)\n",
    "top = model.predict_topk(test_data, output_type='rank', k = 5)\n",
    "top = model.predict_topk(test_data, output_type='margin', k = 5)"
   ]
  },
  {
   "cell_type": "code",
   "execution_count": 8,
   "metadata": {
    "collapsed": true
   },
   "outputs": [],
   "source": [
    "# Evaluate the model and save the results into a dictionary\n",
    "results = model.evaluate(test_data)"
   ]
  },
  {
   "cell_type": "code",
   "execution_count": 9,
   "metadata": {
    "collapsed": false
   },
   "outputs": [
    {
     "name": "stdout",
     "output_type": "stream",
     "text": [
      "+----+-------+------------------+\n",
      "| id | class |   probability    |\n",
      "+----+-------+------------------+\n",
      "| 0  |   9   | 0.0535712710644  |\n",
      "| 0  |   4   |  0.93976895051   |\n",
      "| 0  |   8   | 0.00302852105023 |\n",
      "| 1  |   8   |  0.28345043597   |\n",
      "| 1  |   4   |  0.472620740902  |\n",
      "| 1  |   3   |  0.114026597187  |\n",
      "| 2  |   9   | 0.0461319622728  |\n",
      "| 2  |   4   |  0.949703666762  |\n",
      "| 2  |   8   | 0.00151385839814 |\n",
      "| 3  |   6   |  0.997910882424  |\n",
      "+----+-------+------------------+\n",
      "[3435 rows x 3 columns]\n",
      "Note: Only the head of the SFrame is printed.\n",
      "You can use print_rows(num_rows=m, num_columns=n) to print more rows and columns.\n"
     ]
    }
   ],
   "source": [
    "top = model.predict_topk(test_data, output_type='probability', k = 3)\n",
    "print top"
   ]
  },
  {
   "cell_type": "code",
   "execution_count": null,
   "metadata": {
    "collapsed": true
   },
   "outputs": [],
   "source": []
  }
 ],
 "metadata": {
  "kernelspec": {
   "display_name": "Python 2",
   "language": "python",
   "name": "python2"
  },
  "language_info": {
   "codemirror_mode": {
    "name": "ipython",
    "version": 2
   },
   "file_extension": ".py",
   "mimetype": "text/x-python",
   "name": "python",
   "nbconvert_exporter": "python",
   "pygments_lexer": "ipython2",
   "version": "2.7.11"
  }
 },
 "nbformat": 4,
 "nbformat_minor": 0
}
