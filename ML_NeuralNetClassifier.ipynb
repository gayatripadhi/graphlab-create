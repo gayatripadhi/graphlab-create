{
 "cells": [
  {
   "cell_type": "code",
   "execution_count": 2,
   "metadata": {
    "collapsed": true
   },
   "outputs": [],
   "source": [
    "import graphlab as gl"
   ]
  },
  {
   "cell_type": "code",
   "execution_count": 4,
   "metadata": {
    "collapsed": false
   },
   "outputs": [
    {
     "name": "stdout",
     "output_type": "stream",
     "text": [
      "This non-commercial license of GraphLab Create for academic use is assigned to padhigayatri.official@gmail.com and will expire on January 02, 2019.\n"
     ]
    },
    {
     "name": "stderr",
     "output_type": "stream",
     "text": [
      "[INFO] graphlab.cython.cy_server: GraphLab Create v2.1 started. Logging: C:\\Users\\User\\AppData\\Local\\Temp\\graphlab_server_1516602752.log.0\n"
     ]
    },
    {
     "data": {
      "text/html": [
       "<pre>Downloading https://static.turi.com/datasets/mnist/sframe/train/dir_archive.ini to C:/Users/User/AppData/Local/Temp/graphlab-User/4152/043e146c-ee63-4904-a10b-724d74808d9b.ini</pre>"
      ],
      "text/plain": [
       "Downloading https://static.turi.com/datasets/mnist/sframe/train/dir_archive.ini to C:/Users/User/AppData/Local/Temp/graphlab-User/4152/043e146c-ee63-4904-a10b-724d74808d9b.ini"
      ]
     },
     "metadata": {},
     "output_type": "display_data"
    },
    {
     "data": {
      "text/html": [
       "<pre>Downloading https://static.turi.com/datasets/mnist/sframe/train/objects.bin to C:/Users/User/AppData/Local/Temp/graphlab-User/4152/9d3268a5-3e49-48e7-8041-6e012dbca941.bin</pre>"
      ],
      "text/plain": [
       "Downloading https://static.turi.com/datasets/mnist/sframe/train/objects.bin to C:/Users/User/AppData/Local/Temp/graphlab-User/4152/9d3268a5-3e49-48e7-8041-6e012dbca941.bin"
      ]
     },
     "metadata": {},
     "output_type": "display_data"
    },
    {
     "data": {
      "text/html": [
       "<pre>Downloading https://static.turi.com/datasets/mnist/sframe/train/m_4558118e.frame_idx to C:/Users/User/AppData/Local/Temp/graphlab-User/4152/8738d6fb-6615-4dc3-b78c-32a17e42e7f5.frame_idx</pre>"
      ],
      "text/plain": [
       "Downloading https://static.turi.com/datasets/mnist/sframe/train/m_4558118e.frame_idx to C:/Users/User/AppData/Local/Temp/graphlab-User/4152/8738d6fb-6615-4dc3-b78c-32a17e42e7f5.frame_idx"
      ]
     },
     "metadata": {},
     "output_type": "display_data"
    },
    {
     "data": {
      "text/html": [
       "<pre>Downloading https://static.turi.com/datasets/mnist/sframe/train/m_4558118e.sidx to C:/Users/User/AppData/Local/Temp/graphlab-User/4152/5bae6970-5746-4f29-9e11-77c82cb4e6ed.sidx</pre>"
      ],
      "text/plain": [
       "Downloading https://static.turi.com/datasets/mnist/sframe/train/m_4558118e.sidx to C:/Users/User/AppData/Local/Temp/graphlab-User/4152/5bae6970-5746-4f29-9e11-77c82cb4e6ed.sidx"
      ]
     },
     "metadata": {},
     "output_type": "display_data"
    }
   ],
   "source": [
    "data = gl.SFrame('https://static.turi.com/datasets/mnist/sframe/train')"
   ]
  },
  {
   "cell_type": "code",
   "execution_count": 5,
   "metadata": {
    "collapsed": false
   },
   "outputs": [
    {
     "data": {
      "text/html": [
       "<pre>Downloading https://static.turi.com/datasets/mnist/sframe/train/m_4558118e.0000 to C:/Users/User/AppData/Local/Temp/graphlab-User/4152/ccd1dc75-02e6-4957-b493-cd390405815b.0000</pre>"
      ],
      "text/plain": [
       "Downloading https://static.turi.com/datasets/mnist/sframe/train/m_4558118e.0000 to C:/Users/User/AppData/Local/Temp/graphlab-User/4152/ccd1dc75-02e6-4957-b493-cd390405815b.0000"
      ]
     },
     "metadata": {},
     "output_type": "display_data"
    },
    {
     "data": {
      "text/html": [
       "<pre>Downloading https://static.turi.com/datasets/mnist/sframe/train/m_4558118e.0001 to C:/Users/User/AppData/Local/Temp/graphlab-User/4152/3eafb15e-801b-4b45-8e0f-ddf1c8ec7ec1.0001</pre>"
      ],
      "text/plain": [
       "Downloading https://static.turi.com/datasets/mnist/sframe/train/m_4558118e.0001 to C:/Users/User/AppData/Local/Temp/graphlab-User/4152/3eafb15e-801b-4b45-8e0f-ddf1c8ec7ec1.0001"
      ]
     },
     "metadata": {},
     "output_type": "display_data"
    },
    {
     "data": {
      "text/html": [
       "<pre>Downloading https://static.turi.com/datasets/mnist/sframe/train/m_4558118e.0002 to C:/Users/User/AppData/Local/Temp/graphlab-User/4152/082a1d0a-3ca2-4fe5-8371-1f7fe77a3cf4.0002</pre>"
      ],
      "text/plain": [
       "Downloading https://static.turi.com/datasets/mnist/sframe/train/m_4558118e.0002 to C:/Users/User/AppData/Local/Temp/graphlab-User/4152/082a1d0a-3ca2-4fe5-8371-1f7fe77a3cf4.0002"
      ]
     },
     "metadata": {},
     "output_type": "display_data"
    },
    {
     "data": {
      "text/html": [
       "<pre>Downloading https://static.turi.com/datasets/mnist/sframe/train/m_4558118e.0003 to C:/Users/User/AppData/Local/Temp/graphlab-User/4152/62b0ff56-f2d7-49a2-80dc-1455b964cc0b.0003</pre>"
      ],
      "text/plain": [
       "Downloading https://static.turi.com/datasets/mnist/sframe/train/m_4558118e.0003 to C:/Users/User/AppData/Local/Temp/graphlab-User/4152/62b0ff56-f2d7-49a2-80dc-1455b964cc0b.0003"
      ]
     },
     "metadata": {},
     "output_type": "display_data"
    },
    {
     "data": {
      "text/html": [
       "<pre>Downloading https://static.turi.com/datasets/mnist/sframe/train/m_4558118e.0004 to C:/Users/User/AppData/Local/Temp/graphlab-User/4152/9759cfe1-f15a-4e39-8e6e-7364837ee29c.0004</pre>"
      ],
      "text/plain": [
       "Downloading https://static.turi.com/datasets/mnist/sframe/train/m_4558118e.0004 to C:/Users/User/AppData/Local/Temp/graphlab-User/4152/9759cfe1-f15a-4e39-8e6e-7364837ee29c.0004"
      ]
     },
     "metadata": {},
     "output_type": "display_data"
    },
    {
     "data": {
      "text/html": [
       "<pre>Downloading https://static.turi.com/datasets/mnist/sframe/train/m_4558118e.0005 to C:/Users/User/AppData/Local/Temp/graphlab-User/4152/0c6cbf4b-31ae-4d59-bc89-84b070d12e48.0005</pre>"
      ],
      "text/plain": [
       "Downloading https://static.turi.com/datasets/mnist/sframe/train/m_4558118e.0005 to C:/Users/User/AppData/Local/Temp/graphlab-User/4152/0c6cbf4b-31ae-4d59-bc89-84b070d12e48.0005"
      ]
     },
     "metadata": {},
     "output_type": "display_data"
    },
    {
     "data": {
      "text/html": [
       "<pre>Downloading https://static.turi.com/datasets/mnist/sframe/train/m_4558118e.0006 to C:/Users/User/AppData/Local/Temp/graphlab-User/4152/8f2e2881-5fc6-46a3-953a-e6ff730d8256.0006</pre>"
      ],
      "text/plain": [
       "Downloading https://static.turi.com/datasets/mnist/sframe/train/m_4558118e.0006 to C:/Users/User/AppData/Local/Temp/graphlab-User/4152/8f2e2881-5fc6-46a3-953a-e6ff730d8256.0006"
      ]
     },
     "metadata": {},
     "output_type": "display_data"
    },
    {
     "data": {
      "text/html": [
       "<pre>Downloading https://static.turi.com/datasets/mnist/sframe/train/m_4558118e.0007 to C:/Users/User/AppData/Local/Temp/graphlab-User/4152/6dac3fad-8676-4be6-ab4a-65214a32c6a6.0007</pre>"
      ],
      "text/plain": [
       "Downloading https://static.turi.com/datasets/mnist/sframe/train/m_4558118e.0007 to C:/Users/User/AppData/Local/Temp/graphlab-User/4152/6dac3fad-8676-4be6-ab4a-65214a32c6a6.0007"
      ]
     },
     "metadata": {},
     "output_type": "display_data"
    },
    {
     "data": {
      "text/html": [
       "<div style=\"max-height:1000px;max-width:1500px;overflow:auto;\"><table frame=\"box\" rules=\"cols\">\n",
       "    <tr>\n",
       "        <th style=\"padding-left: 1em; padding-right: 1em; text-align: center\">label</th>\n",
       "        <th style=\"padding-left: 1em; padding-right: 1em; text-align: center\">image</th>\n",
       "    </tr>\n",
       "    <tr>\n",
       "        <td style=\"padding-left: 1em; padding-right: 1em; text-align: center; vertical-align: top\">5</td>\n",
       "        <td style=\"padding-left: 1em; padding-right: 1em; text-align: center; vertical-align: top\">Height: 28 Width: 28</td>\n",
       "    </tr>\n",
       "    <tr>\n",
       "        <td style=\"padding-left: 1em; padding-right: 1em; text-align: center; vertical-align: top\">8</td>\n",
       "        <td style=\"padding-left: 1em; padding-right: 1em; text-align: center; vertical-align: top\">Height: 28 Width: 28</td>\n",
       "    </tr>\n",
       "    <tr>\n",
       "        <td style=\"padding-left: 1em; padding-right: 1em; text-align: center; vertical-align: top\">1</td>\n",
       "        <td style=\"padding-left: 1em; padding-right: 1em; text-align: center; vertical-align: top\">Height: 28 Width: 28</td>\n",
       "    </tr>\n",
       "    <tr>\n",
       "        <td style=\"padding-left: 1em; padding-right: 1em; text-align: center; vertical-align: top\">4</td>\n",
       "        <td style=\"padding-left: 1em; padding-right: 1em; text-align: center; vertical-align: top\">Height: 28 Width: 28</td>\n",
       "    </tr>\n",
       "    <tr>\n",
       "        <td style=\"padding-left: 1em; padding-right: 1em; text-align: center; vertical-align: top\">2</td>\n",
       "        <td style=\"padding-left: 1em; padding-right: 1em; text-align: center; vertical-align: top\">Height: 28 Width: 28</td>\n",
       "    </tr>\n",
       "    <tr>\n",
       "        <td style=\"padding-left: 1em; padding-right: 1em; text-align: center; vertical-align: top\">7</td>\n",
       "        <td style=\"padding-left: 1em; padding-right: 1em; text-align: center; vertical-align: top\">Height: 28 Width: 28</td>\n",
       "    </tr>\n",
       "    <tr>\n",
       "        <td style=\"padding-left: 1em; padding-right: 1em; text-align: center; vertical-align: top\">0</td>\n",
       "        <td style=\"padding-left: 1em; padding-right: 1em; text-align: center; vertical-align: top\">Height: 28 Width: 28</td>\n",
       "    </tr>\n",
       "    <tr>\n",
       "        <td style=\"padding-left: 1em; padding-right: 1em; text-align: center; vertical-align: top\">2</td>\n",
       "        <td style=\"padding-left: 1em; padding-right: 1em; text-align: center; vertical-align: top\">Height: 28 Width: 28</td>\n",
       "    </tr>\n",
       "    <tr>\n",
       "        <td style=\"padding-left: 1em; padding-right: 1em; text-align: center; vertical-align: top\">5</td>\n",
       "        <td style=\"padding-left: 1em; padding-right: 1em; text-align: center; vertical-align: top\">Height: 28 Width: 28</td>\n",
       "    </tr>\n",
       "    <tr>\n",
       "        <td style=\"padding-left: 1em; padding-right: 1em; text-align: center; vertical-align: top\">9</td>\n",
       "        <td style=\"padding-left: 1em; padding-right: 1em; text-align: center; vertical-align: top\">Height: 28 Width: 28</td>\n",
       "    </tr>\n",
       "</table>\n",
       "[60000 rows x 2 columns]<br/>Note: Only the head of the SFrame is printed.<br/>You can use print_rows(num_rows=m, num_columns=n) to print more rows and columns.\n",
       "</div>"
      ],
      "text/plain": [
       "Columns:\n",
       "\tlabel\tint\n",
       "\timage\tImage\n",
       "\n",
       "Rows: 60000\n",
       "\n",
       "Data:\n",
       "+-------+----------------------+\n",
       "| label |        image         |\n",
       "+-------+----------------------+\n",
       "|   5   | Height: 28 Width: 28 |\n",
       "|   8   | Height: 28 Width: 28 |\n",
       "|   1   | Height: 28 Width: 28 |\n",
       "|   4   | Height: 28 Width: 28 |\n",
       "|   2   | Height: 28 Width: 28 |\n",
       "|   7   | Height: 28 Width: 28 |\n",
       "|   0   | Height: 28 Width: 28 |\n",
       "|   2   | Height: 28 Width: 28 |\n",
       "|   5   | Height: 28 Width: 28 |\n",
       "|   9   | Height: 28 Width: 28 |\n",
       "+-------+----------------------+\n",
       "[60000 rows x 2 columns]\n",
       "Note: Only the head of the SFrame is printed.\n",
       "You can use print_rows(num_rows=m, num_columns=n) to print more rows and columns."
      ]
     },
     "execution_count": 5,
     "metadata": {},
     "output_type": "execute_result"
    }
   ],
   "source": [
    "data"
   ]
  },
  {
   "cell_type": "code",
   "execution_count": 6,
   "metadata": {
    "collapsed": false
   },
   "outputs": [
    {
     "data": {
      "text/html": [
       "<pre>Downloading https://static.turi.com/datasets/mnist/sframe/test/dir_archive.ini to C:/Users/User/AppData/Local/Temp/graphlab-User/4152/1203c078-ea6d-4dea-b9fc-1e79d174055c.ini</pre>"
      ],
      "text/plain": [
       "Downloading https://static.turi.com/datasets/mnist/sframe/test/dir_archive.ini to C:/Users/User/AppData/Local/Temp/graphlab-User/4152/1203c078-ea6d-4dea-b9fc-1e79d174055c.ini"
      ]
     },
     "metadata": {},
     "output_type": "display_data"
    },
    {
     "data": {
      "text/html": [
       "<pre>Downloading https://static.turi.com/datasets/mnist/sframe/test/objects.bin to C:/Users/User/AppData/Local/Temp/graphlab-User/4152/8c05b721-f880-48bc-b934-116b1e7898fd.bin</pre>"
      ],
      "text/plain": [
       "Downloading https://static.turi.com/datasets/mnist/sframe/test/objects.bin to C:/Users/User/AppData/Local/Temp/graphlab-User/4152/8c05b721-f880-48bc-b934-116b1e7898fd.bin"
      ]
     },
     "metadata": {},
     "output_type": "display_data"
    },
    {
     "data": {
      "text/html": [
       "<pre>Downloading https://static.turi.com/datasets/mnist/sframe/test/m_310c50b3.frame_idx to C:/Users/User/AppData/Local/Temp/graphlab-User/4152/cde35e78-6f5a-4500-b8f3-58dfe625b8f7.frame_idx</pre>"
      ],
      "text/plain": [
       "Downloading https://static.turi.com/datasets/mnist/sframe/test/m_310c50b3.frame_idx to C:/Users/User/AppData/Local/Temp/graphlab-User/4152/cde35e78-6f5a-4500-b8f3-58dfe625b8f7.frame_idx"
      ]
     },
     "metadata": {},
     "output_type": "display_data"
    },
    {
     "data": {
      "text/html": [
       "<pre>Downloading https://static.turi.com/datasets/mnist/sframe/test/m_310c50b3.sidx to C:/Users/User/AppData/Local/Temp/graphlab-User/4152/879ab44e-f07e-43ae-9592-bb33d09968b9.sidx</pre>"
      ],
      "text/plain": [
       "Downloading https://static.turi.com/datasets/mnist/sframe/test/m_310c50b3.sidx to C:/Users/User/AppData/Local/Temp/graphlab-User/4152/879ab44e-f07e-43ae-9592-bb33d09968b9.sidx"
      ]
     },
     "metadata": {},
     "output_type": "display_data"
    }
   ],
   "source": [
    "test_data = gl.SFrame('https://static.turi.com/datasets/mnist/sframe/test')\n"
   ]
  },
  {
   "cell_type": "code",
   "execution_count": 7,
   "metadata": {
    "collapsed": false
   },
   "outputs": [
    {
     "data": {
      "text/html": [
       "<pre>Downloading https://static.turi.com/datasets/mnist/sframe/test/m_310c50b3.0000 to C:/Users/User/AppData/Local/Temp/graphlab-User/4152/3337adba-cb4c-4060-a849-a2a8aec1cda0.0000</pre>"
      ],
      "text/plain": [
       "Downloading https://static.turi.com/datasets/mnist/sframe/test/m_310c50b3.0000 to C:/Users/User/AppData/Local/Temp/graphlab-User/4152/3337adba-cb4c-4060-a849-a2a8aec1cda0.0000"
      ]
     },
     "metadata": {},
     "output_type": "display_data"
    },
    {
     "data": {
      "text/html": [
       "<pre>Downloading https://static.turi.com/datasets/mnist/sframe/test/m_310c50b3.0001 to C:/Users/User/AppData/Local/Temp/graphlab-User/4152/ead79895-03f6-4cd7-86a9-6fbee697f3b6.0001</pre>"
      ],
      "text/plain": [
       "Downloading https://static.turi.com/datasets/mnist/sframe/test/m_310c50b3.0001 to C:/Users/User/AppData/Local/Temp/graphlab-User/4152/ead79895-03f6-4cd7-86a9-6fbee697f3b6.0001"
      ]
     },
     "metadata": {},
     "output_type": "display_data"
    },
    {
     "data": {
      "text/html": [
       "<pre>Downloading https://static.turi.com/datasets/mnist/sframe/test/m_310c50b3.0002 to C:/Users/User/AppData/Local/Temp/graphlab-User/4152/ca48629c-337e-440b-a8ee-b179d1b0489f.0002</pre>"
      ],
      "text/plain": [
       "Downloading https://static.turi.com/datasets/mnist/sframe/test/m_310c50b3.0002 to C:/Users/User/AppData/Local/Temp/graphlab-User/4152/ca48629c-337e-440b-a8ee-b179d1b0489f.0002"
      ]
     },
     "metadata": {},
     "output_type": "display_data"
    },
    {
     "data": {
      "text/html": [
       "<pre>Downloading https://static.turi.com/datasets/mnist/sframe/test/m_310c50b3.0003 to C:/Users/User/AppData/Local/Temp/graphlab-User/4152/58c8087c-2e15-43c3-b493-4c08d470b37f.0003</pre>"
      ],
      "text/plain": [
       "Downloading https://static.turi.com/datasets/mnist/sframe/test/m_310c50b3.0003 to C:/Users/User/AppData/Local/Temp/graphlab-User/4152/58c8087c-2e15-43c3-b493-4c08d470b37f.0003"
      ]
     },
     "metadata": {},
     "output_type": "display_data"
    },
    {
     "data": {
      "text/html": [
       "<pre>Downloading https://static.turi.com/datasets/mnist/sframe/test/m_310c50b3.0004 to C:/Users/User/AppData/Local/Temp/graphlab-User/4152/143c2873-8619-4539-bcd9-e069b5c9d7d7.0004</pre>"
      ],
      "text/plain": [
       "Downloading https://static.turi.com/datasets/mnist/sframe/test/m_310c50b3.0004 to C:/Users/User/AppData/Local/Temp/graphlab-User/4152/143c2873-8619-4539-bcd9-e069b5c9d7d7.0004"
      ]
     },
     "metadata": {},
     "output_type": "display_data"
    },
    {
     "data": {
      "text/html": [
       "<pre>Downloading https://static.turi.com/datasets/mnist/sframe/test/m_310c50b3.0005 to C:/Users/User/AppData/Local/Temp/graphlab-User/4152/2d95e667-3128-4e6f-a911-82ef647b8e4f.0005</pre>"
      ],
      "text/plain": [
       "Downloading https://static.turi.com/datasets/mnist/sframe/test/m_310c50b3.0005 to C:/Users/User/AppData/Local/Temp/graphlab-User/4152/2d95e667-3128-4e6f-a911-82ef647b8e4f.0005"
      ]
     },
     "metadata": {},
     "output_type": "display_data"
    },
    {
     "data": {
      "text/html": [
       "<pre>Downloading https://static.turi.com/datasets/mnist/sframe/test/m_310c50b3.0006 to C:/Users/User/AppData/Local/Temp/graphlab-User/4152/cbde1c52-7d17-4fb6-9255-105bbdc18af0.0006</pre>"
      ],
      "text/plain": [
       "Downloading https://static.turi.com/datasets/mnist/sframe/test/m_310c50b3.0006 to C:/Users/User/AppData/Local/Temp/graphlab-User/4152/cbde1c52-7d17-4fb6-9255-105bbdc18af0.0006"
      ]
     },
     "metadata": {},
     "output_type": "display_data"
    },
    {
     "data": {
      "text/html": [
       "<pre>Downloading https://static.turi.com/datasets/mnist/sframe/test/m_310c50b3.0007 to C:/Users/User/AppData/Local/Temp/graphlab-User/4152/e743757c-9fc8-4382-8a17-624953b2c498.0007</pre>"
      ],
      "text/plain": [
       "Downloading https://static.turi.com/datasets/mnist/sframe/test/m_310c50b3.0007 to C:/Users/User/AppData/Local/Temp/graphlab-User/4152/e743757c-9fc8-4382-8a17-624953b2c498.0007"
      ]
     },
     "metadata": {},
     "output_type": "display_data"
    },
    {
     "data": {
      "text/html": [
       "<div style=\"max-height:1000px;max-width:1500px;overflow:auto;\"><table frame=\"box\" rules=\"cols\">\n",
       "    <tr>\n",
       "        <th style=\"padding-left: 1em; padding-right: 1em; text-align: center\">label</th>\n",
       "        <th style=\"padding-left: 1em; padding-right: 1em; text-align: center\">image</th>\n",
       "    </tr>\n",
       "    <tr>\n",
       "        <td style=\"padding-left: 1em; padding-right: 1em; text-align: center; vertical-align: top\">0</td>\n",
       "        <td style=\"padding-left: 1em; padding-right: 1em; text-align: center; vertical-align: top\">Height: 28 Width: 28</td>\n",
       "    </tr>\n",
       "    <tr>\n",
       "        <td style=\"padding-left: 1em; padding-right: 1em; text-align: center; vertical-align: top\">0</td>\n",
       "        <td style=\"padding-left: 1em; padding-right: 1em; text-align: center; vertical-align: top\">Height: 28 Width: 28</td>\n",
       "    </tr>\n",
       "    <tr>\n",
       "        <td style=\"padding-left: 1em; padding-right: 1em; text-align: center; vertical-align: top\">0</td>\n",
       "        <td style=\"padding-left: 1em; padding-right: 1em; text-align: center; vertical-align: top\">Height: 28 Width: 28</td>\n",
       "    </tr>\n",
       "    <tr>\n",
       "        <td style=\"padding-left: 1em; padding-right: 1em; text-align: center; vertical-align: top\">0</td>\n",
       "        <td style=\"padding-left: 1em; padding-right: 1em; text-align: center; vertical-align: top\">Height: 28 Width: 28</td>\n",
       "    </tr>\n",
       "    <tr>\n",
       "        <td style=\"padding-left: 1em; padding-right: 1em; text-align: center; vertical-align: top\">0</td>\n",
       "        <td style=\"padding-left: 1em; padding-right: 1em; text-align: center; vertical-align: top\">Height: 28 Width: 28</td>\n",
       "    </tr>\n",
       "    <tr>\n",
       "        <td style=\"padding-left: 1em; padding-right: 1em; text-align: center; vertical-align: top\">0</td>\n",
       "        <td style=\"padding-left: 1em; padding-right: 1em; text-align: center; vertical-align: top\">Height: 28 Width: 28</td>\n",
       "    </tr>\n",
       "    <tr>\n",
       "        <td style=\"padding-left: 1em; padding-right: 1em; text-align: center; vertical-align: top\">0</td>\n",
       "        <td style=\"padding-left: 1em; padding-right: 1em; text-align: center; vertical-align: top\">Height: 28 Width: 28</td>\n",
       "    </tr>\n",
       "    <tr>\n",
       "        <td style=\"padding-left: 1em; padding-right: 1em; text-align: center; vertical-align: top\">0</td>\n",
       "        <td style=\"padding-left: 1em; padding-right: 1em; text-align: center; vertical-align: top\">Height: 28 Width: 28</td>\n",
       "    </tr>\n",
       "    <tr>\n",
       "        <td style=\"padding-left: 1em; padding-right: 1em; text-align: center; vertical-align: top\">0</td>\n",
       "        <td style=\"padding-left: 1em; padding-right: 1em; text-align: center; vertical-align: top\">Height: 28 Width: 28</td>\n",
       "    </tr>\n",
       "    <tr>\n",
       "        <td style=\"padding-left: 1em; padding-right: 1em; text-align: center; vertical-align: top\">0</td>\n",
       "        <td style=\"padding-left: 1em; padding-right: 1em; text-align: center; vertical-align: top\">Height: 28 Width: 28</td>\n",
       "    </tr>\n",
       "</table>\n",
       "[10000 rows x 2 columns]<br/>Note: Only the head of the SFrame is printed.<br/>You can use print_rows(num_rows=m, num_columns=n) to print more rows and columns.\n",
       "</div>"
      ],
      "text/plain": [
       "Columns:\n",
       "\tlabel\tint\n",
       "\timage\tImage\n",
       "\n",
       "Rows: 10000\n",
       "\n",
       "Data:\n",
       "+-------+----------------------+\n",
       "| label |        image         |\n",
       "+-------+----------------------+\n",
       "|   0   | Height: 28 Width: 28 |\n",
       "|   0   | Height: 28 Width: 28 |\n",
       "|   0   | Height: 28 Width: 28 |\n",
       "|   0   | Height: 28 Width: 28 |\n",
       "|   0   | Height: 28 Width: 28 |\n",
       "|   0   | Height: 28 Width: 28 |\n",
       "|   0   | Height: 28 Width: 28 |\n",
       "|   0   | Height: 28 Width: 28 |\n",
       "|   0   | Height: 28 Width: 28 |\n",
       "|   0   | Height: 28 Width: 28 |\n",
       "+-------+----------------------+\n",
       "[10000 rows x 2 columns]\n",
       "Note: Only the head of the SFrame is printed.\n",
       "You can use print_rows(num_rows=m, num_columns=n) to print more rows and columns."
      ]
     },
     "execution_count": 7,
     "metadata": {},
     "output_type": "execute_result"
    }
   ],
   "source": [
    "test_data"
   ]
  },
  {
   "cell_type": "code",
   "execution_count": 8,
   "metadata": {
    "collapsed": true
   },
   "outputs": [],
   "source": [
    "training_data, validation_data = data.random_split(0.8)"
   ]
  },
  {
   "cell_type": "code",
   "execution_count": 9,
   "metadata": {
    "collapsed": false
   },
   "outputs": [],
   "source": [
    "for sf in [training_data, validation_data, test_data]:\n",
    "  sf['image'] = gl.image_analysis.resize(sf['image'], 28, 28, 1)"
   ]
  },
  {
   "cell_type": "code",
   "execution_count": 10,
   "metadata": {
    "collapsed": true
   },
   "outputs": [],
   "source": [
    "net = gl.deeplearning.get_builtin_neuralnet('mnist')\n"
   ]
  },
  {
   "cell_type": "code",
   "execution_count": 11,
   "metadata": {
    "collapsed": false
   },
   "outputs": [
    {
     "name": "stdout",
     "output_type": "stream",
     "text": [
      "Layers of the network \n",
      "--------------------------------------------------------\n",
      "layer[0]: ConvolutionLayer\n",
      "  init_random = xavier\n",
      "  padding = 1\n",
      "  stride = 2\n",
      "  num_channels = 32\n",
      "  num_groups = 1\n",
      "  kernel_size = 3\n",
      "layer[1]: MaxPoolingLayer\n",
      "  padding = 0\n",
      "  stride = 2\n",
      "  kernel_size = 3\n",
      "layer[2]: FlattenLayer\n",
      "layer[3]: DropoutLayer\n",
      "  threshold = 0.5\n",
      "layer[4]: FullConnectionLayer\n",
      "  init_sigma = 0.01\n",
      "  init_random = gaussian\n",
      "  init_bias = 0\n",
      "  num_hidden_units = 100\n",
      "layer[5]: SigmoidLayer\n",
      "layer[6]: FullConnectionLayer\n",
      "  init_sigma = 0.01\n",
      "  init_random = gaussian\n",
      "  init_bias = 0\n",
      "  num_hidden_units = 10\n",
      "layer[7]: SoftmaxLayer\n"
     ]
    }
   ],
   "source": [
    "print \"Layers of the network \"\n",
    "print \"--------------------------------------------------------\"\n",
    "print net.layers\n"
   ]
  },
  {
   "cell_type": "code",
   "execution_count": 12,
   "metadata": {
    "collapsed": false
   },
   "outputs": [
    {
     "name": "stdout",
     "output_type": "stream",
     "text": [
      "Parameters of the network \n",
      "--------------------------------------------------------\n",
      "{'init_random': 'gaussian', 'learning_rate': 0.1, 'input_shape': '1,28,28', 'batch_size': 100, 'divideby': 255, 'l2_regularization': 0.0, 'momentum': 0.9}\n"
     ]
    }
   ],
   "source": [
    "print \"Parameters of the network \"\n",
    "print \"--------------------------------------------------------\"\n",
    "print net.params"
   ]
  },
  {
   "cell_type": "code",
   "execution_count": 13,
   "metadata": {
    "collapsed": false
   },
   "outputs": [
    {
     "name": "stdout",
     "output_type": "stream",
     "text": [
      "Using network:\n",
      "\n",
      "### network layers ###\n",
      "layer[0]: ConvolutionLayer\n",
      "  init_random = xavier\n",
      "  padding = 1\n",
      "  stride = 2\n",
      "  num_channels = 32\n",
      "  num_groups = 1\n",
      "  kernel_size = 3\n",
      "layer[1]: MaxPoolingLayer\n",
      "  padding = 0\n",
      "  stride = 2\n",
      "  kernel_size = 3\n",
      "layer[2]: FlattenLayer\n",
      "layer[3]: DropoutLayer\n",
      "  threshold = 0.5\n",
      "layer[4]: FullConnectionLayer\n",
      "  init_sigma = 0.01\n",
      "  init_random = gaussian\n",
      "  init_bias = 0\n",
      "  num_hidden_units = 100\n",
      "layer[5]: SigmoidLayer\n",
      "layer[6]: FullConnectionLayer\n",
      "  init_sigma = 0.01\n",
      "  init_random = gaussian\n",
      "  init_bias = 0\n",
      "  num_hidden_units = 10\n",
      "layer[7]: SoftmaxLayer\n",
      "### end network layers ###\n",
      "\n",
      "### network parameters ###\n",
      "init_random = gaussian\n",
      "learning_rate = 0.1\n",
      "input_shape = 1,28,28\n",
      "batch_size = 100\n",
      "divideby = 255\n",
      "l2_regularization = 0.0\n",
      "metric = accuracy,recall@2\n",
      "momentum = 0.9\n",
      "### end network parameters ###\n",
      "\n"
     ]
    },
    {
     "data": {
      "text/html": [
       "<pre>Computing mean image...</pre>"
      ],
      "text/plain": [
       "Computing mean image..."
      ]
     },
     "metadata": {},
     "output_type": "display_data"
    },
    {
     "data": {
      "text/html": [
       "<pre>Done computing mean image.</pre>"
      ],
      "text/plain": [
       "Done computing mean image."
      ]
     },
     "metadata": {},
     "output_type": "display_data"
    },
    {
     "data": {
      "text/html": [
       "<pre>Creating neuralnet using cpu</pre>"
      ],
      "text/plain": [
       "Creating neuralnet using cpu"
      ]
     },
     "metadata": {},
     "output_type": "display_data"
    },
    {
     "data": {
      "text/html": [
       "<pre>Training with batch size = 100</pre>"
      ],
      "text/plain": [
       "Training with batch size = 100"
      ]
     },
     "metadata": {},
     "output_type": "display_data"
    },
    {
     "data": {
      "text/html": [
       "<pre>+-----------+----------+--------------+-------------------+---------------------+-------------------+---------------------+-----------------+</pre>"
      ],
      "text/plain": [
       "+-----------+----------+--------------+-------------------+---------------------+-------------------+---------------------+-----------------+"
      ]
     },
     "metadata": {},
     "output_type": "display_data"
    },
    {
     "data": {
      "text/html": [
       "<pre>| Iteration | Examples | Elapsed Time | Training-accuracy | Validation-accuracy | Training-recall@2 | Validation-recall@2 | Examples/second |</pre>"
      ],
      "text/plain": [
       "| Iteration | Examples | Elapsed Time | Training-accuracy | Validation-accuracy | Training-recall@2 | Validation-recall@2 | Examples/second |"
      ]
     },
     "metadata": {},
     "output_type": "display_data"
    },
    {
     "data": {
      "text/html": [
       "<pre>+-----------+----------+--------------+-------------------+---------------------+-------------------+---------------------+-----------------+</pre>"
      ],
      "text/plain": [
       "+-----------+----------+--------------+-------------------+---------------------+-------------------+---------------------+-----------------+"
      ]
     },
     "metadata": {},
     "output_type": "display_data"
    },
    {
     "data": {
      "text/html": [
       "<pre>| 1         | 15400    | 10.061326    | 0.500195          |                     | 0.635649          |                     | 1530.616089     |</pre>"
      ],
      "text/plain": [
       "| 1         | 15400    | 10.061326    | 0.500195          |                     | 0.635649          |                     | 1530.616089     |"
      ]
     },
     "metadata": {},
     "output_type": "display_data"
    },
    {
     "data": {
      "text/html": [
       "<pre>| 1         | 30600    | 20.110381    | 0.703856          |                     | 0.801503          |                     | 1512.579468     |</pre>"
      ],
      "text/plain": [
       "| 1         | 30600    | 20.110381    | 0.703856          |                     | 0.801503          |                     | 1512.579468     |"
      ]
     },
     "metadata": {},
     "output_type": "display_data"
    },
    {
     "data": {
      "text/html": [
       "<pre>| 1         | 46400    | 30.122601    | 0.783728          |                     | 0.862522          |                     | 1578.071777     |</pre>"
      ],
      "text/plain": [
       "| 1         | 46400    | 30.122601    | 0.783728          |                     | 0.862522          |                     | 1578.071777     |"
      ]
     },
     "metadata": {},
     "output_type": "display_data"
    },
    {
     "data": {
      "text/html": [
       "<pre>| 1         | 47900    | 33.620382    | 0.788789          | 0.962076            | 0.866347          | 0.988350            | 428.842926      |</pre>"
      ],
      "text/plain": [
       "| 1         | 47900    | 33.620382    | 0.788789          | 0.962076            | 0.866347          | 0.988350            | 428.842926      |"
      ]
     },
     "metadata": {},
     "output_type": "display_data"
    },
    {
     "data": {
      "text/html": [
       "<pre>| 2         | 15800    | 43.682104    | 0.952911          |                     | 0.984430          |                     | 1570.322144     |</pre>"
      ],
      "text/plain": [
       "| 2         | 15800    | 43.682104    | 0.952911          |                     | 0.984430          |                     | 1570.322144     |"
      ]
     },
     "metadata": {},
     "output_type": "display_data"
    },
    {
     "data": {
      "text/html": [
       "<pre>| 2         | 31200    | 53.686518    | 0.954103          |                     | 0.985641          |                     | 1539.320190     |</pre>"
      ],
      "text/plain": [
       "| 2         | 31200    | 53.686518    | 0.954103          |                     | 0.985641          |                     | 1539.320190     |"
      ]
     },
     "metadata": {},
     "output_type": "display_data"
    },
    {
     "data": {
      "text/html": [
       "<pre>| 2         | 47000    | 63.705472    | 0.955064          |                     | 0.986915          |                     | 1577.010986     |</pre>"
      ],
      "text/plain": [
       "| 2         | 47000    | 63.705472    | 0.955064          |                     | 0.986915          |                     | 1577.010986     |"
      ]
     },
     "metadata": {},
     "output_type": "display_data"
    },
    {
     "data": {
      "text/html": [
       "<pre>| 2         | 47900    | 66.822184    | 0.955261          | 0.973891            | 0.986994          | 0.993225            | 288.765472      |</pre>"
      ],
      "text/plain": [
       "| 2         | 47900    | 66.822184    | 0.955261          | 0.973891            | 0.986994          | 0.993225            | 288.765472      |"
      ]
     },
     "metadata": {},
     "output_type": "display_data"
    },
    {
     "data": {
      "text/html": [
       "<pre>| 3         | 15800    | 76.842662    | 0.962975          |                     | 0.989114          |                     | 1576.784668     |</pre>"
      ],
      "text/plain": [
       "| 3         | 15800    | 76.842662    | 0.962975          |                     | 0.989114          |                     | 1576.784668     |"
      ]
     },
     "metadata": {},
     "output_type": "display_data"
    },
    {
     "data": {
      "text/html": [
       "<pre>| 3         | 30900    | 86.894893    | 0.963172          |                     | 0.989515          |                     | 1502.153687     |</pre>"
      ],
      "text/plain": [
       "| 3         | 30900    | 86.894893    | 0.963172          |                     | 0.989515          |                     | 1502.153687     |"
      ]
     },
     "metadata": {},
     "output_type": "display_data"
    },
    {
     "data": {
      "text/html": [
       "<pre>| 3         | 46300    | 96.927632    | 0.963736          |                     | 0.990346          |                     | 1534.974731     |</pre>"
      ],
      "text/plain": [
       "| 3         | 46300    | 96.927632    | 0.963736          |                     | 0.990346          |                     | 1534.974731     |"
      ]
     },
     "metadata": {},
     "output_type": "display_data"
    },
    {
     "data": {
      "text/html": [
       "<pre>| 3         | 47900    | 100.494471   | 0.963758          | 0.977031            | 0.990459          | 0.993307            | 448.575958      |</pre>"
      ],
      "text/plain": [
       "| 3         | 47900    | 100.494471   | 0.963758          | 0.977031            | 0.990459          | 0.993307            | 448.575958      |"
      ]
     },
     "metadata": {},
     "output_type": "display_data"
    },
    {
     "data": {
      "text/html": [
       "<pre>+-----------+----------+--------------+-------------------+---------------------+-------------------+---------------------+-----------------+</pre>"
      ],
      "text/plain": [
       "+-----------+----------+--------------+-------------------+---------------------+-------------------+---------------------+-----------------+"
      ]
     },
     "metadata": {},
     "output_type": "display_data"
    }
   ],
   "source": [
    "model = gl.neuralnet_classifier.create(training_data, target='label',\n",
    "                                       network = net,\n",
    "                                       validation_set=validation_data,\n",
    "                                       metric=['accuracy', 'recall@2'],\n",
    "                                       max_iterations=3)"
   ]
  },
  {
   "cell_type": "code",
   "execution_count": 14,
   "metadata": {
    "collapsed": false
   },
   "outputs": [
    {
     "name": "stdout",
     "output_type": "stream",
     "text": [
      "+--------+-------+----------------+\n",
      "| row_id | class |  probability   |\n",
      "+--------+-------+----------------+\n",
      "|   0    |   0   | 0.999339997768 |\n",
      "|   1    |   0   | 0.998875081539 |\n",
      "|   2    |   0   | 0.997638344765 |\n",
      "|   3    |   0   | 0.996858239174 |\n",
      "|   4    |   0   | 0.998516142368 |\n",
      "|   5    |   0   | 0.997594773769 |\n",
      "|   6    |   0   | 0.998157560825 |\n",
      "|   7    |   0   | 0.998295366764 |\n",
      "|   8    |   0   | 0.998416185379 |\n",
      "|   9    |   0   | 0.99976092577  |\n",
      "+--------+-------+----------------+\n",
      "[10000 rows x 3 columns]\n",
      "Note: Only the head of the SFrame is printed.\n",
      "You can use print_rows(num_rows=m, num_columns=n) to print more rows and columns.\n"
     ]
    }
   ],
   "source": [
    "predictions = model.classify(test_data)\n",
    "print predictions"
   ]
  },
  {
   "cell_type": "code",
   "execution_count": 15,
   "metadata": {
    "collapsed": false
   },
   "outputs": [
    {
     "name": "stdout",
     "output_type": "stream",
     "text": [
      "+--------+-------+-------------------+\n",
      "| row_id | class |    probability    |\n",
      "+--------+-------+-------------------+\n",
      "|   0    |   0   |   0.999339997768  |\n",
      "|   0    |   2   | 0.000176335350261 |\n",
      "|   1    |   0   |   0.998875081539  |\n",
      "|   1    |   2   | 0.000937687058467 |\n",
      "|   2    |   0   |   0.997638344765  |\n",
      "|   2    |   2   |  0.00157073163427 |\n",
      "|   3    |   0   |   0.996858239174  |\n",
      "|   3    |   5   |  0.00128747755662 |\n",
      "|   4    |   0   |   0.998516142368  |\n",
      "|   4    |   5   | 0.000609593233094 |\n",
      "+--------+-------+-------------------+\n",
      "[20000 rows x 3 columns]\n",
      "Note: Only the head of the SFrame is printed.\n",
      "You can use print_rows(num_rows=m, num_columns=n) to print more rows and columns.\n"
     ]
    }
   ],
   "source": [
    "pred_top2 = model.predict_topk(test_data, k=2)\n",
    "print pred_top2"
   ]
  },
  {
   "cell_type": "code",
   "execution_count": 16,
   "metadata": {
    "collapsed": false
   },
   "outputs": [
    {
     "name": "stdout",
     "output_type": "stream",
     "text": [
      "Accuracy         : 0.979200005531\n",
      "Confusion Matrix : \n",
      "+--------------+-----------------+-------+\n",
      "| target_label | predicted_label | count |\n",
      "+--------------+-----------------+-------+\n",
      "|      0       |        0        |  968  |\n",
      "|      2       |        0        |   3   |\n",
      "|      5       |        0        |   1   |\n",
      "|      6       |        0        |   9   |\n",
      "|      7       |        0        |   1   |\n",
      "|      8       |        0        |   1   |\n",
      "|      9       |        0        |   1   |\n",
      "|      1       |        1        |  1127 |\n",
      "|      6       |        1        |   3   |\n",
      "|      7       |        1        |   6   |\n",
      "+--------------+-----------------+-------+\n",
      "[67 rows x 3 columns]\n",
      "Note: Only the head of the SFrame is printed.\n",
      "You can use print_rows(num_rows=m, num_columns=n) to print more rows and columns.\n"
     ]
    }
   ],
   "source": [
    "result = model.evaluate(test_data)\n",
    "print \"Accuracy         : %s\" % result['accuracy']\n",
    "print \"Confusion Matrix : \\n%s\" % result['confusion_matrix']"
   ]
  }
 ],
 "metadata": {
  "kernelspec": {
   "display_name": "Python 2",
   "language": "python",
   "name": "python2"
  },
  "language_info": {
   "codemirror_mode": {
    "name": "ipython",
    "version": 2
   },
   "file_extension": ".py",
   "mimetype": "text/x-python",
   "name": "python",
   "nbconvert_exporter": "python",
   "pygments_lexer": "ipython2",
   "version": "2.7.11"
  }
 },
 "nbformat": 4,
 "nbformat_minor": 0
}
